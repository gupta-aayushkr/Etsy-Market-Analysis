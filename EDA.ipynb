{
 "cells": [
  {
   "cell_type": "code",
   "execution_count": 337,
   "metadata": {},
   "outputs": [],
   "source": [
    "import pandas as pd\n",
    "import matplotlib.pyplot as plt\n",
    "import plotly.express as px\n",
    "import seaborn as sns"
   ]
  },
  {
   "cell_type": "code",
   "execution_count": 272,
   "metadata": {},
   "outputs": [],
   "source": [
    "df = pd.read_csv('erank.csv')"
   ]
  },
  {
   "cell_type": "code",
   "execution_count": 273,
   "metadata": {},
   "outputs": [
    {
     "data": {
      "text/html": [
       "<div>\n",
       "<style scoped>\n",
       "    .dataframe tbody tr th:only-of-type {\n",
       "        vertical-align: middle;\n",
       "    }\n",
       "\n",
       "    .dataframe tbody tr th {\n",
       "        vertical-align: top;\n",
       "    }\n",
       "\n",
       "    .dataframe thead th {\n",
       "        text-align: right;\n",
       "    }\n",
       "</style>\n",
       "<table border=\"1\" class=\"dataframe\">\n",
       "  <thead>\n",
       "    <tr style=\"text-align: right;\">\n",
       "      <th></th>\n",
       "      <th>p-6</th>\n",
       "      <th>pull-left src</th>\n",
       "      <th>bold</th>\n",
       "      <th>bold href</th>\n",
       "      <th>bold 2</th>\n",
       "      <th>bold href 2</th>\n",
       "      <th>btn</th>\n",
       "      <th>btn href</th>\n",
       "      <th>btn 2</th>\n",
       "      <th>btn href 2</th>\n",
       "      <th>...</th>\n",
       "      <th>btn href 12</th>\n",
       "      <th>btn 13</th>\n",
       "      <th>btn href 13</th>\n",
       "      <th>p-6 3</th>\n",
       "      <th>p-6 4</th>\n",
       "      <th>p-6 5</th>\n",
       "      <th>p-6 6</th>\n",
       "      <th>p-6 7</th>\n",
       "      <th>p-6 8</th>\n",
       "      <th>p-6 9</th>\n",
       "    </tr>\n",
       "  </thead>\n",
       "  <tbody>\n",
       "    <tr>\n",
       "      <th>0</th>\n",
       "      <td>1</td>\n",
       "      <td>https://i.etsystatic.com/42729694/c/800/635/0/...</td>\n",
       "      <td>ChillByMarianne</td>\n",
       "      <td>https://erank.com/top-sellers/shop/ChillByMari...</td>\n",
       "      <td>Earth goddess, forest goddess, powerful, warri...</td>\n",
       "      <td>https://erank.com/listing-audit/1534733177</td>\n",
       "      <td>midjourney art</td>\n",
       "      <td>https://erank.com/keyword-tool?keywords=midjou...</td>\n",
       "      <td>midjourney</td>\n",
       "      <td>https://erank.com/keyword-tool?keywords=midjou...</td>\n",
       "      <td>...</td>\n",
       "      <td>https://erank.com/keyword-tool?keywords=ai+wal...</td>\n",
       "      <td>forest goddess art</td>\n",
       "      <td>https://erank.com/keyword-tool?keywords=forest...</td>\n",
       "      <td>58</td>\n",
       "      <td>22</td>\n",
       "      <td>0.4</td>\n",
       "      <td>0</td>\n",
       "      <td>$6.99</td>\n",
       "      <td>$0</td>\n",
       "      <td>1</td>\n",
       "    </tr>\n",
       "    <tr>\n",
       "      <th>1</th>\n",
       "      <td>2</td>\n",
       "      <td>https://i.etsystatic.com/45917428/r/il/bd59ba/...</td>\n",
       "      <td>PaintBoxAI</td>\n",
       "      <td>https://erank.com/top-sellers/shop/PaintBoxAI</td>\n",
       "      <td>Midjourney Logo Prompt, AI Customizable Prompt...</td>\n",
       "      <td>https://erank.com/listing-audit/1556522098</td>\n",
       "      <td>midjourney guide</td>\n",
       "      <td>https://erank.com/keyword-tool?keywords=midjou...</td>\n",
       "      <td>ai prompt</td>\n",
       "      <td>https://erank.com/keyword-tool?keywords=ai+pro...</td>\n",
       "      <td>...</td>\n",
       "      <td>https://erank.com/keyword-tool?keywords=Instan...</td>\n",
       "      <td>prompts midjourney</td>\n",
       "      <td>https://erank.com/keyword-tool?keywords=prompt...</td>\n",
       "      <td>7</td>\n",
       "      <td>9</td>\n",
       "      <td>1.3</td>\n",
       "      <td>0</td>\n",
       "      <td>$3.00</td>\n",
       "      <td>$0</td>\n",
       "      <td>0</td>\n",
       "    </tr>\n",
       "    <tr>\n",
       "      <th>2</th>\n",
       "      <td>3</td>\n",
       "      <td>https://i.etsystatic.com/35286530/r/il/27935b/...</td>\n",
       "      <td>Zodiachroma</td>\n",
       "      <td>https://erank.com/top-sellers/shop/Zodiachroma</td>\n",
       "      <td>130 Midjourney Prompts and Images Bundle, Midj...</td>\n",
       "      <td>https://erank.com/listing-audit/1512147990</td>\n",
       "      <td>ai art</td>\n",
       "      <td>https://erank.com/keyword-tool?keywords=ai+art...</td>\n",
       "      <td>ai art print</td>\n",
       "      <td>https://erank.com/keyword-tool?keywords=ai+art...</td>\n",
       "      <td>...</td>\n",
       "      <td>https://erank.com/keyword-tool?keywords=wall+a...</td>\n",
       "      <td>wall decor</td>\n",
       "      <td>https://erank.com/keyword-tool?keywords=wall+d...</td>\n",
       "      <td>70</td>\n",
       "      <td>2,126</td>\n",
       "      <td>30.4</td>\n",
       "      <td>70</td>\n",
       "      <td>$8.29</td>\n",
       "      <td>$580</td>\n",
       "      <td>1,232</td>\n",
       "    </tr>\n",
       "    <tr>\n",
       "      <th>3</th>\n",
       "      <td>4</td>\n",
       "      <td>https://i.etsystatic.com/44834326/r/il/de94e6/...</td>\n",
       "      <td>Xenaifuture</td>\n",
       "      <td>https://erank.com/top-sellers/shop/Xenaifuture</td>\n",
       "      <td>Prompt Guide Family Lifestyle Stock Photos, Mi...</td>\n",
       "      <td>https://erank.com/listing-audit/1571754609</td>\n",
       "      <td>Midjourney prompts</td>\n",
       "      <td>https://erank.com/keyword-tool?keywords=Midjou...</td>\n",
       "      <td>AI prompt ChatGPT</td>\n",
       "      <td>https://erank.com/keyword-tool?keywords=AI+pro...</td>\n",
       "      <td>...</td>\n",
       "      <td>https://erank.com/keyword-tool?keywords=stock+...</td>\n",
       "      <td>lifestyle fitness</td>\n",
       "      <td>https://erank.com/keyword-tool?keywords=lifest...</td>\n",
       "      <td>6</td>\n",
       "      <td>20</td>\n",
       "      <td>3.3</td>\n",
       "      <td>0</td>\n",
       "      <td>$5.24</td>\n",
       "      <td>$0</td>\n",
       "      <td>1</td>\n",
       "    </tr>\n",
       "    <tr>\n",
       "      <th>4</th>\n",
       "      <td>5</td>\n",
       "      <td>https://i.etsystatic.com/5802677/r/il/ec2eab/4...</td>\n",
       "      <td>geoffe</td>\n",
       "      <td>https://erank.com/top-sellers/shop/geoffe</td>\n",
       "      <td>Queen Nefertiti of Egypt, Set of 5 AI  - Midjo...</td>\n",
       "      <td>https://erank.com/listing-audit/1407497509</td>\n",
       "      <td>egypt</td>\n",
       "      <td>https://erank.com/keyword-tool?keywords=egypt&amp;...</td>\n",
       "      <td>nefertiti</td>\n",
       "      <td>https://erank.com/keyword-tool?keywords=nefert...</td>\n",
       "      <td>...</td>\n",
       "      <td>NaN</td>\n",
       "      <td>NaN</td>\n",
       "      <td>NaN</td>\n",
       "      <td>239</td>\n",
       "      <td>2,255</td>\n",
       "      <td>9.4</td>\n",
       "      <td>116</td>\n",
       "      <td>$3.00</td>\n",
       "      <td>$348</td>\n",
       "      <td>25</td>\n",
       "    </tr>\n",
       "  </tbody>\n",
       "</table>\n",
       "<p>5 rows × 39 columns</p>\n",
       "</div>"
      ],
      "text/plain": [
       "   p-6                                      pull-left src             bold  \\\n",
       "0    1  https://i.etsystatic.com/42729694/c/800/635/0/...  ChillByMarianne   \n",
       "1    2  https://i.etsystatic.com/45917428/r/il/bd59ba/...       PaintBoxAI   \n",
       "2    3  https://i.etsystatic.com/35286530/r/il/27935b/...      Zodiachroma   \n",
       "3    4  https://i.etsystatic.com/44834326/r/il/de94e6/...      Xenaifuture   \n",
       "4    5  https://i.etsystatic.com/5802677/r/il/ec2eab/4...           geoffe   \n",
       "\n",
       "                                           bold href  \\\n",
       "0  https://erank.com/top-sellers/shop/ChillByMari...   \n",
       "1      https://erank.com/top-sellers/shop/PaintBoxAI   \n",
       "2     https://erank.com/top-sellers/shop/Zodiachroma   \n",
       "3     https://erank.com/top-sellers/shop/Xenaifuture   \n",
       "4          https://erank.com/top-sellers/shop/geoffe   \n",
       "\n",
       "                                              bold 2  \\\n",
       "0  Earth goddess, forest goddess, powerful, warri...   \n",
       "1  Midjourney Logo Prompt, AI Customizable Prompt...   \n",
       "2  130 Midjourney Prompts and Images Bundle, Midj...   \n",
       "3  Prompt Guide Family Lifestyle Stock Photos, Mi...   \n",
       "4  Queen Nefertiti of Egypt, Set of 5 AI  - Midjo...   \n",
       "\n",
       "                                  bold href 2                 btn  \\\n",
       "0  https://erank.com/listing-audit/1534733177      midjourney art   \n",
       "1  https://erank.com/listing-audit/1556522098    midjourney guide   \n",
       "2  https://erank.com/listing-audit/1512147990              ai art   \n",
       "3  https://erank.com/listing-audit/1571754609  Midjourney prompts   \n",
       "4  https://erank.com/listing-audit/1407497509               egypt   \n",
       "\n",
       "                                            btn href              btn 2  \\\n",
       "0  https://erank.com/keyword-tool?keywords=midjou...         midjourney   \n",
       "1  https://erank.com/keyword-tool?keywords=midjou...          ai prompt   \n",
       "2  https://erank.com/keyword-tool?keywords=ai+art...       ai art print   \n",
       "3  https://erank.com/keyword-tool?keywords=Midjou...  AI prompt ChatGPT   \n",
       "4  https://erank.com/keyword-tool?keywords=egypt&...          nefertiti   \n",
       "\n",
       "                                          btn href 2  ...  \\\n",
       "0  https://erank.com/keyword-tool?keywords=midjou...  ...   \n",
       "1  https://erank.com/keyword-tool?keywords=ai+pro...  ...   \n",
       "2  https://erank.com/keyword-tool?keywords=ai+art...  ...   \n",
       "3  https://erank.com/keyword-tool?keywords=AI+pro...  ...   \n",
       "4  https://erank.com/keyword-tool?keywords=nefert...  ...   \n",
       "\n",
       "                                         btn href 12              btn 13  \\\n",
       "0  https://erank.com/keyword-tool?keywords=ai+wal...  forest goddess art   \n",
       "1  https://erank.com/keyword-tool?keywords=Instan...  prompts midjourney   \n",
       "2  https://erank.com/keyword-tool?keywords=wall+a...          wall decor   \n",
       "3  https://erank.com/keyword-tool?keywords=stock+...   lifestyle fitness   \n",
       "4                                                NaN                 NaN   \n",
       "\n",
       "                                         btn href 13 p-6 3  p-6 4 p-6 5 p-6 6  \\\n",
       "0  https://erank.com/keyword-tool?keywords=forest...    58     22   0.4     0   \n",
       "1  https://erank.com/keyword-tool?keywords=prompt...     7      9   1.3     0   \n",
       "2  https://erank.com/keyword-tool?keywords=wall+d...    70  2,126  30.4    70   \n",
       "3  https://erank.com/keyword-tool?keywords=lifest...     6     20   3.3     0   \n",
       "4                                                NaN   239  2,255   9.4   116   \n",
       "\n",
       "   p-6 7 p-6 8  p-6 9  \n",
       "0  $6.99    $0      1  \n",
       "1  $3.00    $0      0  \n",
       "2  $8.29  $580  1,232  \n",
       "3  $5.24    $0      1  \n",
       "4  $3.00  $348     25  \n",
       "\n",
       "[5 rows x 39 columns]"
      ]
     },
     "execution_count": 273,
     "metadata": {},
     "output_type": "execute_result"
    }
   ],
   "source": [
    "df.head()"
   ]
  },
  {
   "cell_type": "code",
   "execution_count": 274,
   "metadata": {},
   "outputs": [
    {
     "name": "stdout",
     "output_type": "stream",
     "text": [
      "<class 'pandas.core.frame.DataFrame'>\n",
      "RangeIndex: 100 entries, 0 to 99\n",
      "Data columns (total 39 columns):\n",
      " #   Column         Non-Null Count  Dtype  \n",
      "---  ------         --------------  -----  \n",
      " 0   p-6            100 non-null    int64  \n",
      " 1   pull-left src  100 non-null    object \n",
      " 2   bold           100 non-null    object \n",
      " 3   bold href      100 non-null    object \n",
      " 4   bold 2         100 non-null    object \n",
      " 5   bold href 2    100 non-null    object \n",
      " 6   btn            100 non-null    object \n",
      " 7   btn href       100 non-null    object \n",
      " 8   btn 2          100 non-null    object \n",
      " 9   btn href 2     100 non-null    object \n",
      " 10  btn 3          100 non-null    object \n",
      " 11  btn href 3     100 non-null    object \n",
      " 12  btn 4          100 non-null    object \n",
      " 13  btn href 4     100 non-null    object \n",
      " 14  btn 5          98 non-null     object \n",
      " 15  btn href 5     98 non-null     object \n",
      " 16  btn 6          98 non-null     object \n",
      " 17  btn href 6     98 non-null     object \n",
      " 18  btn 7          96 non-null     object \n",
      " 19  btn href 7     96 non-null     object \n",
      " 20  btn 8          96 non-null     object \n",
      " 21  btn href 8     96 non-null     object \n",
      " 22  btn 9          96 non-null     object \n",
      " 23  btn href 9     96 non-null     object \n",
      " 24  btn 10         94 non-null     object \n",
      " 25  btn href 10    94 non-null     object \n",
      " 26  btn 11         89 non-null     object \n",
      " 27  btn href 11    89 non-null     object \n",
      " 28  btn 12         85 non-null     object \n",
      " 29  btn href 12    85 non-null     object \n",
      " 30  btn 13         80 non-null     object \n",
      " 31  btn href 13    80 non-null     object \n",
      " 32  p-6 3          100 non-null    int64  \n",
      " 33  p-6 4          100 non-null    object \n",
      " 34  p-6 5          100 non-null    float64\n",
      " 35  p-6 6          100 non-null    int64  \n",
      " 36  p-6 7          100 non-null    object \n",
      " 37  p-6 8          100 non-null    object \n",
      " 38  p-6 9          100 non-null    object \n",
      "dtypes: float64(1), int64(3), object(35)\n",
      "memory usage: 30.6+ KB\n"
     ]
    }
   ],
   "source": [
    "df.info()"
   ]
  },
  {
   "cell_type": "code",
   "execution_count": 275,
   "metadata": {},
   "outputs": [
    {
     "data": {
      "text/plain": [
       "Index(['p-6', 'pull-left src', 'bold', 'bold href', 'bold 2', 'bold href 2',\n",
       "       'btn', 'btn href', 'btn 2', 'btn href 2', 'btn 3', 'btn href 3',\n",
       "       'btn 4', 'btn href 4', 'btn 5', 'btn href 5', 'btn 6', 'btn href 6',\n",
       "       'btn 7', 'btn href 7', 'btn 8', 'btn href 8', 'btn 9', 'btn href 9',\n",
       "       'btn 10', 'btn href 10', 'btn 11', 'btn href 11', 'btn 12',\n",
       "       'btn href 12', 'btn 13', 'btn href 13', 'p-6 3', 'p-6 4', 'p-6 5',\n",
       "       'p-6 6', 'p-6 7', 'p-6 8', 'p-6 9'],\n",
       "      dtype='object')"
      ]
     },
     "execution_count": 275,
     "metadata": {},
     "output_type": "execute_result"
    }
   ],
   "source": [
    "df.columns"
   ]
  },
  {
   "cell_type": "markdown",
   "metadata": {},
   "source": [
    "## Dropping & Renaming Columns"
   ]
  },
  {
   "cell_type": "code",
   "execution_count": 276,
   "metadata": {},
   "outputs": [],
   "source": [
    "columns_to_drop = [0, 1, 3, 5, 6, 7, 8, 9, 10, 11, 12, 13, 14, 15, 16, 17, 18, 19, 20, 21, 22, 23, 24, 25, 26, 27, 28, 29, 30, 31]\n",
    "\n",
    "df.drop(columns=df.columns[columns_to_drop], inplace=True)"
   ]
  },
  {
   "cell_type": "code",
   "execution_count": 277,
   "metadata": {},
   "outputs": [
    {
     "name": "stdout",
     "output_type": "stream",
     "text": [
      "<class 'pandas.core.frame.DataFrame'>\n",
      "RangeIndex: 100 entries, 0 to 99\n",
      "Data columns (total 9 columns):\n",
      " #   Column  Non-Null Count  Dtype  \n",
      "---  ------  --------------  -----  \n",
      " 0   bold    100 non-null    object \n",
      " 1   bold 2  100 non-null    object \n",
      " 2   p-6 3   100 non-null    int64  \n",
      " 3   p-6 4   100 non-null    object \n",
      " 4   p-6 5   100 non-null    float64\n",
      " 5   p-6 6   100 non-null    int64  \n",
      " 6   p-6 7   100 non-null    object \n",
      " 7   p-6 8   100 non-null    object \n",
      " 8   p-6 9   100 non-null    object \n",
      "dtypes: float64(1), int64(2), object(6)\n",
      "memory usage: 7.2+ KB\n"
     ]
    }
   ],
   "source": [
    "df.info()"
   ]
  },
  {
   "cell_type": "code",
   "execution_count": 278,
   "metadata": {},
   "outputs": [],
   "source": [
    "new_column_names = {\n",
    "    df.columns[0]: 'ShopName',\n",
    "    df.columns[1]: 'Listing',\n",
    "    df.columns[-7]: 'Listing Age (Days)',\n",
    "    df.columns[-6]: 'Total Views',\n",
    "    df.columns[-5]: 'Daily Views',\n",
    "    df.columns[-4]: 'Est. Sales',\n",
    "    df.columns[-3]: 'Price',\n",
    "    df.columns[-2]: 'Est. Revenue',\n",
    "    df.columns[-1]: 'Hearts'\n",
    "}\n",
    "\n",
    "df.rename(columns=new_column_names, inplace=True)"
   ]
  },
  {
   "cell_type": "code",
   "execution_count": 279,
   "metadata": {},
   "outputs": [
    {
     "data": {
      "text/html": [
       "<div>\n",
       "<style scoped>\n",
       "    .dataframe tbody tr th:only-of-type {\n",
       "        vertical-align: middle;\n",
       "    }\n",
       "\n",
       "    .dataframe tbody tr th {\n",
       "        vertical-align: top;\n",
       "    }\n",
       "\n",
       "    .dataframe thead th {\n",
       "        text-align: right;\n",
       "    }\n",
       "</style>\n",
       "<table border=\"1\" class=\"dataframe\">\n",
       "  <thead>\n",
       "    <tr style=\"text-align: right;\">\n",
       "      <th></th>\n",
       "      <th>ShopName</th>\n",
       "      <th>Listing</th>\n",
       "      <th>Listing Age (Days)</th>\n",
       "      <th>Total Views</th>\n",
       "      <th>Daily Views</th>\n",
       "      <th>Est. Sales</th>\n",
       "      <th>Price</th>\n",
       "      <th>Est. Revenue</th>\n",
       "      <th>Hearts</th>\n",
       "    </tr>\n",
       "  </thead>\n",
       "  <tbody>\n",
       "    <tr>\n",
       "      <th>0</th>\n",
       "      <td>ChillByMarianne</td>\n",
       "      <td>Earth goddess, forest goddess, powerful, warri...</td>\n",
       "      <td>58</td>\n",
       "      <td>22</td>\n",
       "      <td>0.4</td>\n",
       "      <td>0</td>\n",
       "      <td>$6.99</td>\n",
       "      <td>$0</td>\n",
       "      <td>1</td>\n",
       "    </tr>\n",
       "    <tr>\n",
       "      <th>1</th>\n",
       "      <td>PaintBoxAI</td>\n",
       "      <td>Midjourney Logo Prompt, AI Customizable Prompt...</td>\n",
       "      <td>7</td>\n",
       "      <td>9</td>\n",
       "      <td>1.3</td>\n",
       "      <td>0</td>\n",
       "      <td>$3.00</td>\n",
       "      <td>$0</td>\n",
       "      <td>0</td>\n",
       "    </tr>\n",
       "    <tr>\n",
       "      <th>2</th>\n",
       "      <td>Zodiachroma</td>\n",
       "      <td>130 Midjourney Prompts and Images Bundle, Midj...</td>\n",
       "      <td>70</td>\n",
       "      <td>2,126</td>\n",
       "      <td>30.4</td>\n",
       "      <td>70</td>\n",
       "      <td>$8.29</td>\n",
       "      <td>$580</td>\n",
       "      <td>1,232</td>\n",
       "    </tr>\n",
       "    <tr>\n",
       "      <th>3</th>\n",
       "      <td>Xenaifuture</td>\n",
       "      <td>Prompt Guide Family Lifestyle Stock Photos, Mi...</td>\n",
       "      <td>6</td>\n",
       "      <td>20</td>\n",
       "      <td>3.3</td>\n",
       "      <td>0</td>\n",
       "      <td>$5.24</td>\n",
       "      <td>$0</td>\n",
       "      <td>1</td>\n",
       "    </tr>\n",
       "    <tr>\n",
       "      <th>4</th>\n",
       "      <td>geoffe</td>\n",
       "      <td>Queen Nefertiti of Egypt, Set of 5 AI  - Midjo...</td>\n",
       "      <td>239</td>\n",
       "      <td>2,255</td>\n",
       "      <td>9.4</td>\n",
       "      <td>116</td>\n",
       "      <td>$3.00</td>\n",
       "      <td>$348</td>\n",
       "      <td>25</td>\n",
       "    </tr>\n",
       "    <tr>\n",
       "      <th>...</th>\n",
       "      <td>...</td>\n",
       "      <td>...</td>\n",
       "      <td>...</td>\n",
       "      <td>...</td>\n",
       "      <td>...</td>\n",
       "      <td>...</td>\n",
       "      <td>...</td>\n",
       "      <td>...</td>\n",
       "      <td>...</td>\n",
       "    </tr>\n",
       "    <tr>\n",
       "      <th>95</th>\n",
       "      <td>CocoaTwins</td>\n",
       "      <td>MidJourney Prompt Guide | 10 Base Prompts Plus...</td>\n",
       "      <td>17</td>\n",
       "      <td>273</td>\n",
       "      <td>16.1</td>\n",
       "      <td>9</td>\n",
       "      <td>$9.99</td>\n",
       "      <td>$90</td>\n",
       "      <td>7</td>\n",
       "    </tr>\n",
       "    <tr>\n",
       "      <th>96</th>\n",
       "      <td>MidjourneyPrompt</td>\n",
       "      <td>Midjourney Prompt for Watercolor Animals | Mid...</td>\n",
       "      <td>210</td>\n",
       "      <td>10,650</td>\n",
       "      <td>50.7</td>\n",
       "      <td>352</td>\n",
       "      <td>$5.69</td>\n",
       "      <td>$2,003</td>\n",
       "      <td>860</td>\n",
       "    </tr>\n",
       "    <tr>\n",
       "      <th>97</th>\n",
       "      <td>InfinteArtDesigns</td>\n",
       "      <td>2023 Professional Midjourney AI Prompt Templat...</td>\n",
       "      <td>200</td>\n",
       "      <td>2,772</td>\n",
       "      <td>13.9</td>\n",
       "      <td>143</td>\n",
       "      <td>$1.99</td>\n",
       "      <td>$285</td>\n",
       "      <td>124</td>\n",
       "    </tr>\n",
       "    <tr>\n",
       "      <th>98</th>\n",
       "      <td>HomeSixStudio</td>\n",
       "      <td>120+ Halloween and Horror Midjourney Design Pr...</td>\n",
       "      <td>16</td>\n",
       "      <td>54</td>\n",
       "      <td>3.4</td>\n",
       "      <td>2</td>\n",
       "      <td>$2.22</td>\n",
       "      <td>$4</td>\n",
       "      <td>5</td>\n",
       "    </tr>\n",
       "    <tr>\n",
       "      <th>99</th>\n",
       "      <td>RahasiaStudio</td>\n",
       "      <td>Midjourney Logo Design Prompt | Save Time and ...</td>\n",
       "      <td>132</td>\n",
       "      <td>142</td>\n",
       "      <td>1.1</td>\n",
       "      <td>7</td>\n",
       "      <td>$2.62</td>\n",
       "      <td>$18</td>\n",
       "      <td>3</td>\n",
       "    </tr>\n",
       "  </tbody>\n",
       "</table>\n",
       "<p>100 rows × 9 columns</p>\n",
       "</div>"
      ],
      "text/plain": [
       "             ShopName                                            Listing  \\\n",
       "0     ChillByMarianne  Earth goddess, forest goddess, powerful, warri...   \n",
       "1          PaintBoxAI  Midjourney Logo Prompt, AI Customizable Prompt...   \n",
       "2         Zodiachroma  130 Midjourney Prompts and Images Bundle, Midj...   \n",
       "3         Xenaifuture  Prompt Guide Family Lifestyle Stock Photos, Mi...   \n",
       "4              geoffe  Queen Nefertiti of Egypt, Set of 5 AI  - Midjo...   \n",
       "..                ...                                                ...   \n",
       "95         CocoaTwins  MidJourney Prompt Guide | 10 Base Prompts Plus...   \n",
       "96   MidjourneyPrompt  Midjourney Prompt for Watercolor Animals | Mid...   \n",
       "97  InfinteArtDesigns  2023 Professional Midjourney AI Prompt Templat...   \n",
       "98      HomeSixStudio  120+ Halloween and Horror Midjourney Design Pr...   \n",
       "99      RahasiaStudio  Midjourney Logo Design Prompt | Save Time and ...   \n",
       "\n",
       "    Listing Age (Days) Total Views  Daily Views  Est. Sales  Price  \\\n",
       "0                   58          22          0.4           0  $6.99   \n",
       "1                    7           9          1.3           0  $3.00   \n",
       "2                   70       2,126         30.4          70  $8.29   \n",
       "3                    6          20          3.3           0  $5.24   \n",
       "4                  239       2,255          9.4         116  $3.00   \n",
       "..                 ...         ...          ...         ...    ...   \n",
       "95                  17         273         16.1           9  $9.99   \n",
       "96                 210      10,650         50.7         352  $5.69   \n",
       "97                 200       2,772         13.9         143  $1.99   \n",
       "98                  16          54          3.4           2  $2.22   \n",
       "99                 132         142          1.1           7  $2.62   \n",
       "\n",
       "   Est. Revenue Hearts  \n",
       "0            $0      1  \n",
       "1            $0      0  \n",
       "2          $580  1,232  \n",
       "3            $0      1  \n",
       "4          $348     25  \n",
       "..          ...    ...  \n",
       "95          $90      7  \n",
       "96       $2,003    860  \n",
       "97         $285    124  \n",
       "98           $4      5  \n",
       "99          $18      3  \n",
       "\n",
       "[100 rows x 9 columns]"
      ]
     },
     "execution_count": 279,
     "metadata": {},
     "output_type": "execute_result"
    }
   ],
   "source": [
    "df"
   ]
  },
  {
   "cell_type": "code",
   "execution_count": 280,
   "metadata": {},
   "outputs": [
    {
     "name": "stdout",
     "output_type": "stream",
     "text": [
      "<class 'pandas.core.frame.DataFrame'>\n",
      "RangeIndex: 100 entries, 0 to 99\n",
      "Data columns (total 9 columns):\n",
      " #   Column              Non-Null Count  Dtype  \n",
      "---  ------              --------------  -----  \n",
      " 0   ShopName            100 non-null    object \n",
      " 1   Listing             100 non-null    object \n",
      " 2   Listing Age (Days)  100 non-null    int64  \n",
      " 3   Total Views         100 non-null    object \n",
      " 4   Daily Views         100 non-null    float64\n",
      " 5   Est. Sales          100 non-null    int64  \n",
      " 6   Price               100 non-null    object \n",
      " 7   Est. Revenue        100 non-null    object \n",
      " 8   Hearts              100 non-null    object \n",
      "dtypes: float64(1), int64(2), object(6)\n",
      "memory usage: 7.2+ KB\n"
     ]
    }
   ],
   "source": [
    "df.info()"
   ]
  },
  {
   "cell_type": "markdown",
   "metadata": {},
   "source": [
    "# Converting str object column to float"
   ]
  },
  {
   "cell_type": "code",
   "execution_count": 281,
   "metadata": {},
   "outputs": [],
   "source": [
    "for i in range(3,9):\n",
    "    if type(df[df.columns[i]][0]) == str:\n",
    "        df[df.columns[i]] = df[df.columns[i]].str.replace('[\\$,]', '', regex=True)\n",
    "        df[df.columns[i]] = df[df.columns[i]].astype(float)"
   ]
  },
  {
   "cell_type": "code",
   "execution_count": 282,
   "metadata": {},
   "outputs": [
    {
     "name": "stdout",
     "output_type": "stream",
     "text": [
      "<class 'pandas.core.frame.DataFrame'>\n",
      "RangeIndex: 100 entries, 0 to 99\n",
      "Data columns (total 9 columns):\n",
      " #   Column              Non-Null Count  Dtype  \n",
      "---  ------              --------------  -----  \n",
      " 0   ShopName            100 non-null    object \n",
      " 1   Listing             100 non-null    object \n",
      " 2   Listing Age (Days)  100 non-null    int64  \n",
      " 3   Total Views         100 non-null    float64\n",
      " 4   Daily Views         100 non-null    float64\n",
      " 5   Est. Sales          100 non-null    int64  \n",
      " 6   Price               100 non-null    float64\n",
      " 7   Est. Revenue        100 non-null    float64\n",
      " 8   Hearts              100 non-null    float64\n",
      "dtypes: float64(5), int64(2), object(2)\n",
      "memory usage: 7.2+ KB\n"
     ]
    }
   ],
   "source": [
    "df.info()"
   ]
  },
  {
   "cell_type": "code",
   "execution_count": 283,
   "metadata": {},
   "outputs": [
    {
     "data": {
      "text/html": [
       "<div>\n",
       "<style scoped>\n",
       "    .dataframe tbody tr th:only-of-type {\n",
       "        vertical-align: middle;\n",
       "    }\n",
       "\n",
       "    .dataframe tbody tr th {\n",
       "        vertical-align: top;\n",
       "    }\n",
       "\n",
       "    .dataframe thead th {\n",
       "        text-align: right;\n",
       "    }\n",
       "</style>\n",
       "<table border=\"1\" class=\"dataframe\">\n",
       "  <thead>\n",
       "    <tr style=\"text-align: right;\">\n",
       "      <th></th>\n",
       "      <th>ShopName</th>\n",
       "      <th>Listing</th>\n",
       "      <th>Listing Age (Days)</th>\n",
       "      <th>Total Views</th>\n",
       "      <th>Daily Views</th>\n",
       "      <th>Est. Sales</th>\n",
       "      <th>Price</th>\n",
       "      <th>Est. Revenue</th>\n",
       "      <th>Hearts</th>\n",
       "    </tr>\n",
       "  </thead>\n",
       "  <tbody>\n",
       "    <tr>\n",
       "      <th>0</th>\n",
       "      <td>ChillByMarianne</td>\n",
       "      <td>Earth goddess, forest goddess, powerful, warri...</td>\n",
       "      <td>58</td>\n",
       "      <td>22.0</td>\n",
       "      <td>0.4</td>\n",
       "      <td>0</td>\n",
       "      <td>6.99</td>\n",
       "      <td>0.0</td>\n",
       "      <td>1.0</td>\n",
       "    </tr>\n",
       "    <tr>\n",
       "      <th>1</th>\n",
       "      <td>PaintBoxAI</td>\n",
       "      <td>Midjourney Logo Prompt, AI Customizable Prompt...</td>\n",
       "      <td>7</td>\n",
       "      <td>9.0</td>\n",
       "      <td>1.3</td>\n",
       "      <td>0</td>\n",
       "      <td>3.00</td>\n",
       "      <td>0.0</td>\n",
       "      <td>0.0</td>\n",
       "    </tr>\n",
       "    <tr>\n",
       "      <th>2</th>\n",
       "      <td>Zodiachroma</td>\n",
       "      <td>130 Midjourney Prompts and Images Bundle, Midj...</td>\n",
       "      <td>70</td>\n",
       "      <td>2126.0</td>\n",
       "      <td>30.4</td>\n",
       "      <td>70</td>\n",
       "      <td>8.29</td>\n",
       "      <td>580.0</td>\n",
       "      <td>1232.0</td>\n",
       "    </tr>\n",
       "    <tr>\n",
       "      <th>3</th>\n",
       "      <td>Xenaifuture</td>\n",
       "      <td>Prompt Guide Family Lifestyle Stock Photos, Mi...</td>\n",
       "      <td>6</td>\n",
       "      <td>20.0</td>\n",
       "      <td>3.3</td>\n",
       "      <td>0</td>\n",
       "      <td>5.24</td>\n",
       "      <td>0.0</td>\n",
       "      <td>1.0</td>\n",
       "    </tr>\n",
       "    <tr>\n",
       "      <th>4</th>\n",
       "      <td>geoffe</td>\n",
       "      <td>Queen Nefertiti of Egypt, Set of 5 AI  - Midjo...</td>\n",
       "      <td>239</td>\n",
       "      <td>2255.0</td>\n",
       "      <td>9.4</td>\n",
       "      <td>116</td>\n",
       "      <td>3.00</td>\n",
       "      <td>348.0</td>\n",
       "      <td>25.0</td>\n",
       "    </tr>\n",
       "  </tbody>\n",
       "</table>\n",
       "</div>"
      ],
      "text/plain": [
       "          ShopName                                            Listing  \\\n",
       "0  ChillByMarianne  Earth goddess, forest goddess, powerful, warri...   \n",
       "1       PaintBoxAI  Midjourney Logo Prompt, AI Customizable Prompt...   \n",
       "2      Zodiachroma  130 Midjourney Prompts and Images Bundle, Midj...   \n",
       "3      Xenaifuture  Prompt Guide Family Lifestyle Stock Photos, Mi...   \n",
       "4           geoffe  Queen Nefertiti of Egypt, Set of 5 AI  - Midjo...   \n",
       "\n",
       "   Listing Age (Days)  Total Views  Daily Views  Est. Sales  Price  \\\n",
       "0                  58         22.0          0.4           0   6.99   \n",
       "1                   7          9.0          1.3           0   3.00   \n",
       "2                  70       2126.0         30.4          70   8.29   \n",
       "3                   6         20.0          3.3           0   5.24   \n",
       "4                 239       2255.0          9.4         116   3.00   \n",
       "\n",
       "   Est. Revenue  Hearts  \n",
       "0           0.0     1.0  \n",
       "1           0.0     0.0  \n",
       "2         580.0  1232.0  \n",
       "3           0.0     1.0  \n",
       "4         348.0    25.0  "
      ]
     },
     "execution_count": 283,
     "metadata": {},
     "output_type": "execute_result"
    }
   ],
   "source": [
    "df.head()"
   ]
  },
  {
   "cell_type": "markdown",
   "metadata": {},
   "source": [
    "## Top 5 Shops with most revenue (Overall)"
   ]
  },
  {
   "cell_type": "code",
   "execution_count": 305,
   "metadata": {},
   "outputs": [],
   "source": [
    "result = df.groupby('ShopName')['Est. Revenue'].sum().sort_values(ascending=False).head(10)\n",
    "# result.plot(kind='bar')\n",
    "# plt.xlabel('ShopName')\n",
    "# plt.ylabel('Total Revenue')\n",
    "# plt.title('Top 5 Shops by Total Revenue')"
   ]
  },
  {
   "cell_type": "code",
   "execution_count": 306,
   "metadata": {},
   "outputs": [
    {
     "data": {
      "application/vnd.plotly.v1+json": {
       "config": {
        "plotlyServerURL": "https://plot.ly"
       },
       "data": [
        {
         "alignmentgroup": "True",
         "hovertemplate": "ShopName=%{x}<br>Total Revenue=%{y}<extra></extra>",
         "legendgroup": "",
         "marker": {
          "color": "#636efa",
          "pattern": {
           "shape": ""
          }
         },
         "name": "",
         "offsetgroup": "",
         "orientation": "v",
         "showlegend": false,
         "textposition": "auto",
         "type": "bar",
         "x": [
          "MidjourneyPrompt",
          "Zodiachroma",
          "CocoaTwins",
          "geoffe",
          "InfinteArtDesigns",
          "IckynicksTreasures",
          "sofiamastery",
          "LeapfrogLabs",
          "Xenaifuture",
          "BitsAndBytesStudios"
         ],
         "xaxis": "x",
         "y": [
          2003,
          580,
          425,
          348,
          338,
          316,
          280,
          279,
          256,
          227
         ],
         "yaxis": "y"
        }
       ],
       "layout": {
        "barmode": "relative",
        "legend": {
         "tracegroupgap": 0
        },
        "template": {
         "data": {
          "bar": [
           {
            "error_x": {
             "color": "#2a3f5f"
            },
            "error_y": {
             "color": "#2a3f5f"
            },
            "marker": {
             "line": {
              "color": "#E5ECF6",
              "width": 0.5
             },
             "pattern": {
              "fillmode": "overlay",
              "size": 10,
              "solidity": 0.2
             }
            },
            "type": "bar"
           }
          ],
          "barpolar": [
           {
            "marker": {
             "line": {
              "color": "#E5ECF6",
              "width": 0.5
             },
             "pattern": {
              "fillmode": "overlay",
              "size": 10,
              "solidity": 0.2
             }
            },
            "type": "barpolar"
           }
          ],
          "carpet": [
           {
            "aaxis": {
             "endlinecolor": "#2a3f5f",
             "gridcolor": "white",
             "linecolor": "white",
             "minorgridcolor": "white",
             "startlinecolor": "#2a3f5f"
            },
            "baxis": {
             "endlinecolor": "#2a3f5f",
             "gridcolor": "white",
             "linecolor": "white",
             "minorgridcolor": "white",
             "startlinecolor": "#2a3f5f"
            },
            "type": "carpet"
           }
          ],
          "choropleth": [
           {
            "colorbar": {
             "outlinewidth": 0,
             "ticks": ""
            },
            "type": "choropleth"
           }
          ],
          "contour": [
           {
            "colorbar": {
             "outlinewidth": 0,
             "ticks": ""
            },
            "colorscale": [
             [
              0,
              "#0d0887"
             ],
             [
              0.1111111111111111,
              "#46039f"
             ],
             [
              0.2222222222222222,
              "#7201a8"
             ],
             [
              0.3333333333333333,
              "#9c179e"
             ],
             [
              0.4444444444444444,
              "#bd3786"
             ],
             [
              0.5555555555555556,
              "#d8576b"
             ],
             [
              0.6666666666666666,
              "#ed7953"
             ],
             [
              0.7777777777777778,
              "#fb9f3a"
             ],
             [
              0.8888888888888888,
              "#fdca26"
             ],
             [
              1,
              "#f0f921"
             ]
            ],
            "type": "contour"
           }
          ],
          "contourcarpet": [
           {
            "colorbar": {
             "outlinewidth": 0,
             "ticks": ""
            },
            "type": "contourcarpet"
           }
          ],
          "heatmap": [
           {
            "colorbar": {
             "outlinewidth": 0,
             "ticks": ""
            },
            "colorscale": [
             [
              0,
              "#0d0887"
             ],
             [
              0.1111111111111111,
              "#46039f"
             ],
             [
              0.2222222222222222,
              "#7201a8"
             ],
             [
              0.3333333333333333,
              "#9c179e"
             ],
             [
              0.4444444444444444,
              "#bd3786"
             ],
             [
              0.5555555555555556,
              "#d8576b"
             ],
             [
              0.6666666666666666,
              "#ed7953"
             ],
             [
              0.7777777777777778,
              "#fb9f3a"
             ],
             [
              0.8888888888888888,
              "#fdca26"
             ],
             [
              1,
              "#f0f921"
             ]
            ],
            "type": "heatmap"
           }
          ],
          "heatmapgl": [
           {
            "colorbar": {
             "outlinewidth": 0,
             "ticks": ""
            },
            "colorscale": [
             [
              0,
              "#0d0887"
             ],
             [
              0.1111111111111111,
              "#46039f"
             ],
             [
              0.2222222222222222,
              "#7201a8"
             ],
             [
              0.3333333333333333,
              "#9c179e"
             ],
             [
              0.4444444444444444,
              "#bd3786"
             ],
             [
              0.5555555555555556,
              "#d8576b"
             ],
             [
              0.6666666666666666,
              "#ed7953"
             ],
             [
              0.7777777777777778,
              "#fb9f3a"
             ],
             [
              0.8888888888888888,
              "#fdca26"
             ],
             [
              1,
              "#f0f921"
             ]
            ],
            "type": "heatmapgl"
           }
          ],
          "histogram": [
           {
            "marker": {
             "pattern": {
              "fillmode": "overlay",
              "size": 10,
              "solidity": 0.2
             }
            },
            "type": "histogram"
           }
          ],
          "histogram2d": [
           {
            "colorbar": {
             "outlinewidth": 0,
             "ticks": ""
            },
            "colorscale": [
             [
              0,
              "#0d0887"
             ],
             [
              0.1111111111111111,
              "#46039f"
             ],
             [
              0.2222222222222222,
              "#7201a8"
             ],
             [
              0.3333333333333333,
              "#9c179e"
             ],
             [
              0.4444444444444444,
              "#bd3786"
             ],
             [
              0.5555555555555556,
              "#d8576b"
             ],
             [
              0.6666666666666666,
              "#ed7953"
             ],
             [
              0.7777777777777778,
              "#fb9f3a"
             ],
             [
              0.8888888888888888,
              "#fdca26"
             ],
             [
              1,
              "#f0f921"
             ]
            ],
            "type": "histogram2d"
           }
          ],
          "histogram2dcontour": [
           {
            "colorbar": {
             "outlinewidth": 0,
             "ticks": ""
            },
            "colorscale": [
             [
              0,
              "#0d0887"
             ],
             [
              0.1111111111111111,
              "#46039f"
             ],
             [
              0.2222222222222222,
              "#7201a8"
             ],
             [
              0.3333333333333333,
              "#9c179e"
             ],
             [
              0.4444444444444444,
              "#bd3786"
             ],
             [
              0.5555555555555556,
              "#d8576b"
             ],
             [
              0.6666666666666666,
              "#ed7953"
             ],
             [
              0.7777777777777778,
              "#fb9f3a"
             ],
             [
              0.8888888888888888,
              "#fdca26"
             ],
             [
              1,
              "#f0f921"
             ]
            ],
            "type": "histogram2dcontour"
           }
          ],
          "mesh3d": [
           {
            "colorbar": {
             "outlinewidth": 0,
             "ticks": ""
            },
            "type": "mesh3d"
           }
          ],
          "parcoords": [
           {
            "line": {
             "colorbar": {
              "outlinewidth": 0,
              "ticks": ""
             }
            },
            "type": "parcoords"
           }
          ],
          "pie": [
           {
            "automargin": true,
            "type": "pie"
           }
          ],
          "scatter": [
           {
            "fillpattern": {
             "fillmode": "overlay",
             "size": 10,
             "solidity": 0.2
            },
            "type": "scatter"
           }
          ],
          "scatter3d": [
           {
            "line": {
             "colorbar": {
              "outlinewidth": 0,
              "ticks": ""
             }
            },
            "marker": {
             "colorbar": {
              "outlinewidth": 0,
              "ticks": ""
             }
            },
            "type": "scatter3d"
           }
          ],
          "scattercarpet": [
           {
            "marker": {
             "colorbar": {
              "outlinewidth": 0,
              "ticks": ""
             }
            },
            "type": "scattercarpet"
           }
          ],
          "scattergeo": [
           {
            "marker": {
             "colorbar": {
              "outlinewidth": 0,
              "ticks": ""
             }
            },
            "type": "scattergeo"
           }
          ],
          "scattergl": [
           {
            "marker": {
             "colorbar": {
              "outlinewidth": 0,
              "ticks": ""
             }
            },
            "type": "scattergl"
           }
          ],
          "scattermapbox": [
           {
            "marker": {
             "colorbar": {
              "outlinewidth": 0,
              "ticks": ""
             }
            },
            "type": "scattermapbox"
           }
          ],
          "scatterpolar": [
           {
            "marker": {
             "colorbar": {
              "outlinewidth": 0,
              "ticks": ""
             }
            },
            "type": "scatterpolar"
           }
          ],
          "scatterpolargl": [
           {
            "marker": {
             "colorbar": {
              "outlinewidth": 0,
              "ticks": ""
             }
            },
            "type": "scatterpolargl"
           }
          ],
          "scatterternary": [
           {
            "marker": {
             "colorbar": {
              "outlinewidth": 0,
              "ticks": ""
             }
            },
            "type": "scatterternary"
           }
          ],
          "surface": [
           {
            "colorbar": {
             "outlinewidth": 0,
             "ticks": ""
            },
            "colorscale": [
             [
              0,
              "#0d0887"
             ],
             [
              0.1111111111111111,
              "#46039f"
             ],
             [
              0.2222222222222222,
              "#7201a8"
             ],
             [
              0.3333333333333333,
              "#9c179e"
             ],
             [
              0.4444444444444444,
              "#bd3786"
             ],
             [
              0.5555555555555556,
              "#d8576b"
             ],
             [
              0.6666666666666666,
              "#ed7953"
             ],
             [
              0.7777777777777778,
              "#fb9f3a"
             ],
             [
              0.8888888888888888,
              "#fdca26"
             ],
             [
              1,
              "#f0f921"
             ]
            ],
            "type": "surface"
           }
          ],
          "table": [
           {
            "cells": {
             "fill": {
              "color": "#EBF0F8"
             },
             "line": {
              "color": "white"
             }
            },
            "header": {
             "fill": {
              "color": "#C8D4E3"
             },
             "line": {
              "color": "white"
             }
            },
            "type": "table"
           }
          ]
         },
         "layout": {
          "annotationdefaults": {
           "arrowcolor": "#2a3f5f",
           "arrowhead": 0,
           "arrowwidth": 1
          },
          "autotypenumbers": "strict",
          "coloraxis": {
           "colorbar": {
            "outlinewidth": 0,
            "ticks": ""
           }
          },
          "colorscale": {
           "diverging": [
            [
             0,
             "#8e0152"
            ],
            [
             0.1,
             "#c51b7d"
            ],
            [
             0.2,
             "#de77ae"
            ],
            [
             0.3,
             "#f1b6da"
            ],
            [
             0.4,
             "#fde0ef"
            ],
            [
             0.5,
             "#f7f7f7"
            ],
            [
             0.6,
             "#e6f5d0"
            ],
            [
             0.7,
             "#b8e186"
            ],
            [
             0.8,
             "#7fbc41"
            ],
            [
             0.9,
             "#4d9221"
            ],
            [
             1,
             "#276419"
            ]
           ],
           "sequential": [
            [
             0,
             "#0d0887"
            ],
            [
             0.1111111111111111,
             "#46039f"
            ],
            [
             0.2222222222222222,
             "#7201a8"
            ],
            [
             0.3333333333333333,
             "#9c179e"
            ],
            [
             0.4444444444444444,
             "#bd3786"
            ],
            [
             0.5555555555555556,
             "#d8576b"
            ],
            [
             0.6666666666666666,
             "#ed7953"
            ],
            [
             0.7777777777777778,
             "#fb9f3a"
            ],
            [
             0.8888888888888888,
             "#fdca26"
            ],
            [
             1,
             "#f0f921"
            ]
           ],
           "sequentialminus": [
            [
             0,
             "#0d0887"
            ],
            [
             0.1111111111111111,
             "#46039f"
            ],
            [
             0.2222222222222222,
             "#7201a8"
            ],
            [
             0.3333333333333333,
             "#9c179e"
            ],
            [
             0.4444444444444444,
             "#bd3786"
            ],
            [
             0.5555555555555556,
             "#d8576b"
            ],
            [
             0.6666666666666666,
             "#ed7953"
            ],
            [
             0.7777777777777778,
             "#fb9f3a"
            ],
            [
             0.8888888888888888,
             "#fdca26"
            ],
            [
             1,
             "#f0f921"
            ]
           ]
          },
          "colorway": [
           "#636efa",
           "#EF553B",
           "#00cc96",
           "#ab63fa",
           "#FFA15A",
           "#19d3f3",
           "#FF6692",
           "#B6E880",
           "#FF97FF",
           "#FECB52"
          ],
          "font": {
           "color": "#2a3f5f"
          },
          "geo": {
           "bgcolor": "white",
           "lakecolor": "white",
           "landcolor": "#E5ECF6",
           "showlakes": true,
           "showland": true,
           "subunitcolor": "white"
          },
          "hoverlabel": {
           "align": "left"
          },
          "hovermode": "closest",
          "mapbox": {
           "style": "light"
          },
          "paper_bgcolor": "white",
          "plot_bgcolor": "#E5ECF6",
          "polar": {
           "angularaxis": {
            "gridcolor": "white",
            "linecolor": "white",
            "ticks": ""
           },
           "bgcolor": "#E5ECF6",
           "radialaxis": {
            "gridcolor": "white",
            "linecolor": "white",
            "ticks": ""
           }
          },
          "scene": {
           "xaxis": {
            "backgroundcolor": "#E5ECF6",
            "gridcolor": "white",
            "gridwidth": 2,
            "linecolor": "white",
            "showbackground": true,
            "ticks": "",
            "zerolinecolor": "white"
           },
           "yaxis": {
            "backgroundcolor": "#E5ECF6",
            "gridcolor": "white",
            "gridwidth": 2,
            "linecolor": "white",
            "showbackground": true,
            "ticks": "",
            "zerolinecolor": "white"
           },
           "zaxis": {
            "backgroundcolor": "#E5ECF6",
            "gridcolor": "white",
            "gridwidth": 2,
            "linecolor": "white",
            "showbackground": true,
            "ticks": "",
            "zerolinecolor": "white"
           }
          },
          "shapedefaults": {
           "line": {
            "color": "#2a3f5f"
           }
          },
          "ternary": {
           "aaxis": {
            "gridcolor": "white",
            "linecolor": "white",
            "ticks": ""
           },
           "baxis": {
            "gridcolor": "white",
            "linecolor": "white",
            "ticks": ""
           },
           "bgcolor": "#E5ECF6",
           "caxis": {
            "gridcolor": "white",
            "linecolor": "white",
            "ticks": ""
           }
          },
          "title": {
           "x": 0.05
          },
          "xaxis": {
           "automargin": true,
           "gridcolor": "white",
           "linecolor": "white",
           "ticks": "",
           "title": {
            "standoff": 15
           },
           "zerolinecolor": "white",
           "zerolinewidth": 2
          },
          "yaxis": {
           "automargin": true,
           "gridcolor": "white",
           "linecolor": "white",
           "ticks": "",
           "title": {
            "standoff": 15
           },
           "zerolinecolor": "white",
           "zerolinewidth": 2
          }
         }
        },
        "title": {
         "text": "Top 10 Shops by Total Revenue"
        },
        "xaxis": {
         "anchor": "y",
         "domain": [
          0,
          1
         ],
         "title": {
          "text": "ShopName"
         }
        },
        "yaxis": {
         "anchor": "x",
         "domain": [
          0,
          1
         ],
         "title": {
          "text": "Total Revenue"
         }
        }
       }
      }
     },
     "metadata": {},
     "output_type": "display_data"
    }
   ],
   "source": [
    "plot_df = pd.DataFrame({'ShopName': result.index, 'Total Revenue': result.values})\n",
    "fig = px.bar(plot_df, x='ShopName', y='Total Revenue', title='Top 10 Shops by Total Revenue')\n",
    "fig.show()"
   ]
  },
  {
   "cell_type": "code",
   "execution_count": 285,
   "metadata": {},
   "outputs": [
    {
     "data": {
      "text/html": [
       "<div>\n",
       "<style scoped>\n",
       "    .dataframe tbody tr th:only-of-type {\n",
       "        vertical-align: middle;\n",
       "    }\n",
       "\n",
       "    .dataframe tbody tr th {\n",
       "        vertical-align: top;\n",
       "    }\n",
       "\n",
       "    .dataframe thead th {\n",
       "        text-align: right;\n",
       "    }\n",
       "</style>\n",
       "<table border=\"1\" class=\"dataframe\">\n",
       "  <thead>\n",
       "    <tr style=\"text-align: right;\">\n",
       "      <th></th>\n",
       "      <th>ShopName</th>\n",
       "      <th>Listing</th>\n",
       "      <th>Listing Age (Days)</th>\n",
       "      <th>Total Views</th>\n",
       "      <th>Daily Views</th>\n",
       "      <th>Est. Sales</th>\n",
       "      <th>Price</th>\n",
       "      <th>Est. Revenue</th>\n",
       "      <th>Hearts</th>\n",
       "    </tr>\n",
       "  </thead>\n",
       "  <tbody>\n",
       "    <tr>\n",
       "      <th>0</th>\n",
       "      <td>ChillByMarianne</td>\n",
       "      <td>Earth goddess, forest goddess, powerful, warri...</td>\n",
       "      <td>58</td>\n",
       "      <td>22.0</td>\n",
       "      <td>0.4</td>\n",
       "      <td>0</td>\n",
       "      <td>6.99</td>\n",
       "      <td>0.0</td>\n",
       "      <td>1.0</td>\n",
       "    </tr>\n",
       "    <tr>\n",
       "      <th>1</th>\n",
       "      <td>PaintBoxAI</td>\n",
       "      <td>Midjourney Logo Prompt, AI Customizable Prompt...</td>\n",
       "      <td>7</td>\n",
       "      <td>9.0</td>\n",
       "      <td>1.3</td>\n",
       "      <td>0</td>\n",
       "      <td>3.00</td>\n",
       "      <td>0.0</td>\n",
       "      <td>0.0</td>\n",
       "    </tr>\n",
       "    <tr>\n",
       "      <th>2</th>\n",
       "      <td>Zodiachroma</td>\n",
       "      <td>130 Midjourney Prompts and Images Bundle, Midj...</td>\n",
       "      <td>70</td>\n",
       "      <td>2126.0</td>\n",
       "      <td>30.4</td>\n",
       "      <td>70</td>\n",
       "      <td>8.29</td>\n",
       "      <td>580.0</td>\n",
       "      <td>1232.0</td>\n",
       "    </tr>\n",
       "    <tr>\n",
       "      <th>3</th>\n",
       "      <td>Xenaifuture</td>\n",
       "      <td>Prompt Guide Family Lifestyle Stock Photos, Mi...</td>\n",
       "      <td>6</td>\n",
       "      <td>20.0</td>\n",
       "      <td>3.3</td>\n",
       "      <td>0</td>\n",
       "      <td>5.24</td>\n",
       "      <td>0.0</td>\n",
       "      <td>1.0</td>\n",
       "    </tr>\n",
       "    <tr>\n",
       "      <th>4</th>\n",
       "      <td>geoffe</td>\n",
       "      <td>Queen Nefertiti of Egypt, Set of 5 AI  - Midjo...</td>\n",
       "      <td>239</td>\n",
       "      <td>2255.0</td>\n",
       "      <td>9.4</td>\n",
       "      <td>116</td>\n",
       "      <td>3.00</td>\n",
       "      <td>348.0</td>\n",
       "      <td>25.0</td>\n",
       "    </tr>\n",
       "  </tbody>\n",
       "</table>\n",
       "</div>"
      ],
      "text/plain": [
       "          ShopName                                            Listing  \\\n",
       "0  ChillByMarianne  Earth goddess, forest goddess, powerful, warri...   \n",
       "1       PaintBoxAI  Midjourney Logo Prompt, AI Customizable Prompt...   \n",
       "2      Zodiachroma  130 Midjourney Prompts and Images Bundle, Midj...   \n",
       "3      Xenaifuture  Prompt Guide Family Lifestyle Stock Photos, Mi...   \n",
       "4           geoffe  Queen Nefertiti of Egypt, Set of 5 AI  - Midjo...   \n",
       "\n",
       "   Listing Age (Days)  Total Views  Daily Views  Est. Sales  Price  \\\n",
       "0                  58         22.0          0.4           0   6.99   \n",
       "1                   7          9.0          1.3           0   3.00   \n",
       "2                  70       2126.0         30.4          70   8.29   \n",
       "3                   6         20.0          3.3           0   5.24   \n",
       "4                 239       2255.0          9.4         116   3.00   \n",
       "\n",
       "   Est. Revenue  Hearts  \n",
       "0           0.0     1.0  \n",
       "1           0.0     0.0  \n",
       "2         580.0  1232.0  \n",
       "3           0.0     1.0  \n",
       "4         348.0    25.0  "
      ]
     },
     "execution_count": 285,
     "metadata": {},
     "output_type": "execute_result"
    }
   ],
   "source": [
    "df.head()"
   ]
  },
  {
   "cell_type": "code",
   "execution_count": 286,
   "metadata": {},
   "outputs": [],
   "source": [
    "# result is a pandas series extracting all shopName\n",
    "Top5Shops = result.index.tolist()"
   ]
  },
  {
   "cell_type": "code",
   "execution_count": 296,
   "metadata": {},
   "outputs": [
    {
     "data": {
      "text/html": [
       "<div>\n",
       "<style scoped>\n",
       "    .dataframe tbody tr th:only-of-type {\n",
       "        vertical-align: middle;\n",
       "    }\n",
       "\n",
       "    .dataframe tbody tr th {\n",
       "        vertical-align: top;\n",
       "    }\n",
       "\n",
       "    .dataframe thead th {\n",
       "        text-align: right;\n",
       "    }\n",
       "</style>\n",
       "<table border=\"1\" class=\"dataframe\">\n",
       "  <thead>\n",
       "    <tr style=\"text-align: right;\">\n",
       "      <th></th>\n",
       "      <th>ShopName</th>\n",
       "      <th>Listing</th>\n",
       "      <th>Listing Age (Days)</th>\n",
       "      <th>Total Views</th>\n",
       "      <th>Daily Views</th>\n",
       "      <th>Est. Sales</th>\n",
       "      <th>Price</th>\n",
       "      <th>Est. Revenue</th>\n",
       "      <th>Hearts</th>\n",
       "    </tr>\n",
       "  </thead>\n",
       "  <tbody>\n",
       "    <tr>\n",
       "      <th>30</th>\n",
       "      <td>CocoaTwins</td>\n",
       "      <td>MidJourney Prompt Guide - Includes a Universal...</td>\n",
       "      <td>33</td>\n",
       "      <td>960.0</td>\n",
       "      <td>29.1</td>\n",
       "      <td>31</td>\n",
       "      <td>9.99</td>\n",
       "      <td>310.0</td>\n",
       "      <td>30.0</td>\n",
       "    </tr>\n",
       "    <tr>\n",
       "      <th>95</th>\n",
       "      <td>CocoaTwins</td>\n",
       "      <td>MidJourney Prompt Guide | 10 Base Prompts Plus...</td>\n",
       "      <td>17</td>\n",
       "      <td>273.0</td>\n",
       "      <td>16.1</td>\n",
       "      <td>9</td>\n",
       "      <td>9.99</td>\n",
       "      <td>90.0</td>\n",
       "      <td>7.0</td>\n",
       "    </tr>\n",
       "  </tbody>\n",
       "</table>\n",
       "</div>"
      ],
      "text/plain": [
       "      ShopName                                            Listing  \\\n",
       "30  CocoaTwins  MidJourney Prompt Guide - Includes a Universal...   \n",
       "95  CocoaTwins  MidJourney Prompt Guide | 10 Base Prompts Plus...   \n",
       "\n",
       "    Listing Age (Days)  Total Views  Daily Views  Est. Sales  Price  \\\n",
       "30                  33        960.0         29.1          31   9.99   \n",
       "95                  17        273.0         16.1           9   9.99   \n",
       "\n",
       "    Est. Revenue  Hearts  \n",
       "30         310.0    30.0  \n",
       "95          90.0     7.0  "
      ]
     },
     "execution_count": 296,
     "metadata": {},
     "output_type": "execute_result"
    }
   ],
   "source": [
    "df[(df[\"ShopName\"].isin(Top5Shops)) & (df[\"Listing Age (Days)\"] < 50)].sort_values(by='Est. Revenue', ascending=False)"
   ]
  },
  {
   "cell_type": "markdown",
   "metadata": {},
   "source": [
    "# Trending Listings (Days)"
   ]
  },
  {
   "cell_type": "code",
   "execution_count": 317,
   "metadata": {},
   "outputs": [
    {
     "data": {
      "text/plain": [
       "Listing\n",
       "MidJourney Prompt Guide | 10 Base Prompts Plus a Prompt Generator to Create Your Own Unique Prompts | Highland Cow | Christmas | Tumblers       90.0\n",
       "3D Inflated Tumbler Wraps Pattern PNG, Midjourney Prompt Guide, AI Art to Sell on Etsy, Sublimation Designs, Tumbler Bundle w/ Resell Rights    58.0\n",
       "Professional Halloween Midjourney Prompts Ideal for Junk Journals & Scrapbooking | Customisable Clipart Prompt | Best Digital AI Art Prompts    18.0\n",
       "MIDJOURNEY AI PROMPTS, e-book of 100 ai prompts, midjourney ai art, art prompts to create digital prints, digital download, ai ghosts            8.0\n",
       "120+ Halloween and Horror Midjourney Design Prompts | T-shirt Designs | Poster Designs                                                           4.0\n",
       "Black Women Midjourney Prompts for Black Women, Afro American Women, African American, Black Women Prompts, Ebony Women Stock Photography        4.0\n",
       "360 Midjourney Prompts for Landscape Photography | Ai Art, Prompts, Best Midjourney Prompts, Customizable, Guide, Photorealism, Realism          3.0\n",
       "Name: Est. Revenue, dtype: float64"
      ]
     },
     "execution_count": 317,
     "metadata": {},
     "output_type": "execute_result"
    }
   ],
   "source": [
    "days = 30\n",
    "filtered_df = df[(df[\"Listing Age (Days)\"] < days) & (df[\"Est. Revenue\"] > 0)]\n",
    "result = filtered_df.groupby('Listing')['Est. Revenue'].sum().sort_values(ascending=False).head(10)\n",
    "result"
   ]
  },
  {
   "cell_type": "code",
   "execution_count": 318,
   "metadata": {},
   "outputs": [
    {
     "data": {
      "text/html": [
       "<div>\n",
       "<style scoped>\n",
       "    .dataframe tbody tr th:only-of-type {\n",
       "        vertical-align: middle;\n",
       "    }\n",
       "\n",
       "    .dataframe tbody tr th {\n",
       "        vertical-align: top;\n",
       "    }\n",
       "\n",
       "    .dataframe thead th {\n",
       "        text-align: right;\n",
       "    }\n",
       "</style>\n",
       "<table border=\"1\" class=\"dataframe\">\n",
       "  <thead>\n",
       "    <tr style=\"text-align: right;\">\n",
       "      <th></th>\n",
       "      <th>ShopName</th>\n",
       "      <th>Listing</th>\n",
       "      <th>Listing Age (Days)</th>\n",
       "      <th>Total Views</th>\n",
       "      <th>Daily Views</th>\n",
       "      <th>Est. Sales</th>\n",
       "      <th>Price</th>\n",
       "      <th>Est. Revenue</th>\n",
       "      <th>Hearts</th>\n",
       "    </tr>\n",
       "  </thead>\n",
       "  <tbody>\n",
       "    <tr>\n",
       "      <th>95</th>\n",
       "      <td>CocoaTwins</td>\n",
       "      <td>MidJourney Prompt Guide | 10 Base Prompts Plus...</td>\n",
       "      <td>17</td>\n",
       "      <td>273.0</td>\n",
       "      <td>16.1</td>\n",
       "      <td>9</td>\n",
       "      <td>9.99</td>\n",
       "      <td>90.0</td>\n",
       "      <td>7.0</td>\n",
       "    </tr>\n",
       "    <tr>\n",
       "      <th>31</th>\n",
       "      <td>LeapfrogLabs</td>\n",
       "      <td>3D Inflated Tumbler Wraps Pattern PNG, Midjour...</td>\n",
       "      <td>28</td>\n",
       "      <td>271.0</td>\n",
       "      <td>9.7</td>\n",
       "      <td>13</td>\n",
       "      <td>4.48</td>\n",
       "      <td>58.0</td>\n",
       "      <td>18.0</td>\n",
       "    </tr>\n",
       "    <tr>\n",
       "      <th>46</th>\n",
       "      <td>DigitalBuddyShop</td>\n",
       "      <td>Professional Halloween Midjourney Prompts Idea...</td>\n",
       "      <td>21</td>\n",
       "      <td>77.0</td>\n",
       "      <td>3.7</td>\n",
       "      <td>2</td>\n",
       "      <td>8.93</td>\n",
       "      <td>18.0</td>\n",
       "      <td>7.0</td>\n",
       "    </tr>\n",
       "    <tr>\n",
       "      <th>24</th>\n",
       "      <td>DownloadsDirectGB</td>\n",
       "      <td>MIDJOURNEY AI PROMPTS, e-book of 100 ai prompt...</td>\n",
       "      <td>18</td>\n",
       "      <td>45.0</td>\n",
       "      <td>2.5</td>\n",
       "      <td>2</td>\n",
       "      <td>4.25</td>\n",
       "      <td>8.0</td>\n",
       "      <td>6.0</td>\n",
       "    </tr>\n",
       "    <tr>\n",
       "      <th>59</th>\n",
       "      <td>GOTJEY</td>\n",
       "      <td>Black Women Midjourney Prompts for Black Women...</td>\n",
       "      <td>6</td>\n",
       "      <td>32.0</td>\n",
       "      <td>5.3</td>\n",
       "      <td>1</td>\n",
       "      <td>3.99</td>\n",
       "      <td>4.0</td>\n",
       "      <td>0.0</td>\n",
       "    </tr>\n",
       "    <tr>\n",
       "      <th>98</th>\n",
       "      <td>HomeSixStudio</td>\n",
       "      <td>120+ Halloween and Horror Midjourney Design Pr...</td>\n",
       "      <td>16</td>\n",
       "      <td>54.0</td>\n",
       "      <td>3.4</td>\n",
       "      <td>2</td>\n",
       "      <td>2.22</td>\n",
       "      <td>4.0</td>\n",
       "      <td>5.0</td>\n",
       "    </tr>\n",
       "    <tr>\n",
       "      <th>51</th>\n",
       "      <td>SevenstylesDesign</td>\n",
       "      <td>360 Midjourney Prompts for Landscape Photograp...</td>\n",
       "      <td>26</td>\n",
       "      <td>35.0</td>\n",
       "      <td>1.3</td>\n",
       "      <td>1</td>\n",
       "      <td>3.18</td>\n",
       "      <td>3.0</td>\n",
       "      <td>3.0</td>\n",
       "    </tr>\n",
       "  </tbody>\n",
       "</table>\n",
       "</div>"
      ],
      "text/plain": [
       "             ShopName                                            Listing  \\\n",
       "95         CocoaTwins  MidJourney Prompt Guide | 10 Base Prompts Plus...   \n",
       "31       LeapfrogLabs  3D Inflated Tumbler Wraps Pattern PNG, Midjour...   \n",
       "46   DigitalBuddyShop  Professional Halloween Midjourney Prompts Idea...   \n",
       "24  DownloadsDirectGB  MIDJOURNEY AI PROMPTS, e-book of 100 ai prompt...   \n",
       "59             GOTJEY  Black Women Midjourney Prompts for Black Women...   \n",
       "98      HomeSixStudio  120+ Halloween and Horror Midjourney Design Pr...   \n",
       "51  SevenstylesDesign  360 Midjourney Prompts for Landscape Photograp...   \n",
       "\n",
       "    Listing Age (Days)  Total Views  Daily Views  Est. Sales  Price  \\\n",
       "95                  17        273.0         16.1           9   9.99   \n",
       "31                  28        271.0          9.7          13   4.48   \n",
       "46                  21         77.0          3.7           2   8.93   \n",
       "24                  18         45.0          2.5           2   4.25   \n",
       "59                   6         32.0          5.3           1   3.99   \n",
       "98                  16         54.0          3.4           2   2.22   \n",
       "51                  26         35.0          1.3           1   3.18   \n",
       "\n",
       "    Est. Revenue  Hearts  \n",
       "95          90.0     7.0  \n",
       "31          58.0    18.0  \n",
       "46          18.0     7.0  \n",
       "24           8.0     6.0  \n",
       "59           4.0     0.0  \n",
       "98           4.0     5.0  \n",
       "51           3.0     3.0  "
      ]
     },
     "execution_count": 318,
     "metadata": {},
     "output_type": "execute_result"
    }
   ],
   "source": [
    "df[df['Listing'].isin(result.index.to_list())].sort_values(by='Est. Revenue', ascending=False)"
   ]
  },
  {
   "cell_type": "code",
   "execution_count": 336,
   "metadata": {},
   "outputs": [
    {
     "data": {
      "application/vnd.plotly.v1+json": {
       "config": {
        "plotlyServerURL": "https://plot.ly"
       },
       "data": [
        {
         "alignmentgroup": "True",
         "hovertemplate": "x=%{x}<br>y=%{y}<extra></extra>",
         "legendgroup": "",
         "marker": {
          "color": "#636efa",
          "pattern": {
           "shape": ""
          }
         },
         "name": "",
         "offsetgroup": "",
         "orientation": "v",
         "showlegend": false,
         "textposition": "auto",
         "type": "bar",
         "x": [
          "MidJourney Prompt Guide | 10 Base Prompts Plus a Prompt Generator to Create Your Own Unique Prompts | Highland Cow | Christmas | Tumblers",
          "3D Inflated Tumbler Wraps Pattern PNG, Midjourney Prompt Guide, AI Art to Sell on Etsy, Sublimation Designs, Tumbler Bundle w/ Resell Rights",
          "Professional Halloween Midjourney Prompts Ideal for Junk Journals & Scrapbooking | Customisable Clipart Prompt | Best Digital AI Art Prompts",
          "MIDJOURNEY AI PROMPTS, e-book of 100 ai prompts, midjourney ai art, art prompts to create digital prints, digital download, ai ghosts",
          "120+ Halloween and Horror Midjourney Design Prompts | T-shirt Designs | Poster Designs",
          "Black Women Midjourney Prompts for Black Women, Afro American Women, African American, Black Women Prompts, Ebony Women Stock Photography",
          "360 Midjourney Prompts for Landscape Photography | Ai Art, Prompts, Best Midjourney Prompts, Customizable, Guide, Photorealism, Realism"
         ],
         "xaxis": "x",
         "y": [
          90,
          58,
          18,
          8,
          4,
          4,
          3
         ],
         "yaxis": "y"
        }
       ],
       "layout": {
        "barmode": "relative",
        "legend": {
         "tracegroupgap": 0
        },
        "template": {
         "data": {
          "bar": [
           {
            "error_x": {
             "color": "#2a3f5f"
            },
            "error_y": {
             "color": "#2a3f5f"
            },
            "marker": {
             "line": {
              "color": "#E5ECF6",
              "width": 0.5
             },
             "pattern": {
              "fillmode": "overlay",
              "size": 10,
              "solidity": 0.2
             }
            },
            "type": "bar"
           }
          ],
          "barpolar": [
           {
            "marker": {
             "line": {
              "color": "#E5ECF6",
              "width": 0.5
             },
             "pattern": {
              "fillmode": "overlay",
              "size": 10,
              "solidity": 0.2
             }
            },
            "type": "barpolar"
           }
          ],
          "carpet": [
           {
            "aaxis": {
             "endlinecolor": "#2a3f5f",
             "gridcolor": "white",
             "linecolor": "white",
             "minorgridcolor": "white",
             "startlinecolor": "#2a3f5f"
            },
            "baxis": {
             "endlinecolor": "#2a3f5f",
             "gridcolor": "white",
             "linecolor": "white",
             "minorgridcolor": "white",
             "startlinecolor": "#2a3f5f"
            },
            "type": "carpet"
           }
          ],
          "choropleth": [
           {
            "colorbar": {
             "outlinewidth": 0,
             "ticks": ""
            },
            "type": "choropleth"
           }
          ],
          "contour": [
           {
            "colorbar": {
             "outlinewidth": 0,
             "ticks": ""
            },
            "colorscale": [
             [
              0,
              "#0d0887"
             ],
             [
              0.1111111111111111,
              "#46039f"
             ],
             [
              0.2222222222222222,
              "#7201a8"
             ],
             [
              0.3333333333333333,
              "#9c179e"
             ],
             [
              0.4444444444444444,
              "#bd3786"
             ],
             [
              0.5555555555555556,
              "#d8576b"
             ],
             [
              0.6666666666666666,
              "#ed7953"
             ],
             [
              0.7777777777777778,
              "#fb9f3a"
             ],
             [
              0.8888888888888888,
              "#fdca26"
             ],
             [
              1,
              "#f0f921"
             ]
            ],
            "type": "contour"
           }
          ],
          "contourcarpet": [
           {
            "colorbar": {
             "outlinewidth": 0,
             "ticks": ""
            },
            "type": "contourcarpet"
           }
          ],
          "heatmap": [
           {
            "colorbar": {
             "outlinewidth": 0,
             "ticks": ""
            },
            "colorscale": [
             [
              0,
              "#0d0887"
             ],
             [
              0.1111111111111111,
              "#46039f"
             ],
             [
              0.2222222222222222,
              "#7201a8"
             ],
             [
              0.3333333333333333,
              "#9c179e"
             ],
             [
              0.4444444444444444,
              "#bd3786"
             ],
             [
              0.5555555555555556,
              "#d8576b"
             ],
             [
              0.6666666666666666,
              "#ed7953"
             ],
             [
              0.7777777777777778,
              "#fb9f3a"
             ],
             [
              0.8888888888888888,
              "#fdca26"
             ],
             [
              1,
              "#f0f921"
             ]
            ],
            "type": "heatmap"
           }
          ],
          "heatmapgl": [
           {
            "colorbar": {
             "outlinewidth": 0,
             "ticks": ""
            },
            "colorscale": [
             [
              0,
              "#0d0887"
             ],
             [
              0.1111111111111111,
              "#46039f"
             ],
             [
              0.2222222222222222,
              "#7201a8"
             ],
             [
              0.3333333333333333,
              "#9c179e"
             ],
             [
              0.4444444444444444,
              "#bd3786"
             ],
             [
              0.5555555555555556,
              "#d8576b"
             ],
             [
              0.6666666666666666,
              "#ed7953"
             ],
             [
              0.7777777777777778,
              "#fb9f3a"
             ],
             [
              0.8888888888888888,
              "#fdca26"
             ],
             [
              1,
              "#f0f921"
             ]
            ],
            "type": "heatmapgl"
           }
          ],
          "histogram": [
           {
            "marker": {
             "pattern": {
              "fillmode": "overlay",
              "size": 10,
              "solidity": 0.2
             }
            },
            "type": "histogram"
           }
          ],
          "histogram2d": [
           {
            "colorbar": {
             "outlinewidth": 0,
             "ticks": ""
            },
            "colorscale": [
             [
              0,
              "#0d0887"
             ],
             [
              0.1111111111111111,
              "#46039f"
             ],
             [
              0.2222222222222222,
              "#7201a8"
             ],
             [
              0.3333333333333333,
              "#9c179e"
             ],
             [
              0.4444444444444444,
              "#bd3786"
             ],
             [
              0.5555555555555556,
              "#d8576b"
             ],
             [
              0.6666666666666666,
              "#ed7953"
             ],
             [
              0.7777777777777778,
              "#fb9f3a"
             ],
             [
              0.8888888888888888,
              "#fdca26"
             ],
             [
              1,
              "#f0f921"
             ]
            ],
            "type": "histogram2d"
           }
          ],
          "histogram2dcontour": [
           {
            "colorbar": {
             "outlinewidth": 0,
             "ticks": ""
            },
            "colorscale": [
             [
              0,
              "#0d0887"
             ],
             [
              0.1111111111111111,
              "#46039f"
             ],
             [
              0.2222222222222222,
              "#7201a8"
             ],
             [
              0.3333333333333333,
              "#9c179e"
             ],
             [
              0.4444444444444444,
              "#bd3786"
             ],
             [
              0.5555555555555556,
              "#d8576b"
             ],
             [
              0.6666666666666666,
              "#ed7953"
             ],
             [
              0.7777777777777778,
              "#fb9f3a"
             ],
             [
              0.8888888888888888,
              "#fdca26"
             ],
             [
              1,
              "#f0f921"
             ]
            ],
            "type": "histogram2dcontour"
           }
          ],
          "mesh3d": [
           {
            "colorbar": {
             "outlinewidth": 0,
             "ticks": ""
            },
            "type": "mesh3d"
           }
          ],
          "parcoords": [
           {
            "line": {
             "colorbar": {
              "outlinewidth": 0,
              "ticks": ""
             }
            },
            "type": "parcoords"
           }
          ],
          "pie": [
           {
            "automargin": true,
            "type": "pie"
           }
          ],
          "scatter": [
           {
            "fillpattern": {
             "fillmode": "overlay",
             "size": 10,
             "solidity": 0.2
            },
            "type": "scatter"
           }
          ],
          "scatter3d": [
           {
            "line": {
             "colorbar": {
              "outlinewidth": 0,
              "ticks": ""
             }
            },
            "marker": {
             "colorbar": {
              "outlinewidth": 0,
              "ticks": ""
             }
            },
            "type": "scatter3d"
           }
          ],
          "scattercarpet": [
           {
            "marker": {
             "colorbar": {
              "outlinewidth": 0,
              "ticks": ""
             }
            },
            "type": "scattercarpet"
           }
          ],
          "scattergeo": [
           {
            "marker": {
             "colorbar": {
              "outlinewidth": 0,
              "ticks": ""
             }
            },
            "type": "scattergeo"
           }
          ],
          "scattergl": [
           {
            "marker": {
             "colorbar": {
              "outlinewidth": 0,
              "ticks": ""
             }
            },
            "type": "scattergl"
           }
          ],
          "scattermapbox": [
           {
            "marker": {
             "colorbar": {
              "outlinewidth": 0,
              "ticks": ""
             }
            },
            "type": "scattermapbox"
           }
          ],
          "scatterpolar": [
           {
            "marker": {
             "colorbar": {
              "outlinewidth": 0,
              "ticks": ""
             }
            },
            "type": "scatterpolar"
           }
          ],
          "scatterpolargl": [
           {
            "marker": {
             "colorbar": {
              "outlinewidth": 0,
              "ticks": ""
             }
            },
            "type": "scatterpolargl"
           }
          ],
          "scatterternary": [
           {
            "marker": {
             "colorbar": {
              "outlinewidth": 0,
              "ticks": ""
             }
            },
            "type": "scatterternary"
           }
          ],
          "surface": [
           {
            "colorbar": {
             "outlinewidth": 0,
             "ticks": ""
            },
            "colorscale": [
             [
              0,
              "#0d0887"
             ],
             [
              0.1111111111111111,
              "#46039f"
             ],
             [
              0.2222222222222222,
              "#7201a8"
             ],
             [
              0.3333333333333333,
              "#9c179e"
             ],
             [
              0.4444444444444444,
              "#bd3786"
             ],
             [
              0.5555555555555556,
              "#d8576b"
             ],
             [
              0.6666666666666666,
              "#ed7953"
             ],
             [
              0.7777777777777778,
              "#fb9f3a"
             ],
             [
              0.8888888888888888,
              "#fdca26"
             ],
             [
              1,
              "#f0f921"
             ]
            ],
            "type": "surface"
           }
          ],
          "table": [
           {
            "cells": {
             "fill": {
              "color": "#EBF0F8"
             },
             "line": {
              "color": "white"
             }
            },
            "header": {
             "fill": {
              "color": "#C8D4E3"
             },
             "line": {
              "color": "white"
             }
            },
            "type": "table"
           }
          ]
         },
         "layout": {
          "annotationdefaults": {
           "arrowcolor": "#2a3f5f",
           "arrowhead": 0,
           "arrowwidth": 1
          },
          "autotypenumbers": "strict",
          "coloraxis": {
           "colorbar": {
            "outlinewidth": 0,
            "ticks": ""
           }
          },
          "colorscale": {
           "diverging": [
            [
             0,
             "#8e0152"
            ],
            [
             0.1,
             "#c51b7d"
            ],
            [
             0.2,
             "#de77ae"
            ],
            [
             0.3,
             "#f1b6da"
            ],
            [
             0.4,
             "#fde0ef"
            ],
            [
             0.5,
             "#f7f7f7"
            ],
            [
             0.6,
             "#e6f5d0"
            ],
            [
             0.7,
             "#b8e186"
            ],
            [
             0.8,
             "#7fbc41"
            ],
            [
             0.9,
             "#4d9221"
            ],
            [
             1,
             "#276419"
            ]
           ],
           "sequential": [
            [
             0,
             "#0d0887"
            ],
            [
             0.1111111111111111,
             "#46039f"
            ],
            [
             0.2222222222222222,
             "#7201a8"
            ],
            [
             0.3333333333333333,
             "#9c179e"
            ],
            [
             0.4444444444444444,
             "#bd3786"
            ],
            [
             0.5555555555555556,
             "#d8576b"
            ],
            [
             0.6666666666666666,
             "#ed7953"
            ],
            [
             0.7777777777777778,
             "#fb9f3a"
            ],
            [
             0.8888888888888888,
             "#fdca26"
            ],
            [
             1,
             "#f0f921"
            ]
           ],
           "sequentialminus": [
            [
             0,
             "#0d0887"
            ],
            [
             0.1111111111111111,
             "#46039f"
            ],
            [
             0.2222222222222222,
             "#7201a8"
            ],
            [
             0.3333333333333333,
             "#9c179e"
            ],
            [
             0.4444444444444444,
             "#bd3786"
            ],
            [
             0.5555555555555556,
             "#d8576b"
            ],
            [
             0.6666666666666666,
             "#ed7953"
            ],
            [
             0.7777777777777778,
             "#fb9f3a"
            ],
            [
             0.8888888888888888,
             "#fdca26"
            ],
            [
             1,
             "#f0f921"
            ]
           ]
          },
          "colorway": [
           "#636efa",
           "#EF553B",
           "#00cc96",
           "#ab63fa",
           "#FFA15A",
           "#19d3f3",
           "#FF6692",
           "#B6E880",
           "#FF97FF",
           "#FECB52"
          ],
          "font": {
           "color": "#2a3f5f"
          },
          "geo": {
           "bgcolor": "white",
           "lakecolor": "white",
           "landcolor": "#E5ECF6",
           "showlakes": true,
           "showland": true,
           "subunitcolor": "white"
          },
          "hoverlabel": {
           "align": "left"
          },
          "hovermode": "closest",
          "mapbox": {
           "style": "light"
          },
          "paper_bgcolor": "white",
          "plot_bgcolor": "#E5ECF6",
          "polar": {
           "angularaxis": {
            "gridcolor": "white",
            "linecolor": "white",
            "ticks": ""
           },
           "bgcolor": "#E5ECF6",
           "radialaxis": {
            "gridcolor": "white",
            "linecolor": "white",
            "ticks": ""
           }
          },
          "scene": {
           "xaxis": {
            "backgroundcolor": "#E5ECF6",
            "gridcolor": "white",
            "gridwidth": 2,
            "linecolor": "white",
            "showbackground": true,
            "ticks": "",
            "zerolinecolor": "white"
           },
           "yaxis": {
            "backgroundcolor": "#E5ECF6",
            "gridcolor": "white",
            "gridwidth": 2,
            "linecolor": "white",
            "showbackground": true,
            "ticks": "",
            "zerolinecolor": "white"
           },
           "zaxis": {
            "backgroundcolor": "#E5ECF6",
            "gridcolor": "white",
            "gridwidth": 2,
            "linecolor": "white",
            "showbackground": true,
            "ticks": "",
            "zerolinecolor": "white"
           }
          },
          "shapedefaults": {
           "line": {
            "color": "#2a3f5f"
           }
          },
          "ternary": {
           "aaxis": {
            "gridcolor": "white",
            "linecolor": "white",
            "ticks": ""
           },
           "baxis": {
            "gridcolor": "white",
            "linecolor": "white",
            "ticks": ""
           },
           "bgcolor": "#E5ECF6",
           "caxis": {
            "gridcolor": "white",
            "linecolor": "white",
            "ticks": ""
           }
          },
          "title": {
           "x": 0.05
          },
          "xaxis": {
           "automargin": true,
           "gridcolor": "white",
           "linecolor": "white",
           "ticks": "",
           "title": {
            "standoff": 15
           },
           "zerolinecolor": "white",
           "zerolinewidth": 2
          },
          "yaxis": {
           "automargin": true,
           "gridcolor": "white",
           "linecolor": "white",
           "ticks": "",
           "title": {
            "standoff": 15
           },
           "zerolinecolor": "white",
           "zerolinewidth": 2
          }
         }
        },
        "title": {
         "text": "Top 10 Listing by Revenue (Under 30 Days)"
        },
        "xaxis": {
         "anchor": "y",
         "domain": [
          0,
          1
         ],
         "title": {
          "text": "x"
         }
        },
        "yaxis": {
         "anchor": "x",
         "domain": [
          0,
          1
         ],
         "title": {
          "text": "y"
         }
        }
       }
      }
     },
     "metadata": {},
     "output_type": "display_data"
    }
   ],
   "source": [
    "import plotly.express as px\n",
    "\n",
    "# Assuming you already have your 'result' Series\n",
    "fig = px.bar(result.head(10), x=result.head(10).index, y=result.head(10).values,\n",
    "            title='Top 10 Listing by Revenue (Under 30 Days)')\n",
    "\n",
    "fig.show()\n"
   ]
  },
  {
   "cell_type": "markdown",
   "metadata": {},
   "source": [
    "# Correlation Matrix"
   ]
  },
  {
   "cell_type": "code",
   "execution_count": 339,
   "metadata": {},
   "outputs": [
    {
     "name": "stdout",
     "output_type": "stream",
     "text": [
      "<class 'pandas.core.frame.DataFrame'>\n",
      "RangeIndex: 100 entries, 0 to 99\n",
      "Data columns (total 9 columns):\n",
      " #   Column              Non-Null Count  Dtype  \n",
      "---  ------              --------------  -----  \n",
      " 0   ShopName            100 non-null    object \n",
      " 1   Listing             100 non-null    object \n",
      " 2   Listing Age (Days)  100 non-null    int64  \n",
      " 3   Total Views         100 non-null    float64\n",
      " 4   Daily Views         100 non-null    float64\n",
      " 5   Est. Sales          100 non-null    int64  \n",
      " 6   Price               100 non-null    float64\n",
      " 7   Est. Revenue        100 non-null    float64\n",
      " 8   Hearts              100 non-null    float64\n",
      "dtypes: float64(5), int64(2), object(2)\n",
      "memory usage: 7.2+ KB\n"
     ]
    }
   ],
   "source": [
    "df.info()"
   ]
  },
  {
   "cell_type": "code",
   "execution_count": 345,
   "metadata": {},
   "outputs": [],
   "source": [
    "corr_col = [2,3,4,5,6,7,8]\n",
    "filtered_df = df[df.columns[corr_col]]\n",
    "correlation_matrix = filtered_df.corr()"
   ]
  },
  {
   "cell_type": "code",
   "execution_count": 348,
   "metadata": {},
   "outputs": [
    {
     "data": {
      "image/png": "[encoded data removed]",
      "text/plain": [
       "<Figure size 800x800 with 2 Axes>"
      ]
     },
     "metadata": {},
     "output_type": "display_data"
    }
   ],
   "source": [
    "sns.set(style='white')\n",
    "plt.figure(figsize=(8, 8))\n",
    "# Heatmap\n",
    "sns.heatmap(correlation_matrix, annot=True, cmap='coolwarm', fmt=\".2f\", linewidths=0.5)\n",
    "plt.title('Correlation Matrix Heatmap')\n",
    "plt.show()\n"
   ]
  },
  {
   "cell_type": "code",
   "execution_count": null,
   "metadata": {},
   "outputs": [],
   "source": []
  }
 ],
 "metadata": {
  "kernelspec": {
   "display_name": "Python 3",
   "language": "python",
   "name": "python3"
  },
  "language_info": {
   "codemirror_mode": {
    "name": "ipython",
    "version": 3
   },
   "file_extension": ".py",
   "mimetype": "text/x-python",
   "name": "python",
   "nbconvert_exporter": "python",
   "pygments_lexer": "ipython3",
   "version": "3.10.13"
  },
  "orig_nbformat": 4
 },
 "nbformat": 4,
 "nbformat_minor": 2
}
