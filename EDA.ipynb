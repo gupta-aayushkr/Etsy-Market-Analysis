{
 "cells": [
  {
   "cell_type": "code",
   "execution_count": 1,
   "metadata": {},
   "outputs": [],
   "source": [
    "import pandas as pd\n",
    "import matplotlib.pyplot as plt\n",
    "import plotly.express as px\n",
    "import seaborn as sns"
   ]
  },
  {
   "cell_type": "code",
   "execution_count": 2,
   "metadata": {},
   "outputs": [],
   "source": [
    "df = pd.read_csv('erank.csv')"
   ]
  },
  {
   "cell_type": "code",
   "execution_count": 3,
   "metadata": {},
   "outputs": [
    {
     "data": {
      "text/html": [
       "<div>\n",
       "<style scoped>\n",
       "    .dataframe tbody tr th:only-of-type {\n",
       "        vertical-align: middle;\n",
       "    }\n",
       "\n",
       "    .dataframe tbody tr th {\n",
       "        vertical-align: top;\n",
       "    }\n",
       "\n",
       "    .dataframe thead th {\n",
       "        text-align: right;\n",
       "    }\n",
       "</style>\n",
       "<table border=\"1\" class=\"dataframe\">\n",
       "  <thead>\n",
       "    <tr style=\"text-align: right;\">\n",
       "      <th></th>\n",
       "      <th>p-6</th>\n",
       "      <th>pull-left src</th>\n",
       "      <th>bold</th>\n",
       "      <th>bold href</th>\n",
       "      <th>bold 2</th>\n",
       "      <th>bold href 2</th>\n",
       "      <th>btn</th>\n",
       "      <th>btn href</th>\n",
       "      <th>btn 2</th>\n",
       "      <th>btn href 2</th>\n",
       "      <th>...</th>\n",
       "      <th>btn href 12</th>\n",
       "      <th>btn 13</th>\n",
       "      <th>btn href 13</th>\n",
       "      <th>p-6 3</th>\n",
       "      <th>p-6 4</th>\n",
       "      <th>p-6 5</th>\n",
       "      <th>p-6 6</th>\n",
       "      <th>p-6 7</th>\n",
       "      <th>p-6 8</th>\n",
       "      <th>p-6 9</th>\n",
       "    </tr>\n",
       "  </thead>\n",
       "  <tbody>\n",
       "    <tr>\n",
       "      <th>0</th>\n",
       "      <td>1</td>\n",
       "      <td>https://i.etsystatic.com/42729694/c/800/635/0/...</td>\n",
       "      <td>ChillByMarianne</td>\n",
       "      <td>https://erank.com/top-sellers/shop/ChillByMari...</td>\n",
       "      <td>Earth goddess, forest goddess, powerful, warri...</td>\n",
       "      <td>https://erank.com/listing-audit/1534733177</td>\n",
       "      <td>midjourney art</td>\n",
       "      <td>https://erank.com/keyword-tool?keywords=midjou...</td>\n",
       "      <td>midjourney</td>\n",
       "      <td>https://erank.com/keyword-tool?keywords=midjou...</td>\n",
       "      <td>...</td>\n",
       "      <td>https://erank.com/keyword-tool?keywords=ai+wal...</td>\n",
       "      <td>forest goddess art</td>\n",
       "      <td>https://erank.com/keyword-tool?keywords=forest...</td>\n",
       "      <td>58</td>\n",
       "      <td>22</td>\n",
       "      <td>0.4</td>\n",
       "      <td>0</td>\n",
       "      <td>$6.99</td>\n",
       "      <td>$0</td>\n",
       "      <td>1</td>\n",
       "    </tr>\n",
       "    <tr>\n",
       "      <th>1</th>\n",
       "      <td>2</td>\n",
       "      <td>https://i.etsystatic.com/45917428/r/il/bd59ba/...</td>\n",
       "      <td>PaintBoxAI</td>\n",
       "      <td>https://erank.com/top-sellers/shop/PaintBoxAI</td>\n",
       "      <td>Midjourney Logo Prompt, AI Customizable Prompt...</td>\n",
       "      <td>https://erank.com/listing-audit/1556522098</td>\n",
       "      <td>midjourney guide</td>\n",
       "      <td>https://erank.com/keyword-tool?keywords=midjou...</td>\n",
       "      <td>ai prompt</td>\n",
       "      <td>https://erank.com/keyword-tool?keywords=ai+pro...</td>\n",
       "      <td>...</td>\n",
       "      <td>https://erank.com/keyword-tool?keywords=Instan...</td>\n",
       "      <td>prompts midjourney</td>\n",
       "      <td>https://erank.com/keyword-tool?keywords=prompt...</td>\n",
       "      <td>7</td>\n",
       "      <td>9</td>\n",
       "      <td>1.3</td>\n",
       "      <td>0</td>\n",
       "      <td>$3.00</td>\n",
       "      <td>$0</td>\n",
       "      <td>0</td>\n",
       "    </tr>\n",
       "    <tr>\n",
       "      <th>2</th>\n",
       "      <td>3</td>\n",
       "      <td>https://i.etsystatic.com/35286530/r/il/27935b/...</td>\n",
       "      <td>Zodiachroma</td>\n",
       "      <td>https://erank.com/top-sellers/shop/Zodiachroma</td>\n",
       "      <td>130 Midjourney Prompts and Images Bundle, Midj...</td>\n",
       "      <td>https://erank.com/listing-audit/1512147990</td>\n",
       "      <td>ai art</td>\n",
       "      <td>https://erank.com/keyword-tool?keywords=ai+art...</td>\n",
       "      <td>ai art print</td>\n",
       "      <td>https://erank.com/keyword-tool?keywords=ai+art...</td>\n",
       "      <td>...</td>\n",
       "      <td>https://erank.com/keyword-tool?keywords=wall+a...</td>\n",
       "      <td>wall decor</td>\n",
       "      <td>https://erank.com/keyword-tool?keywords=wall+d...</td>\n",
       "      <td>70</td>\n",
       "      <td>2,126</td>\n",
       "      <td>30.4</td>\n",
       "      <td>70</td>\n",
       "      <td>$8.29</td>\n",
       "      <td>$580</td>\n",
       "      <td>1,232</td>\n",
       "    </tr>\n",
       "    <tr>\n",
       "      <th>3</th>\n",
       "      <td>4</td>\n",
       "      <td>https://i.etsystatic.com/44834326/r/il/de94e6/...</td>\n",
       "      <td>Xenaifuture</td>\n",
       "      <td>https://erank.com/top-sellers/shop/Xenaifuture</td>\n",
       "      <td>Prompt Guide Family Lifestyle Stock Photos, Mi...</td>\n",
       "      <td>https://erank.com/listing-audit/1571754609</td>\n",
       "      <td>Midjourney prompts</td>\n",
       "      <td>https://erank.com/keyword-tool?keywords=Midjou...</td>\n",
       "      <td>AI prompt ChatGPT</td>\n",
       "      <td>https://erank.com/keyword-tool?keywords=AI+pro...</td>\n",
       "      <td>...</td>\n",
       "      <td>https://erank.com/keyword-tool?keywords=stock+...</td>\n",
       "      <td>lifestyle fitness</td>\n",
       "      <td>https://erank.com/keyword-tool?keywords=lifest...</td>\n",
       "      <td>6</td>\n",
       "      <td>20</td>\n",
       "      <td>3.3</td>\n",
       "      <td>0</td>\n",
       "      <td>$5.24</td>\n",
       "      <td>$0</td>\n",
       "      <td>1</td>\n",
       "    </tr>\n",
       "    <tr>\n",
       "      <th>4</th>\n",
       "      <td>5</td>\n",
       "      <td>https://i.etsystatic.com/5802677/r/il/ec2eab/4...</td>\n",
       "      <td>geoffe</td>\n",
       "      <td>https://erank.com/top-sellers/shop/geoffe</td>\n",
       "      <td>Queen Nefertiti of Egypt, Set of 5 AI  - Midjo...</td>\n",
       "      <td>https://erank.com/listing-audit/1407497509</td>\n",
       "      <td>egypt</td>\n",
       "      <td>https://erank.com/keyword-tool?keywords=egypt&amp;...</td>\n",
       "      <td>nefertiti</td>\n",
       "      <td>https://erank.com/keyword-tool?keywords=nefert...</td>\n",
       "      <td>...</td>\n",
       "      <td>NaN</td>\n",
       "      <td>NaN</td>\n",
       "      <td>NaN</td>\n",
       "      <td>239</td>\n",
       "      <td>2,255</td>\n",
       "      <td>9.4</td>\n",
       "      <td>116</td>\n",
       "      <td>$3.00</td>\n",
       "      <td>$348</td>\n",
       "      <td>25</td>\n",
       "    </tr>\n",
       "  </tbody>\n",
       "</table>\n",
       "<p>5 rows × 39 columns</p>\n",
       "</div>"
      ],
      "text/plain": [
       "   p-6                                      pull-left src             bold  \\\n",
       "0    1  https://i.etsystatic.com/42729694/c/800/635/0/...  ChillByMarianne   \n",
       "1    2  https://i.etsystatic.com/45917428/r/il/bd59ba/...       PaintBoxAI   \n",
       "2    3  https://i.etsystatic.com/35286530/r/il/27935b/...      Zodiachroma   \n",
       "3    4  https://i.etsystatic.com/44834326/r/il/de94e6/...      Xenaifuture   \n",
       "4    5  https://i.etsystatic.com/5802677/r/il/ec2eab/4...           geoffe   \n",
       "\n",
       "                                           bold href  \\\n",
       "0  https://erank.com/top-sellers/shop/ChillByMari...   \n",
       "1      https://erank.com/top-sellers/shop/PaintBoxAI   \n",
       "2     https://erank.com/top-sellers/shop/Zodiachroma   \n",
       "3     https://erank.com/top-sellers/shop/Xenaifuture   \n",
       "4          https://erank.com/top-sellers/shop/geoffe   \n",
       "\n",
       "                                              bold 2  \\\n",
       "0  Earth goddess, forest goddess, powerful, warri...   \n",
       "1  Midjourney Logo Prompt, AI Customizable Prompt...   \n",
       "2  130 Midjourney Prompts and Images Bundle, Midj...   \n",
       "3  Prompt Guide Family Lifestyle Stock Photos, Mi...   \n",
       "4  Queen Nefertiti of Egypt, Set of 5 AI  - Midjo...   \n",
       "\n",
       "                                  bold href 2                 btn  \\\n",
       "0  https://erank.com/listing-audit/1534733177      midjourney art   \n",
       "1  https://erank.com/listing-audit/1556522098    midjourney guide   \n",
       "2  https://erank.com/listing-audit/1512147990              ai art   \n",
       "3  https://erank.com/listing-audit/1571754609  Midjourney prompts   \n",
       "4  https://erank.com/listing-audit/1407497509               egypt   \n",
       "\n",
       "                                            btn href              btn 2  \\\n",
       "0  https://erank.com/keyword-tool?keywords=midjou...         midjourney   \n",
       "1  https://erank.com/keyword-tool?keywords=midjou...          ai prompt   \n",
       "2  https://erank.com/keyword-tool?keywords=ai+art...       ai art print   \n",
       "3  https://erank.com/keyword-tool?keywords=Midjou...  AI prompt ChatGPT   \n",
       "4  https://erank.com/keyword-tool?keywords=egypt&...          nefertiti   \n",
       "\n",
       "                                          btn href 2  ...  \\\n",
       "0  https://erank.com/keyword-tool?keywords=midjou...  ...   \n",
       "1  https://erank.com/keyword-tool?keywords=ai+pro...  ...   \n",
       "2  https://erank.com/keyword-tool?keywords=ai+art...  ...   \n",
       "3  https://erank.com/keyword-tool?keywords=AI+pro...  ...   \n",
       "4  https://erank.com/keyword-tool?keywords=nefert...  ...   \n",
       "\n",
       "                                         btn href 12              btn 13  \\\n",
       "0  https://erank.com/keyword-tool?keywords=ai+wal...  forest goddess art   \n",
       "1  https://erank.com/keyword-tool?keywords=Instan...  prompts midjourney   \n",
       "2  https://erank.com/keyword-tool?keywords=wall+a...          wall decor   \n",
       "3  https://erank.com/keyword-tool?keywords=stock+...   lifestyle fitness   \n",
       "4                                                NaN                 NaN   \n",
       "\n",
       "                                         btn href 13 p-6 3  p-6 4 p-6 5 p-6 6  \\\n",
       "0  https://erank.com/keyword-tool?keywords=forest...    58     22   0.4     0   \n",
       "1  https://erank.com/keyword-tool?keywords=prompt...     7      9   1.3     0   \n",
       "2  https://erank.com/keyword-tool?keywords=wall+d...    70  2,126  30.4    70   \n",
       "3  https://erank.com/keyword-tool?keywords=lifest...     6     20   3.3     0   \n",
       "4                                                NaN   239  2,255   9.4   116   \n",
       "\n",
       "   p-6 7 p-6 8  p-6 9  \n",
       "0  $6.99    $0      1  \n",
       "1  $3.00    $0      0  \n",
       "2  $8.29  $580  1,232  \n",
       "3  $5.24    $0      1  \n",
       "4  $3.00  $348     25  \n",
       "\n",
       "[5 rows x 39 columns]"
      ]
     },
     "execution_count": 3,
     "metadata": {},
     "output_type": "execute_result"
    }
   ],
   "source": [
    "df.head()"
   ]
  },
  {
   "cell_type": "code",
   "execution_count": 4,
   "metadata": {},
   "outputs": [
    {
     "name": "stdout",
     "output_type": "stream",
     "text": [
      "<class 'pandas.core.frame.DataFrame'>\n",
      "RangeIndex: 100 entries, 0 to 99\n",
      "Data columns (total 39 columns):\n",
      " #   Column         Non-Null Count  Dtype  \n",
      "---  ------         --------------  -----  \n",
      " 0   p-6            100 non-null    int64  \n",
      " 1   pull-left src  100 non-null    object \n",
      " 2   bold           100 non-null    object \n",
      " 3   bold href      100 non-null    object \n",
      " 4   bold 2         100 non-null    object \n",
      " 5   bold href 2    100 non-null    object \n",
      " 6   btn            100 non-null    object \n",
      " 7   btn href       100 non-null    object \n",
      " 8   btn 2          100 non-null    object \n",
      " 9   btn href 2     100 non-null    object \n",
      " 10  btn 3          100 non-null    object \n",
      " 11  btn href 3     100 non-null    object \n",
      " 12  btn 4          100 non-null    object \n",
      " 13  btn href 4     100 non-null    object \n",
      " 14  btn 5          98 non-null     object \n",
      " 15  btn href 5     98 non-null     object \n",
      " 16  btn 6          98 non-null     object \n",
      " 17  btn href 6     98 non-null     object \n",
      " 18  btn 7          96 non-null     object \n",
      " 19  btn href 7     96 non-null     object \n",
      " 20  btn 8          96 non-null     object \n",
      " 21  btn href 8     96 non-null     object \n",
      " 22  btn 9          96 non-null     object \n",
      " 23  btn href 9     96 non-null     object \n",
      " 24  btn 10         94 non-null     object \n",
      " 25  btn href 10    94 non-null     object \n",
      " 26  btn 11         89 non-null     object \n",
      " 27  btn href 11    89 non-null     object \n",
      " 28  btn 12         85 non-null     object \n",
      " 29  btn href 12    85 non-null     object \n",
      " 30  btn 13         80 non-null     object \n",
      " 31  btn href 13    80 non-null     object \n",
      " 32  p-6 3          100 non-null    int64  \n",
      " 33  p-6 4          100 non-null    object \n",
      " 34  p-6 5          100 non-null    float64\n",
      " 35  p-6 6          100 non-null    int64  \n",
      " 36  p-6 7          100 non-null    object \n",
      " 37  p-6 8          100 non-null    object \n",
      " 38  p-6 9          100 non-null    object \n",
      "dtypes: float64(1), int64(3), object(35)\n",
      "memory usage: 30.6+ KB\n"
     ]
    }
   ],
   "source": [
    "df.info()"
   ]
  },
  {
   "cell_type": "code",
   "execution_count": 5,
   "metadata": {},
   "outputs": [
    {
     "data": {
      "text/plain": [
       "Index(['p-6', 'pull-left src', 'bold', 'bold href', 'bold 2', 'bold href 2',\n",
       "       'btn', 'btn href', 'btn 2', 'btn href 2', 'btn 3', 'btn href 3',\n",
       "       'btn 4', 'btn href 4', 'btn 5', 'btn href 5', 'btn 6', 'btn href 6',\n",
       "       'btn 7', 'btn href 7', 'btn 8', 'btn href 8', 'btn 9', 'btn href 9',\n",
       "       'btn 10', 'btn href 10', 'btn 11', 'btn href 11', 'btn 12',\n",
       "       'btn href 12', 'btn 13', 'btn href 13', 'p-6 3', 'p-6 4', 'p-6 5',\n",
       "       'p-6 6', 'p-6 7', 'p-6 8', 'p-6 9'],\n",
       "      dtype='object')"
      ]
     },
     "execution_count": 5,
     "metadata": {},
     "output_type": "execute_result"
    }
   ],
   "source": [
    "df.columns"
   ]
  },
  {
   "cell_type": "markdown",
   "metadata": {},
   "source": [
    "## Dropping & Renaming Columns"
   ]
  },
  {
   "cell_type": "code",
   "execution_count": 6,
   "metadata": {},
   "outputs": [],
   "source": [
    "columns_to_drop = [0, 1, 3, 5, 6, 7, 8, 9, 10, 11, 12, 13, 14, 15, 16, 17, 18, 19, 20, 21, 22, 23, 24, 25, 26, 27, 28, 29, 30, 31]\n",
    "\n",
    "df.drop(columns=df.columns[columns_to_drop], inplace=True)"
   ]
  },
  {
   "cell_type": "code",
   "execution_count": 7,
   "metadata": {},
   "outputs": [
    {
     "name": "stdout",
     "output_type": "stream",
     "text": [
      "<class 'pandas.core.frame.DataFrame'>\n",
      "RangeIndex: 100 entries, 0 to 99\n",
      "Data columns (total 9 columns):\n",
      " #   Column  Non-Null Count  Dtype  \n",
      "---  ------  --------------  -----  \n",
      " 0   bold    100 non-null    object \n",
      " 1   bold 2  100 non-null    object \n",
      " 2   p-6 3   100 non-null    int64  \n",
      " 3   p-6 4   100 non-null    object \n",
      " 4   p-6 5   100 non-null    float64\n",
      " 5   p-6 6   100 non-null    int64  \n",
      " 6   p-6 7   100 non-null    object \n",
      " 7   p-6 8   100 non-null    object \n",
      " 8   p-6 9   100 non-null    object \n",
      "dtypes: float64(1), int64(2), object(6)\n",
      "memory usage: 7.2+ KB\n"
     ]
    }
   ],
   "source": [
    "df.info()"
   ]
  },
  {
   "cell_type": "code",
   "execution_count": 8,
   "metadata": {},
   "outputs": [],
   "source": [
    "new_column_names = {\n",
    "    df.columns[0]: 'ShopName',\n",
    "    df.columns[1]: 'Listing',\n",
    "    df.columns[-7]: 'Listing Age (Days)',\n",
    "    df.columns[-6]: 'Total Views',\n",
    "    df.columns[-5]: 'Daily Views',\n",
    "    df.columns[-4]: 'Est. Sales',\n",
    "    df.columns[-3]: 'Price',\n",
    "    df.columns[-2]: 'Est. Revenue',\n",
    "    df.columns[-1]: 'Hearts'\n",
    "}\n",
    "\n",
    "df.rename(columns=new_column_names, inplace=True)"
   ]
  },
  {
   "cell_type": "code",
   "execution_count": 9,
   "metadata": {},
   "outputs": [
    {
     "data": {
      "text/html": [
       "<div>\n",
       "<style scoped>\n",
       "    .dataframe tbody tr th:only-of-type {\n",
       "        vertical-align: middle;\n",
       "    }\n",
       "\n",
       "    .dataframe tbody tr th {\n",
       "        vertical-align: top;\n",
       "    }\n",
       "\n",
       "    .dataframe thead th {\n",
       "        text-align: right;\n",
       "    }\n",
       "</style>\n",
       "<table border=\"1\" class=\"dataframe\">\n",
       "  <thead>\n",
       "    <tr style=\"text-align: right;\">\n",
       "      <th></th>\n",
       "      <th>ShopName</th>\n",
       "      <th>Listing</th>\n",
       "      <th>Listing Age (Days)</th>\n",
       "      <th>Total Views</th>\n",
       "      <th>Daily Views</th>\n",
       "      <th>Est. Sales</th>\n",
       "      <th>Price</th>\n",
       "      <th>Est. Revenue</th>\n",
       "      <th>Hearts</th>\n",
       "    </tr>\n",
       "  </thead>\n",
       "  <tbody>\n",
       "    <tr>\n",
       "      <th>0</th>\n",
       "      <td>ChillByMarianne</td>\n",
       "      <td>Earth goddess, forest goddess, powerful, warri...</td>\n",
       "      <td>58</td>\n",
       "      <td>22</td>\n",
       "      <td>0.4</td>\n",
       "      <td>0</td>\n",
       "      <td>$6.99</td>\n",
       "      <td>$0</td>\n",
       "      <td>1</td>\n",
       "    </tr>\n",
       "    <tr>\n",
       "      <th>1</th>\n",
       "      <td>PaintBoxAI</td>\n",
       "      <td>Midjourney Logo Prompt, AI Customizable Prompt...</td>\n",
       "      <td>7</td>\n",
       "      <td>9</td>\n",
       "      <td>1.3</td>\n",
       "      <td>0</td>\n",
       "      <td>$3.00</td>\n",
       "      <td>$0</td>\n",
       "      <td>0</td>\n",
       "    </tr>\n",
       "    <tr>\n",
       "      <th>2</th>\n",
       "      <td>Zodiachroma</td>\n",
       "      <td>130 Midjourney Prompts and Images Bundle, Midj...</td>\n",
       "      <td>70</td>\n",
       "      <td>2,126</td>\n",
       "      <td>30.4</td>\n",
       "      <td>70</td>\n",
       "      <td>$8.29</td>\n",
       "      <td>$580</td>\n",
       "      <td>1,232</td>\n",
       "    </tr>\n",
       "    <tr>\n",
       "      <th>3</th>\n",
       "      <td>Xenaifuture</td>\n",
       "      <td>Prompt Guide Family Lifestyle Stock Photos, Mi...</td>\n",
       "      <td>6</td>\n",
       "      <td>20</td>\n",
       "      <td>3.3</td>\n",
       "      <td>0</td>\n",
       "      <td>$5.24</td>\n",
       "      <td>$0</td>\n",
       "      <td>1</td>\n",
       "    </tr>\n",
       "    <tr>\n",
       "      <th>4</th>\n",
       "      <td>geoffe</td>\n",
       "      <td>Queen Nefertiti of Egypt, Set of 5 AI  - Midjo...</td>\n",
       "      <td>239</td>\n",
       "      <td>2,255</td>\n",
       "      <td>9.4</td>\n",
       "      <td>116</td>\n",
       "      <td>$3.00</td>\n",
       "      <td>$348</td>\n",
       "      <td>25</td>\n",
       "    </tr>\n",
       "    <tr>\n",
       "      <th>...</th>\n",
       "      <td>...</td>\n",
       "      <td>...</td>\n",
       "      <td>...</td>\n",
       "      <td>...</td>\n",
       "      <td>...</td>\n",
       "      <td>...</td>\n",
       "      <td>...</td>\n",
       "      <td>...</td>\n",
       "      <td>...</td>\n",
       "    </tr>\n",
       "    <tr>\n",
       "      <th>95</th>\n",
       "      <td>CocoaTwins</td>\n",
       "      <td>MidJourney Prompt Guide | 10 Base Prompts Plus...</td>\n",
       "      <td>17</td>\n",
       "      <td>273</td>\n",
       "      <td>16.1</td>\n",
       "      <td>9</td>\n",
       "      <td>$9.99</td>\n",
       "      <td>$90</td>\n",
       "      <td>7</td>\n",
       "    </tr>\n",
       "    <tr>\n",
       "      <th>96</th>\n",
       "      <td>MidjourneyPrompt</td>\n",
       "      <td>Midjourney Prompt for Watercolor Animals | Mid...</td>\n",
       "      <td>210</td>\n",
       "      <td>10,650</td>\n",
       "      <td>50.7</td>\n",
       "      <td>352</td>\n",
       "      <td>$5.69</td>\n",
       "      <td>$2,003</td>\n",
       "      <td>860</td>\n",
       "    </tr>\n",
       "    <tr>\n",
       "      <th>97</th>\n",
       "      <td>InfinteArtDesigns</td>\n",
       "      <td>2023 Professional Midjourney AI Prompt Templat...</td>\n",
       "      <td>200</td>\n",
       "      <td>2,772</td>\n",
       "      <td>13.9</td>\n",
       "      <td>143</td>\n",
       "      <td>$1.99</td>\n",
       "      <td>$285</td>\n",
       "      <td>124</td>\n",
       "    </tr>\n",
       "    <tr>\n",
       "      <th>98</th>\n",
       "      <td>HomeSixStudio</td>\n",
       "      <td>120+ Halloween and Horror Midjourney Design Pr...</td>\n",
       "      <td>16</td>\n",
       "      <td>54</td>\n",
       "      <td>3.4</td>\n",
       "      <td>2</td>\n",
       "      <td>$2.22</td>\n",
       "      <td>$4</td>\n",
       "      <td>5</td>\n",
       "    </tr>\n",
       "    <tr>\n",
       "      <th>99</th>\n",
       "      <td>RahasiaStudio</td>\n",
       "      <td>Midjourney Logo Design Prompt | Save Time and ...</td>\n",
       "      <td>132</td>\n",
       "      <td>142</td>\n",
       "      <td>1.1</td>\n",
       "      <td>7</td>\n",
       "      <td>$2.62</td>\n",
       "      <td>$18</td>\n",
       "      <td>3</td>\n",
       "    </tr>\n",
       "  </tbody>\n",
       "</table>\n",
       "<p>100 rows × 9 columns</p>\n",
       "</div>"
      ],
      "text/plain": [
       "             ShopName                                            Listing  \\\n",
       "0     ChillByMarianne  Earth goddess, forest goddess, powerful, warri...   \n",
       "1          PaintBoxAI  Midjourney Logo Prompt, AI Customizable Prompt...   \n",
       "2         Zodiachroma  130 Midjourney Prompts and Images Bundle, Midj...   \n",
       "3         Xenaifuture  Prompt Guide Family Lifestyle Stock Photos, Mi...   \n",
       "4              geoffe  Queen Nefertiti of Egypt, Set of 5 AI  - Midjo...   \n",
       "..                ...                                                ...   \n",
       "95         CocoaTwins  MidJourney Prompt Guide | 10 Base Prompts Plus...   \n",
       "96   MidjourneyPrompt  Midjourney Prompt for Watercolor Animals | Mid...   \n",
       "97  InfinteArtDesigns  2023 Professional Midjourney AI Prompt Templat...   \n",
       "98      HomeSixStudio  120+ Halloween and Horror Midjourney Design Pr...   \n",
       "99      RahasiaStudio  Midjourney Logo Design Prompt | Save Time and ...   \n",
       "\n",
       "    Listing Age (Days) Total Views  Daily Views  Est. Sales  Price  \\\n",
       "0                   58          22          0.4           0  $6.99   \n",
       "1                    7           9          1.3           0  $3.00   \n",
       "2                   70       2,126         30.4          70  $8.29   \n",
       "3                    6          20          3.3           0  $5.24   \n",
       "4                  239       2,255          9.4         116  $3.00   \n",
       "..                 ...         ...          ...         ...    ...   \n",
       "95                  17         273         16.1           9  $9.99   \n",
       "96                 210      10,650         50.7         352  $5.69   \n",
       "97                 200       2,772         13.9         143  $1.99   \n",
       "98                  16          54          3.4           2  $2.22   \n",
       "99                 132         142          1.1           7  $2.62   \n",
       "\n",
       "   Est. Revenue Hearts  \n",
       "0            $0      1  \n",
       "1            $0      0  \n",
       "2          $580  1,232  \n",
       "3            $0      1  \n",
       "4          $348     25  \n",
       "..          ...    ...  \n",
       "95          $90      7  \n",
       "96       $2,003    860  \n",
       "97         $285    124  \n",
       "98           $4      5  \n",
       "99          $18      3  \n",
       "\n",
       "[100 rows x 9 columns]"
      ]
     },
     "execution_count": 9,
     "metadata": {},
     "output_type": "execute_result"
    }
   ],
   "source": [
    "df"
   ]
  },
  {
   "cell_type": "code",
   "execution_count": 10,
   "metadata": {},
   "outputs": [
    {
     "name": "stdout",
     "output_type": "stream",
     "text": [
      "<class 'pandas.core.frame.DataFrame'>\n",
      "RangeIndex: 100 entries, 0 to 99\n",
      "Data columns (total 9 columns):\n",
      " #   Column              Non-Null Count  Dtype  \n",
      "---  ------              --------------  -----  \n",
      " 0   ShopName            100 non-null    object \n",
      " 1   Listing             100 non-null    object \n",
      " 2   Listing Age (Days)  100 non-null    int64  \n",
      " 3   Total Views         100 non-null    object \n",
      " 4   Daily Views         100 non-null    float64\n",
      " 5   Est. Sales          100 non-null    int64  \n",
      " 6   Price               100 non-null    object \n",
      " 7   Est. Revenue        100 non-null    object \n",
      " 8   Hearts              100 non-null    object \n",
      "dtypes: float64(1), int64(2), object(6)\n",
      "memory usage: 7.2+ KB\n"
     ]
    }
   ],
   "source": [
    "df.info()"
   ]
  },
  {
   "cell_type": "markdown",
   "metadata": {},
   "source": [
    "# Converting str object column to float"
   ]
  },
  {
   "cell_type": "code",
   "execution_count": 11,
   "metadata": {},
   "outputs": [],
   "source": [
    "for i in range(3,9):\n",
    "    if type(df[df.columns[i]][0]) == str:\n",
    "        df[df.columns[i]] = df[df.columns[i]].str.replace('[\\$,]', '', regex=True)\n",
    "        df[df.columns[i]] = df[df.columns[i]].astype(float)"
   ]
  },
  {
   "cell_type": "code",
   "execution_count": 12,
   "metadata": {},
   "outputs": [
    {
     "name": "stdout",
     "output_type": "stream",
     "text": [
      "<class 'pandas.core.frame.DataFrame'>\n",
      "RangeIndex: 100 entries, 0 to 99\n",
      "Data columns (total 9 columns):\n",
      " #   Column              Non-Null Count  Dtype  \n",
      "---  ------              --------------  -----  \n",
      " 0   ShopName            100 non-null    object \n",
      " 1   Listing             100 non-null    object \n",
      " 2   Listing Age (Days)  100 non-null    int64  \n",
      " 3   Total Views         100 non-null    float64\n",
      " 4   Daily Views         100 non-null    float64\n",
      " 5   Est. Sales          100 non-null    int64  \n",
      " 6   Price               100 non-null    float64\n",
      " 7   Est. Revenue        100 non-null    float64\n",
      " 8   Hearts              100 non-null    float64\n",
      "dtypes: float64(5), int64(2), object(2)\n",
      "memory usage: 7.2+ KB\n"
     ]
    }
   ],
   "source": [
    "df.info()"
   ]
  },
  {
   "cell_type": "code",
   "execution_count": 13,
   "metadata": {},
   "outputs": [
    {
     "data": {
      "text/html": [
       "<div>\n",
       "<style scoped>\n",
       "    .dataframe tbody tr th:only-of-type {\n",
       "        vertical-align: middle;\n",
       "    }\n",
       "\n",
       "    .dataframe tbody tr th {\n",
       "        vertical-align: top;\n",
       "    }\n",
       "\n",
       "    .dataframe thead th {\n",
       "        text-align: right;\n",
       "    }\n",
       "</style>\n",
       "<table border=\"1\" class=\"dataframe\">\n",
       "  <thead>\n",
       "    <tr style=\"text-align: right;\">\n",
       "      <th></th>\n",
       "      <th>ShopName</th>\n",
       "      <th>Listing</th>\n",
       "      <th>Listing Age (Days)</th>\n",
       "      <th>Total Views</th>\n",
       "      <th>Daily Views</th>\n",
       "      <th>Est. Sales</th>\n",
       "      <th>Price</th>\n",
       "      <th>Est. Revenue</th>\n",
       "      <th>Hearts</th>\n",
       "    </tr>\n",
       "  </thead>\n",
       "  <tbody>\n",
       "    <tr>\n",
       "      <th>0</th>\n",
       "      <td>ChillByMarianne</td>\n",
       "      <td>Earth goddess, forest goddess, powerful, warri...</td>\n",
       "      <td>58</td>\n",
       "      <td>22.0</td>\n",
       "      <td>0.4</td>\n",
       "      <td>0</td>\n",
       "      <td>6.99</td>\n",
       "      <td>0.0</td>\n",
       "      <td>1.0</td>\n",
       "    </tr>\n",
       "    <tr>\n",
       "      <th>1</th>\n",
       "      <td>PaintBoxAI</td>\n",
       "      <td>Midjourney Logo Prompt, AI Customizable Prompt...</td>\n",
       "      <td>7</td>\n",
       "      <td>9.0</td>\n",
       "      <td>1.3</td>\n",
       "      <td>0</td>\n",
       "      <td>3.00</td>\n",
       "      <td>0.0</td>\n",
       "      <td>0.0</td>\n",
       "    </tr>\n",
       "    <tr>\n",
       "      <th>2</th>\n",
       "      <td>Zodiachroma</td>\n",
       "      <td>130 Midjourney Prompts and Images Bundle, Midj...</td>\n",
       "      <td>70</td>\n",
       "      <td>2126.0</td>\n",
       "      <td>30.4</td>\n",
       "      <td>70</td>\n",
       "      <td>8.29</td>\n",
       "      <td>580.0</td>\n",
       "      <td>1232.0</td>\n",
       "    </tr>\n",
       "    <tr>\n",
       "      <th>3</th>\n",
       "      <td>Xenaifuture</td>\n",
       "      <td>Prompt Guide Family Lifestyle Stock Photos, Mi...</td>\n",
       "      <td>6</td>\n",
       "      <td>20.0</td>\n",
       "      <td>3.3</td>\n",
       "      <td>0</td>\n",
       "      <td>5.24</td>\n",
       "      <td>0.0</td>\n",
       "      <td>1.0</td>\n",
       "    </tr>\n",
       "    <tr>\n",
       "      <th>4</th>\n",
       "      <td>geoffe</td>\n",
       "      <td>Queen Nefertiti of Egypt, Set of 5 AI  - Midjo...</td>\n",
       "      <td>239</td>\n",
       "      <td>2255.0</td>\n",
       "      <td>9.4</td>\n",
       "      <td>116</td>\n",
       "      <td>3.00</td>\n",
       "      <td>348.0</td>\n",
       "      <td>25.0</td>\n",
       "    </tr>\n",
       "  </tbody>\n",
       "</table>\n",
       "</div>"
      ],
      "text/plain": [
       "          ShopName                                            Listing  \\\n",
       "0  ChillByMarianne  Earth goddess, forest goddess, powerful, warri...   \n",
       "1       PaintBoxAI  Midjourney Logo Prompt, AI Customizable Prompt...   \n",
       "2      Zodiachroma  130 Midjourney Prompts and Images Bundle, Midj...   \n",
       "3      Xenaifuture  Prompt Guide Family Lifestyle Stock Photos, Mi...   \n",
       "4           geoffe  Queen Nefertiti of Egypt, Set of 5 AI  - Midjo...   \n",
       "\n",
       "   Listing Age (Days)  Total Views  Daily Views  Est. Sales  Price  \\\n",
       "0                  58         22.0          0.4           0   6.99   \n",
       "1                   7          9.0          1.3           0   3.00   \n",
       "2                  70       2126.0         30.4          70   8.29   \n",
       "3                   6         20.0          3.3           0   5.24   \n",
       "4                 239       2255.0          9.4         116   3.00   \n",
       "\n",
       "   Est. Revenue  Hearts  \n",
       "0           0.0     1.0  \n",
       "1           0.0     0.0  \n",
       "2         580.0  1232.0  \n",
       "3           0.0     1.0  \n",
       "4         348.0    25.0  "
      ]
     },
     "execution_count": 13,
     "metadata": {},
     "output_type": "execute_result"
    }
   ],
   "source": [
    "df.head()"
   ]
  },
  {
   "cell_type": "markdown",
   "metadata": {},
   "source": [
    "## Top 5 Shops with most revenue (Overall)"
   ]
  },
  {
   "cell_type": "code",
   "execution_count": 14,
   "metadata": {},
   "outputs": [],
   "source": [
    "result = df.groupby('ShopName')['Est. Revenue'].sum().sort_values(ascending=False).head(10)\n",
    "# result.plot(kind='bar')\n",
    "# plt.xlabel('ShopName')\n",
    "# plt.ylabel('Total Revenue')\n",
    "# plt.title('Top 5 Shops by Total Revenue')"
   ]
  },
  {
   "cell_type": "code",
   "execution_count": 15,
   "metadata": {},
   "outputs": [
    {
     "data": {
      "application/vnd.plotly.v1+json": {
       "config": {
        "plotlyServerURL": "https://plot.ly"
       },
       "data": [
        {
         "alignmentgroup": "True",
         "hovertemplate": "ShopName=%{x}<br>Total Revenue=%{y}<extra></extra>",
         "legendgroup": "",
         "marker": {
          "color": "#636efa",
          "pattern": {
           "shape": ""
          }
         },
         "name": "",
         "offsetgroup": "",
         "orientation": "v",
         "showlegend": false,
         "textposition": "auto",
         "type": "bar",
         "x": [
          "MidjourneyPrompt",
          "Zodiachroma",
          "CocoaTwins",
          "geoffe",
          "InfinteArtDesigns",
          "IckynicksTreasures",
          "sofiamastery",
          "LeapfrogLabs",
          "Xenaifuture",
          "BitsAndBytesStudios"
         ],
         "xaxis": "x",
         "y": [
          2003,
          580,
          425,
          348,
          338,
          316,
          280,
          279,
          256,
          227
         ],
         "yaxis": "y"
        }
       ],
       "layout": {
        "barmode": "relative",
        "legend": {
         "tracegroupgap": 0
        },
        "template": {
         "data": {
          "bar": [
           {
            "error_x": {
             "color": "#2a3f5f"
            },
            "error_y": {
             "color": "#2a3f5f"
            },
            "marker": {
             "line": {
              "color": "#E5ECF6",
              "width": 0.5
             },
             "pattern": {
              "fillmode": "overlay",
              "size": 10,
              "solidity": 0.2
             }
            },
            "type": "bar"
           }
          ],
          "barpolar": [
           {
            "marker": {
             "line": {
              "color": "#E5ECF6",
              "width": 0.5
             },
             "pattern": {
              "fillmode": "overlay",
              "size": 10,
              "solidity": 0.2
             }
            },
            "type": "barpolar"
           }
          ],
          "carpet": [
           {
            "aaxis": {
             "endlinecolor": "#2a3f5f",
             "gridcolor": "white",
             "linecolor": "white",
             "minorgridcolor": "white",
             "startlinecolor": "#2a3f5f"
            },
            "baxis": {
             "endlinecolor": "#2a3f5f",
             "gridcolor": "white",
             "linecolor": "white",
             "minorgridcolor": "white",
             "startlinecolor": "#2a3f5f"
            },
            "type": "carpet"
           }
          ],
          "choropleth": [
           {
            "colorbar": {
             "outlinewidth": 0,
             "ticks": ""
            },
            "type": "choropleth"
           }
          ],
          "contour": [
           {
            "colorbar": {
             "outlinewidth": 0,
             "ticks": ""
            },
            "colorscale": [
             [
              0,
              "#0d0887"
             ],
             [
              0.1111111111111111,
              "#46039f"
             ],
             [
              0.2222222222222222,
              "#7201a8"
             ],
             [
              0.3333333333333333,
              "#9c179e"
             ],
             [
              0.4444444444444444,
              "#bd3786"
             ],
             [
              0.5555555555555556,
              "#d8576b"
             ],
             [
              0.6666666666666666,
              "#ed7953"
             ],
             [
              0.7777777777777778,
              "#fb9f3a"
             ],
             [
              0.8888888888888888,
              "#fdca26"
             ],
             [
              1,
              "#f0f921"
             ]
            ],
            "type": "contour"
           }
          ],
          "contourcarpet": [
           {
            "colorbar": {
             "outlinewidth": 0,
             "ticks": ""
            },
            "type": "contourcarpet"
           }
          ],
          "heatmap": [
           {
            "colorbar": {
             "outlinewidth": 0,
             "ticks": ""
            },
            "colorscale": [
             [
              0,
              "#0d0887"
             ],
             [
              0.1111111111111111,
              "#46039f"
             ],
             [
              0.2222222222222222,
              "#7201a8"
             ],
             [
              0.3333333333333333,
              "#9c179e"
             ],
             [
              0.4444444444444444,
              "#bd3786"
             ],
             [
              0.5555555555555556,
              "#d8576b"
             ],
             [
              0.6666666666666666,
              "#ed7953"
             ],
             [
              0.7777777777777778,
              "#fb9f3a"
             ],
             [
              0.8888888888888888,
              "#fdca26"
             ],
             [
              1,
              "#f0f921"
             ]
            ],
            "type": "heatmap"
           }
          ],
          "heatmapgl": [
           {
            "colorbar": {
             "outlinewidth": 0,
             "ticks": ""
            },
            "colorscale": [
             [
              0,
              "#0d0887"
             ],
             [
              0.1111111111111111,
              "#46039f"
             ],
             [
              0.2222222222222222,
              "#7201a8"
             ],
             [
              0.3333333333333333,
              "#9c179e"
             ],
             [
              0.4444444444444444,
              "#bd3786"
             ],
             [
              0.5555555555555556,
              "#d8576b"
             ],
             [
              0.6666666666666666,
              "#ed7953"
             ],
             [
              0.7777777777777778,
              "#fb9f3a"
             ],
             [
              0.8888888888888888,
              "#fdca26"
             ],
             [
              1,
              "#f0f921"
             ]
            ],
            "type": "heatmapgl"
           }
          ],
          "histogram": [
           {
            "marker": {
             "pattern": {
              "fillmode": "overlay",
              "size": 10,
              "solidity": 0.2
             }
            },
            "type": "histogram"
           }
          ],
          "histogram2d": [
           {
            "colorbar": {
             "outlinewidth": 0,
             "ticks": ""
            },
            "colorscale": [
             [
              0,
              "#0d0887"
             ],
             [
              0.1111111111111111,
              "#46039f"
             ],
             [
              0.2222222222222222,
              "#7201a8"
             ],
             [
              0.3333333333333333,
              "#9c179e"
             ],
             [
              0.4444444444444444,
              "#bd3786"
             ],
             [
              0.5555555555555556,
              "#d8576b"
             ],
             [
              0.6666666666666666,
              "#ed7953"
             ],
             [
              0.7777777777777778,
              "#fb9f3a"
             ],
             [
              0.8888888888888888,
              "#fdca26"
             ],
             [
              1,
              "#f0f921"
             ]
            ],
            "type": "histogram2d"
           }
          ],
          "histogram2dcontour": [
           {
            "colorbar": {
             "outlinewidth": 0,
             "ticks": ""
            },
            "colorscale": [
             [
              0,
              "#0d0887"
             ],
             [
              0.1111111111111111,
              "#46039f"
             ],
             [
              0.2222222222222222,
              "#7201a8"
             ],
             [
              0.3333333333333333,
              "#9c179e"
             ],
             [
              0.4444444444444444,
              "#bd3786"
             ],
             [
              0.5555555555555556,
              "#d8576b"
             ],
             [
              0.6666666666666666,
              "#ed7953"
             ],
             [
              0.7777777777777778,
              "#fb9f3a"
             ],
             [
              0.8888888888888888,
              "#fdca26"
             ],
             [
              1,
              "#f0f921"
             ]
            ],
            "type": "histogram2dcontour"
           }
          ],
          "mesh3d": [
           {
            "colorbar": {
             "outlinewidth": 0,
             "ticks": ""
            },
            "type": "mesh3d"
           }
          ],
          "parcoords": [
           {
            "line": {
             "colorbar": {
              "outlinewidth": 0,
              "ticks": ""
             }
            },
            "type": "parcoords"
           }
          ],
          "pie": [
           {
            "automargin": true,
            "type": "pie"
           }
          ],
          "scatter": [
           {
            "fillpattern": {
             "fillmode": "overlay",
             "size": 10,
             "solidity": 0.2
            },
            "type": "scatter"
           }
          ],
          "scatter3d": [
           {
            "line": {
             "colorbar": {
              "outlinewidth": 0,
              "ticks": ""
             }
            },
            "marker": {
             "colorbar": {
              "outlinewidth": 0,
              "ticks": ""
             }
            },
            "type": "scatter3d"
           }
          ],
          "scattercarpet": [
           {
            "marker": {
             "colorbar": {
              "outlinewidth": 0,
              "ticks": ""
             }
            },
            "type": "scattercarpet"
           }
          ],
          "scattergeo": [
           {
            "marker": {
             "colorbar": {
              "outlinewidth": 0,
              "ticks": ""
             }
            },
            "type": "scattergeo"
           }
          ],
          "scattergl": [
           {
            "marker": {
             "colorbar": {
              "outlinewidth": 0,
              "ticks": ""
             }
            },
            "type": "scattergl"
           }
          ],
          "scattermapbox": [
           {
            "marker": {
             "colorbar": {
              "outlinewidth": 0,
              "ticks": ""
             }
            },
            "type": "scattermapbox"
           }
          ],
          "scatterpolar": [
           {
            "marker": {
             "colorbar": {
              "outlinewidth": 0,
              "ticks": ""
             }
            },
            "type": "scatterpolar"
           }
          ],
          "scatterpolargl": [
           {
            "marker": {
             "colorbar": {
              "outlinewidth": 0,
              "ticks": ""
             }
            },
            "type": "scatterpolargl"
           }
          ],
          "scatterternary": [
           {
            "marker": {
             "colorbar": {
              "outlinewidth": 0,
              "ticks": ""
             }
            },
            "type": "scatterternary"
           }
          ],
          "surface": [
           {
            "colorbar": {
             "outlinewidth": 0,
             "ticks": ""
            },
            "colorscale": [
             [
              0,
              "#0d0887"
             ],
             [
              0.1111111111111111,
              "#46039f"
             ],
             [
              0.2222222222222222,
              "#7201a8"
             ],
             [
              0.3333333333333333,
              "#9c179e"
             ],
             [
              0.4444444444444444,
              "#bd3786"
             ],
             [
              0.5555555555555556,
              "#d8576b"
             ],
             [
              0.6666666666666666,
              "#ed7953"
             ],
             [
              0.7777777777777778,
              "#fb9f3a"
             ],
             [
              0.8888888888888888,
              "#fdca26"
             ],
             [
              1,
              "#f0f921"
             ]
            ],
            "type": "surface"
           }
          ],
          "table": [
           {
            "cells": {
             "fill": {
              "color": "#EBF0F8"
             },
             "line": {
              "color": "white"
             }
            },
            "header": {
             "fill": {
              "color": "#C8D4E3"
             },
             "line": {
              "color": "white"
             }
            },
            "type": "table"
           }
          ]
         },
         "layout": {
          "annotationdefaults": {
           "arrowcolor": "#2a3f5f",
           "arrowhead": 0,
           "arrowwidth": 1
          },
          "autotypenumbers": "strict",
          "coloraxis": {
           "colorbar": {
            "outlinewidth": 0,
            "ticks": ""
           }
          },
          "colorscale": {
           "diverging": [
            [
             0,
             "#8e0152"
            ],
            [
             0.1,
             "#c51b7d"
            ],
            [
             0.2,
             "#de77ae"
            ],
            [
             0.3,
             "#f1b6da"
            ],
            [
             0.4,
             "#fde0ef"
            ],
            [
             0.5,
             "#f7f7f7"
            ],
            [
             0.6,
             "#e6f5d0"
            ],
            [
             0.7,
             "#b8e186"
            ],
            [
             0.8,
             "#7fbc41"
            ],
            [
             0.9,
             "#4d9221"
            ],
            [
             1,
             "#276419"
            ]
           ],
           "sequential": [
            [
             0,
             "#0d0887"
            ],
            [
             0.1111111111111111,
             "#46039f"
            ],
            [
             0.2222222222222222,
             "#7201a8"
            ],
            [
             0.3333333333333333,
             "#9c179e"
            ],
            [
             0.4444444444444444,
             "#bd3786"
            ],
            [
             0.5555555555555556,
             "#d8576b"
            ],
            [
             0.6666666666666666,
             "#ed7953"
            ],
            [
             0.7777777777777778,
             "#fb9f3a"
            ],
            [
             0.8888888888888888,
             "#fdca26"
            ],
            [
             1,
             "#f0f921"
            ]
           ],
           "sequentialminus": [
            [
             0,
             "#0d0887"
            ],
            [
             0.1111111111111111,
             "#46039f"
            ],
            [
             0.2222222222222222,
             "#7201a8"
            ],
            [
             0.3333333333333333,
             "#9c179e"
            ],
            [
             0.4444444444444444,
             "#bd3786"
            ],
            [
             0.5555555555555556,
             "#d8576b"
            ],
            [
             0.6666666666666666,
             "#ed7953"
            ],
            [
             0.7777777777777778,
             "#fb9f3a"
            ],
            [
             0.8888888888888888,
             "#fdca26"
            ],
            [
             1,
             "#f0f921"
            ]
           ]
          },
          "colorway": [
           "#636efa",
           "#EF553B",
           "#00cc96",
           "#ab63fa",
           "#FFA15A",
           "#19d3f3",
           "#FF6692",
           "#B6E880",
           "#FF97FF",
           "#FECB52"
          ],
          "font": {
           "color": "#2a3f5f"
          },
          "geo": {
           "bgcolor": "white",
           "lakecolor": "white",
           "landcolor": "#E5ECF6",
           "showlakes": true,
           "showland": true,
           "subunitcolor": "white"
          },
          "hoverlabel": {
           "align": "left"
          },
          "hovermode": "closest",
          "mapbox": {
           "style": "light"
          },
          "paper_bgcolor": "white",
          "plot_bgcolor": "#E5ECF6",
          "polar": {
           "angularaxis": {
            "gridcolor": "white",
            "linecolor": "white",
            "ticks": ""
           },
           "bgcolor": "#E5ECF6",
           "radialaxis": {
            "gridcolor": "white",
            "linecolor": "white",
            "ticks": ""
           }
          },
          "scene": {
           "xaxis": {
            "backgroundcolor": "#E5ECF6",
            "gridcolor": "white",
            "gridwidth": 2,
            "linecolor": "white",
            "showbackground": true,
            "ticks": "",
            "zerolinecolor": "white"
           },
           "yaxis": {
            "backgroundcolor": "#E5ECF6",
            "gridcolor": "white",
            "gridwidth": 2,
            "linecolor": "white",
            "showbackground": true,
            "ticks": "",
            "zerolinecolor": "white"
           },
           "zaxis": {
            "backgroundcolor": "#E5ECF6",
            "gridcolor": "white",
            "gridwidth": 2,
            "linecolor": "white",
            "showbackground": true,
            "ticks": "",
            "zerolinecolor": "white"
           }
          },
          "shapedefaults": {
           "line": {
            "color": "#2a3f5f"
           }
          },
          "ternary": {
           "aaxis": {
            "gridcolor": "white",
            "linecolor": "white",
            "ticks": ""
           },
           "baxis": {
            "gridcolor": "white",
            "linecolor": "white",
            "ticks": ""
           },
           "bgcolor": "#E5ECF6",
           "caxis": {
            "gridcolor": "white",
            "linecolor": "white",
            "ticks": ""
           }
          },
          "title": {
           "x": 0.05
          },
          "xaxis": {
           "automargin": true,
           "gridcolor": "white",
           "linecolor": "white",
           "ticks": "",
           "title": {
            "standoff": 15
           },
           "zerolinecolor": "white",
           "zerolinewidth": 2
          },
          "yaxis": {
           "automargin": true,
           "gridcolor": "white",
           "linecolor": "white",
           "ticks": "",
           "title": {
            "standoff": 15
           },
           "zerolinecolor": "white",
           "zerolinewidth": 2
          }
         }
        },
        "title": {
         "text": "Top 10 Shops by Total Revenue"
        },
        "xaxis": {
         "anchor": "y",
         "domain": [
          0,
          1
         ],
         "title": {
          "text": "ShopName"
         }
        },
        "yaxis": {
         "anchor": "x",
         "domain": [
          0,
          1
         ],
         "title": {
          "text": "Total Revenue"
         }
        }
       }
      }
     },
     "metadata": {},
     "output_type": "display_data"
    }
   ],
   "source": [
    "plot_df = pd.DataFrame({'ShopName': result.index, 'Total Revenue': result.values})\n",
    "fig = px.bar(plot_df, x='ShopName', y='Total Revenue', title='Top 10 Shops by Total Revenue')\n",
    "fig.show()"
   ]
  },
  {
   "cell_type": "code",
   "execution_count": 16,
   "metadata": {},
   "outputs": [
    {
     "data": {
      "text/html": [
       "<div>\n",
       "<style scoped>\n",
       "    .dataframe tbody tr th:only-of-type {\n",
       "        vertical-align: middle;\n",
       "    }\n",
       "\n",
       "    .dataframe tbody tr th {\n",
       "        vertical-align: top;\n",
       "    }\n",
       "\n",
       "    .dataframe thead th {\n",
       "        text-align: right;\n",
       "    }\n",
       "</style>\n",
       "<table border=\"1\" class=\"dataframe\">\n",
       "  <thead>\n",
       "    <tr style=\"text-align: right;\">\n",
       "      <th></th>\n",
       "      <th>ShopName</th>\n",
       "      <th>Listing</th>\n",
       "      <th>Listing Age (Days)</th>\n",
       "      <th>Total Views</th>\n",
       "      <th>Daily Views</th>\n",
       "      <th>Est. Sales</th>\n",
       "      <th>Price</th>\n",
       "      <th>Est. Revenue</th>\n",
       "      <th>Hearts</th>\n",
       "    </tr>\n",
       "  </thead>\n",
       "  <tbody>\n",
       "    <tr>\n",
       "      <th>0</th>\n",
       "      <td>ChillByMarianne</td>\n",
       "      <td>Earth goddess, forest goddess, powerful, warri...</td>\n",
       "      <td>58</td>\n",
       "      <td>22.0</td>\n",
       "      <td>0.4</td>\n",
       "      <td>0</td>\n",
       "      <td>6.99</td>\n",
       "      <td>0.0</td>\n",
       "      <td>1.0</td>\n",
       "    </tr>\n",
       "    <tr>\n",
       "      <th>1</th>\n",
       "      <td>PaintBoxAI</td>\n",
       "      <td>Midjourney Logo Prompt, AI Customizable Prompt...</td>\n",
       "      <td>7</td>\n",
       "      <td>9.0</td>\n",
       "      <td>1.3</td>\n",
       "      <td>0</td>\n",
       "      <td>3.00</td>\n",
       "      <td>0.0</td>\n",
       "      <td>0.0</td>\n",
       "    </tr>\n",
       "    <tr>\n",
       "      <th>2</th>\n",
       "      <td>Zodiachroma</td>\n",
       "      <td>130 Midjourney Prompts and Images Bundle, Midj...</td>\n",
       "      <td>70</td>\n",
       "      <td>2126.0</td>\n",
       "      <td>30.4</td>\n",
       "      <td>70</td>\n",
       "      <td>8.29</td>\n",
       "      <td>580.0</td>\n",
       "      <td>1232.0</td>\n",
       "    </tr>\n",
       "    <tr>\n",
       "      <th>3</th>\n",
       "      <td>Xenaifuture</td>\n",
       "      <td>Prompt Guide Family Lifestyle Stock Photos, Mi...</td>\n",
       "      <td>6</td>\n",
       "      <td>20.0</td>\n",
       "      <td>3.3</td>\n",
       "      <td>0</td>\n",
       "      <td>5.24</td>\n",
       "      <td>0.0</td>\n",
       "      <td>1.0</td>\n",
       "    </tr>\n",
       "    <tr>\n",
       "      <th>4</th>\n",
       "      <td>geoffe</td>\n",
       "      <td>Queen Nefertiti of Egypt, Set of 5 AI  - Midjo...</td>\n",
       "      <td>239</td>\n",
       "      <td>2255.0</td>\n",
       "      <td>9.4</td>\n",
       "      <td>116</td>\n",
       "      <td>3.00</td>\n",
       "      <td>348.0</td>\n",
       "      <td>25.0</td>\n",
       "    </tr>\n",
       "  </tbody>\n",
       "</table>\n",
       "</div>"
      ],
      "text/plain": [
       "          ShopName                                            Listing  \\\n",
       "0  ChillByMarianne  Earth goddess, forest goddess, powerful, warri...   \n",
       "1       PaintBoxAI  Midjourney Logo Prompt, AI Customizable Prompt...   \n",
       "2      Zodiachroma  130 Midjourney Prompts and Images Bundle, Midj...   \n",
       "3      Xenaifuture  Prompt Guide Family Lifestyle Stock Photos, Mi...   \n",
       "4           geoffe  Queen Nefertiti of Egypt, Set of 5 AI  - Midjo...   \n",
       "\n",
       "   Listing Age (Days)  Total Views  Daily Views  Est. Sales  Price  \\\n",
       "0                  58         22.0          0.4           0   6.99   \n",
       "1                   7          9.0          1.3           0   3.00   \n",
       "2                  70       2126.0         30.4          70   8.29   \n",
       "3                   6         20.0          3.3           0   5.24   \n",
       "4                 239       2255.0          9.4         116   3.00   \n",
       "\n",
       "   Est. Revenue  Hearts  \n",
       "0           0.0     1.0  \n",
       "1           0.0     0.0  \n",
       "2         580.0  1232.0  \n",
       "3           0.0     1.0  \n",
       "4         348.0    25.0  "
      ]
     },
     "execution_count": 16,
     "metadata": {},
     "output_type": "execute_result"
    }
   ],
   "source": [
    "df.head()"
   ]
  },
  {
   "cell_type": "code",
   "execution_count": 17,
   "metadata": {},
   "outputs": [],
   "source": [
    "# result is a pandas series extracting all shopName\n",
    "Top5Shops = result.index.tolist()"
   ]
  },
  {
   "cell_type": "code",
   "execution_count": 18,
   "metadata": {},
   "outputs": [
    {
     "data": {
      "text/html": [
       "<div>\n",
       "<style scoped>\n",
       "    .dataframe tbody tr th:only-of-type {\n",
       "        vertical-align: middle;\n",
       "    }\n",
       "\n",
       "    .dataframe tbody tr th {\n",
       "        vertical-align: top;\n",
       "    }\n",
       "\n",
       "    .dataframe thead th {\n",
       "        text-align: right;\n",
       "    }\n",
       "</style>\n",
       "<table border=\"1\" class=\"dataframe\">\n",
       "  <thead>\n",
       "    <tr style=\"text-align: right;\">\n",
       "      <th></th>\n",
       "      <th>ShopName</th>\n",
       "      <th>Listing</th>\n",
       "      <th>Listing Age (Days)</th>\n",
       "      <th>Total Views</th>\n",
       "      <th>Daily Views</th>\n",
       "      <th>Est. Sales</th>\n",
       "      <th>Price</th>\n",
       "      <th>Est. Revenue</th>\n",
       "      <th>Hearts</th>\n",
       "    </tr>\n",
       "  </thead>\n",
       "  <tbody>\n",
       "    <tr>\n",
       "      <th>30</th>\n",
       "      <td>CocoaTwins</td>\n",
       "      <td>MidJourney Prompt Guide - Includes a Universal...</td>\n",
       "      <td>33</td>\n",
       "      <td>960.0</td>\n",
       "      <td>29.1</td>\n",
       "      <td>31</td>\n",
       "      <td>9.99</td>\n",
       "      <td>310.0</td>\n",
       "      <td>30.0</td>\n",
       "    </tr>\n",
       "    <tr>\n",
       "      <th>92</th>\n",
       "      <td>LeapfrogLabs</td>\n",
       "      <td>Seamless Pattern Midjourney Prompts Generator ...</td>\n",
       "      <td>49</td>\n",
       "      <td>695.0</td>\n",
       "      <td>14.2</td>\n",
       "      <td>35</td>\n",
       "      <td>4.86</td>\n",
       "      <td>170.0</td>\n",
       "      <td>36.0</td>\n",
       "    </tr>\n",
       "    <tr>\n",
       "      <th>95</th>\n",
       "      <td>CocoaTwins</td>\n",
       "      <td>MidJourney Prompt Guide | 10 Base Prompts Plus...</td>\n",
       "      <td>17</td>\n",
       "      <td>273.0</td>\n",
       "      <td>16.1</td>\n",
       "      <td>9</td>\n",
       "      <td>9.99</td>\n",
       "      <td>90.0</td>\n",
       "      <td>7.0</td>\n",
       "    </tr>\n",
       "    <tr>\n",
       "      <th>31</th>\n",
       "      <td>LeapfrogLabs</td>\n",
       "      <td>3D Inflated Tumbler Wraps Pattern PNG, Midjour...</td>\n",
       "      <td>28</td>\n",
       "      <td>271.0</td>\n",
       "      <td>9.7</td>\n",
       "      <td>13</td>\n",
       "      <td>4.48</td>\n",
       "      <td>58.0</td>\n",
       "      <td>18.0</td>\n",
       "    </tr>\n",
       "    <tr>\n",
       "      <th>53</th>\n",
       "      <td>LeapfrogLabs</td>\n",
       "      <td>Faux Embroidery Seamless Patterns Midjourney A...</td>\n",
       "      <td>47</td>\n",
       "      <td>332.0</td>\n",
       "      <td>7.1</td>\n",
       "      <td>10</td>\n",
       "      <td>5.11</td>\n",
       "      <td>51.0</td>\n",
       "      <td>21.0</td>\n",
       "    </tr>\n",
       "    <tr>\n",
       "      <th>3</th>\n",
       "      <td>Xenaifuture</td>\n",
       "      <td>Prompt Guide Family Lifestyle Stock Photos, Mi...</td>\n",
       "      <td>6</td>\n",
       "      <td>20.0</td>\n",
       "      <td>3.3</td>\n",
       "      <td>0</td>\n",
       "      <td>5.24</td>\n",
       "      <td>0.0</td>\n",
       "      <td>1.0</td>\n",
       "    </tr>\n",
       "  </tbody>\n",
       "</table>\n",
       "</div>"
      ],
      "text/plain": [
       "        ShopName                                            Listing  \\\n",
       "30    CocoaTwins  MidJourney Prompt Guide - Includes a Universal...   \n",
       "92  LeapfrogLabs  Seamless Pattern Midjourney Prompts Generator ...   \n",
       "95    CocoaTwins  MidJourney Prompt Guide | 10 Base Prompts Plus...   \n",
       "31  LeapfrogLabs  3D Inflated Tumbler Wraps Pattern PNG, Midjour...   \n",
       "53  LeapfrogLabs  Faux Embroidery Seamless Patterns Midjourney A...   \n",
       "3    Xenaifuture  Prompt Guide Family Lifestyle Stock Photos, Mi...   \n",
       "\n",
       "    Listing Age (Days)  Total Views  Daily Views  Est. Sales  Price  \\\n",
       "30                  33        960.0         29.1          31   9.99   \n",
       "92                  49        695.0         14.2          35   4.86   \n",
       "95                  17        273.0         16.1           9   9.99   \n",
       "31                  28        271.0          9.7          13   4.48   \n",
       "53                  47        332.0          7.1          10   5.11   \n",
       "3                    6         20.0          3.3           0   5.24   \n",
       "\n",
       "    Est. Revenue  Hearts  \n",
       "30         310.0    30.0  \n",
       "92         170.0    36.0  \n",
       "95          90.0     7.0  \n",
       "31          58.0    18.0  \n",
       "53          51.0    21.0  \n",
       "3            0.0     1.0  "
      ]
     },
     "execution_count": 18,
     "metadata": {},
     "output_type": "execute_result"
    }
   ],
   "source": [
    "df[(df[\"ShopName\"].isin(Top5Shops)) & (df[\"Listing Age (Days)\"] < 50)].sort_values(by='Est. Revenue', ascending=False)"
   ]
  },
  {
   "cell_type": "markdown",
   "metadata": {},
   "source": [
    "# Trending Listings (Days)"
   ]
  },
  {
   "cell_type": "code",
   "execution_count": 19,
   "metadata": {},
   "outputs": [
    {
     "data": {
      "text/plain": [
       "Listing\n",
       "MidJourney Prompt Guide | 10 Base Prompts Plus a Prompt Generator to Create Your Own Unique Prompts | Highland Cow | Christmas | Tumblers       90.0\n",
       "3D Inflated Tumbler Wraps Pattern PNG, Midjourney Prompt Guide, AI Art to Sell on Etsy, Sublimation Designs, Tumbler Bundle w/ Resell Rights    58.0\n",
       "Professional Halloween Midjourney Prompts Ideal for Junk Journals & Scrapbooking | Customisable Clipart Prompt | Best Digital AI Art Prompts    18.0\n",
       "MIDJOURNEY AI PROMPTS, e-book of 100 ai prompts, midjourney ai art, art prompts to create digital prints, digital download, ai ghosts            8.0\n",
       "120+ Halloween and Horror Midjourney Design Prompts | T-shirt Designs | Poster Designs                                                           4.0\n",
       "Black Women Midjourney Prompts for Black Women, Afro American Women, African American, Black Women Prompts, Ebony Women Stock Photography        4.0\n",
       "360 Midjourney Prompts for Landscape Photography | Ai Art, Prompts, Best Midjourney Prompts, Customizable, Guide, Photorealism, Realism          3.0\n",
       "Name: Est. Revenue, dtype: float64"
      ]
     },
     "execution_count": 19,
     "metadata": {},
     "output_type": "execute_result"
    }
   ],
   "source": [
    "days = 30\n",
    "filtered_df = df[(df[\"Listing Age (Days)\"] < days) & (df[\"Est. Revenue\"] > 0)]\n",
    "result = filtered_df.groupby('Listing')['Est. Revenue'].sum().sort_values(ascending=False).head(10)\n",
    "result"
   ]
  },
  {
   "cell_type": "code",
   "execution_count": 20,
   "metadata": {},
   "outputs": [
    {
     "data": {
      "text/html": [
       "<div>\n",
       "<style scoped>\n",
       "    .dataframe tbody tr th:only-of-type {\n",
       "        vertical-align: middle;\n",
       "    }\n",
       "\n",
       "    .dataframe tbody tr th {\n",
       "        vertical-align: top;\n",
       "    }\n",
       "\n",
       "    .dataframe thead th {\n",
       "        text-align: right;\n",
       "    }\n",
       "</style>\n",
       "<table border=\"1\" class=\"dataframe\">\n",
       "  <thead>\n",
       "    <tr style=\"text-align: right;\">\n",
       "      <th></th>\n",
       "      <th>ShopName</th>\n",
       "      <th>Listing</th>\n",
       "      <th>Listing Age (Days)</th>\n",
       "      <th>Total Views</th>\n",
       "      <th>Daily Views</th>\n",
       "      <th>Est. Sales</th>\n",
       "      <th>Price</th>\n",
       "      <th>Est. Revenue</th>\n",
       "      <th>Hearts</th>\n",
       "    </tr>\n",
       "  </thead>\n",
       "  <tbody>\n",
       "    <tr>\n",
       "      <th>95</th>\n",
       "      <td>CocoaTwins</td>\n",
       "      <td>MidJourney Prompt Guide | 10 Base Prompts Plus...</td>\n",
       "      <td>17</td>\n",
       "      <td>273.0</td>\n",
       "      <td>16.1</td>\n",
       "      <td>9</td>\n",
       "      <td>9.99</td>\n",
       "      <td>90.0</td>\n",
       "      <td>7.0</td>\n",
       "    </tr>\n",
       "    <tr>\n",
       "      <th>31</th>\n",
       "      <td>LeapfrogLabs</td>\n",
       "      <td>3D Inflated Tumbler Wraps Pattern PNG, Midjour...</td>\n",
       "      <td>28</td>\n",
       "      <td>271.0</td>\n",
       "      <td>9.7</td>\n",
       "      <td>13</td>\n",
       "      <td>4.48</td>\n",
       "      <td>58.0</td>\n",
       "      <td>18.0</td>\n",
       "    </tr>\n",
       "    <tr>\n",
       "      <th>46</th>\n",
       "      <td>DigitalBuddyShop</td>\n",
       "      <td>Professional Halloween Midjourney Prompts Idea...</td>\n",
       "      <td>21</td>\n",
       "      <td>77.0</td>\n",
       "      <td>3.7</td>\n",
       "      <td>2</td>\n",
       "      <td>8.93</td>\n",
       "      <td>18.0</td>\n",
       "      <td>7.0</td>\n",
       "    </tr>\n",
       "    <tr>\n",
       "      <th>24</th>\n",
       "      <td>DownloadsDirectGB</td>\n",
       "      <td>MIDJOURNEY AI PROMPTS, e-book of 100 ai prompt...</td>\n",
       "      <td>18</td>\n",
       "      <td>45.0</td>\n",
       "      <td>2.5</td>\n",
       "      <td>2</td>\n",
       "      <td>4.25</td>\n",
       "      <td>8.0</td>\n",
       "      <td>6.0</td>\n",
       "    </tr>\n",
       "    <tr>\n",
       "      <th>59</th>\n",
       "      <td>GOTJEY</td>\n",
       "      <td>Black Women Midjourney Prompts for Black Women...</td>\n",
       "      <td>6</td>\n",
       "      <td>32.0</td>\n",
       "      <td>5.3</td>\n",
       "      <td>1</td>\n",
       "      <td>3.99</td>\n",
       "      <td>4.0</td>\n",
       "      <td>0.0</td>\n",
       "    </tr>\n",
       "    <tr>\n",
       "      <th>98</th>\n",
       "      <td>HomeSixStudio</td>\n",
       "      <td>120+ Halloween and Horror Midjourney Design Pr...</td>\n",
       "      <td>16</td>\n",
       "      <td>54.0</td>\n",
       "      <td>3.4</td>\n",
       "      <td>2</td>\n",
       "      <td>2.22</td>\n",
       "      <td>4.0</td>\n",
       "      <td>5.0</td>\n",
       "    </tr>\n",
       "    <tr>\n",
       "      <th>51</th>\n",
       "      <td>SevenstylesDesign</td>\n",
       "      <td>360 Midjourney Prompts for Landscape Photograp...</td>\n",
       "      <td>26</td>\n",
       "      <td>35.0</td>\n",
       "      <td>1.3</td>\n",
       "      <td>1</td>\n",
       "      <td>3.18</td>\n",
       "      <td>3.0</td>\n",
       "      <td>3.0</td>\n",
       "    </tr>\n",
       "  </tbody>\n",
       "</table>\n",
       "</div>"
      ],
      "text/plain": [
       "             ShopName                                            Listing  \\\n",
       "95         CocoaTwins  MidJourney Prompt Guide | 10 Base Prompts Plus...   \n",
       "31       LeapfrogLabs  3D Inflated Tumbler Wraps Pattern PNG, Midjour...   \n",
       "46   DigitalBuddyShop  Professional Halloween Midjourney Prompts Idea...   \n",
       "24  DownloadsDirectGB  MIDJOURNEY AI PROMPTS, e-book of 100 ai prompt...   \n",
       "59             GOTJEY  Black Women Midjourney Prompts for Black Women...   \n",
       "98      HomeSixStudio  120+ Halloween and Horror Midjourney Design Pr...   \n",
       "51  SevenstylesDesign  360 Midjourney Prompts for Landscape Photograp...   \n",
       "\n",
       "    Listing Age (Days)  Total Views  Daily Views  Est. Sales  Price  \\\n",
       "95                  17        273.0         16.1           9   9.99   \n",
       "31                  28        271.0          9.7          13   4.48   \n",
       "46                  21         77.0          3.7           2   8.93   \n",
       "24                  18         45.0          2.5           2   4.25   \n",
       "59                   6         32.0          5.3           1   3.99   \n",
       "98                  16         54.0          3.4           2   2.22   \n",
       "51                  26         35.0          1.3           1   3.18   \n",
       "\n",
       "    Est. Revenue  Hearts  \n",
       "95          90.0     7.0  \n",
       "31          58.0    18.0  \n",
       "46          18.0     7.0  \n",
       "24           8.0     6.0  \n",
       "59           4.0     0.0  \n",
       "98           4.0     5.0  \n",
       "51           3.0     3.0  "
      ]
     },
     "execution_count": 20,
     "metadata": {},
     "output_type": "execute_result"
    }
   ],
   "source": [
    "df[df['Listing'].isin(result.index.to_list())].sort_values(by='Est. Revenue', ascending=False)"
   ]
  },
  {
   "cell_type": "code",
   "execution_count": 21,
   "metadata": {},
   "outputs": [
    {
     "data": {
      "application/vnd.plotly.v1+json": {
       "config": {
        "plotlyServerURL": "https://plot.ly"
       },
       "data": [
        {
         "alignmentgroup": "True",
         "hovertemplate": "x=%{x}<br>y=%{y}<extra></extra>",
         "legendgroup": "",
         "marker": {
          "color": "#636efa",
          "pattern": {
           "shape": ""
          }
         },
         "name": "",
         "offsetgroup": "",
         "orientation": "v",
         "showlegend": false,
         "textposition": "auto",
         "type": "bar",
         "x": [
          "MidJourney Prompt Guide | 10 Base Prompts Plus a Prompt Generator to Create Your Own Unique Prompts | Highland Cow | Christmas | Tumblers",
          "3D Inflated Tumbler Wraps Pattern PNG, Midjourney Prompt Guide, AI Art to Sell on Etsy, Sublimation Designs, Tumbler Bundle w/ Resell Rights",
          "Professional Halloween Midjourney Prompts Ideal for Junk Journals & Scrapbooking | Customisable Clipart Prompt | Best Digital AI Art Prompts",
          "MIDJOURNEY AI PROMPTS, e-book of 100 ai prompts, midjourney ai art, art prompts to create digital prints, digital download, ai ghosts",
          "120+ Halloween and Horror Midjourney Design Prompts | T-shirt Designs | Poster Designs",
          "Black Women Midjourney Prompts for Black Women, Afro American Women, African American, Black Women Prompts, Ebony Women Stock Photography",
          "360 Midjourney Prompts for Landscape Photography | Ai Art, Prompts, Best Midjourney Prompts, Customizable, Guide, Photorealism, Realism"
         ],
         "xaxis": "x",
         "y": [
          90,
          58,
          18,
          8,
          4,
          4,
          3
         ],
         "yaxis": "y"
        }
       ],
       "layout": {
        "barmode": "relative",
        "legend": {
         "tracegroupgap": 0
        },
        "template": {
         "data": {
          "bar": [
           {
            "error_x": {
             "color": "#2a3f5f"
            },
            "error_y": {
             "color": "#2a3f5f"
            },
            "marker": {
             "line": {
              "color": "#E5ECF6",
              "width": 0.5
             },
             "pattern": {
              "fillmode": "overlay",
              "size": 10,
              "solidity": 0.2
             }
            },
            "type": "bar"
           }
          ],
          "barpolar": [
           {
            "marker": {
             "line": {
              "color": "#E5ECF6",
              "width": 0.5
             },
             "pattern": {
              "fillmode": "overlay",
              "size": 10,
              "solidity": 0.2
             }
            },
            "type": "barpolar"
           }
          ],
          "carpet": [
           {
            "aaxis": {
             "endlinecolor": "#2a3f5f",
             "gridcolor": "white",
             "linecolor": "white",
             "minorgridcolor": "white",
             "startlinecolor": "#2a3f5f"
            },
            "baxis": {
             "endlinecolor": "#2a3f5f",
             "gridcolor": "white",
             "linecolor": "white",
             "minorgridcolor": "white",
             "startlinecolor": "#2a3f5f"
            },
            "type": "carpet"
           }
          ],
          "choropleth": [
           {
            "colorbar": {
             "outlinewidth": 0,
             "ticks": ""
            },
            "type": "choropleth"
           }
          ],
          "contour": [
           {
            "colorbar": {
             "outlinewidth": 0,
             "ticks": ""
            },
            "colorscale": [
             [
              0,
              "#0d0887"
             ],
             [
              0.1111111111111111,
              "#46039f"
             ],
             [
              0.2222222222222222,
              "#7201a8"
             ],
             [
              0.3333333333333333,
              "#9c179e"
             ],
             [
              0.4444444444444444,
              "#bd3786"
             ],
             [
              0.5555555555555556,
              "#d8576b"
             ],
             [
              0.6666666666666666,
              "#ed7953"
             ],
             [
              0.7777777777777778,
              "#fb9f3a"
             ],
             [
              0.8888888888888888,
              "#fdca26"
             ],
             [
              1,
              "#f0f921"
             ]
            ],
            "type": "contour"
           }
          ],
          "contourcarpet": [
           {
            "colorbar": {
             "outlinewidth": 0,
             "ticks": ""
            },
            "type": "contourcarpet"
           }
          ],
          "heatmap": [
           {
            "colorbar": {
             "outlinewidth": 0,
             "ticks": ""
            },
            "colorscale": [
             [
              0,
              "#0d0887"
             ],
             [
              0.1111111111111111,
              "#46039f"
             ],
             [
              0.2222222222222222,
              "#7201a8"
             ],
             [
              0.3333333333333333,
              "#9c179e"
             ],
             [
              0.4444444444444444,
              "#bd3786"
             ],
             [
              0.5555555555555556,
              "#d8576b"
             ],
             [
              0.6666666666666666,
              "#ed7953"
             ],
             [
              0.7777777777777778,
              "#fb9f3a"
             ],
             [
              0.8888888888888888,
              "#fdca26"
             ],
             [
              1,
              "#f0f921"
             ]
            ],
            "type": "heatmap"
           }
          ],
          "heatmapgl": [
           {
            "colorbar": {
             "outlinewidth": 0,
             "ticks": ""
            },
            "colorscale": [
             [
              0,
              "#0d0887"
             ],
             [
              0.1111111111111111,
              "#46039f"
             ],
             [
              0.2222222222222222,
              "#7201a8"
             ],
             [
              0.3333333333333333,
              "#9c179e"
             ],
             [
              0.4444444444444444,
              "#bd3786"
             ],
             [
              0.5555555555555556,
              "#d8576b"
             ],
             [
              0.6666666666666666,
              "#ed7953"
             ],
             [
              0.7777777777777778,
              "#fb9f3a"
             ],
             [
              0.8888888888888888,
              "#fdca26"
             ],
             [
              1,
              "#f0f921"
             ]
            ],
            "type": "heatmapgl"
           }
          ],
          "histogram": [
           {
            "marker": {
             "pattern": {
              "fillmode": "overlay",
              "size": 10,
              "solidity": 0.2
             }
            },
            "type": "histogram"
           }
          ],
          "histogram2d": [
           {
            "colorbar": {
             "outlinewidth": 0,
             "ticks": ""
            },
            "colorscale": [
             [
              0,
              "#0d0887"
             ],
             [
              0.1111111111111111,
              "#46039f"
             ],
             [
              0.2222222222222222,
              "#7201a8"
             ],
             [
              0.3333333333333333,
              "#9c179e"
             ],
             [
              0.4444444444444444,
              "#bd3786"
             ],
             [
              0.5555555555555556,
              "#d8576b"
             ],
             [
              0.6666666666666666,
              "#ed7953"
             ],
             [
              0.7777777777777778,
              "#fb9f3a"
             ],
             [
              0.8888888888888888,
              "#fdca26"
             ],
             [
              1,
              "#f0f921"
             ]
            ],
            "type": "histogram2d"
           }
          ],
          "histogram2dcontour": [
           {
            "colorbar": {
             "outlinewidth": 0,
             "ticks": ""
            },
            "colorscale": [
             [
              0,
              "#0d0887"
             ],
             [
              0.1111111111111111,
              "#46039f"
             ],
             [
              0.2222222222222222,
              "#7201a8"
             ],
             [
              0.3333333333333333,
              "#9c179e"
             ],
             [
              0.4444444444444444,
              "#bd3786"
             ],
             [
              0.5555555555555556,
              "#d8576b"
             ],
             [
              0.6666666666666666,
              "#ed7953"
             ],
             [
              0.7777777777777778,
              "#fb9f3a"
             ],
             [
              0.8888888888888888,
              "#fdca26"
             ],
             [
              1,
              "#f0f921"
             ]
            ],
            "type": "histogram2dcontour"
           }
          ],
          "mesh3d": [
           {
            "colorbar": {
             "outlinewidth": 0,
             "ticks": ""
            },
            "type": "mesh3d"
           }
          ],
          "parcoords": [
           {
            "line": {
             "colorbar": {
              "outlinewidth": 0,
              "ticks": ""
             }
            },
            "type": "parcoords"
           }
          ],
          "pie": [
           {
            "automargin": true,
            "type": "pie"
           }
          ],
          "scatter": [
           {
            "fillpattern": {
             "fillmode": "overlay",
             "size": 10,
             "solidity": 0.2
            },
            "type": "scatter"
           }
          ],
          "scatter3d": [
           {
            "line": {
             "colorbar": {
              "outlinewidth": 0,
              "ticks": ""
             }
            },
            "marker": {
             "colorbar": {
              "outlinewidth": 0,
              "ticks": ""
             }
            },
            "type": "scatter3d"
           }
          ],
          "scattercarpet": [
           {
            "marker": {
             "colorbar": {
              "outlinewidth": 0,
              "ticks": ""
             }
            },
            "type": "scattercarpet"
           }
          ],
          "scattergeo": [
           {
            "marker": {
             "colorbar": {
              "outlinewidth": 0,
              "ticks": ""
             }
            },
            "type": "scattergeo"
           }
          ],
          "scattergl": [
           {
            "marker": {
             "colorbar": {
              "outlinewidth": 0,
              "ticks": ""
             }
            },
            "type": "scattergl"
           }
          ],
          "scattermapbox": [
           {
            "marker": {
             "colorbar": {
              "outlinewidth": 0,
              "ticks": ""
             }
            },
            "type": "scattermapbox"
           }
          ],
          "scatterpolar": [
           {
            "marker": {
             "colorbar": {
              "outlinewidth": 0,
              "ticks": ""
             }
            },
            "type": "scatterpolar"
           }
          ],
          "scatterpolargl": [
           {
            "marker": {
             "colorbar": {
              "outlinewidth": 0,
              "ticks": ""
             }
            },
            "type": "scatterpolargl"
           }
          ],
          "scatterternary": [
           {
            "marker": {
             "colorbar": {
              "outlinewidth": 0,
              "ticks": ""
             }
            },
            "type": "scatterternary"
           }
          ],
          "surface": [
           {
            "colorbar": {
             "outlinewidth": 0,
             "ticks": ""
            },
            "colorscale": [
             [
              0,
              "#0d0887"
             ],
             [
              0.1111111111111111,
              "#46039f"
             ],
             [
              0.2222222222222222,
              "#7201a8"
             ],
             [
              0.3333333333333333,
              "#9c179e"
             ],
             [
              0.4444444444444444,
              "#bd3786"
             ],
             [
              0.5555555555555556,
              "#d8576b"
             ],
             [
              0.6666666666666666,
              "#ed7953"
             ],
             [
              0.7777777777777778,
              "#fb9f3a"
             ],
             [
              0.8888888888888888,
              "#fdca26"
             ],
             [
              1,
              "#f0f921"
             ]
            ],
            "type": "surface"
           }
          ],
          "table": [
           {
            "cells": {
             "fill": {
              "color": "#EBF0F8"
             },
             "line": {
              "color": "white"
             }
            },
            "header": {
             "fill": {
              "color": "#C8D4E3"
             },
             "line": {
              "color": "white"
             }
            },
            "type": "table"
           }
          ]
         },
         "layout": {
          "annotationdefaults": {
           "arrowcolor": "#2a3f5f",
           "arrowhead": 0,
           "arrowwidth": 1
          },
          "autotypenumbers": "strict",
          "coloraxis": {
           "colorbar": {
            "outlinewidth": 0,
            "ticks": ""
           }
          },
          "colorscale": {
           "diverging": [
            [
             0,
             "#8e0152"
            ],
            [
             0.1,
             "#c51b7d"
            ],
            [
             0.2,
             "#de77ae"
            ],
            [
             0.3,
             "#f1b6da"
            ],
            [
             0.4,
             "#fde0ef"
            ],
            [
             0.5,
             "#f7f7f7"
            ],
            [
             0.6,
             "#e6f5d0"
            ],
            [
             0.7,
             "#b8e186"
            ],
            [
             0.8,
             "#7fbc41"
            ],
            [
             0.9,
             "#4d9221"
            ],
            [
             1,
             "#276419"
            ]
           ],
           "sequential": [
            [
             0,
             "#0d0887"
            ],
            [
             0.1111111111111111,
             "#46039f"
            ],
            [
             0.2222222222222222,
             "#7201a8"
            ],
            [
             0.3333333333333333,
             "#9c179e"
            ],
            [
             0.4444444444444444,
             "#bd3786"
            ],
            [
             0.5555555555555556,
             "#d8576b"
            ],
            [
             0.6666666666666666,
             "#ed7953"
            ],
            [
             0.7777777777777778,
             "#fb9f3a"
            ],
            [
             0.8888888888888888,
             "#fdca26"
            ],
            [
             1,
             "#f0f921"
            ]
           ],
           "sequentialminus": [
            [
             0,
             "#0d0887"
            ],
            [
             0.1111111111111111,
             "#46039f"
            ],
            [
             0.2222222222222222,
             "#7201a8"
            ],
            [
             0.3333333333333333,
             "#9c179e"
            ],
            [
             0.4444444444444444,
             "#bd3786"
            ],
            [
             0.5555555555555556,
             "#d8576b"
            ],
            [
             0.6666666666666666,
             "#ed7953"
            ],
            [
             0.7777777777777778,
             "#fb9f3a"
            ],
            [
             0.8888888888888888,
             "#fdca26"
            ],
            [
             1,
             "#f0f921"
            ]
           ]
          },
          "colorway": [
           "#636efa",
           "#EF553B",
           "#00cc96",
           "#ab63fa",
           "#FFA15A",
           "#19d3f3",
           "#FF6692",
           "#B6E880",
           "#FF97FF",
           "#FECB52"
          ],
          "font": {
           "color": "#2a3f5f"
          },
          "geo": {
           "bgcolor": "white",
           "lakecolor": "white",
           "landcolor": "#E5ECF6",
           "showlakes": true,
           "showland": true,
           "subunitcolor": "white"
          },
          "hoverlabel": {
           "align": "left"
          },
          "hovermode": "closest",
          "mapbox": {
           "style": "light"
          },
          "paper_bgcolor": "white",
          "plot_bgcolor": "#E5ECF6",
          "polar": {
           "angularaxis": {
            "gridcolor": "white",
            "linecolor": "white",
            "ticks": ""
           },
           "bgcolor": "#E5ECF6",
           "radialaxis": {
            "gridcolor": "white",
            "linecolor": "white",
            "ticks": ""
           }
          },
          "scene": {
           "xaxis": {
            "backgroundcolor": "#E5ECF6",
            "gridcolor": "white",
            "gridwidth": 2,
            "linecolor": "white",
            "showbackground": true,
            "ticks": "",
            "zerolinecolor": "white"
           },
           "yaxis": {
            "backgroundcolor": "#E5ECF6",
            "gridcolor": "white",
            "gridwidth": 2,
            "linecolor": "white",
            "showbackground": true,
            "ticks": "",
            "zerolinecolor": "white"
           },
           "zaxis": {
            "backgroundcolor": "#E5ECF6",
            "gridcolor": "white",
            "gridwidth": 2,
            "linecolor": "white",
            "showbackground": true,
            "ticks": "",
            "zerolinecolor": "white"
           }
          },
          "shapedefaults": {
           "line": {
            "color": "#2a3f5f"
           }
          },
          "ternary": {
           "aaxis": {
            "gridcolor": "white",
            "linecolor": "white",
            "ticks": ""
           },
           "baxis": {
            "gridcolor": "white",
            "linecolor": "white",
            "ticks": ""
           },
           "bgcolor": "#E5ECF6",
           "caxis": {
            "gridcolor": "white",
            "linecolor": "white",
            "ticks": ""
           }
          },
          "title": {
           "x": 0.05
          },
          "xaxis": {
           "automargin": true,
           "gridcolor": "white",
           "linecolor": "white",
           "ticks": "",
           "title": {
            "standoff": 15
           },
           "zerolinecolor": "white",
           "zerolinewidth": 2
          },
          "yaxis": {
           "automargin": true,
           "gridcolor": "white",
           "linecolor": "white",
           "ticks": "",
           "title": {
            "standoff": 15
           },
           "zerolinecolor": "white",
           "zerolinewidth": 2
          }
         }
        },
        "title": {
         "text": "Top 10 Listing by Revenue (Under 30 Days)"
        },
        "xaxis": {
         "anchor": "y",
         "domain": [
          0,
          1
         ],
         "title": {
          "text": "x"
         }
        },
        "yaxis": {
         "anchor": "x",
         "domain": [
          0,
          1
         ],
         "title": {
          "text": "y"
         }
        }
       }
      }
     },
     "metadata": {},
     "output_type": "display_data"
    }
   ],
   "source": [
    "import plotly.express as px\n",
    "\n",
    "# Assuming you already have your 'result' Series\n",
    "fig = px.bar(result.head(10), x=result.head(10).index, y=result.head(10).values,\n",
    "            title='Top 10 Listing by Revenue (Under 30 Days)')\n",
    "\n",
    "fig.show()\n"
   ]
  },
  {
   "cell_type": "markdown",
   "metadata": {},
   "source": [
    "# Correlation Matrix"
   ]
  },
  {
   "cell_type": "code",
   "execution_count": 22,
   "metadata": {},
   "outputs": [
    {
     "name": "stdout",
     "output_type": "stream",
     "text": [
      "<class 'pandas.core.frame.DataFrame'>\n",
      "RangeIndex: 100 entries, 0 to 99\n",
      "Data columns (total 9 columns):\n",
      " #   Column              Non-Null Count  Dtype  \n",
      "---  ------              --------------  -----  \n",
      " 0   ShopName            100 non-null    object \n",
      " 1   Listing             100 non-null    object \n",
      " 2   Listing Age (Days)  100 non-null    int64  \n",
      " 3   Total Views         100 non-null    float64\n",
      " 4   Daily Views         100 non-null    float64\n",
      " 5   Est. Sales          100 non-null    int64  \n",
      " 6   Price               100 non-null    float64\n",
      " 7   Est. Revenue        100 non-null    float64\n",
      " 8   Hearts              100 non-null    float64\n",
      "dtypes: float64(5), int64(2), object(2)\n",
      "memory usage: 7.2+ KB\n"
     ]
    }
   ],
   "source": [
    "df.info()"
   ]
  },
  {
   "cell_type": "code",
   "execution_count": 23,
   "metadata": {},
   "outputs": [],
   "source": [
    "corr_col = [2,3,4,5,6,7,8]\n",
    "filtered_df = df[df.columns[corr_col]]\n",
    "correlation_matrix = filtered_df.corr()"
   ]
  },
  {
   "cell_type": "code",
   "execution_count": 24,
   "metadata": {},
   "outputs": [
    {
     "data": {
      "image/png": "[encoded data removed]",
      "text/plain": [
       "<Figure size 800x800 with 2 Axes>"
      ]
     },
     "metadata": {},
     "output_type": "display_data"
    }
   ],
   "source": [
    "sns.set(style='white')\n",
    "plt.figure(figsize=(8, 8))\n",
    "# Heatmap\n",
    "sns.heatmap(correlation_matrix, annot=True, cmap='coolwarm', fmt=\".2f\", linewidths=0.5)\n",
    "plt.title('Correlation Matrix Heatmap')\n",
    "plt.show()\n"
   ]
  },
  {
   "cell_type": "markdown",
   "metadata": {},
   "source": [
    "# Column Wise Analysis"
   ]
  },
  {
   "cell_type": "markdown",
   "metadata": {},
   "source": [
    "## ShopName (Categorical)"
   ]
  },
  {
   "cell_type": "code",
   "execution_count": 47,
   "metadata": {},
   "outputs": [
    {
     "data": {
      "text/plain": [
       "ShopName\n",
       "InfinteArtDesigns       3\n",
       "SevenstylesDesign       3\n",
       "Xenaifuture             3\n",
       "CocoaTwins              3\n",
       "LeapfrogLabs            3\n",
       "                       ..\n",
       "PaintBoxAI              1\n",
       "TheCosmicCuriosities    1\n",
       "PromptsandPlanners      1\n",
       "Sofiamastery2           1\n",
       "RahasiaStudio           1\n",
       "Name: count, Length: 77, dtype: int64"
      ]
     },
     "execution_count": 47,
     "metadata": {},
     "output_type": "execute_result"
    }
   ],
   "source": [
    "df.ShopName.value_counts()"
   ]
  },
  {
   "cell_type": "code",
   "execution_count": 51,
   "metadata": {},
   "outputs": [
    {
     "data": {
      "application/vnd.plotly.v1+json": {
       "config": {
        "plotlyServerURL": "https://plot.ly"
       },
       "data": [
        {
         "alignmentgroup": "True",
         "hovertemplate": "variable=count<br>ShopName=%{x}<br>value=%{y}<extra></extra>",
         "legendgroup": "count",
         "marker": {
          "color": "#636efa",
          "pattern": {
           "shape": ""
          }
         },
         "name": "count",
         "offsetgroup": "count",
         "orientation": "v",
         "showlegend": true,
         "textposition": "auto",
         "type": "bar",
         "x": [
          "InfinteArtDesigns",
          "SevenstylesDesign",
          "Xenaifuture",
          "CocoaTwins",
          "LeapfrogLabs",
          "MilanoCreative",
          "littlelemoncreatives",
          "PromptCrafts",
          "IckynicksTreasures",
          "TheAIPromptShop",
          "Zebonastic",
          "OpheliasLabyrinth",
          "DesignDigiGoods",
          "BalugaCreations",
          "SyntheticArtifacts",
          "aiSparksofGenius",
          "HarmonyHavenDesigns",
          "EasyAIPrompts",
          "GOTJEY",
          "AIArtTechniques"
         ],
         "xaxis": "x",
         "y": [
          3,
          3,
          3,
          3,
          3,
          3,
          3,
          3,
          2,
          2,
          2,
          2,
          2,
          2,
          2,
          1,
          1,
          1,
          1,
          1
         ],
         "yaxis": "y"
        }
       ],
       "layout": {
        "barmode": "relative",
        "legend": {
         "title": {
          "text": "variable"
         },
         "tracegroupgap": 0
        },
        "margin": {
         "t": 60
        },
        "template": {
         "data": {
          "bar": [
           {
            "error_x": {
             "color": "#2a3f5f"
            },
            "error_y": {
             "color": "#2a3f5f"
            },
            "marker": {
             "line": {
              "color": "#E5ECF6",
              "width": 0.5
             },
             "pattern": {
              "fillmode": "overlay",
              "size": 10,
              "solidity": 0.2
             }
            },
            "type": "bar"
           }
          ],
          "barpolar": [
           {
            "marker": {
             "line": {
              "color": "#E5ECF6",
              "width": 0.5
             },
             "pattern": {
              "fillmode": "overlay",
              "size": 10,
              "solidity": 0.2
             }
            },
            "type": "barpolar"
           }
          ],
          "carpet": [
           {
            "aaxis": {
             "endlinecolor": "#2a3f5f",
             "gridcolor": "white",
             "linecolor": "white",
             "minorgridcolor": "white",
             "startlinecolor": "#2a3f5f"
            },
            "baxis": {
             "endlinecolor": "#2a3f5f",
             "gridcolor": "white",
             "linecolor": "white",
             "minorgridcolor": "white",
             "startlinecolor": "#2a3f5f"
            },
            "type": "carpet"
           }
          ],
          "choropleth": [
           {
            "colorbar": {
             "outlinewidth": 0,
             "ticks": ""
            },
            "type": "choropleth"
           }
          ],
          "contour": [
           {
            "colorbar": {
             "outlinewidth": 0,
             "ticks": ""
            },
            "colorscale": [
             [
              0,
              "#0d0887"
             ],
             [
              0.1111111111111111,
              "#46039f"
             ],
             [
              0.2222222222222222,
              "#7201a8"
             ],
             [
              0.3333333333333333,
              "#9c179e"
             ],
             [
              0.4444444444444444,
              "#bd3786"
             ],
             [
              0.5555555555555556,
              "#d8576b"
             ],
             [
              0.6666666666666666,
              "#ed7953"
             ],
             [
              0.7777777777777778,
              "#fb9f3a"
             ],
             [
              0.8888888888888888,
              "#fdca26"
             ],
             [
              1,
              "#f0f921"
             ]
            ],
            "type": "contour"
           }
          ],
          "contourcarpet": [
           {
            "colorbar": {
             "outlinewidth": 0,
             "ticks": ""
            },
            "type": "contourcarpet"
           }
          ],
          "heatmap": [
           {
            "colorbar": {
             "outlinewidth": 0,
             "ticks": ""
            },
            "colorscale": [
             [
              0,
              "#0d0887"
             ],
             [
              0.1111111111111111,
              "#46039f"
             ],
             [
              0.2222222222222222,
              "#7201a8"
             ],
             [
              0.3333333333333333,
              "#9c179e"
             ],
             [
              0.4444444444444444,
              "#bd3786"
             ],
             [
              0.5555555555555556,
              "#d8576b"
             ],
             [
              0.6666666666666666,
              "#ed7953"
             ],
             [
              0.7777777777777778,
              "#fb9f3a"
             ],
             [
              0.8888888888888888,
              "#fdca26"
             ],
             [
              1,
              "#f0f921"
             ]
            ],
            "type": "heatmap"
           }
          ],
          "heatmapgl": [
           {
            "colorbar": {
             "outlinewidth": 0,
             "ticks": ""
            },
            "colorscale": [
             [
              0,
              "#0d0887"
             ],
             [
              0.1111111111111111,
              "#46039f"
             ],
             [
              0.2222222222222222,
              "#7201a8"
             ],
             [
              0.3333333333333333,
              "#9c179e"
             ],
             [
              0.4444444444444444,
              "#bd3786"
             ],
             [
              0.5555555555555556,
              "#d8576b"
             ],
             [
              0.6666666666666666,
              "#ed7953"
             ],
             [
              0.7777777777777778,
              "#fb9f3a"
             ],
             [
              0.8888888888888888,
              "#fdca26"
             ],
             [
              1,
              "#f0f921"
             ]
            ],
            "type": "heatmapgl"
           }
          ],
          "histogram": [
           {
            "marker": {
             "pattern": {
              "fillmode": "overlay",
              "size": 10,
              "solidity": 0.2
             }
            },
            "type": "histogram"
           }
          ],
          "histogram2d": [
           {
            "colorbar": {
             "outlinewidth": 0,
             "ticks": ""
            },
            "colorscale": [
             [
              0,
              "#0d0887"
             ],
             [
              0.1111111111111111,
              "#46039f"
             ],
             [
              0.2222222222222222,
              "#7201a8"
             ],
             [
              0.3333333333333333,
              "#9c179e"
             ],
             [
              0.4444444444444444,
              "#bd3786"
             ],
             [
              0.5555555555555556,
              "#d8576b"
             ],
             [
              0.6666666666666666,
              "#ed7953"
             ],
             [
              0.7777777777777778,
              "#fb9f3a"
             ],
             [
              0.8888888888888888,
              "#fdca26"
             ],
             [
              1,
              "#f0f921"
             ]
            ],
            "type": "histogram2d"
           }
          ],
          "histogram2dcontour": [
           {
            "colorbar": {
             "outlinewidth": 0,
             "ticks": ""
            },
            "colorscale": [
             [
              0,
              "#0d0887"
             ],
             [
              0.1111111111111111,
              "#46039f"
             ],
             [
              0.2222222222222222,
              "#7201a8"
             ],
             [
              0.3333333333333333,
              "#9c179e"
             ],
             [
              0.4444444444444444,
              "#bd3786"
             ],
             [
              0.5555555555555556,
              "#d8576b"
             ],
             [
              0.6666666666666666,
              "#ed7953"
             ],
             [
              0.7777777777777778,
              "#fb9f3a"
             ],
             [
              0.8888888888888888,
              "#fdca26"
             ],
             [
              1,
              "#f0f921"
             ]
            ],
            "type": "histogram2dcontour"
           }
          ],
          "mesh3d": [
           {
            "colorbar": {
             "outlinewidth": 0,
             "ticks": ""
            },
            "type": "mesh3d"
           }
          ],
          "parcoords": [
           {
            "line": {
             "colorbar": {
              "outlinewidth": 0,
              "ticks": ""
             }
            },
            "type": "parcoords"
           }
          ],
          "pie": [
           {
            "automargin": true,
            "type": "pie"
           }
          ],
          "scatter": [
           {
            "fillpattern": {
             "fillmode": "overlay",
             "size": 10,
             "solidity": 0.2
            },
            "type": "scatter"
           }
          ],
          "scatter3d": [
           {
            "line": {
             "colorbar": {
              "outlinewidth": 0,
              "ticks": ""
             }
            },
            "marker": {
             "colorbar": {
              "outlinewidth": 0,
              "ticks": ""
             }
            },
            "type": "scatter3d"
           }
          ],
          "scattercarpet": [
           {
            "marker": {
             "colorbar": {
              "outlinewidth": 0,
              "ticks": ""
             }
            },
            "type": "scattercarpet"
           }
          ],
          "scattergeo": [
           {
            "marker": {
             "colorbar": {
              "outlinewidth": 0,
              "ticks": ""
             }
            },
            "type": "scattergeo"
           }
          ],
          "scattergl": [
           {
            "marker": {
             "colorbar": {
              "outlinewidth": 0,
              "ticks": ""
             }
            },
            "type": "scattergl"
           }
          ],
          "scattermapbox": [
           {
            "marker": {
             "colorbar": {
              "outlinewidth": 0,
              "ticks": ""
             }
            },
            "type": "scattermapbox"
           }
          ],
          "scatterpolar": [
           {
            "marker": {
             "colorbar": {
              "outlinewidth": 0,
              "ticks": ""
             }
            },
            "type": "scatterpolar"
           }
          ],
          "scatterpolargl": [
           {
            "marker": {
             "colorbar": {
              "outlinewidth": 0,
              "ticks": ""
             }
            },
            "type": "scatterpolargl"
           }
          ],
          "scatterternary": [
           {
            "marker": {
             "colorbar": {
              "outlinewidth": 0,
              "ticks": ""
             }
            },
            "type": "scatterternary"
           }
          ],
          "surface": [
           {
            "colorbar": {
             "outlinewidth": 0,
             "ticks": ""
            },
            "colorscale": [
             [
              0,
              "#0d0887"
             ],
             [
              0.1111111111111111,
              "#46039f"
             ],
             [
              0.2222222222222222,
              "#7201a8"
             ],
             [
              0.3333333333333333,
              "#9c179e"
             ],
             [
              0.4444444444444444,
              "#bd3786"
             ],
             [
              0.5555555555555556,
              "#d8576b"
             ],
             [
              0.6666666666666666,
              "#ed7953"
             ],
             [
              0.7777777777777778,
              "#fb9f3a"
             ],
             [
              0.8888888888888888,
              "#fdca26"
             ],
             [
              1,
              "#f0f921"
             ]
            ],
            "type": "surface"
           }
          ],
          "table": [
           {
            "cells": {
             "fill": {
              "color": "#EBF0F8"
             },
             "line": {
              "color": "white"
             }
            },
            "header": {
             "fill": {
              "color": "#C8D4E3"
             },
             "line": {
              "color": "white"
             }
            },
            "type": "table"
           }
          ]
         },
         "layout": {
          "annotationdefaults": {
           "arrowcolor": "#2a3f5f",
           "arrowhead": 0,
           "arrowwidth": 1
          },
          "autotypenumbers": "strict",
          "coloraxis": {
           "colorbar": {
            "outlinewidth": 0,
            "ticks": ""
           }
          },
          "colorscale": {
           "diverging": [
            [
             0,
             "#8e0152"
            ],
            [
             0.1,
             "#c51b7d"
            ],
            [
             0.2,
             "#de77ae"
            ],
            [
             0.3,
             "#f1b6da"
            ],
            [
             0.4,
             "#fde0ef"
            ],
            [
             0.5,
             "#f7f7f7"
            ],
            [
             0.6,
             "#e6f5d0"
            ],
            [
             0.7,
             "#b8e186"
            ],
            [
             0.8,
             "#7fbc41"
            ],
            [
             0.9,
             "#4d9221"
            ],
            [
             1,
             "#276419"
            ]
           ],
           "sequential": [
            [
             0,
             "#0d0887"
            ],
            [
             0.1111111111111111,
             "#46039f"
            ],
            [
             0.2222222222222222,
             "#7201a8"
            ],
            [
             0.3333333333333333,
             "#9c179e"
            ],
            [
             0.4444444444444444,
             "#bd3786"
            ],
            [
             0.5555555555555556,
             "#d8576b"
            ],
            [
             0.6666666666666666,
             "#ed7953"
            ],
            [
             0.7777777777777778,
             "#fb9f3a"
            ],
            [
             0.8888888888888888,
             "#fdca26"
            ],
            [
             1,
             "#f0f921"
            ]
           ],
           "sequentialminus": [
            [
             0,
             "#0d0887"
            ],
            [
             0.1111111111111111,
             "#46039f"
            ],
            [
             0.2222222222222222,
             "#7201a8"
            ],
            [
             0.3333333333333333,
             "#9c179e"
            ],
            [
             0.4444444444444444,
             "#bd3786"
            ],
            [
             0.5555555555555556,
             "#d8576b"
            ],
            [
             0.6666666666666666,
             "#ed7953"
            ],
            [
             0.7777777777777778,
             "#fb9f3a"
            ],
            [
             0.8888888888888888,
             "#fdca26"
            ],
            [
             1,
             "#f0f921"
            ]
           ]
          },
          "colorway": [
           "#636efa",
           "#EF553B",
           "#00cc96",
           "#ab63fa",
           "#FFA15A",
           "#19d3f3",
           "#FF6692",
           "#B6E880",
           "#FF97FF",
           "#FECB52"
          ],
          "font": {
           "color": "#2a3f5f"
          },
          "geo": {
           "bgcolor": "white",
           "lakecolor": "white",
           "landcolor": "#E5ECF6",
           "showlakes": true,
           "showland": true,
           "subunitcolor": "white"
          },
          "hoverlabel": {
           "align": "left"
          },
          "hovermode": "closest",
          "mapbox": {
           "style": "light"
          },
          "paper_bgcolor": "white",
          "plot_bgcolor": "#E5ECF6",
          "polar": {
           "angularaxis": {
            "gridcolor": "white",
            "linecolor": "white",
            "ticks": ""
           },
           "bgcolor": "#E5ECF6",
           "radialaxis": {
            "gridcolor": "white",
            "linecolor": "white",
            "ticks": ""
           }
          },
          "scene": {
           "xaxis": {
            "backgroundcolor": "#E5ECF6",
            "gridcolor": "white",
            "gridwidth": 2,
            "linecolor": "white",
            "showbackground": true,
            "ticks": "",
            "zerolinecolor": "white"
           },
           "yaxis": {
            "backgroundcolor": "#E5ECF6",
            "gridcolor": "white",
            "gridwidth": 2,
            "linecolor": "white",
            "showbackground": true,
            "ticks": "",
            "zerolinecolor": "white"
           },
           "zaxis": {
            "backgroundcolor": "#E5ECF6",
            "gridcolor": "white",
            "gridwidth": 2,
            "linecolor": "white",
            "showbackground": true,
            "ticks": "",
            "zerolinecolor": "white"
           }
          },
          "shapedefaults": {
           "line": {
            "color": "#2a3f5f"
           }
          },
          "ternary": {
           "aaxis": {
            "gridcolor": "white",
            "linecolor": "white",
            "ticks": ""
           },
           "baxis": {
            "gridcolor": "white",
            "linecolor": "white",
            "ticks": ""
           },
           "bgcolor": "#E5ECF6",
           "caxis": {
            "gridcolor": "white",
            "linecolor": "white",
            "ticks": ""
           }
          },
          "title": {
           "x": 0.05
          },
          "xaxis": {
           "automargin": true,
           "gridcolor": "white",
           "linecolor": "white",
           "ticks": "",
           "title": {
            "standoff": 15
           },
           "zerolinecolor": "white",
           "zerolinewidth": 2
          },
          "yaxis": {
           "automargin": true,
           "gridcolor": "white",
           "linecolor": "white",
           "ticks": "",
           "title": {
            "standoff": 15
           },
           "zerolinecolor": "white",
           "zerolinewidth": 2
          }
         }
        },
        "xaxis": {
         "anchor": "y",
         "domain": [
          0,
          1
         ],
         "title": {
          "text": "ShopName"
         }
        },
        "yaxis": {
         "anchor": "x",
         "domain": [
          0,
          1
         ],
         "title": {
          "text": "value"
         }
        }
       }
      }
     },
     "metadata": {},
     "output_type": "display_data"
    }
   ],
   "source": [
    "fig = px.bar(df.ShopName.value_counts().head(20))\n",
    "fig.show()"
   ]
  },
  {
   "cell_type": "markdown",
   "metadata": {},
   "source": [
    "- Shops with Most Listing Are: "
   ]
  },
  {
   "cell_type": "code",
   "execution_count": 94,
   "metadata": {},
   "outputs": [
    {
     "data": {
      "text/html": [
       "<div>\n",
       "<style scoped>\n",
       "    .dataframe tbody tr th:only-of-type {\n",
       "        vertical-align: middle;\n",
       "    }\n",
       "\n",
       "    .dataframe tbody tr th {\n",
       "        vertical-align: top;\n",
       "    }\n",
       "\n",
       "    .dataframe thead th {\n",
       "        text-align: right;\n",
       "    }\n",
       "</style>\n",
       "<table border=\"1\" class=\"dataframe\">\n",
       "  <thead>\n",
       "    <tr style=\"text-align: right;\">\n",
       "      <th></th>\n",
       "      <th>ShopName</th>\n",
       "      <th>count</th>\n",
       "    </tr>\n",
       "  </thead>\n",
       "  <tbody>\n",
       "    <tr>\n",
       "      <th>0</th>\n",
       "      <td>InfinteArtDesigns</td>\n",
       "      <td>3</td>\n",
       "    </tr>\n",
       "    <tr>\n",
       "      <th>1</th>\n",
       "      <td>SevenstylesDesign</td>\n",
       "      <td>3</td>\n",
       "    </tr>\n",
       "    <tr>\n",
       "      <th>2</th>\n",
       "      <td>Xenaifuture</td>\n",
       "      <td>3</td>\n",
       "    </tr>\n",
       "    <tr>\n",
       "      <th>3</th>\n",
       "      <td>CocoaTwins</td>\n",
       "      <td>3</td>\n",
       "    </tr>\n",
       "    <tr>\n",
       "      <th>4</th>\n",
       "      <td>LeapfrogLabs</td>\n",
       "      <td>3</td>\n",
       "    </tr>\n",
       "    <tr>\n",
       "      <th>5</th>\n",
       "      <td>MilanoCreative</td>\n",
       "      <td>3</td>\n",
       "    </tr>\n",
       "    <tr>\n",
       "      <th>6</th>\n",
       "      <td>littlelemoncreatives</td>\n",
       "      <td>3</td>\n",
       "    </tr>\n",
       "    <tr>\n",
       "      <th>7</th>\n",
       "      <td>PromptCrafts</td>\n",
       "      <td>3</td>\n",
       "    </tr>\n",
       "  </tbody>\n",
       "</table>\n",
       "</div>"
      ],
      "text/plain": [
       "               ShopName  count\n",
       "0     InfinteArtDesigns      3\n",
       "1     SevenstylesDesign      3\n",
       "2           Xenaifuture      3\n",
       "3            CocoaTwins      3\n",
       "4          LeapfrogLabs      3\n",
       "5        MilanoCreative      3\n",
       "6  littlelemoncreatives      3\n",
       "7          PromptCrafts      3"
      ]
     },
     "execution_count": 94,
     "metadata": {},
     "output_type": "execute_result"
    }
   ],
   "source": [
    "r1 = df.ShopName.value_counts().reset_index()\n",
    "ShopswithMostListing = r1[r1[\"count\"]==r1[\"count\"].max()]\n",
    "ShopswithMostListing"
   ]
  },
  {
   "cell_type": "markdown",
   "metadata": {},
   "source": [
    "### Conclusion:\n",
    "- 77 Unique ShopNames in Listing\n",
    "- 8 ShopName with 3 Listing\n",
    "- 7 ShopName with 2 Listing\n",
    "- 62 Remaining with 1 Listing"
   ]
  },
  {
   "cell_type": "markdown",
   "metadata": {},
   "source": [
    "## Listing (Categorical)"
   ]
  },
  {
   "cell_type": "code",
   "execution_count": 95,
   "metadata": {},
   "outputs": [
    {
     "data": {
      "text/plain": [
       "0     Earth goddess, forest goddess, powerful, warri...\n",
       "1     Midjourney Logo Prompt, AI Customizable Prompt...\n",
       "2     130 Midjourney Prompts and Images Bundle, Midj...\n",
       "3     Prompt Guide Family Lifestyle Stock Photos, Mi...\n",
       "4     Queen Nefertiti of Egypt, Set of 5 AI  - Midjo...\n",
       "                            ...                        \n",
       "95    MidJourney Prompt Guide | 10 Base Prompts Plus...\n",
       "96    Midjourney Prompt for Watercolor Animals | Mid...\n",
       "97    2023 Professional Midjourney AI Prompt Templat...\n",
       "98    120+ Halloween and Horror Midjourney Design Pr...\n",
       "99    Midjourney Logo Design Prompt | Save Time and ...\n",
       "Name: Listing, Length: 100, dtype: object"
      ]
     },
     "execution_count": 95,
     "metadata": {},
     "output_type": "execute_result"
    }
   ],
   "source": [
    "df.Listing"
   ]
  },
  {
   "cell_type": "code",
   "execution_count": 97,
   "metadata": {},
   "outputs": [
    {
     "data": {
      "text/plain": [
       "Listing\n",
       "Black Women, Midjourney Prompts for Black Women,Afro American Women, African American, Black Women Prompts, Ebony Women Stock Photography      2\n",
       "Earth goddess, forest goddess, powerful, warrior, female, wall art, home decor, printable, AI, midjourney, mother earth                        1\n",
       "MidJourney Prompt for Cute Boho Doodles, Bohemian Art Generator, Best MidJourney Prompt, Personalized Boho Doodle Creator                      1\n",
       "Midjourney Beautiful Realistic Woman Prompts: Create Professional, Beautiful and Unique Portraits with AI                                      1\n",
       "Professional Midjourney & ChatGPT Animal Photography Prompt Guide, AI Art Midjourney, Prompt, Animals, Photography                             1\n",
       "                                                                                                                                              ..\n",
       "MidJourney Prompt Guide - Includes a Universal Prompt Writer Bot | 3D Halloween Style | ChatGPT is Not Required for Use | PLR                  1\n",
       "MidJourney Utopia: A Realistic Dream                                                                                                           1\n",
       "Midjourney Baby Face Prompts | Black Kid Cartoon Clipart | Digital Art Prints Melanin Boy and Girl | Children Illustration African American    1\n",
       "The AI Handbook Midjourney, Tips and Tricks to Master Creating AI Images, Prompts for Black Women, Women Stock Photography, Ebook              1\n",
       "Midjourney Logo Design Prompt | Save Time and Instantly Generate Any Logo You Want | How-to Guide                                              1\n",
       "Name: count, Length: 99, dtype: int64"
      ]
     },
     "execution_count": 97,
     "metadata": {},
     "output_type": "execute_result"
    }
   ],
   "source": [
    "df.Listing.value_counts()"
   ]
  },
  {
   "cell_type": "code",
   "execution_count": 99,
   "metadata": {},
   "outputs": [],
   "source": [
    "from wordcloud import WordCloud"
   ]
  },
  {
   "cell_type": "code",
   "execution_count": 101,
   "metadata": {},
   "outputs": [],
   "source": [
    "text_data = df['Listing'].str.cat(sep=' ')"
   ]
  },
  {
   "cell_type": "code",
   "execution_count": 102,
   "metadata": {},
   "outputs": [],
   "source": [
    "wordcloud = WordCloud(width=800, height=400, background_color='white').generate(text_data)"
   ]
  },
  {
   "cell_type": "code",
   "execution_count": 103,
   "metadata": {},
   "outputs": [
    {
     "data": {
      "image/png": "[encoded data removed]",
      "text/plain": [
       "<Figure size 1000x500 with 1 Axes>"
      ]
     },
     "metadata": {},
     "output_type": "display_data"
    }
   ],
   "source": [
    "plt.figure(figsize=(10, 5))\n",
    "plt.imshow(wordcloud, interpolation='bilinear')\n",
    "plt.axis('off')\n",
    "plt.show()"
   ]
  },
  {
   "cell_type": "code",
   "execution_count": 104,
   "metadata": {},
   "outputs": [],
   "source": [
    "word_frequencies = wordcloud.words_"
   ]
  },
  {
   "cell_type": "markdown",
   "metadata": {},
   "source": [
    "- one word with most frequency"
   ]
  },
  {
   "cell_type": "code",
   "execution_count": 125,
   "metadata": {},
   "outputs": [
    {
     "name": "stdout",
     "output_type": "stream",
     "text": [
      "Prompt: 0.8636363636363636\n",
      "Art: 0.5227272727272727\n",
      "AI: 0.5113636363636364\n",
      "Midjourney: 0.5113636363636364\n",
      "Guide: 0.3409090909090909\n",
      "Design: 0.3181818181818182\n",
      "Digital: 0.2840909090909091\n",
      "Animal: 0.20454545454545456\n",
      "Halloween: 0.20454545454545456\n",
      "Photography: 0.14772727272727273\n",
      "Clipart: 0.13636363636363635\n",
      "Customizable: 0.125\n",
      "Print: 0.125\n",
      "Bundle: 0.10227272727272728\n",
      "Tumbler: 0.10227272727272728\n",
      "Mockup: 0.10227272727272728\n",
      "Professional: 0.09090909090909091\n",
      "Learn: 0.09090909090909091\n",
      "Create: 0.09090909090909091\n",
      "Cute: 0.09090909090909091\n",
      "Logo: 0.07954545454545454\n",
      "Image: 0.07954545454545454\n",
      "Illustration: 0.07954545454545454\n",
      "Women: 0.07954545454545454\n",
      "Printable: 0.06818181818181818\n",
      "Download: 0.06818181818181818\n",
      "Stock: 0.06818181818181818\n",
      "Free: 0.056818181818181816\n",
      "Instant: 0.056818181818181816\n",
      "Autumn: 0.056818181818181816\n",
      "Fall: 0.056818181818181816\n",
      "Boho: 0.056818181818181816\n",
      "Best: 0.056818181818181816\n",
      "Pattern: 0.056818181818181816\n",
      "Tested: 0.056818181818181816\n",
      "Beautiful: 0.056818181818181816\n",
      "Watercolor: 0.056818181818181816\n",
      "forest: 0.045454545454545456\n",
      "Copy: 0.045454545454545456\n",
      "Girl: 0.045454545454545456\n",
      "Eagle: 0.045454545454545456\n",
      "American: 0.045454545454545456\n",
      "Head: 0.045454545454545456\n",
      "Top: 0.045454545454545456\n",
      "Shirt: 0.045454545454545456\n",
      "Realistic: 0.045454545454545456\n",
      "Christmas: 0.045454545454545456\n",
      "Black: 0.045454545454545456\n",
      "Kid: 0.045454545454545456\n",
      "Children: 0.045454545454545456\n",
      "3D: 0.045454545454545456\n",
      "Use: 0.045454545454545456\n",
      "PNG: 0.045454545454545456\n",
      "Wrap: 0.045454545454545456\n",
      "floral: 0.045454545454545456\n",
      "Afro: 0.045454545454545456\n",
      "Sticker: 0.045454545454545456\n",
      "Character: 0.045454545454545456\n",
      "Storybook: 0.045454545454545456\n",
      "Poster: 0.045454545454545456\n",
      "Nail: 0.045454545454545456\n",
      "Includes: 0.03409090909090909\n",
      "Lifestyle: 0.03409090909090909\n",
      "Set: 0.03409090909090909\n",
      "Paste: 0.03409090909090909\n",
      "Anime: 0.03409090909090909\n",
      "Paper: 0.03409090909090909\n",
      "Crafted: 0.03409090909090909\n",
      "ChatGPT: 0.03409090909090909\n",
      "Business: 0.03409090909090909\n",
      "Horror: 0.03409090909090909\n",
      "Tricks: 0.03409090909090909\n",
      "Cartoon: 0.03409090909090909\n",
      "Boy: 0.03409090909090909\n",
      "Sell: 0.03409090909090909\n",
      "Etsy: 0.03409090909090909\n",
      "Sublimation: 0.03409090909090909\n",
      "Nursery: 0.03409090909090909\n",
      "Alien: 0.03409090909090909\n",
      "Customisable: 0.03409090909090909\n",
      "Bull: 0.03409090909090909\n",
      "Ebony: 0.03409090909090909\n",
      "Commercial: 0.03409090909090909\n",
      "Pop: 0.03409090909090909\n",
      "Generator: 0.03409090909090909\n",
      "Consistent: 0.03409090909090909\n",
      "Bird: 0.03409090909090909\n",
      "school: 0.03409090909090909\n",
      "Earth: 0.022727272727272728\n",
      "goddess: 0.022727272727272728\n",
      "Active: 0.022727272727272728\n",
      "Vintage: 0.022727272727272728\n",
      "coloring: 0.022727272727272728\n",
      "Angry: 0.022727272727272728\n",
      "Futuristic: 0.022727272727272728\n",
      "Tecnological: 0.022727272727272728\n",
      "Christianity: 0.022727272727272728\n",
      "Bot: 0.022727272727272728\n",
      "included: 0.022727272727272728\n",
      "Prompting: 0.022727272727272728\n",
      "POD: 0.022727272727272728\n",
      "Access: 0.022727272727272728\n",
      "Leonardo: 0.022727272727272728\n",
      "tutorial: 0.022727272727272728\n",
      "White: 0.022727272727272728\n",
      "Easy: 0.022727272727272728\n",
      "Fantasy: 0.022727272727272728\n",
      "Drawing: 0.022727272727272728\n",
      "Engineering: 0.022727272727272728\n",
      "Landscape: 0.022727272727272728\n",
      "Vector: 0.022727272727272728\n",
      "crystal: 0.022727272727272728\n",
      "Baby: 0.022727272727272728\n",
      "Melanin: 0.022727272727272728\n",
      "Style: 0.022727272727272728\n",
      "w: 0.022727272727272728\n",
      "High: 0.022727272727272728\n",
      "template: 0.022727272727272728\n",
      "Mandala: 0.022727272727272728\n",
      "Procreate: 0.022727272727272728\n",
      "Junk: 0.022727272727272728\n",
      "Scrapbooking: 0.022727272727272728\n",
      "Scrapbook: 0.022727272727272728\n",
      "Creature: 0.022727272727272728\n",
      "V5: 0.022727272727272728\n",
      "Plus: 0.022727272727272728\n",
      "Collage: 0.022727272727272728\n",
      "Custom: 0.022727272727272728\n",
      "Seamless: 0.022727272727272728\n",
      "License: 0.022727272727272728\n",
      "Personalized: 0.022727272727272728\n",
      "Doodle: 0.022727272727272728\n",
      "Step: 0.022727272727272728\n",
      "Unique: 0.022727272727272728\n",
      "v: 0.022727272727272728\n",
      "vol: 0.022727272727272728\n",
      "tier: 0.022727272727272728\n",
      "Expertly: 0.022727272727272728\n",
      "Back: 0.022727272727272728\n",
      "Backpack: 0.022727272727272728\n",
      "picture: 0.022727272727272728\n",
      "printing: 0.022727272727272728\n",
      "generate: 0.022727272727272728\n",
      "ghost: 0.022727272727272728\n",
      "powerful: 0.011363636363636364\n",
      "warrior: 0.011363636363636364\n",
      "female: 0.011363636363636364\n",
      "home: 0.011363636363636364\n",
      "Decor: 0.011363636363636364\n",
      "mother: 0.011363636363636364\n",
      "Upscaled: 0.011363636363636364\n",
      "Family: 0.011363636363636364\n",
      "Queen: 0.011363636363636364\n",
      "Nefertiti: 0.011363636363636364\n",
      "Egypt: 0.011363636363636364\n",
      "Rustic: 0.011363636363636364\n",
      "Tennis: 0.011363636363636364\n",
      "Generated: 0.011363636363636364\n",
      "Phone: 0.011363636363636364\n",
      "Background: 0.011363636363636364\n",
      "pages: 0.011363636363636364\n",
      "Jellyfish: 0.011363636363636364\n",
      "Tribal: 0.011363636363636364\n",
      "USA: 0.011363636363636364\n",
      "imagine: 0.011363636363636364\n",
      "Captivating: 0.011363636363636364\n",
      "Vibrant: 0.011363636363636364\n",
      "Intricate: 0.011363636363636364\n",
      "Photographic: 0.011363636363636364\n",
      "Masterpiece: 0.011363636363636364\n",
      "faith: 0.011363636363636364\n",
      "Automation: 0.011363636363636364\n",
      "Supercharge: 0.011363636363636364\n",
      "Creative: 0.011363636363636364\n",
      "Process: 0.011363636363636364\n",
      "fully: 0.011363636363636364\n",
      "automated: 0.011363636363636364\n",
      "Privacy: 0.011363636363636364\n",
      "Mode: 0.011363636363636364\n",
      "MacOS: 0.011363636363636364\n",
      "crusher: 0.011363636363636364\n",
      "new: 0.011363636363636364\n"
     ]
    }
   ],
   "source": [
    "for i,v in word_frequencies.items():\n",
    "    if ' ' not in i:\n",
    "        print(f\"{i}: {v}\")"
   ]
  },
  {
   "cell_type": "markdown",
   "metadata": {},
   "source": [
    "- two word with most frequency"
   ]
  },
  {
   "cell_type": "code",
   "execution_count": 124,
   "metadata": {},
   "outputs": [
    {
     "name": "stdout",
     "output_type": "stream",
     "text": [
      "Midjourney Prompt: 1.0\n",
      "AI Art: 0.5\n",
      "Best Midjourney: 0.18181818181818182\n",
      "Professional Midjourney: 0.14772727272727273\n",
      "Wall Art: 0.13636363636363635\n",
      "Black Women: 0.125\n",
      "AI Generated: 0.11363636363636363\n",
      "Digital Download: 0.09090909090909091\n",
      "T Shirt: 0.09090909090909091\n",
      "African American: 0.07954545454545454\n",
      "High Quality: 0.06818181818181818\n",
      "Marble Patterns: 0.045454545454545456\n",
      "Home Decor: 0.03409090909090909\n",
      "Sci Fi: 0.03409090909090909\n",
      "Stock Photos: 0.03409090909090909\n",
      "highland cow: 0.03409090909090909\n",
      "god religion: 0.022727272727272728\n",
      "religion jesus: 0.022727272727272728\n"
     ]
    }
   ],
   "source": [
    "for i,v in word_frequencies.items():\n",
    "    if ' ' in i:\n",
    "        print(f\"{i}: {v}\")"
   ]
  },
  {
   "cell_type": "markdown",
   "metadata": {},
   "source": [
    "### Conclusion\n",
    "- All unique Listing\n",
    "- Top One words in Listing with most frequency\n",
    "- Top two words in Listing with most frequency"
   ]
  },
  {
   "cell_type": "markdown",
   "metadata": {},
   "source": [
    "## Listing Age (Days) (Numeric)"
   ]
  },
  {
   "cell_type": "code",
   "execution_count": 148,
   "metadata": {},
   "outputs": [
    {
     "data": {
      "text/plain": [
       "0      58\n",
       "1       7\n",
       "2      70\n",
       "3       6\n",
       "4     239\n",
       "     ... \n",
       "95     17\n",
       "96    210\n",
       "97    200\n",
       "98     16\n",
       "99    132\n",
       "Name: Listing Age (Days), Length: 100, dtype: int64"
      ]
     },
     "execution_count": 148,
     "metadata": {},
     "output_type": "execute_result"
    }
   ],
   "source": [
    "df[\"Listing Age (Days)\"]"
   ]
  },
  {
   "cell_type": "code",
   "execution_count": 139,
   "metadata": {},
   "outputs": [
    {
     "name": "stdout",
     "output_type": "stream",
     "text": [
      "0      58\n",
      "1       7\n",
      "2      70\n",
      "3       6\n",
      "4     239\n",
      "     ... \n",
      "95     17\n",
      "96    210\n",
      "97    200\n",
      "98     16\n",
      "99    132\n",
      "Name: Listing Age (Days), Length: 100, dtype: int64\n"
     ]
    }
   ],
   "source": [
    "Listing_age = df[\"Listing Age (Days)\"]\n",
    "print(Listing_age)"
   ]
  },
  {
   "cell_type": "code",
   "execution_count": 138,
   "metadata": {},
   "outputs": [
    {
     "data": {
      "text/plain": [
       "count    100.000000\n",
       "mean      93.710000\n",
       "std       62.833964\n",
       "min        5.000000\n",
       "25%       38.750000\n",
       "50%       87.500000\n",
       "75%      142.750000\n",
       "max      239.000000\n",
       "Name: Listing Age (Days), dtype: float64"
      ]
     },
     "execution_count": 138,
     "metadata": {},
     "output_type": "execute_result"
    }
   ],
   "source": [
    "Listing_age.describe()"
   ]
  },
  {
   "cell_type": "code",
   "execution_count": 154,
   "metadata": {},
   "outputs": [
    {
     "data": {
      "application/vnd.plotly.v1+json": {
       "config": {
        "plotlyServerURL": "https://plot.ly"
       },
       "data": [
        {
         "alignmentgroup": "True",
         "bingroup": "x",
         "hovertemplate": "Listing Age (Days)=%{x}<br>count=%{y}<extra></extra>",
         "legendgroup": "",
         "marker": {
          "color": "#636efa",
          "pattern": {
           "shape": ""
          }
         },
         "name": "",
         "nbinsx": 20,
         "offsetgroup": "",
         "orientation": "v",
         "showlegend": false,
         "type": "histogram",
         "x": [
          58,
          7,
          70,
          6,
          239,
          34,
          5,
          5,
          6,
          217,
          232,
          148,
          82,
          135,
          48,
          115,
          33,
          17,
          159,
          133,
          119,
          146,
          34,
          99,
          18,
          111,
          36,
          38,
          160,
          60,
          33,
          28,
          104,
          49,
          118,
          78,
          123,
          61,
          115,
          37,
          98,
          142,
          171,
          153,
          9,
          147,
          21,
          233,
          66,
          42,
          162,
          26,
          59,
          47,
          175,
          32,
          67,
          193,
          54,
          6,
          106,
          96,
          71,
          145,
          93,
          151,
          127,
          132,
          6,
          135,
          134,
          150,
          53,
          12,
          154,
          84,
          91,
          117,
          190,
          139,
          57,
          50,
          152,
          171,
          173,
          79,
          68,
          39,
          122,
          208,
          13,
          41,
          49,
          66,
          103,
          17,
          210,
          200,
          16,
          132
         ],
         "xaxis": "x",
         "yaxis": "y"
        }
       ],
       "layout": {
        "barmode": "relative",
        "legend": {
         "tracegroupgap": 0
        },
        "margin": {
         "t": 60
        },
        "template": {
         "data": {
          "bar": [
           {
            "error_x": {
             "color": "#2a3f5f"
            },
            "error_y": {
             "color": "#2a3f5f"
            },
            "marker": {
             "line": {
              "color": "#E5ECF6",
              "width": 0.5
             },
             "pattern": {
              "fillmode": "overlay",
              "size": 10,
              "solidity": 0.2
             }
            },
            "type": "bar"
           }
          ],
          "barpolar": [
           {
            "marker": {
             "line": {
              "color": "#E5ECF6",
              "width": 0.5
             },
             "pattern": {
              "fillmode": "overlay",
              "size": 10,
              "solidity": 0.2
             }
            },
            "type": "barpolar"
           }
          ],
          "carpet": [
           {
            "aaxis": {
             "endlinecolor": "#2a3f5f",
             "gridcolor": "white",
             "linecolor": "white",
             "minorgridcolor": "white",
             "startlinecolor": "#2a3f5f"
            },
            "baxis": {
             "endlinecolor": "#2a3f5f",
             "gridcolor": "white",
             "linecolor": "white",
             "minorgridcolor": "white",
             "startlinecolor": "#2a3f5f"
            },
            "type": "carpet"
           }
          ],
          "choropleth": [
           {
            "colorbar": {
             "outlinewidth": 0,
             "ticks": ""
            },
            "type": "choropleth"
           }
          ],
          "contour": [
           {
            "colorbar": {
             "outlinewidth": 0,
             "ticks": ""
            },
            "colorscale": [
             [
              0,
              "#0d0887"
             ],
             [
              0.1111111111111111,
              "#46039f"
             ],
             [
              0.2222222222222222,
              "#7201a8"
             ],
             [
              0.3333333333333333,
              "#9c179e"
             ],
             [
              0.4444444444444444,
              "#bd3786"
             ],
             [
              0.5555555555555556,
              "#d8576b"
             ],
             [
              0.6666666666666666,
              "#ed7953"
             ],
             [
              0.7777777777777778,
              "#fb9f3a"
             ],
             [
              0.8888888888888888,
              "#fdca26"
             ],
             [
              1,
              "#f0f921"
             ]
            ],
            "type": "contour"
           }
          ],
          "contourcarpet": [
           {
            "colorbar": {
             "outlinewidth": 0,
             "ticks": ""
            },
            "type": "contourcarpet"
           }
          ],
          "heatmap": [
           {
            "colorbar": {
             "outlinewidth": 0,
             "ticks": ""
            },
            "colorscale": [
             [
              0,
              "#0d0887"
             ],
             [
              0.1111111111111111,
              "#46039f"
             ],
             [
              0.2222222222222222,
              "#7201a8"
             ],
             [
              0.3333333333333333,
              "#9c179e"
             ],
             [
              0.4444444444444444,
              "#bd3786"
             ],
             [
              0.5555555555555556,
              "#d8576b"
             ],
             [
              0.6666666666666666,
              "#ed7953"
             ],
             [
              0.7777777777777778,
              "#fb9f3a"
             ],
             [
              0.8888888888888888,
              "#fdca26"
             ],
             [
              1,
              "#f0f921"
             ]
            ],
            "type": "heatmap"
           }
          ],
          "heatmapgl": [
           {
            "colorbar": {
             "outlinewidth": 0,
             "ticks": ""
            },
            "colorscale": [
             [
              0,
              "#0d0887"
             ],
             [
              0.1111111111111111,
              "#46039f"
             ],
             [
              0.2222222222222222,
              "#7201a8"
             ],
             [
              0.3333333333333333,
              "#9c179e"
             ],
             [
              0.4444444444444444,
              "#bd3786"
             ],
             [
              0.5555555555555556,
              "#d8576b"
             ],
             [
              0.6666666666666666,
              "#ed7953"
             ],
             [
              0.7777777777777778,
              "#fb9f3a"
             ],
             [
              0.8888888888888888,
              "#fdca26"
             ],
             [
              1,
              "#f0f921"
             ]
            ],
            "type": "heatmapgl"
           }
          ],
          "histogram": [
           {
            "marker": {
             "pattern": {
              "fillmode": "overlay",
              "size": 10,
              "solidity": 0.2
             }
            },
            "type": "histogram"
           }
          ],
          "histogram2d": [
           {
            "colorbar": {
             "outlinewidth": 0,
             "ticks": ""
            },
            "colorscale": [
             [
              0,
              "#0d0887"
             ],
             [
              0.1111111111111111,
              "#46039f"
             ],
             [
              0.2222222222222222,
              "#7201a8"
             ],
             [
              0.3333333333333333,
              "#9c179e"
             ],
             [
              0.4444444444444444,
              "#bd3786"
             ],
             [
              0.5555555555555556,
              "#d8576b"
             ],
             [
              0.6666666666666666,
              "#ed7953"
             ],
             [
              0.7777777777777778,
              "#fb9f3a"
             ],
             [
              0.8888888888888888,
              "#fdca26"
             ],
             [
              1,
              "#f0f921"
             ]
            ],
            "type": "histogram2d"
           }
          ],
          "histogram2dcontour": [
           {
            "colorbar": {
             "outlinewidth": 0,
             "ticks": ""
            },
            "colorscale": [
             [
              0,
              "#0d0887"
             ],
             [
              0.1111111111111111,
              "#46039f"
             ],
             [
              0.2222222222222222,
              "#7201a8"
             ],
             [
              0.3333333333333333,
              "#9c179e"
             ],
             [
              0.4444444444444444,
              "#bd3786"
             ],
             [
              0.5555555555555556,
              "#d8576b"
             ],
             [
              0.6666666666666666,
              "#ed7953"
             ],
             [
              0.7777777777777778,
              "#fb9f3a"
             ],
             [
              0.8888888888888888,
              "#fdca26"
             ],
             [
              1,
              "#f0f921"
             ]
            ],
            "type": "histogram2dcontour"
           }
          ],
          "mesh3d": [
           {
            "colorbar": {
             "outlinewidth": 0,
             "ticks": ""
            },
            "type": "mesh3d"
           }
          ],
          "parcoords": [
           {
            "line": {
             "colorbar": {
              "outlinewidth": 0,
              "ticks": ""
             }
            },
            "type": "parcoords"
           }
          ],
          "pie": [
           {
            "automargin": true,
            "type": "pie"
           }
          ],
          "scatter": [
           {
            "fillpattern": {
             "fillmode": "overlay",
             "size": 10,
             "solidity": 0.2
            },
            "type": "scatter"
           }
          ],
          "scatter3d": [
           {
            "line": {
             "colorbar": {
              "outlinewidth": 0,
              "ticks": ""
             }
            },
            "marker": {
             "colorbar": {
              "outlinewidth": 0,
              "ticks": ""
             }
            },
            "type": "scatter3d"
           }
          ],
          "scattercarpet": [
           {
            "marker": {
             "colorbar": {
              "outlinewidth": 0,
              "ticks": ""
             }
            },
            "type": "scattercarpet"
           }
          ],
          "scattergeo": [
           {
            "marker": {
             "colorbar": {
              "outlinewidth": 0,
              "ticks": ""
             }
            },
            "type": "scattergeo"
           }
          ],
          "scattergl": [
           {
            "marker": {
             "colorbar": {
              "outlinewidth": 0,
              "ticks": ""
             }
            },
            "type": "scattergl"
           }
          ],
          "scattermapbox": [
           {
            "marker": {
             "colorbar": {
              "outlinewidth": 0,
              "ticks": ""
             }
            },
            "type": "scattermapbox"
           }
          ],
          "scatterpolar": [
           {
            "marker": {
             "colorbar": {
              "outlinewidth": 0,
              "ticks": ""
             }
            },
            "type": "scatterpolar"
           }
          ],
          "scatterpolargl": [
           {
            "marker": {
             "colorbar": {
              "outlinewidth": 0,
              "ticks": ""
             }
            },
            "type": "scatterpolargl"
           }
          ],
          "scatterternary": [
           {
            "marker": {
             "colorbar": {
              "outlinewidth": 0,
              "ticks": ""
             }
            },
            "type": "scatterternary"
           }
          ],
          "surface": [
           {
            "colorbar": {
             "outlinewidth": 0,
             "ticks": ""
            },
            "colorscale": [
             [
              0,
              "#0d0887"
             ],
             [
              0.1111111111111111,
              "#46039f"
             ],
             [
              0.2222222222222222,
              "#7201a8"
             ],
             [
              0.3333333333333333,
              "#9c179e"
             ],
             [
              0.4444444444444444,
              "#bd3786"
             ],
             [
              0.5555555555555556,
              "#d8576b"
             ],
             [
              0.6666666666666666,
              "#ed7953"
             ],
             [
              0.7777777777777778,
              "#fb9f3a"
             ],
             [
              0.8888888888888888,
              "#fdca26"
             ],
             [
              1,
              "#f0f921"
             ]
            ],
            "type": "surface"
           }
          ],
          "table": [
           {
            "cells": {
             "fill": {
              "color": "#EBF0F8"
             },
             "line": {
              "color": "white"
             }
            },
            "header": {
             "fill": {
              "color": "#C8D4E3"
             },
             "line": {
              "color": "white"
             }
            },
            "type": "table"
           }
          ]
         },
         "layout": {
          "annotationdefaults": {
           "arrowcolor": "#2a3f5f",
           "arrowhead": 0,
           "arrowwidth": 1
          },
          "autotypenumbers": "strict",
          "coloraxis": {
           "colorbar": {
            "outlinewidth": 0,
            "ticks": ""
           }
          },
          "colorscale": {
           "diverging": [
            [
             0,
             "#8e0152"
            ],
            [
             0.1,
             "#c51b7d"
            ],
            [
             0.2,
             "#de77ae"
            ],
            [
             0.3,
             "#f1b6da"
            ],
            [
             0.4,
             "#fde0ef"
            ],
            [
             0.5,
             "#f7f7f7"
            ],
            [
             0.6,
             "#e6f5d0"
            ],
            [
             0.7,
             "#b8e186"
            ],
            [
             0.8,
             "#7fbc41"
            ],
            [
             0.9,
             "#4d9221"
            ],
            [
             1,
             "#276419"
            ]
           ],
           "sequential": [
            [
             0,
             "#0d0887"
            ],
            [
             0.1111111111111111,
             "#46039f"
            ],
            [
             0.2222222222222222,
             "#7201a8"
            ],
            [
             0.3333333333333333,
             "#9c179e"
            ],
            [
             0.4444444444444444,
             "#bd3786"
            ],
            [
             0.5555555555555556,
             "#d8576b"
            ],
            [
             0.6666666666666666,
             "#ed7953"
            ],
            [
             0.7777777777777778,
             "#fb9f3a"
            ],
            [
             0.8888888888888888,
             "#fdca26"
            ],
            [
             1,
             "#f0f921"
            ]
           ],
           "sequentialminus": [
            [
             0,
             "#0d0887"
            ],
            [
             0.1111111111111111,
             "#46039f"
            ],
            [
             0.2222222222222222,
             "#7201a8"
            ],
            [
             0.3333333333333333,
             "#9c179e"
            ],
            [
             0.4444444444444444,
             "#bd3786"
            ],
            [
             0.5555555555555556,
             "#d8576b"
            ],
            [
             0.6666666666666666,
             "#ed7953"
            ],
            [
             0.7777777777777778,
             "#fb9f3a"
            ],
            [
             0.8888888888888888,
             "#fdca26"
            ],
            [
             1,
             "#f0f921"
            ]
           ]
          },
          "colorway": [
           "#636efa",
           "#EF553B",
           "#00cc96",
           "#ab63fa",
           "#FFA15A",
           "#19d3f3",
           "#FF6692",
           "#B6E880",
           "#FF97FF",
           "#FECB52"
          ],
          "font": {
           "color": "#2a3f5f"
          },
          "geo": {
           "bgcolor": "white",
           "lakecolor": "white",
           "landcolor": "#E5ECF6",
           "showlakes": true,
           "showland": true,
           "subunitcolor": "white"
          },
          "hoverlabel": {
           "align": "left"
          },
          "hovermode": "closest",
          "mapbox": {
           "style": "light"
          },
          "paper_bgcolor": "white",
          "plot_bgcolor": "#E5ECF6",
          "polar": {
           "angularaxis": {
            "gridcolor": "white",
            "linecolor": "white",
            "ticks": ""
           },
           "bgcolor": "#E5ECF6",
           "radialaxis": {
            "gridcolor": "white",
            "linecolor": "white",
            "ticks": ""
           }
          },
          "scene": {
           "xaxis": {
            "backgroundcolor": "#E5ECF6",
            "gridcolor": "white",
            "gridwidth": 2,
            "linecolor": "white",
            "showbackground": true,
            "ticks": "",
            "zerolinecolor": "white"
           },
           "yaxis": {
            "backgroundcolor": "#E5ECF6",
            "gridcolor": "white",
            "gridwidth": 2,
            "linecolor": "white",
            "showbackground": true,
            "ticks": "",
            "zerolinecolor": "white"
           },
           "zaxis": {
            "backgroundcolor": "#E5ECF6",
            "gridcolor": "white",
            "gridwidth": 2,
            "linecolor": "white",
            "showbackground": true,
            "ticks": "",
            "zerolinecolor": "white"
           }
          },
          "shapedefaults": {
           "line": {
            "color": "#2a3f5f"
           }
          },
          "ternary": {
           "aaxis": {
            "gridcolor": "white",
            "linecolor": "white",
            "ticks": ""
           },
           "baxis": {
            "gridcolor": "white",
            "linecolor": "white",
            "ticks": ""
           },
           "bgcolor": "#E5ECF6",
           "caxis": {
            "gridcolor": "white",
            "linecolor": "white",
            "ticks": ""
           }
          },
          "title": {
           "x": 0.05
          },
          "xaxis": {
           "automargin": true,
           "gridcolor": "white",
           "linecolor": "white",
           "ticks": "",
           "title": {
            "standoff": 15
           },
           "zerolinecolor": "white",
           "zerolinewidth": 2
          },
          "yaxis": {
           "automargin": true,
           "gridcolor": "white",
           "linecolor": "white",
           "ticks": "",
           "title": {
            "standoff": 15
           },
           "zerolinecolor": "white",
           "zerolinewidth": 2
          }
         }
        },
        "xaxis": {
         "anchor": "y",
         "domain": [
          0,
          1
         ],
         "title": {
          "text": "Listing Age (Days)"
         }
        },
        "yaxis": {
         "anchor": "x",
         "domain": [
          0,
          1
         ],
         "title": {
          "text": "count"
         }
        }
       }
      }
     },
     "metadata": {},
     "output_type": "display_data"
    }
   ],
   "source": [
    "px.histogram(Listing_age, x='Listing Age (Days)', nbins=20)"
   ]
  },
  {
   "cell_type": "markdown",
   "metadata": {},
   "source": [
    "- Oldest Listings"
   ]
  },
  {
   "cell_type": "code",
   "execution_count": 173,
   "metadata": {},
   "outputs": [
    {
     "name": "stdout",
     "output_type": "stream",
     "text": [
      "[175 190 193 200 208 210 217 232 233 239]\n"
     ]
    }
   ],
   "source": [
    "old_listing = Listing_age.sort_values().tail(10).values\n",
    "print(old_listing)"
   ]
  },
  {
   "cell_type": "code",
   "execution_count": 174,
   "metadata": {},
   "outputs": [
    {
     "data": {
      "text/html": [
       "<div>\n",
       "<style scoped>\n",
       "    .dataframe tbody tr th:only-of-type {\n",
       "        vertical-align: middle;\n",
       "    }\n",
       "\n",
       "    .dataframe tbody tr th {\n",
       "        vertical-align: top;\n",
       "    }\n",
       "\n",
       "    .dataframe thead th {\n",
       "        text-align: right;\n",
       "    }\n",
       "</style>\n",
       "<table border=\"1\" class=\"dataframe\">\n",
       "  <thead>\n",
       "    <tr style=\"text-align: right;\">\n",
       "      <th></th>\n",
       "      <th>ShopName</th>\n",
       "      <th>Listing</th>\n",
       "      <th>Listing Age (Days)</th>\n",
       "      <th>Total Views</th>\n",
       "      <th>Daily Views</th>\n",
       "      <th>Est. Sales</th>\n",
       "      <th>Price</th>\n",
       "      <th>Est. Revenue</th>\n",
       "      <th>Hearts</th>\n",
       "    </tr>\n",
       "  </thead>\n",
       "  <tbody>\n",
       "    <tr>\n",
       "      <th>4</th>\n",
       "      <td>geoffe</td>\n",
       "      <td>Queen Nefertiti of Egypt, Set of 5 AI  - Midjo...</td>\n",
       "      <td>239</td>\n",
       "      <td>2255.0</td>\n",
       "      <td>9.4</td>\n",
       "      <td>116</td>\n",
       "      <td>3.00</td>\n",
       "      <td>348.0</td>\n",
       "      <td>25.0</td>\n",
       "    </tr>\n",
       "    <tr>\n",
       "      <th>9</th>\n",
       "      <td>NesianInspiredAU</td>\n",
       "      <td>Jellyfish - Digital Art Print, AI Generated, M...</td>\n",
       "      <td>217</td>\n",
       "      <td>6.0</td>\n",
       "      <td>0.0</td>\n",
       "      <td>0</td>\n",
       "      <td>1.91</td>\n",
       "      <td>0.0</td>\n",
       "      <td>0.0</td>\n",
       "    </tr>\n",
       "    <tr>\n",
       "      <th>10</th>\n",
       "      <td>DesignDigiGoods</td>\n",
       "      <td>AI Professional Midjourney Prompt Angry Eagle ...</td>\n",
       "      <td>232</td>\n",
       "      <td>80.0</td>\n",
       "      <td>0.3</td>\n",
       "      <td>2</td>\n",
       "      <td>8.79</td>\n",
       "      <td>18.0</td>\n",
       "      <td>0.0</td>\n",
       "    </tr>\n",
       "    <tr>\n",
       "      <th>47</th>\n",
       "      <td>DesignDigiGoods</td>\n",
       "      <td>AI Professional Midjourney Prompt Angry Bull H...</td>\n",
       "      <td>233</td>\n",
       "      <td>112.0</td>\n",
       "      <td>0.5</td>\n",
       "      <td>3</td>\n",
       "      <td>8.79</td>\n",
       "      <td>26.0</td>\n",
       "      <td>1.0</td>\n",
       "    </tr>\n",
       "    <tr>\n",
       "      <th>54</th>\n",
       "      <td>IckynicksTreasures</td>\n",
       "      <td>Midjourney Cartoon Style Prompts | Cute Black ...</td>\n",
       "      <td>175</td>\n",
       "      <td>1215.0</td>\n",
       "      <td>6.9</td>\n",
       "      <td>40</td>\n",
       "      <td>6.36</td>\n",
       "      <td>254.0</td>\n",
       "      <td>54.0</td>\n",
       "    </tr>\n",
       "    <tr>\n",
       "      <th>57</th>\n",
       "      <td>ArtPrintsSchool</td>\n",
       "      <td>50+ Midjourney Pop Art Prompt, AI Art, Midjour...</td>\n",
       "      <td>193</td>\n",
       "      <td>1353.0</td>\n",
       "      <td>7.0</td>\n",
       "      <td>69</td>\n",
       "      <td>2.75</td>\n",
       "      <td>189.0</td>\n",
       "      <td>41.0</td>\n",
       "    </tr>\n",
       "    <tr>\n",
       "      <th>78</th>\n",
       "      <td>NeuralNetworksArt</td>\n",
       "      <td>Green tree house in forest, anime, Midjourney ...</td>\n",
       "      <td>190</td>\n",
       "      <td>44.0</td>\n",
       "      <td>0.2</td>\n",
       "      <td>2</td>\n",
       "      <td>2.10</td>\n",
       "      <td>4.0</td>\n",
       "      <td>0.0</td>\n",
       "    </tr>\n",
       "    <tr>\n",
       "      <th>89</th>\n",
       "      <td>TheAIPromptShop</td>\n",
       "      <td>Best AI Professional Midjourney Prompts, Free ...</td>\n",
       "      <td>208</td>\n",
       "      <td>71.0</td>\n",
       "      <td>0.3</td>\n",
       "      <td>2</td>\n",
       "      <td>5.85</td>\n",
       "      <td>12.0</td>\n",
       "      <td>3.0</td>\n",
       "    </tr>\n",
       "    <tr>\n",
       "      <th>96</th>\n",
       "      <td>MidjourneyPrompt</td>\n",
       "      <td>Midjourney Prompt for Watercolor Animals | Mid...</td>\n",
       "      <td>210</td>\n",
       "      <td>10650.0</td>\n",
       "      <td>50.7</td>\n",
       "      <td>352</td>\n",
       "      <td>5.69</td>\n",
       "      <td>2003.0</td>\n",
       "      <td>860.0</td>\n",
       "    </tr>\n",
       "    <tr>\n",
       "      <th>97</th>\n",
       "      <td>InfinteArtDesigns</td>\n",
       "      <td>2023 Professional Midjourney AI Prompt Templat...</td>\n",
       "      <td>200</td>\n",
       "      <td>2772.0</td>\n",
       "      <td>13.9</td>\n",
       "      <td>143</td>\n",
       "      <td>1.99</td>\n",
       "      <td>285.0</td>\n",
       "      <td>124.0</td>\n",
       "    </tr>\n",
       "  </tbody>\n",
       "</table>\n",
       "</div>"
      ],
      "text/plain": [
       "              ShopName                                            Listing  \\\n",
       "4               geoffe  Queen Nefertiti of Egypt, Set of 5 AI  - Midjo...   \n",
       "9     NesianInspiredAU  Jellyfish - Digital Art Print, AI Generated, M...   \n",
       "10     DesignDigiGoods  AI Professional Midjourney Prompt Angry Eagle ...   \n",
       "47     DesignDigiGoods  AI Professional Midjourney Prompt Angry Bull H...   \n",
       "54  IckynicksTreasures  Midjourney Cartoon Style Prompts | Cute Black ...   \n",
       "57     ArtPrintsSchool  50+ Midjourney Pop Art Prompt, AI Art, Midjour...   \n",
       "78   NeuralNetworksArt  Green tree house in forest, anime, Midjourney ...   \n",
       "89     TheAIPromptShop  Best AI Professional Midjourney Prompts, Free ...   \n",
       "96    MidjourneyPrompt  Midjourney Prompt for Watercolor Animals | Mid...   \n",
       "97   InfinteArtDesigns  2023 Professional Midjourney AI Prompt Templat...   \n",
       "\n",
       "    Listing Age (Days)  Total Views  Daily Views  Est. Sales  Price  \\\n",
       "4                  239       2255.0          9.4         116   3.00   \n",
       "9                  217          6.0          0.0           0   1.91   \n",
       "10                 232         80.0          0.3           2   8.79   \n",
       "47                 233        112.0          0.5           3   8.79   \n",
       "54                 175       1215.0          6.9          40   6.36   \n",
       "57                 193       1353.0          7.0          69   2.75   \n",
       "78                 190         44.0          0.2           2   2.10   \n",
       "89                 208         71.0          0.3           2   5.85   \n",
       "96                 210      10650.0         50.7         352   5.69   \n",
       "97                 200       2772.0         13.9         143   1.99   \n",
       "\n",
       "    Est. Revenue  Hearts  \n",
       "4          348.0    25.0  \n",
       "9            0.0     0.0  \n",
       "10          18.0     0.0  \n",
       "47          26.0     1.0  \n",
       "54         254.0    54.0  \n",
       "57         189.0    41.0  \n",
       "78           4.0     0.0  \n",
       "89          12.0     3.0  \n",
       "96        2003.0   860.0  \n",
       "97         285.0   124.0  "
      ]
     },
     "execution_count": 174,
     "metadata": {},
     "output_type": "execute_result"
    }
   ],
   "source": [
    "df[df[\"Listing Age (Days)\"].isin(old_listing)]"
   ]
  },
  {
   "cell_type": "markdown",
   "metadata": {},
   "source": [
    "- Latest Listings"
   ]
  },
  {
   "cell_type": "code",
   "execution_count": 175,
   "metadata": {},
   "outputs": [
    {
     "data": {
      "text/html": [
       "<div>\n",
       "<style scoped>\n",
       "    .dataframe tbody tr th:only-of-type {\n",
       "        vertical-align: middle;\n",
       "    }\n",
       "\n",
       "    .dataframe tbody tr th {\n",
       "        vertical-align: top;\n",
       "    }\n",
       "\n",
       "    .dataframe thead th {\n",
       "        text-align: right;\n",
       "    }\n",
       "</style>\n",
       "<table border=\"1\" class=\"dataframe\">\n",
       "  <thead>\n",
       "    <tr style=\"text-align: right;\">\n",
       "      <th></th>\n",
       "      <th>ShopName</th>\n",
       "      <th>Listing</th>\n",
       "      <th>Listing Age (Days)</th>\n",
       "      <th>Total Views</th>\n",
       "      <th>Daily Views</th>\n",
       "      <th>Est. Sales</th>\n",
       "      <th>Price</th>\n",
       "      <th>Est. Revenue</th>\n",
       "      <th>Hearts</th>\n",
       "    </tr>\n",
       "  </thead>\n",
       "  <tbody>\n",
       "    <tr>\n",
       "      <th>1</th>\n",
       "      <td>PaintBoxAI</td>\n",
       "      <td>Midjourney Logo Prompt, AI Customizable Prompt...</td>\n",
       "      <td>7</td>\n",
       "      <td>9.0</td>\n",
       "      <td>1.3</td>\n",
       "      <td>0</td>\n",
       "      <td>3.00</td>\n",
       "      <td>0.0</td>\n",
       "      <td>0.0</td>\n",
       "    </tr>\n",
       "    <tr>\n",
       "      <th>3</th>\n",
       "      <td>Xenaifuture</td>\n",
       "      <td>Prompt Guide Family Lifestyle Stock Photos, Mi...</td>\n",
       "      <td>6</td>\n",
       "      <td>20.0</td>\n",
       "      <td>3.3</td>\n",
       "      <td>0</td>\n",
       "      <td>5.24</td>\n",
       "      <td>0.0</td>\n",
       "      <td>1.0</td>\n",
       "    </tr>\n",
       "    <tr>\n",
       "      <th>6</th>\n",
       "      <td>MescyImages</td>\n",
       "      <td>Tennis Anime Girl, AI MidJourney Generated, Ph...</td>\n",
       "      <td>5</td>\n",
       "      <td>1.0</td>\n",
       "      <td>0.2</td>\n",
       "      <td>0</td>\n",
       "      <td>0.99</td>\n",
       "      <td>0.0</td>\n",
       "      <td>0.0</td>\n",
       "    </tr>\n",
       "    <tr>\n",
       "      <th>7</th>\n",
       "      <td>ArtifexXxX</td>\n",
       "      <td>100+ Fall Prompts | Midjourney Prompts, AI Art...</td>\n",
       "      <td>5</td>\n",
       "      <td>12.0</td>\n",
       "      <td>2.4</td>\n",
       "      <td>0</td>\n",
       "      <td>8.24</td>\n",
       "      <td>0.0</td>\n",
       "      <td>1.0</td>\n",
       "    </tr>\n",
       "    <tr>\n",
       "      <th>8</th>\n",
       "      <td>BalugaCreations</td>\n",
       "      <td>100+ Boho coloring midjourney prompts ai art b...</td>\n",
       "      <td>6</td>\n",
       "      <td>3.0</td>\n",
       "      <td>0.5</td>\n",
       "      <td>0</td>\n",
       "      <td>6.00</td>\n",
       "      <td>0.0</td>\n",
       "      <td>0.0</td>\n",
       "    </tr>\n",
       "    <tr>\n",
       "      <th>44</th>\n",
       "      <td>MidjourneyPromptsPro</td>\n",
       "      <td>Midjourney V5 AI Prompts Guide: Cute PET ART |...</td>\n",
       "      <td>9</td>\n",
       "      <td>14.0</td>\n",
       "      <td>1.6</td>\n",
       "      <td>0</td>\n",
       "      <td>10.00</td>\n",
       "      <td>0.0</td>\n",
       "      <td>2.0</td>\n",
       "    </tr>\n",
       "    <tr>\n",
       "      <th>59</th>\n",
       "      <td>GOTJEY</td>\n",
       "      <td>Black Women Midjourney Prompts for Black Women...</td>\n",
       "      <td>6</td>\n",
       "      <td>32.0</td>\n",
       "      <td>5.3</td>\n",
       "      <td>1</td>\n",
       "      <td>3.99</td>\n",
       "      <td>4.0</td>\n",
       "      <td>0.0</td>\n",
       "    </tr>\n",
       "    <tr>\n",
       "      <th>68</th>\n",
       "      <td>BalugaCreations</td>\n",
       "      <td>160 Storybook illustration midjourney prompts ...</td>\n",
       "      <td>6</td>\n",
       "      <td>9.0</td>\n",
       "      <td>1.5</td>\n",
       "      <td>0</td>\n",
       "      <td>6.00</td>\n",
       "      <td>0.0</td>\n",
       "      <td>0.0</td>\n",
       "    </tr>\n",
       "    <tr>\n",
       "      <th>73</th>\n",
       "      <td>OpheliasLabyrinth</td>\n",
       "      <td>Midjourney Prompt --v 5.2 for Halloween Black ...</td>\n",
       "      <td>12</td>\n",
       "      <td>5.0</td>\n",
       "      <td>0.4</td>\n",
       "      <td>0</td>\n",
       "      <td>4.09</td>\n",
       "      <td>0.0</td>\n",
       "      <td>0.0</td>\n",
       "    </tr>\n",
       "    <tr>\n",
       "      <th>90</th>\n",
       "      <td>OpheliasLabyrinth</td>\n",
       "      <td>Midjourney Prompt --v 5.2 for Halloween ghost ...</td>\n",
       "      <td>13</td>\n",
       "      <td>5.0</td>\n",
       "      <td>0.4</td>\n",
       "      <td>0</td>\n",
       "      <td>4.09</td>\n",
       "      <td>0.0</td>\n",
       "      <td>0.0</td>\n",
       "    </tr>\n",
       "  </tbody>\n",
       "</table>\n",
       "</div>"
      ],
      "text/plain": [
       "                ShopName                                            Listing  \\\n",
       "1             PaintBoxAI  Midjourney Logo Prompt, AI Customizable Prompt...   \n",
       "3            Xenaifuture  Prompt Guide Family Lifestyle Stock Photos, Mi...   \n",
       "6            MescyImages  Tennis Anime Girl, AI MidJourney Generated, Ph...   \n",
       "7             ArtifexXxX  100+ Fall Prompts | Midjourney Prompts, AI Art...   \n",
       "8        BalugaCreations  100+ Boho coloring midjourney prompts ai art b...   \n",
       "44  MidjourneyPromptsPro  Midjourney V5 AI Prompts Guide: Cute PET ART |...   \n",
       "59                GOTJEY  Black Women Midjourney Prompts for Black Women...   \n",
       "68       BalugaCreations  160 Storybook illustration midjourney prompts ...   \n",
       "73     OpheliasLabyrinth  Midjourney Prompt --v 5.2 for Halloween Black ...   \n",
       "90     OpheliasLabyrinth  Midjourney Prompt --v 5.2 for Halloween ghost ...   \n",
       "\n",
       "    Listing Age (Days)  Total Views  Daily Views  Est. Sales  Price  \\\n",
       "1                    7          9.0          1.3           0   3.00   \n",
       "3                    6         20.0          3.3           0   5.24   \n",
       "6                    5          1.0          0.2           0   0.99   \n",
       "7                    5         12.0          2.4           0   8.24   \n",
       "8                    6          3.0          0.5           0   6.00   \n",
       "44                   9         14.0          1.6           0  10.00   \n",
       "59                   6         32.0          5.3           1   3.99   \n",
       "68                   6          9.0          1.5           0   6.00   \n",
       "73                  12          5.0          0.4           0   4.09   \n",
       "90                  13          5.0          0.4           0   4.09   \n",
       "\n",
       "    Est. Revenue  Hearts  \n",
       "1            0.0     0.0  \n",
       "3            0.0     1.0  \n",
       "6            0.0     0.0  \n",
       "7            0.0     1.0  \n",
       "8            0.0     0.0  \n",
       "44           0.0     2.0  \n",
       "59           4.0     0.0  \n",
       "68           0.0     0.0  \n",
       "73           0.0     0.0  \n",
       "90           0.0     0.0  "
      ]
     },
     "execution_count": 175,
     "metadata": {},
     "output_type": "execute_result"
    }
   ],
   "source": [
    "new_listing = Listing_age.sort_values().head(10).values\n",
    "df[df[\"Listing Age (Days)\"].isin(new_listing)]"
   ]
  },
  {
   "cell_type": "markdown",
   "metadata": {},
   "source": [
    "### Insights From Listing (Age):\n",
    "1. MidjourneyPrompt - Midjourney Prompt for Watercolor Animals -- Having Revenue of 2003$ (210 Days Old)\n",
    "2. GOTJEY -\tBlack Women Midjourney Prompts for Black Women -- Having Revenue of 4$ (6 Days Old)\n",
    "- Indicating a Evergreen Product and Trendy Product\n",
    "3. Most of the Listing are Relatively New can be seen on Graph"
   ]
  },
  {
   "cell_type": "markdown",
   "metadata": {},
   "source": []
  },
  {
   "cell_type": "code",
   "execution_count": null,
   "metadata": {},
   "outputs": [],
   "source": []
  }
 ],
 "metadata": {
  "kernelspec": {
   "display_name": "Python 3",
   "language": "python",
   "name": "python3"
  },
  "language_info": {
   "codemirror_mode": {
    "name": "ipython",
    "version": 3
   },
   "file_extension": ".py",
   "mimetype": "text/x-python",
   "name": "python",
   "nbconvert_exporter": "python",
   "pygments_lexer": "ipython3",
   "version": "3.10.13"
  },
  "orig_nbformat": 4
 },
 "nbformat": 4,
 "nbformat_minor": 2
}
