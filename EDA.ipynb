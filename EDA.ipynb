{
 "cells": [
  {
   "cell_type": "code",
   "execution_count": 2,
   "metadata": {},
   "outputs": [],
   "source": [
    "import pandas as pd\n",
    "import matplotlib.pyplot as plt\n",
    "import plotly.express as px\n",
    "import seaborn as sns"
   ]
  },
  {
   "cell_type": "code",
   "execution_count": 3,
   "metadata": {},
   "outputs": [],
   "source": [
    "data = pd.read_csv('CSV_Files/erank3.csv')"
   ]
  },
  {
   "cell_type": "code",
   "execution_count": 4,
   "metadata": {},
   "outputs": [
    {
     "data": {
      "text/html": [
       "<div>\n",
       "<style scoped>\n",
       "    .dataframe tbody tr th:only-of-type {\n",
       "        vertical-align: middle;\n",
       "    }\n",
       "\n",
       "    .dataframe tbody tr th {\n",
       "        vertical-align: top;\n",
       "    }\n",
       "\n",
       "    .dataframe thead th {\n",
       "        text-align: right;\n",
       "    }\n",
       "</style>\n",
       "<table border=\"1\" class=\"dataframe\">\n",
       "  <thead>\n",
       "    <tr style=\"text-align: right;\">\n",
       "      <th></th>\n",
       "      <th>p-6</th>\n",
       "      <th>pull-left src</th>\n",
       "      <th>bold</th>\n",
       "      <th>bold href</th>\n",
       "      <th>bold 2</th>\n",
       "      <th>bold href 2</th>\n",
       "      <th>btn</th>\n",
       "      <th>btn href</th>\n",
       "      <th>btn 2</th>\n",
       "      <th>btn href 2</th>\n",
       "      <th>...</th>\n",
       "      <th>btn href 12</th>\n",
       "      <th>btn 13</th>\n",
       "      <th>btn href 13</th>\n",
       "      <th>p-6 3</th>\n",
       "      <th>p-6 4</th>\n",
       "      <th>p-6 5</th>\n",
       "      <th>p-6 6</th>\n",
       "      <th>p-6 7</th>\n",
       "      <th>p-6 8</th>\n",
       "      <th>p-6 9</th>\n",
       "    </tr>\n",
       "  </thead>\n",
       "  <tbody>\n",
       "    <tr>\n",
       "      <th>0</th>\n",
       "      <td>1</td>\n",
       "      <td>https://i.etsystatic.com/12926637/r/il/4be4c7/...</td>\n",
       "      <td>EnVisual</td>\n",
       "      <td>https://erank.com/top-sellers/shop/EnVisual</td>\n",
       "      <td>Gamer SVG Bundle, Game Controller Svg, Funny G...</td>\n",
       "      <td>https://erank.com/listing-audit/1391002768</td>\n",
       "      <td>gamer svg</td>\n",
       "      <td>https://erank.com/keyword-tool?keywords=gamer+...</td>\n",
       "      <td>gamer svg bundle</td>\n",
       "      <td>https://erank.com/keyword-tool?keywords=gamer+...</td>\n",
       "      <td>...</td>\n",
       "      <td>https://erank.com/keyword-tool?keywords=comput...</td>\n",
       "      <td>gamer sticker svg</td>\n",
       "      <td>https://erank.com/keyword-tool?keywords=gamer+...</td>\n",
       "      <td>243</td>\n",
       "      <td>2,783</td>\n",
       "      <td>11.5</td>\n",
       "      <td>143</td>\n",
       "      <td>$3.66</td>\n",
       "      <td>$524</td>\n",
       "      <td>209</td>\n",
       "    </tr>\n",
       "    <tr>\n",
       "      <th>1</th>\n",
       "      <td>2</td>\n",
       "      <td>https://i.etsystatic.com/46776615/r/il/fef806/...</td>\n",
       "      <td>MYWORLD4STYLE</td>\n",
       "      <td>https://erank.com/top-sellers/shop/MYWORLD4STYLE</td>\n",
       "      <td>Green Gamer t-shirt. Your Ultimate Statement o...</td>\n",
       "      <td>https://erank.com/listing-audit/1571421453</td>\n",
       "      <td>Cool Gamer Shirt</td>\n",
       "      <td>https://erank.com/keyword-tool?keywords=Cool+G...</td>\n",
       "      <td>Gaming Vibes Tee</td>\n",
       "      <td>https://erank.com/keyword-tool?keywords=Gaming...</td>\n",
       "      <td>...</td>\n",
       "      <td>https://erank.com/keyword-tool?keywords=Epic+G...</td>\n",
       "      <td>Game Ready Top</td>\n",
       "      <td>https://erank.com/keyword-tool?keywords=Game+R...</td>\n",
       "      <td>8</td>\n",
       "      <td>6</td>\n",
       "      <td>0.8</td>\n",
       "      <td>0</td>\n",
       "      <td>$12.97</td>\n",
       "      <td>$0</td>\n",
       "      <td>0</td>\n",
       "    </tr>\n",
       "    <tr>\n",
       "      <th>2</th>\n",
       "      <td>3</td>\n",
       "      <td>https://i.etsystatic.com/30831233/r/il/ef45bb/...</td>\n",
       "      <td>Technolition101</td>\n",
       "      <td>https://erank.com/top-sellers/shop/Technolitio...</td>\n",
       "      <td>Custom Gaming PC built to your budget!</td>\n",
       "      <td>https://erank.com/listing-audit/1047118439</td>\n",
       "      <td>Computer</td>\n",
       "      <td>https://erank.com/keyword-tool?keywords=Comput...</td>\n",
       "      <td>PC</td>\n",
       "      <td>https://erank.com/keyword-tool?keywords=PC&amp;cou...</td>\n",
       "      <td>...</td>\n",
       "      <td>https://erank.com/keyword-tool?keywords=Twitch...</td>\n",
       "      <td>Discord</td>\n",
       "      <td>https://erank.com/keyword-tool?keywords=Discor...</td>\n",
       "      <td>815</td>\n",
       "      <td>23,888</td>\n",
       "      <td>29.3</td>\n",
       "      <td>119</td>\n",
       "      <td>$1,520.00</td>\n",
       "      <td>$180,880</td>\n",
       "      <td>280</td>\n",
       "    </tr>\n",
       "    <tr>\n",
       "      <th>3</th>\n",
       "      <td>4</td>\n",
       "      <td>https://i.etsystatic.com/40706822/c/2048/1629/...</td>\n",
       "      <td>WhitePinesVale</td>\n",
       "      <td>https://erank.com/top-sellers/shop/WhitePinesVale</td>\n",
       "      <td>Enchanted Forest Night Elf Mouse Pad Gift for ...</td>\n",
       "      <td>https://erank.com/listing-audit/1451204465</td>\n",
       "      <td>night elf mousepad</td>\n",
       "      <td>https://erank.com/keyword-tool?keywords=night+...</td>\n",
       "      <td>gaming mouse pad</td>\n",
       "      <td>https://erank.com/keyword-tool?keywords=gaming...</td>\n",
       "      <td>...</td>\n",
       "      <td>https://erank.com/keyword-tool?keywords=magica...</td>\n",
       "      <td>fantasy fairy art</td>\n",
       "      <td>https://erank.com/keyword-tool?keywords=fantas...</td>\n",
       "      <td>182</td>\n",
       "      <td>4</td>\n",
       "      <td>0.0</td>\n",
       "      <td>0</td>\n",
       "      <td>$15.99</td>\n",
       "      <td>$0</td>\n",
       "      <td>0</td>\n",
       "    </tr>\n",
       "    <tr>\n",
       "      <th>4</th>\n",
       "      <td>5</td>\n",
       "      <td>https://i.etsystatic.com/39132050/r/il/715376/...</td>\n",
       "      <td>WiseParty</td>\n",
       "      <td>https://erank.com/top-sellers/shop/WiseParty</td>\n",
       "      <td>Editable Gaming Birthday Invitation, Gamer Inv...</td>\n",
       "      <td>https://erank.com/listing-audit/1482357496</td>\n",
       "      <td>gaming invitation</td>\n",
       "      <td>https://erank.com/keyword-tool?keywords=gaming...</td>\n",
       "      <td>gamer invitation</td>\n",
       "      <td>https://erank.com/keyword-tool?keywords=gamer+...</td>\n",
       "      <td>...</td>\n",
       "      <td>NaN</td>\n",
       "      <td>NaN</td>\n",
       "      <td>NaN</td>\n",
       "      <td>116</td>\n",
       "      <td>1,382</td>\n",
       "      <td>11.9</td>\n",
       "      <td>45</td>\n",
       "      <td>$8.00</td>\n",
       "      <td>$360</td>\n",
       "      <td>61</td>\n",
       "    </tr>\n",
       "  </tbody>\n",
       "</table>\n",
       "<p>5 rows × 39 columns</p>\n",
       "</div>"
      ],
      "text/plain": [
       "   p-6                                      pull-left src             bold  \\\n",
       "0    1  https://i.etsystatic.com/12926637/r/il/4be4c7/...         EnVisual   \n",
       "1    2  https://i.etsystatic.com/46776615/r/il/fef806/...    MYWORLD4STYLE   \n",
       "2    3  https://i.etsystatic.com/30831233/r/il/ef45bb/...  Technolition101   \n",
       "3    4  https://i.etsystatic.com/40706822/c/2048/1629/...   WhitePinesVale   \n",
       "4    5  https://i.etsystatic.com/39132050/r/il/715376/...        WiseParty   \n",
       "\n",
       "                                           bold href  \\\n",
       "0        https://erank.com/top-sellers/shop/EnVisual   \n",
       "1   https://erank.com/top-sellers/shop/MYWORLD4STYLE   \n",
       "2  https://erank.com/top-sellers/shop/Technolitio...   \n",
       "3  https://erank.com/top-sellers/shop/WhitePinesVale   \n",
       "4       https://erank.com/top-sellers/shop/WiseParty   \n",
       "\n",
       "                                              bold 2  \\\n",
       "0  Gamer SVG Bundle, Game Controller Svg, Funny G...   \n",
       "1  Green Gamer t-shirt. Your Ultimate Statement o...   \n",
       "2             Custom Gaming PC built to your budget!   \n",
       "3  Enchanted Forest Night Elf Mouse Pad Gift for ...   \n",
       "4  Editable Gaming Birthday Invitation, Gamer Inv...   \n",
       "\n",
       "                                  bold href 2                 btn  \\\n",
       "0  https://erank.com/listing-audit/1391002768           gamer svg   \n",
       "1  https://erank.com/listing-audit/1571421453    Cool Gamer Shirt   \n",
       "2  https://erank.com/listing-audit/1047118439            Computer   \n",
       "3  https://erank.com/listing-audit/1451204465  night elf mousepad   \n",
       "4  https://erank.com/listing-audit/1482357496   gaming invitation   \n",
       "\n",
       "                                            btn href             btn 2  \\\n",
       "0  https://erank.com/keyword-tool?keywords=gamer+...  gamer svg bundle   \n",
       "1  https://erank.com/keyword-tool?keywords=Cool+G...  Gaming Vibes Tee   \n",
       "2  https://erank.com/keyword-tool?keywords=Comput...                PC   \n",
       "3  https://erank.com/keyword-tool?keywords=night+...  gaming mouse pad   \n",
       "4  https://erank.com/keyword-tool?keywords=gaming...  gamer invitation   \n",
       "\n",
       "                                          btn href 2  ...  \\\n",
       "0  https://erank.com/keyword-tool?keywords=gamer+...  ...   \n",
       "1  https://erank.com/keyword-tool?keywords=Gaming...  ...   \n",
       "2  https://erank.com/keyword-tool?keywords=PC&cou...  ...   \n",
       "3  https://erank.com/keyword-tool?keywords=gaming...  ...   \n",
       "4  https://erank.com/keyword-tool?keywords=gamer+...  ...   \n",
       "\n",
       "                                         btn href 12             btn 13  \\\n",
       "0  https://erank.com/keyword-tool?keywords=comput...  gamer sticker svg   \n",
       "1  https://erank.com/keyword-tool?keywords=Epic+G...     Game Ready Top   \n",
       "2  https://erank.com/keyword-tool?keywords=Twitch...            Discord   \n",
       "3  https://erank.com/keyword-tool?keywords=magica...  fantasy fairy art   \n",
       "4                                                NaN                NaN   \n",
       "\n",
       "                                         btn href 13 p-6 3   p-6 4 p-6 5  \\\n",
       "0  https://erank.com/keyword-tool?keywords=gamer+...   243   2,783  11.5   \n",
       "1  https://erank.com/keyword-tool?keywords=Game+R...     8       6   0.8   \n",
       "2  https://erank.com/keyword-tool?keywords=Discor...   815  23,888  29.3   \n",
       "3  https://erank.com/keyword-tool?keywords=fantas...   182       4   0.0   \n",
       "4                                                NaN   116   1,382  11.9   \n",
       "\n",
       "  p-6 6      p-6 7     p-6 8 p-6 9  \n",
       "0   143      $3.66      $524   209  \n",
       "1     0     $12.97        $0     0  \n",
       "2   119  $1,520.00  $180,880   280  \n",
       "3     0     $15.99        $0     0  \n",
       "4    45      $8.00      $360    61  \n",
       "\n",
       "[5 rows x 39 columns]"
      ]
     },
     "execution_count": 4,
     "metadata": {},
     "output_type": "execute_result"
    }
   ],
   "source": [
    "data.head()"
   ]
  },
  {
   "cell_type": "code",
   "execution_count": 5,
   "metadata": {},
   "outputs": [
    {
     "name": "stdout",
     "output_type": "stream",
     "text": [
      "<class 'pandas.core.frame.DataFrame'>\n",
      "RangeIndex: 100 entries, 0 to 99\n",
      "Data columns (total 39 columns):\n",
      " #   Column         Non-Null Count  Dtype  \n",
      "---  ------         --------------  -----  \n",
      " 0   p-6            100 non-null    int64  \n",
      " 1   pull-left src  100 non-null    object \n",
      " 2   bold           100 non-null    object \n",
      " 3   bold href      100 non-null    object \n",
      " 4   bold 2         100 non-null    object \n",
      " 5   bold href 2    100 non-null    object \n",
      " 6   btn            99 non-null     object \n",
      " 7   btn href       99 non-null     object \n",
      " 8   btn 2          99 non-null     object \n",
      " 9   btn href 2     99 non-null     object \n",
      " 10  btn 3          99 non-null     object \n",
      " 11  btn href 3     99 non-null     object \n",
      " 12  btn 4          98 non-null     object \n",
      " 13  btn href 4     98 non-null     object \n",
      " 14  btn 5          98 non-null     object \n",
      " 15  btn href 5     98 non-null     object \n",
      " 16  btn 6          96 non-null     object \n",
      " 17  btn href 6     96 non-null     object \n",
      " 18  btn 7          95 non-null     object \n",
      " 19  btn href 7     95 non-null     object \n",
      " 20  btn 8          95 non-null     object \n",
      " 21  btn href 8     95 non-null     object \n",
      " 22  btn 9          93 non-null     object \n",
      " 23  btn href 9     93 non-null     object \n",
      " 24  btn 10         90 non-null     object \n",
      " 25  btn href 10    90 non-null     object \n",
      " 26  btn 11         90 non-null     object \n",
      " 27  btn href 11    90 non-null     object \n",
      " 28  btn 12         88 non-null     object \n",
      " 29  btn href 12    88 non-null     object \n",
      " 30  btn 13         86 non-null     object \n",
      " 31  btn href 13    86 non-null     object \n",
      " 32  p-6 3          100 non-null    object \n",
      " 33  p-6 4          100 non-null    object \n",
      " 34  p-6 5          100 non-null    float64\n",
      " 35  p-6 6          100 non-null    int64  \n",
      " 36  p-6 7          100 non-null    object \n",
      " 37  p-6 8          100 non-null    object \n",
      " 38  p-6 9          100 non-null    int64  \n",
      "dtypes: float64(1), int64(3), object(35)\n",
      "memory usage: 30.6+ KB\n"
     ]
    }
   ],
   "source": [
    "data.info()"
   ]
  },
  {
   "cell_type": "code",
   "execution_count": 6,
   "metadata": {},
   "outputs": [
    {
     "data": {
      "text/plain": [
       "Index(['p-6', 'pull-left src', 'bold', 'bold href', 'bold 2', 'bold href 2',\n",
       "       'btn', 'btn href', 'btn 2', 'btn href 2', 'btn 3', 'btn href 3',\n",
       "       'btn 4', 'btn href 4', 'btn 5', 'btn href 5', 'btn 6', 'btn href 6',\n",
       "       'btn 7', 'btn href 7', 'btn 8', 'btn href 8', 'btn 9', 'btn href 9',\n",
       "       'btn 10', 'btn href 10', 'btn 11', 'btn href 11', 'btn 12',\n",
       "       'btn href 12', 'btn 13', 'btn href 13', 'p-6 3', 'p-6 4', 'p-6 5',\n",
       "       'p-6 6', 'p-6 7', 'p-6 8', 'p-6 9'],\n",
       "      dtype='object')"
      ]
     },
     "execution_count": 6,
     "metadata": {},
     "output_type": "execute_result"
    }
   ],
   "source": [
    "data.columns"
   ]
  },
  {
   "cell_type": "markdown",
   "metadata": {},
   "source": [
    "## Dropping & Renaming Columns"
   ]
  },
  {
   "cell_type": "code",
   "execution_count": 7,
   "metadata": {},
   "outputs": [],
   "source": [
    "columns_to_keep = ['bold','bold 2']\n",
    "last_7_cols = data.columns[-7:].tolist()\n",
    "df = data[columns_to_keep+last_7_cols].copy()"
   ]
  },
  {
   "cell_type": "code",
   "execution_count": 8,
   "metadata": {},
   "outputs": [
    {
     "data": {
      "text/html": [
       "<div>\n",
       "<style scoped>\n",
       "    .dataframe tbody tr th:only-of-type {\n",
       "        vertical-align: middle;\n",
       "    }\n",
       "\n",
       "    .dataframe tbody tr th {\n",
       "        vertical-align: top;\n",
       "    }\n",
       "\n",
       "    .dataframe thead th {\n",
       "        text-align: right;\n",
       "    }\n",
       "</style>\n",
       "<table border=\"1\" class=\"dataframe\">\n",
       "  <thead>\n",
       "    <tr style=\"text-align: right;\">\n",
       "      <th></th>\n",
       "      <th>bold</th>\n",
       "      <th>bold 2</th>\n",
       "      <th>p-6 3</th>\n",
       "      <th>p-6 4</th>\n",
       "      <th>p-6 5</th>\n",
       "      <th>p-6 6</th>\n",
       "      <th>p-6 7</th>\n",
       "      <th>p-6 8</th>\n",
       "      <th>p-6 9</th>\n",
       "    </tr>\n",
       "  </thead>\n",
       "  <tbody>\n",
       "    <tr>\n",
       "      <th>0</th>\n",
       "      <td>EnVisual</td>\n",
       "      <td>Gamer SVG Bundle, Game Controller Svg, Funny G...</td>\n",
       "      <td>243</td>\n",
       "      <td>2,783</td>\n",
       "      <td>11.5</td>\n",
       "      <td>143</td>\n",
       "      <td>$3.66</td>\n",
       "      <td>$524</td>\n",
       "      <td>209</td>\n",
       "    </tr>\n",
       "    <tr>\n",
       "      <th>1</th>\n",
       "      <td>MYWORLD4STYLE</td>\n",
       "      <td>Green Gamer t-shirt. Your Ultimate Statement o...</td>\n",
       "      <td>8</td>\n",
       "      <td>6</td>\n",
       "      <td>0.8</td>\n",
       "      <td>0</td>\n",
       "      <td>$12.97</td>\n",
       "      <td>$0</td>\n",
       "      <td>0</td>\n",
       "    </tr>\n",
       "    <tr>\n",
       "      <th>2</th>\n",
       "      <td>Technolition101</td>\n",
       "      <td>Custom Gaming PC built to your budget!</td>\n",
       "      <td>815</td>\n",
       "      <td>23,888</td>\n",
       "      <td>29.3</td>\n",
       "      <td>119</td>\n",
       "      <td>$1,520.00</td>\n",
       "      <td>$180,880</td>\n",
       "      <td>280</td>\n",
       "    </tr>\n",
       "    <tr>\n",
       "      <th>3</th>\n",
       "      <td>WhitePinesVale</td>\n",
       "      <td>Enchanted Forest Night Elf Mouse Pad Gift for ...</td>\n",
       "      <td>182</td>\n",
       "      <td>4</td>\n",
       "      <td>0.0</td>\n",
       "      <td>0</td>\n",
       "      <td>$15.99</td>\n",
       "      <td>$0</td>\n",
       "      <td>0</td>\n",
       "    </tr>\n",
       "    <tr>\n",
       "      <th>4</th>\n",
       "      <td>WiseParty</td>\n",
       "      <td>Editable Gaming Birthday Invitation, Gamer Inv...</td>\n",
       "      <td>116</td>\n",
       "      <td>1,382</td>\n",
       "      <td>11.9</td>\n",
       "      <td>45</td>\n",
       "      <td>$8.00</td>\n",
       "      <td>$360</td>\n",
       "      <td>61</td>\n",
       "    </tr>\n",
       "    <tr>\n",
       "      <th>...</th>\n",
       "      <td>...</td>\n",
       "      <td>...</td>\n",
       "      <td>...</td>\n",
       "      <td>...</td>\n",
       "      <td>...</td>\n",
       "      <td>...</td>\n",
       "      <td>...</td>\n",
       "      <td>...</td>\n",
       "      <td>...</td>\n",
       "    </tr>\n",
       "    <tr>\n",
       "      <th>95</th>\n",
       "      <td>CraftCutFiles</td>\n",
       "      <td>Ninja Kidz Tv Kids SVG, Gaming Team Top Tee SV...</td>\n",
       "      <td>371</td>\n",
       "      <td>3,825</td>\n",
       "      <td>10.3</td>\n",
       "      <td>197</td>\n",
       "      <td>$1.82</td>\n",
       "      <td>$359</td>\n",
       "      <td>119</td>\n",
       "    </tr>\n",
       "    <tr>\n",
       "      <th>96</th>\n",
       "      <td>PixelPerfectionParty</td>\n",
       "      <td>Editable Arcade Party Birthday Invitation Boy ...</td>\n",
       "      <td>365</td>\n",
       "      <td>5,558</td>\n",
       "      <td>15.2</td>\n",
       "      <td>183</td>\n",
       "      <td>$9.17</td>\n",
       "      <td>$1,678</td>\n",
       "      <td>273</td>\n",
       "    </tr>\n",
       "    <tr>\n",
       "      <th>97</th>\n",
       "      <td>TheParlorPoster</td>\n",
       "      <td>Days Gone Poster, Video Game Wall Art, High Qu...</td>\n",
       "      <td>19</td>\n",
       "      <td>40</td>\n",
       "      <td>2.1</td>\n",
       "      <td>0</td>\n",
       "      <td>$28.50</td>\n",
       "      <td>$0</td>\n",
       "      <td>3</td>\n",
       "    </tr>\n",
       "    <tr>\n",
       "      <th>98</th>\n",
       "      <td>DigitalJakov</td>\n",
       "      <td>Editable Arcade Birthday Party Invitation, Gam...</td>\n",
       "      <td>22</td>\n",
       "      <td>100</td>\n",
       "      <td>4.5</td>\n",
       "      <td>3</td>\n",
       "      <td>$6.75</td>\n",
       "      <td>$20</td>\n",
       "      <td>5</td>\n",
       "    </tr>\n",
       "    <tr>\n",
       "      <th>99</th>\n",
       "      <td>HelegaTshirt</td>\n",
       "      <td>Leveled Up To Dad of 2, Dad of Two, Pregnancy ...</td>\n",
       "      <td>120</td>\n",
       "      <td>10</td>\n",
       "      <td>0.1</td>\n",
       "      <td>0</td>\n",
       "      <td>$12.64</td>\n",
       "      <td>$0</td>\n",
       "      <td>0</td>\n",
       "    </tr>\n",
       "  </tbody>\n",
       "</table>\n",
       "<p>100 rows × 9 columns</p>\n",
       "</div>"
      ],
      "text/plain": [
       "                    bold                                             bold 2  \\\n",
       "0               EnVisual  Gamer SVG Bundle, Game Controller Svg, Funny G...   \n",
       "1          MYWORLD4STYLE  Green Gamer t-shirt. Your Ultimate Statement o...   \n",
       "2        Technolition101             Custom Gaming PC built to your budget!   \n",
       "3         WhitePinesVale  Enchanted Forest Night Elf Mouse Pad Gift for ...   \n",
       "4              WiseParty  Editable Gaming Birthday Invitation, Gamer Inv...   \n",
       "..                   ...                                                ...   \n",
       "95         CraftCutFiles  Ninja Kidz Tv Kids SVG, Gaming Team Top Tee SV...   \n",
       "96  PixelPerfectionParty  Editable Arcade Party Birthday Invitation Boy ...   \n",
       "97       TheParlorPoster  Days Gone Poster, Video Game Wall Art, High Qu...   \n",
       "98          DigitalJakov  Editable Arcade Birthday Party Invitation, Gam...   \n",
       "99          HelegaTshirt  Leveled Up To Dad of 2, Dad of Two, Pregnancy ...   \n",
       "\n",
       "   p-6 3   p-6 4  p-6 5  p-6 6      p-6 7     p-6 8  p-6 9  \n",
       "0    243   2,783   11.5    143      $3.66      $524    209  \n",
       "1      8       6    0.8      0     $12.97        $0      0  \n",
       "2    815  23,888   29.3    119  $1,520.00  $180,880    280  \n",
       "3    182       4    0.0      0     $15.99        $0      0  \n",
       "4    116   1,382   11.9     45      $8.00      $360     61  \n",
       "..   ...     ...    ...    ...        ...       ...    ...  \n",
       "95   371   3,825   10.3    197      $1.82      $359    119  \n",
       "96   365   5,558   15.2    183      $9.17    $1,678    273  \n",
       "97    19      40    2.1      0     $28.50        $0      3  \n",
       "98    22     100    4.5      3      $6.75       $20      5  \n",
       "99   120      10    0.1      0     $12.64        $0      0  \n",
       "\n",
       "[100 rows x 9 columns]"
      ]
     },
     "execution_count": 8,
     "metadata": {},
     "output_type": "execute_result"
    }
   ],
   "source": [
    "df"
   ]
  },
  {
   "cell_type": "code",
   "execution_count": 9,
   "metadata": {},
   "outputs": [
    {
     "name": "stdout",
     "output_type": "stream",
     "text": [
      "<class 'pandas.core.frame.DataFrame'>\n",
      "RangeIndex: 100 entries, 0 to 99\n",
      "Data columns (total 9 columns):\n",
      " #   Column  Non-Null Count  Dtype  \n",
      "---  ------  --------------  -----  \n",
      " 0   bold    100 non-null    object \n",
      " 1   bold 2  100 non-null    object \n",
      " 2   p-6 3   100 non-null    object \n",
      " 3   p-6 4   100 non-null    object \n",
      " 4   p-6 5   100 non-null    float64\n",
      " 5   p-6 6   100 non-null    int64  \n",
      " 6   p-6 7   100 non-null    object \n",
      " 7   p-6 8   100 non-null    object \n",
      " 8   p-6 9   100 non-null    int64  \n",
      "dtypes: float64(1), int64(2), object(6)\n",
      "memory usage: 7.2+ KB\n"
     ]
    }
   ],
   "source": [
    "df.info()"
   ]
  },
  {
   "cell_type": "code",
   "execution_count": 10,
   "metadata": {},
   "outputs": [],
   "source": [
    "new_column_names = {\n",
    "    df.columns[0]: 'ShopName',\n",
    "    df.columns[1]: 'Listing',\n",
    "    df.columns[-7]: 'Listing Age (Days)',\n",
    "    df.columns[-6]: 'Total Views',\n",
    "    df.columns[-5]: 'Daily Views',\n",
    "    df.columns[-4]: 'Est. Sales',\n",
    "    df.columns[-3]: 'Price',\n",
    "    df.columns[-2]: 'Est. Revenue',\n",
    "    df.columns[-1]: 'Hearts'\n",
    "}\n",
    "\n",
    "df.rename(columns=new_column_names, inplace=True)"
   ]
  },
  {
   "cell_type": "code",
   "execution_count": 11,
   "metadata": {},
   "outputs": [
    {
     "data": {
      "text/html": [
       "<div>\n",
       "<style scoped>\n",
       "    .dataframe tbody tr th:only-of-type {\n",
       "        vertical-align: middle;\n",
       "    }\n",
       "\n",
       "    .dataframe tbody tr th {\n",
       "        vertical-align: top;\n",
       "    }\n",
       "\n",
       "    .dataframe thead th {\n",
       "        text-align: right;\n",
       "    }\n",
       "</style>\n",
       "<table border=\"1\" class=\"dataframe\">\n",
       "  <thead>\n",
       "    <tr style=\"text-align: right;\">\n",
       "      <th></th>\n",
       "      <th>ShopName</th>\n",
       "      <th>Listing</th>\n",
       "      <th>Listing Age (Days)</th>\n",
       "      <th>Total Views</th>\n",
       "      <th>Daily Views</th>\n",
       "      <th>Est. Sales</th>\n",
       "      <th>Price</th>\n",
       "      <th>Est. Revenue</th>\n",
       "      <th>Hearts</th>\n",
       "    </tr>\n",
       "  </thead>\n",
       "  <tbody>\n",
       "    <tr>\n",
       "      <th>0</th>\n",
       "      <td>EnVisual</td>\n",
       "      <td>Gamer SVG Bundle, Game Controller Svg, Funny G...</td>\n",
       "      <td>243</td>\n",
       "      <td>2,783</td>\n",
       "      <td>11.5</td>\n",
       "      <td>143</td>\n",
       "      <td>$3.66</td>\n",
       "      <td>$524</td>\n",
       "      <td>209</td>\n",
       "    </tr>\n",
       "    <tr>\n",
       "      <th>1</th>\n",
       "      <td>MYWORLD4STYLE</td>\n",
       "      <td>Green Gamer t-shirt. Your Ultimate Statement o...</td>\n",
       "      <td>8</td>\n",
       "      <td>6</td>\n",
       "      <td>0.8</td>\n",
       "      <td>0</td>\n",
       "      <td>$12.97</td>\n",
       "      <td>$0</td>\n",
       "      <td>0</td>\n",
       "    </tr>\n",
       "    <tr>\n",
       "      <th>2</th>\n",
       "      <td>Technolition101</td>\n",
       "      <td>Custom Gaming PC built to your budget!</td>\n",
       "      <td>815</td>\n",
       "      <td>23,888</td>\n",
       "      <td>29.3</td>\n",
       "      <td>119</td>\n",
       "      <td>$1,520.00</td>\n",
       "      <td>$180,880</td>\n",
       "      <td>280</td>\n",
       "    </tr>\n",
       "    <tr>\n",
       "      <th>3</th>\n",
       "      <td>WhitePinesVale</td>\n",
       "      <td>Enchanted Forest Night Elf Mouse Pad Gift for ...</td>\n",
       "      <td>182</td>\n",
       "      <td>4</td>\n",
       "      <td>0.0</td>\n",
       "      <td>0</td>\n",
       "      <td>$15.99</td>\n",
       "      <td>$0</td>\n",
       "      <td>0</td>\n",
       "    </tr>\n",
       "    <tr>\n",
       "      <th>4</th>\n",
       "      <td>WiseParty</td>\n",
       "      <td>Editable Gaming Birthday Invitation, Gamer Inv...</td>\n",
       "      <td>116</td>\n",
       "      <td>1,382</td>\n",
       "      <td>11.9</td>\n",
       "      <td>45</td>\n",
       "      <td>$8.00</td>\n",
       "      <td>$360</td>\n",
       "      <td>61</td>\n",
       "    </tr>\n",
       "    <tr>\n",
       "      <th>...</th>\n",
       "      <td>...</td>\n",
       "      <td>...</td>\n",
       "      <td>...</td>\n",
       "      <td>...</td>\n",
       "      <td>...</td>\n",
       "      <td>...</td>\n",
       "      <td>...</td>\n",
       "      <td>...</td>\n",
       "      <td>...</td>\n",
       "    </tr>\n",
       "    <tr>\n",
       "      <th>95</th>\n",
       "      <td>CraftCutFiles</td>\n",
       "      <td>Ninja Kidz Tv Kids SVG, Gaming Team Top Tee SV...</td>\n",
       "      <td>371</td>\n",
       "      <td>3,825</td>\n",
       "      <td>10.3</td>\n",
       "      <td>197</td>\n",
       "      <td>$1.82</td>\n",
       "      <td>$359</td>\n",
       "      <td>119</td>\n",
       "    </tr>\n",
       "    <tr>\n",
       "      <th>96</th>\n",
       "      <td>PixelPerfectionParty</td>\n",
       "      <td>Editable Arcade Party Birthday Invitation Boy ...</td>\n",
       "      <td>365</td>\n",
       "      <td>5,558</td>\n",
       "      <td>15.2</td>\n",
       "      <td>183</td>\n",
       "      <td>$9.17</td>\n",
       "      <td>$1,678</td>\n",
       "      <td>273</td>\n",
       "    </tr>\n",
       "    <tr>\n",
       "      <th>97</th>\n",
       "      <td>TheParlorPoster</td>\n",
       "      <td>Days Gone Poster, Video Game Wall Art, High Qu...</td>\n",
       "      <td>19</td>\n",
       "      <td>40</td>\n",
       "      <td>2.1</td>\n",
       "      <td>0</td>\n",
       "      <td>$28.50</td>\n",
       "      <td>$0</td>\n",
       "      <td>3</td>\n",
       "    </tr>\n",
       "    <tr>\n",
       "      <th>98</th>\n",
       "      <td>DigitalJakov</td>\n",
       "      <td>Editable Arcade Birthday Party Invitation, Gam...</td>\n",
       "      <td>22</td>\n",
       "      <td>100</td>\n",
       "      <td>4.5</td>\n",
       "      <td>3</td>\n",
       "      <td>$6.75</td>\n",
       "      <td>$20</td>\n",
       "      <td>5</td>\n",
       "    </tr>\n",
       "    <tr>\n",
       "      <th>99</th>\n",
       "      <td>HelegaTshirt</td>\n",
       "      <td>Leveled Up To Dad of 2, Dad of Two, Pregnancy ...</td>\n",
       "      <td>120</td>\n",
       "      <td>10</td>\n",
       "      <td>0.1</td>\n",
       "      <td>0</td>\n",
       "      <td>$12.64</td>\n",
       "      <td>$0</td>\n",
       "      <td>0</td>\n",
       "    </tr>\n",
       "  </tbody>\n",
       "</table>\n",
       "<p>100 rows × 9 columns</p>\n",
       "</div>"
      ],
      "text/plain": [
       "                ShopName                                            Listing  \\\n",
       "0               EnVisual  Gamer SVG Bundle, Game Controller Svg, Funny G...   \n",
       "1          MYWORLD4STYLE  Green Gamer t-shirt. Your Ultimate Statement o...   \n",
       "2        Technolition101             Custom Gaming PC built to your budget!   \n",
       "3         WhitePinesVale  Enchanted Forest Night Elf Mouse Pad Gift for ...   \n",
       "4              WiseParty  Editable Gaming Birthday Invitation, Gamer Inv...   \n",
       "..                   ...                                                ...   \n",
       "95         CraftCutFiles  Ninja Kidz Tv Kids SVG, Gaming Team Top Tee SV...   \n",
       "96  PixelPerfectionParty  Editable Arcade Party Birthday Invitation Boy ...   \n",
       "97       TheParlorPoster  Days Gone Poster, Video Game Wall Art, High Qu...   \n",
       "98          DigitalJakov  Editable Arcade Birthday Party Invitation, Gam...   \n",
       "99          HelegaTshirt  Leveled Up To Dad of 2, Dad of Two, Pregnancy ...   \n",
       "\n",
       "   Listing Age (Days) Total Views  Daily Views  Est. Sales      Price  \\\n",
       "0                 243       2,783         11.5         143      $3.66   \n",
       "1                   8           6          0.8           0     $12.97   \n",
       "2                 815      23,888         29.3         119  $1,520.00   \n",
       "3                 182           4          0.0           0     $15.99   \n",
       "4                 116       1,382         11.9          45      $8.00   \n",
       "..                ...         ...          ...         ...        ...   \n",
       "95                371       3,825         10.3         197      $1.82   \n",
       "96                365       5,558         15.2         183      $9.17   \n",
       "97                 19          40          2.1           0     $28.50   \n",
       "98                 22         100          4.5           3      $6.75   \n",
       "99                120          10          0.1           0     $12.64   \n",
       "\n",
       "   Est. Revenue  Hearts  \n",
       "0          $524     209  \n",
       "1            $0       0  \n",
       "2      $180,880     280  \n",
       "3            $0       0  \n",
       "4          $360      61  \n",
       "..          ...     ...  \n",
       "95         $359     119  \n",
       "96       $1,678     273  \n",
       "97           $0       3  \n",
       "98          $20       5  \n",
       "99           $0       0  \n",
       "\n",
       "[100 rows x 9 columns]"
      ]
     },
     "execution_count": 11,
     "metadata": {},
     "output_type": "execute_result"
    }
   ],
   "source": [
    "df"
   ]
  },
  {
   "cell_type": "code",
   "execution_count": 12,
   "metadata": {},
   "outputs": [
    {
     "name": "stdout",
     "output_type": "stream",
     "text": [
      "<class 'pandas.core.frame.DataFrame'>\n",
      "RangeIndex: 100 entries, 0 to 99\n",
      "Data columns (total 9 columns):\n",
      " #   Column              Non-Null Count  Dtype  \n",
      "---  ------              --------------  -----  \n",
      " 0   ShopName            100 non-null    object \n",
      " 1   Listing             100 non-null    object \n",
      " 2   Listing Age (Days)  100 non-null    object \n",
      " 3   Total Views         100 non-null    object \n",
      " 4   Daily Views         100 non-null    float64\n",
      " 5   Est. Sales          100 non-null    int64  \n",
      " 6   Price               100 non-null    object \n",
      " 7   Est. Revenue        100 non-null    object \n",
      " 8   Hearts              100 non-null    int64  \n",
      "dtypes: float64(1), int64(2), object(6)\n",
      "memory usage: 7.2+ KB\n"
     ]
    }
   ],
   "source": [
    "df.info()"
   ]
  },
  {
   "cell_type": "markdown",
   "metadata": {},
   "source": [
    "# Converting str object column to float"
   ]
  },
  {
   "cell_type": "code",
   "execution_count": 13,
   "metadata": {},
   "outputs": [],
   "source": [
    "for i in range(2,9):\n",
    "    if type(df[df.columns[i]][0]) == str:\n",
    "        df[df.columns[i]] = df[df.columns[i]].str.replace('[\\$,]', '', regex=True)\n",
    "        df[df.columns[i]] = df[df.columns[i]].astype(float)"
   ]
  },
  {
   "cell_type": "code",
   "execution_count": 14,
   "metadata": {},
   "outputs": [
    {
     "name": "stdout",
     "output_type": "stream",
     "text": [
      "<class 'pandas.core.frame.DataFrame'>\n",
      "RangeIndex: 100 entries, 0 to 99\n",
      "Data columns (total 9 columns):\n",
      " #   Column              Non-Null Count  Dtype  \n",
      "---  ------              --------------  -----  \n",
      " 0   ShopName            100 non-null    object \n",
      " 1   Listing             100 non-null    object \n",
      " 2   Listing Age (Days)  100 non-null    float64\n",
      " 3   Total Views         100 non-null    float64\n",
      " 4   Daily Views         100 non-null    float64\n",
      " 5   Est. Sales          100 non-null    int64  \n",
      " 6   Price               100 non-null    float64\n",
      " 7   Est. Revenue        100 non-null    float64\n",
      " 8   Hearts              100 non-null    int64  \n",
      "dtypes: float64(5), int64(2), object(2)\n",
      "memory usage: 7.2+ KB\n"
     ]
    }
   ],
   "source": [
    "df.info()"
   ]
  },
  {
   "cell_type": "code",
   "execution_count": 15,
   "metadata": {},
   "outputs": [
    {
     "data": {
      "text/html": [
       "<div>\n",
       "<style scoped>\n",
       "    .dataframe tbody tr th:only-of-type {\n",
       "        vertical-align: middle;\n",
       "    }\n",
       "\n",
       "    .dataframe tbody tr th {\n",
       "        vertical-align: top;\n",
       "    }\n",
       "\n",
       "    .dataframe thead th {\n",
       "        text-align: right;\n",
       "    }\n",
       "</style>\n",
       "<table border=\"1\" class=\"dataframe\">\n",
       "  <thead>\n",
       "    <tr style=\"text-align: right;\">\n",
       "      <th></th>\n",
       "      <th>ShopName</th>\n",
       "      <th>Listing</th>\n",
       "      <th>Listing Age (Days)</th>\n",
       "      <th>Total Views</th>\n",
       "      <th>Daily Views</th>\n",
       "      <th>Est. Sales</th>\n",
       "      <th>Price</th>\n",
       "      <th>Est. Revenue</th>\n",
       "      <th>Hearts</th>\n",
       "    </tr>\n",
       "  </thead>\n",
       "  <tbody>\n",
       "    <tr>\n",
       "      <th>0</th>\n",
       "      <td>EnVisual</td>\n",
       "      <td>Gamer SVG Bundle, Game Controller Svg, Funny G...</td>\n",
       "      <td>243.0</td>\n",
       "      <td>2783.0</td>\n",
       "      <td>11.5</td>\n",
       "      <td>143</td>\n",
       "      <td>3.66</td>\n",
       "      <td>524.0</td>\n",
       "      <td>209</td>\n",
       "    </tr>\n",
       "    <tr>\n",
       "      <th>1</th>\n",
       "      <td>MYWORLD4STYLE</td>\n",
       "      <td>Green Gamer t-shirt. Your Ultimate Statement o...</td>\n",
       "      <td>8.0</td>\n",
       "      <td>6.0</td>\n",
       "      <td>0.8</td>\n",
       "      <td>0</td>\n",
       "      <td>12.97</td>\n",
       "      <td>0.0</td>\n",
       "      <td>0</td>\n",
       "    </tr>\n",
       "    <tr>\n",
       "      <th>2</th>\n",
       "      <td>Technolition101</td>\n",
       "      <td>Custom Gaming PC built to your budget!</td>\n",
       "      <td>815.0</td>\n",
       "      <td>23888.0</td>\n",
       "      <td>29.3</td>\n",
       "      <td>119</td>\n",
       "      <td>1520.00</td>\n",
       "      <td>180880.0</td>\n",
       "      <td>280</td>\n",
       "    </tr>\n",
       "    <tr>\n",
       "      <th>3</th>\n",
       "      <td>WhitePinesVale</td>\n",
       "      <td>Enchanted Forest Night Elf Mouse Pad Gift for ...</td>\n",
       "      <td>182.0</td>\n",
       "      <td>4.0</td>\n",
       "      <td>0.0</td>\n",
       "      <td>0</td>\n",
       "      <td>15.99</td>\n",
       "      <td>0.0</td>\n",
       "      <td>0</td>\n",
       "    </tr>\n",
       "    <tr>\n",
       "      <th>4</th>\n",
       "      <td>WiseParty</td>\n",
       "      <td>Editable Gaming Birthday Invitation, Gamer Inv...</td>\n",
       "      <td>116.0</td>\n",
       "      <td>1382.0</td>\n",
       "      <td>11.9</td>\n",
       "      <td>45</td>\n",
       "      <td>8.00</td>\n",
       "      <td>360.0</td>\n",
       "      <td>61</td>\n",
       "    </tr>\n",
       "  </tbody>\n",
       "</table>\n",
       "</div>"
      ],
      "text/plain": [
       "          ShopName                                            Listing  \\\n",
       "0         EnVisual  Gamer SVG Bundle, Game Controller Svg, Funny G...   \n",
       "1    MYWORLD4STYLE  Green Gamer t-shirt. Your Ultimate Statement o...   \n",
       "2  Technolition101             Custom Gaming PC built to your budget!   \n",
       "3   WhitePinesVale  Enchanted Forest Night Elf Mouse Pad Gift for ...   \n",
       "4        WiseParty  Editable Gaming Birthday Invitation, Gamer Inv...   \n",
       "\n",
       "   Listing Age (Days)  Total Views  Daily Views  Est. Sales    Price  \\\n",
       "0               243.0       2783.0         11.5         143     3.66   \n",
       "1                 8.0          6.0          0.8           0    12.97   \n",
       "2               815.0      23888.0         29.3         119  1520.00   \n",
       "3               182.0          4.0          0.0           0    15.99   \n",
       "4               116.0       1382.0         11.9          45     8.00   \n",
       "\n",
       "   Est. Revenue  Hearts  \n",
       "0         524.0     209  \n",
       "1           0.0       0  \n",
       "2      180880.0     280  \n",
       "3           0.0       0  \n",
       "4         360.0      61  "
      ]
     },
     "execution_count": 15,
     "metadata": {},
     "output_type": "execute_result"
    }
   ],
   "source": [
    "df.head()"
   ]
  },
  {
   "cell_type": "markdown",
   "metadata": {},
   "source": [
    "# Column Wise Analysis"
   ]
  },
  {
   "cell_type": "markdown",
   "metadata": {},
   "source": [
    "## ShopName (Categorical)"
   ]
  },
  {
   "cell_type": "code",
   "execution_count": 16,
   "metadata": {},
   "outputs": [
    {
     "data": {
      "text/plain": [
       "ShopName\n",
       "DesktopKing             2\n",
       "PixelPerfectionParty    2\n",
       "WildPrintPress          2\n",
       "PinkPartyShop           2\n",
       "EnVisual                1\n",
       "                       ..\n",
       "ZelStoreSvg             1\n",
       "DiscrepancyDesigns      1\n",
       "HappyHenDesignCo        1\n",
       "SteelDecorStore         1\n",
       "HelegaTshirt            1\n",
       "Name: count, Length: 96, dtype: int64"
      ]
     },
     "execution_count": 16,
     "metadata": {},
     "output_type": "execute_result"
    }
   ],
   "source": [
    "df.ShopName.value_counts()"
   ]
  },
  {
   "cell_type": "code",
   "execution_count": 17,
   "metadata": {},
   "outputs": [
    {
     "data": {
      "application/vnd.plotly.v1+json": {
       "config": {
        "plotlyServerURL": "https://plot.ly"
       },
       "data": [
        {
         "alignmentgroup": "True",
         "hovertemplate": "variable=count<br>ShopName=%{x}<br>value=%{y}<extra></extra>",
         "legendgroup": "count",
         "marker": {
          "color": "#636efa",
          "pattern": {
           "shape": ""
          }
         },
         "name": "count",
         "offsetgroup": "count",
         "orientation": "v",
         "showlegend": true,
         "textposition": "auto",
         "type": "bar",
         "x": [
          "DesktopKing",
          "PixelPerfectionParty",
          "WildPrintPress",
          "PinkPartyShop",
          "EnVisual",
          "PinoyPrintsMerch",
          "DaniHoneycuttSticker",
          "PreciousMetalsNGems",
          "CyborgArtist",
          "PineberryPaper",
          "WhisperWethCreations",
          "SleepySouthern",
          "CourtneysCourt",
          "BraincandyClothing",
          "PixelDesignsPrints",
          "TreausreShop",
          "designedbyMythuss",
          "StickyPandasArt",
          "Meggymoonbeams",
          "PostersByDawn"
         ],
         "xaxis": "x",
         "y": [
          2,
          2,
          2,
          2,
          1,
          1,
          1,
          1,
          1,
          1,
          1,
          1,
          1,
          1,
          1,
          1,
          1,
          1,
          1,
          1
         ],
         "yaxis": "y"
        }
       ],
       "layout": {
        "barmode": "relative",
        "legend": {
         "title": {
          "text": "variable"
         },
         "tracegroupgap": 0
        },
        "margin": {
         "t": 60
        },
        "template": {
         "data": {
          "bar": [
           {
            "error_x": {
             "color": "#2a3f5f"
            },
            "error_y": {
             "color": "#2a3f5f"
            },
            "marker": {
             "line": {
              "color": "#E5ECF6",
              "width": 0.5
             },
             "pattern": {
              "fillmode": "overlay",
              "size": 10,
              "solidity": 0.2
             }
            },
            "type": "bar"
           }
          ],
          "barpolar": [
           {
            "marker": {
             "line": {
              "color": "#E5ECF6",
              "width": 0.5
             },
             "pattern": {
              "fillmode": "overlay",
              "size": 10,
              "solidity": 0.2
             }
            },
            "type": "barpolar"
           }
          ],
          "carpet": [
           {
            "aaxis": {
             "endlinecolor": "#2a3f5f",
             "gridcolor": "white",
             "linecolor": "white",
             "minorgridcolor": "white",
             "startlinecolor": "#2a3f5f"
            },
            "baxis": {
             "endlinecolor": "#2a3f5f",
             "gridcolor": "white",
             "linecolor": "white",
             "minorgridcolor": "white",
             "startlinecolor": "#2a3f5f"
            },
            "type": "carpet"
           }
          ],
          "choropleth": [
           {
            "colorbar": {
             "outlinewidth": 0,
             "ticks": ""
            },
            "type": "choropleth"
           }
          ],
          "contour": [
           {
            "colorbar": {
             "outlinewidth": 0,
             "ticks": ""
            },
            "colorscale": [
             [
              0,
              "#0d0887"
             ],
             [
              0.1111111111111111,
              "#46039f"
             ],
             [
              0.2222222222222222,
              "#7201a8"
             ],
             [
              0.3333333333333333,
              "#9c179e"
             ],
             [
              0.4444444444444444,
              "#bd3786"
             ],
             [
              0.5555555555555556,
              "#d8576b"
             ],
             [
              0.6666666666666666,
              "#ed7953"
             ],
             [
              0.7777777777777778,
              "#fb9f3a"
             ],
             [
              0.8888888888888888,
              "#fdca26"
             ],
             [
              1,
              "#f0f921"
             ]
            ],
            "type": "contour"
           }
          ],
          "contourcarpet": [
           {
            "colorbar": {
             "outlinewidth": 0,
             "ticks": ""
            },
            "type": "contourcarpet"
           }
          ],
          "heatmap": [
           {
            "colorbar": {
             "outlinewidth": 0,
             "ticks": ""
            },
            "colorscale": [
             [
              0,
              "#0d0887"
             ],
             [
              0.1111111111111111,
              "#46039f"
             ],
             [
              0.2222222222222222,
              "#7201a8"
             ],
             [
              0.3333333333333333,
              "#9c179e"
             ],
             [
              0.4444444444444444,
              "#bd3786"
             ],
             [
              0.5555555555555556,
              "#d8576b"
             ],
             [
              0.6666666666666666,
              "#ed7953"
             ],
             [
              0.7777777777777778,
              "#fb9f3a"
             ],
             [
              0.8888888888888888,
              "#fdca26"
             ],
             [
              1,
              "#f0f921"
             ]
            ],
            "type": "heatmap"
           }
          ],
          "heatmapgl": [
           {
            "colorbar": {
             "outlinewidth": 0,
             "ticks": ""
            },
            "colorscale": [
             [
              0,
              "#0d0887"
             ],
             [
              0.1111111111111111,
              "#46039f"
             ],
             [
              0.2222222222222222,
              "#7201a8"
             ],
             [
              0.3333333333333333,
              "#9c179e"
             ],
             [
              0.4444444444444444,
              "#bd3786"
             ],
             [
              0.5555555555555556,
              "#d8576b"
             ],
             [
              0.6666666666666666,
              "#ed7953"
             ],
             [
              0.7777777777777778,
              "#fb9f3a"
             ],
             [
              0.8888888888888888,
              "#fdca26"
             ],
             [
              1,
              "#f0f921"
             ]
            ],
            "type": "heatmapgl"
           }
          ],
          "histogram": [
           {
            "marker": {
             "pattern": {
              "fillmode": "overlay",
              "size": 10,
              "solidity": 0.2
             }
            },
            "type": "histogram"
           }
          ],
          "histogram2d": [
           {
            "colorbar": {
             "outlinewidth": 0,
             "ticks": ""
            },
            "colorscale": [
             [
              0,
              "#0d0887"
             ],
             [
              0.1111111111111111,
              "#46039f"
             ],
             [
              0.2222222222222222,
              "#7201a8"
             ],
             [
              0.3333333333333333,
              "#9c179e"
             ],
             [
              0.4444444444444444,
              "#bd3786"
             ],
             [
              0.5555555555555556,
              "#d8576b"
             ],
             [
              0.6666666666666666,
              "#ed7953"
             ],
             [
              0.7777777777777778,
              "#fb9f3a"
             ],
             [
              0.8888888888888888,
              "#fdca26"
             ],
             [
              1,
              "#f0f921"
             ]
            ],
            "type": "histogram2d"
           }
          ],
          "histogram2dcontour": [
           {
            "colorbar": {
             "outlinewidth": 0,
             "ticks": ""
            },
            "colorscale": [
             [
              0,
              "#0d0887"
             ],
             [
              0.1111111111111111,
              "#46039f"
             ],
             [
              0.2222222222222222,
              "#7201a8"
             ],
             [
              0.3333333333333333,
              "#9c179e"
             ],
             [
              0.4444444444444444,
              "#bd3786"
             ],
             [
              0.5555555555555556,
              "#d8576b"
             ],
             [
              0.6666666666666666,
              "#ed7953"
             ],
             [
              0.7777777777777778,
              "#fb9f3a"
             ],
             [
              0.8888888888888888,
              "#fdca26"
             ],
             [
              1,
              "#f0f921"
             ]
            ],
            "type": "histogram2dcontour"
           }
          ],
          "mesh3d": [
           {
            "colorbar": {
             "outlinewidth": 0,
             "ticks": ""
            },
            "type": "mesh3d"
           }
          ],
          "parcoords": [
           {
            "line": {
             "colorbar": {
              "outlinewidth": 0,
              "ticks": ""
             }
            },
            "type": "parcoords"
           }
          ],
          "pie": [
           {
            "automargin": true,
            "type": "pie"
           }
          ],
          "scatter": [
           {
            "fillpattern": {
             "fillmode": "overlay",
             "size": 10,
             "solidity": 0.2
            },
            "type": "scatter"
           }
          ],
          "scatter3d": [
           {
            "line": {
             "colorbar": {
              "outlinewidth": 0,
              "ticks": ""
             }
            },
            "marker": {
             "colorbar": {
              "outlinewidth": 0,
              "ticks": ""
             }
            },
            "type": "scatter3d"
           }
          ],
          "scattercarpet": [
           {
            "marker": {
             "colorbar": {
              "outlinewidth": 0,
              "ticks": ""
             }
            },
            "type": "scattercarpet"
           }
          ],
          "scattergeo": [
           {
            "marker": {
             "colorbar": {
              "outlinewidth": 0,
              "ticks": ""
             }
            },
            "type": "scattergeo"
           }
          ],
          "scattergl": [
           {
            "marker": {
             "colorbar": {
              "outlinewidth": 0,
              "ticks": ""
             }
            },
            "type": "scattergl"
           }
          ],
          "scattermapbox": [
           {
            "marker": {
             "colorbar": {
              "outlinewidth": 0,
              "ticks": ""
             }
            },
            "type": "scattermapbox"
           }
          ],
          "scatterpolar": [
           {
            "marker": {
             "colorbar": {
              "outlinewidth": 0,
              "ticks": ""
             }
            },
            "type": "scatterpolar"
           }
          ],
          "scatterpolargl": [
           {
            "marker": {
             "colorbar": {
              "outlinewidth": 0,
              "ticks": ""
             }
            },
            "type": "scatterpolargl"
           }
          ],
          "scatterternary": [
           {
            "marker": {
             "colorbar": {
              "outlinewidth": 0,
              "ticks": ""
             }
            },
            "type": "scatterternary"
           }
          ],
          "surface": [
           {
            "colorbar": {
             "outlinewidth": 0,
             "ticks": ""
            },
            "colorscale": [
             [
              0,
              "#0d0887"
             ],
             [
              0.1111111111111111,
              "#46039f"
             ],
             [
              0.2222222222222222,
              "#7201a8"
             ],
             [
              0.3333333333333333,
              "#9c179e"
             ],
             [
              0.4444444444444444,
              "#bd3786"
             ],
             [
              0.5555555555555556,
              "#d8576b"
             ],
             [
              0.6666666666666666,
              "#ed7953"
             ],
             [
              0.7777777777777778,
              "#fb9f3a"
             ],
             [
              0.8888888888888888,
              "#fdca26"
             ],
             [
              1,
              "#f0f921"
             ]
            ],
            "type": "surface"
           }
          ],
          "table": [
           {
            "cells": {
             "fill": {
              "color": "#EBF0F8"
             },
             "line": {
              "color": "white"
             }
            },
            "header": {
             "fill": {
              "color": "#C8D4E3"
             },
             "line": {
              "color": "white"
             }
            },
            "type": "table"
           }
          ]
         },
         "layout": {
          "annotationdefaults": {
           "arrowcolor": "#2a3f5f",
           "arrowhead": 0,
           "arrowwidth": 1
          },
          "autotypenumbers": "strict",
          "coloraxis": {
           "colorbar": {
            "outlinewidth": 0,
            "ticks": ""
           }
          },
          "colorscale": {
           "diverging": [
            [
             0,
             "#8e0152"
            ],
            [
             0.1,
             "#c51b7d"
            ],
            [
             0.2,
             "#de77ae"
            ],
            [
             0.3,
             "#f1b6da"
            ],
            [
             0.4,
             "#fde0ef"
            ],
            [
             0.5,
             "#f7f7f7"
            ],
            [
             0.6,
             "#e6f5d0"
            ],
            [
             0.7,
             "#b8e186"
            ],
            [
             0.8,
             "#7fbc41"
            ],
            [
             0.9,
             "#4d9221"
            ],
            [
             1,
             "#276419"
            ]
           ],
           "sequential": [
            [
             0,
             "#0d0887"
            ],
            [
             0.1111111111111111,
             "#46039f"
            ],
            [
             0.2222222222222222,
             "#7201a8"
            ],
            [
             0.3333333333333333,
             "#9c179e"
            ],
            [
             0.4444444444444444,
             "#bd3786"
            ],
            [
             0.5555555555555556,
             "#d8576b"
            ],
            [
             0.6666666666666666,
             "#ed7953"
            ],
            [
             0.7777777777777778,
             "#fb9f3a"
            ],
            [
             0.8888888888888888,
             "#fdca26"
            ],
            [
             1,
             "#f0f921"
            ]
           ],
           "sequentialminus": [
            [
             0,
             "#0d0887"
            ],
            [
             0.1111111111111111,
             "#46039f"
            ],
            [
             0.2222222222222222,
             "#7201a8"
            ],
            [
             0.3333333333333333,
             "#9c179e"
            ],
            [
             0.4444444444444444,
             "#bd3786"
            ],
            [
             0.5555555555555556,
             "#d8576b"
            ],
            [
             0.6666666666666666,
             "#ed7953"
            ],
            [
             0.7777777777777778,
             "#fb9f3a"
            ],
            [
             0.8888888888888888,
             "#fdca26"
            ],
            [
             1,
             "#f0f921"
            ]
           ]
          },
          "colorway": [
           "#636efa",
           "#EF553B",
           "#00cc96",
           "#ab63fa",
           "#FFA15A",
           "#19d3f3",
           "#FF6692",
           "#B6E880",
           "#FF97FF",
           "#FECB52"
          ],
          "font": {
           "color": "#2a3f5f"
          },
          "geo": {
           "bgcolor": "white",
           "lakecolor": "white",
           "landcolor": "#E5ECF6",
           "showlakes": true,
           "showland": true,
           "subunitcolor": "white"
          },
          "hoverlabel": {
           "align": "left"
          },
          "hovermode": "closest",
          "mapbox": {
           "style": "light"
          },
          "paper_bgcolor": "white",
          "plot_bgcolor": "#E5ECF6",
          "polar": {
           "angularaxis": {
            "gridcolor": "white",
            "linecolor": "white",
            "ticks": ""
           },
           "bgcolor": "#E5ECF6",
           "radialaxis": {
            "gridcolor": "white",
            "linecolor": "white",
            "ticks": ""
           }
          },
          "scene": {
           "xaxis": {
            "backgroundcolor": "#E5ECF6",
            "gridcolor": "white",
            "gridwidth": 2,
            "linecolor": "white",
            "showbackground": true,
            "ticks": "",
            "zerolinecolor": "white"
           },
           "yaxis": {
            "backgroundcolor": "#E5ECF6",
            "gridcolor": "white",
            "gridwidth": 2,
            "linecolor": "white",
            "showbackground": true,
            "ticks": "",
            "zerolinecolor": "white"
           },
           "zaxis": {
            "backgroundcolor": "#E5ECF6",
            "gridcolor": "white",
            "gridwidth": 2,
            "linecolor": "white",
            "showbackground": true,
            "ticks": "",
            "zerolinecolor": "white"
           }
          },
          "shapedefaults": {
           "line": {
            "color": "#2a3f5f"
           }
          },
          "ternary": {
           "aaxis": {
            "gridcolor": "white",
            "linecolor": "white",
            "ticks": ""
           },
           "baxis": {
            "gridcolor": "white",
            "linecolor": "white",
            "ticks": ""
           },
           "bgcolor": "#E5ECF6",
           "caxis": {
            "gridcolor": "white",
            "linecolor": "white",
            "ticks": ""
           }
          },
          "title": {
           "x": 0.05
          },
          "xaxis": {
           "automargin": true,
           "gridcolor": "white",
           "linecolor": "white",
           "ticks": "",
           "title": {
            "standoff": 15
           },
           "zerolinecolor": "white",
           "zerolinewidth": 2
          },
          "yaxis": {
           "automargin": true,
           "gridcolor": "white",
           "linecolor": "white",
           "ticks": "",
           "title": {
            "standoff": 15
           },
           "zerolinecolor": "white",
           "zerolinewidth": 2
          }
         }
        },
        "xaxis": {
         "anchor": "y",
         "domain": [
          0,
          1
         ],
         "title": {
          "text": "ShopName"
         }
        },
        "yaxis": {
         "anchor": "x",
         "domain": [
          0,
          1
         ],
         "title": {
          "text": "value"
         }
        }
       }
      }
     },
     "metadata": {},
     "output_type": "display_data"
    }
   ],
   "source": [
    "fig = px.bar(df.ShopName.value_counts().head(20))\n",
    "fig.show()"
   ]
  },
  {
   "cell_type": "code",
   "execution_count": 18,
   "metadata": {},
   "outputs": [
    {
     "data": {
      "text/plain": [
       "<Axes: xlabel='ShopName'>"
      ]
     },
     "execution_count": 18,
     "metadata": {},
     "output_type": "execute_result"
    },
    {
     "data": {
      "image/png": "[encoded data removed]",
      "text/plain": [
       "<Figure size 640x480 with 1 Axes>"
      ]
     },
     "metadata": {},
     "output_type": "display_data"
    }
   ],
   "source": [
    "df.ShopName.value_counts().head(20).plot(kind='bar')"
   ]
  },
  {
   "cell_type": "code",
   "execution_count": 19,
   "metadata": {},
   "outputs": [
    {
     "data": {
      "text/html": [
       "<div>\n",
       "<style scoped>\n",
       "    .dataframe tbody tr th:only-of-type {\n",
       "        vertical-align: middle;\n",
       "    }\n",
       "\n",
       "    .dataframe tbody tr th {\n",
       "        vertical-align: top;\n",
       "    }\n",
       "\n",
       "    .dataframe thead th {\n",
       "        text-align: right;\n",
       "    }\n",
       "</style>\n",
       "<table border=\"1\" class=\"dataframe\">\n",
       "  <thead>\n",
       "    <tr style=\"text-align: right;\">\n",
       "      <th></th>\n",
       "      <th>ShopName</th>\n",
       "      <th>count</th>\n",
       "    </tr>\n",
       "  </thead>\n",
       "  <tbody>\n",
       "    <tr>\n",
       "      <th>0</th>\n",
       "      <td>DesktopKing</td>\n",
       "      <td>2</td>\n",
       "    </tr>\n",
       "    <tr>\n",
       "      <th>1</th>\n",
       "      <td>PixelPerfectionParty</td>\n",
       "      <td>2</td>\n",
       "    </tr>\n",
       "    <tr>\n",
       "      <th>2</th>\n",
       "      <td>WildPrintPress</td>\n",
       "      <td>2</td>\n",
       "    </tr>\n",
       "    <tr>\n",
       "      <th>3</th>\n",
       "      <td>PinkPartyShop</td>\n",
       "      <td>2</td>\n",
       "    </tr>\n",
       "  </tbody>\n",
       "</table>\n",
       "</div>"
      ],
      "text/plain": [
       "               ShopName  count\n",
       "0           DesktopKing      2\n",
       "1  PixelPerfectionParty      2\n",
       "2        WildPrintPress      2\n",
       "3         PinkPartyShop      2"
      ]
     },
     "execution_count": 19,
     "metadata": {},
     "output_type": "execute_result"
    }
   ],
   "source": [
    "r1 = df.ShopName.value_counts().reset_index()\n",
    "ShopswithMostListing = r1[r1[\"count\"]==r1[\"count\"].max()]\n",
    "ShopswithMostListing"
   ]
  },
  {
   "cell_type": "markdown",
   "metadata": {},
   "source": [
    "### Conclusion:\n",
    "- 77 Unique ShopNames in Listing\n",
    "- 8 ShopName with 3 Listing\n",
    "- 7 ShopName with 2 Listing\n",
    "- 62 Remaining with 1 Listing"
   ]
  },
  {
   "cell_type": "markdown",
   "metadata": {},
   "source": [
    "## Listing (Categorical)"
   ]
  },
  {
   "cell_type": "code",
   "execution_count": 20,
   "metadata": {},
   "outputs": [
    {
     "data": {
      "text/plain": [
       "0     Gamer SVG Bundle, Game Controller Svg, Funny G...\n",
       "1     Green Gamer t-shirt. Your Ultimate Statement o...\n",
       "2                Custom Gaming PC built to your budget!\n",
       "3     Enchanted Forest Night Elf Mouse Pad Gift for ...\n",
       "4     Editable Gaming Birthday Invitation, Gamer Inv...\n",
       "                            ...                        \n",
       "95    Ninja Kidz Tv Kids SVG, Gaming Team Top Tee SV...\n",
       "96    Editable Arcade Party Birthday Invitation Boy ...\n",
       "97    Days Gone Poster, Video Game Wall Art, High Qu...\n",
       "98    Editable Arcade Birthday Party Invitation, Gam...\n",
       "99    Leveled Up To Dad of 2, Dad of Two, Pregnancy ...\n",
       "Name: Listing, Length: 100, dtype: object"
      ]
     },
     "execution_count": 20,
     "metadata": {},
     "output_type": "execute_result"
    }
   ],
   "source": [
    "df.Listing"
   ]
  },
  {
   "cell_type": "code",
   "execution_count": 21,
   "metadata": {},
   "outputs": [
    {
     "data": {
      "text/plain": [
       "Listing\n",
       "Video Gaming Truck Birthday Party Invitation Boys DIY Printable Editable Instant Digital Download Gamer Birthday Invite                       2\n",
       "Gamer SVG Bundle, Game Controller Svg, Funny Gaming Svg, Funny Gamer Sayings Svg, Gamer Quotes Svg, Video Games Svg, Game Controller Svg      1\n",
       "Peach Mouse Pad Marbled Design Desk Accessories Gaming Mouse Mat Office Accessories Computer Accessories Coworker Gift 9x8\"                   1\n",
       "Gaming Definition Prints | Thirsting Definition | Gaming Printable | Gamer Gift | Gaming Posters | Gaming Room Wall Art | Game Room Decor     1\n",
       "Japanese Desk Mat For Home Office, Gaming Mouse Pad Desk Mat Aesthetic Gift For Ganers,Cute Desk Decorations for Men Japan Desk Decor         1\n",
       "                                                                                                                                             ..\n",
       "Leveling Up To Husband Svg, Groom Gaming Svg, Gamer New Husband Svg, Promoted To Husband Svg, Instant Download, Svg Files For Cricut          1\n",
       "Fort Gaming Svg F-Nite Font F-Nite Clipart Svg Png F-Nite Game Font Svg Fort Gaming Alphabet and Clipart Svg Png OTF font                     1\n",
       "Gaming Skull Svg Png Jpg Circut File Cut and Print Ready                                                                                      1\n",
       "Editable Pool Party Gamer Invitation Birthday Invite Digital 5x7 Instant Download Template Gaming Game                                        1\n",
       "Leveled Up To Dad of 2, Dad of Two, Pregnancy Announcement, Video Game Shirt, Fathers Day Gift, Gift for Dad, Gaming Gift, Expecting Shirt    1\n",
       "Name: count, Length: 99, dtype: int64"
      ]
     },
     "execution_count": 21,
     "metadata": {},
     "output_type": "execute_result"
    }
   ],
   "source": [
    "df.Listing.value_counts()"
   ]
  },
  {
   "cell_type": "code",
   "execution_count": 22,
   "metadata": {},
   "outputs": [],
   "source": [
    "from wordcloud import WordCloud"
   ]
  },
  {
   "cell_type": "code",
   "execution_count": 23,
   "metadata": {},
   "outputs": [],
   "source": [
    "text_data = df['Listing'].str.cat(sep=' ')"
   ]
  },
  {
   "cell_type": "code",
   "execution_count": 24,
   "metadata": {},
   "outputs": [],
   "source": [
    "wordcloud = WordCloud(width=800, height=400, background_color='white').generate(text_data)"
   ]
  },
  {
   "cell_type": "code",
   "execution_count": 25,
   "metadata": {},
   "outputs": [
    {
     "data": {
      "image/png": "[encoded data removed]",
      "text/plain": [
       "<Figure size 1000x500 with 1 Axes>"
      ]
     },
     "metadata": {},
     "output_type": "display_data"
    }
   ],
   "source": [
    "plt.figure(figsize=(10, 5))\n",
    "plt.imshow(wordcloud, interpolation='bilinear')\n",
    "plt.axis('off')\n",
    "plt.show()"
   ]
  },
  {
   "cell_type": "code",
   "execution_count": 26,
   "metadata": {},
   "outputs": [],
   "source": [
    "word_frequencies = wordcloud.words_"
   ]
  },
  {
   "cell_type": "code",
   "execution_count": 27,
   "metadata": {},
   "outputs": [
    {
     "name": "stdout",
     "output_type": "stream",
     "text": [
      "                Word    Freq\n",
      "0             Gaming  100.00\n",
      "1                svg   66.96\n",
      "2              Gamer   42.86\n",
      "3                png   25.00\n",
      "4           Birthday   21.43\n",
      "5         Video Game   20.54\n",
      "6               Gift   19.64\n",
      "7              Shirt   16.96\n",
      "8          Mouse Pad   14.29\n",
      "9               Game   12.50\n",
      "10             Party   12.50\n",
      "11  Instant Download   11.61\n",
      "12         Printable   10.71\n",
      "13      Gaming Mouse   10.71\n"
     ]
    }
   ],
   "source": [
    "df2 = pd.DataFrame(word_frequencies.items())\n",
    "df2.rename(columns={0:'Word',1:'Freq'}, inplace=True)\n",
    "df2['Freq'] = round(df2['Freq'] * 100,2)\n",
    "print(df2[df2['Freq']>10])"
   ]
  },
  {
   "cell_type": "markdown",
   "metadata": {},
   "source": [
    "- one word with most frequency"
   ]
  },
  {
   "cell_type": "code",
   "execution_count": 28,
   "metadata": {},
   "outputs": [
    {
     "name": "stdout",
     "output_type": "stream",
     "text": [
      "Gaming: 100.0%\n",
      "svg: 66.96429%\n",
      "Gamer: 42.85714%\n",
      "png: 25.0%\n",
      "Birthday: 21.42857%\n",
      "Gift: 19.64286%\n",
      "Shirt: 16.96429%\n",
      "Game: 12.5%\n",
      "Party: 12.5%\n",
      "Printable: 10.71429%\n",
      "Controller: 9.82143%\n",
      "Editable: 9.82143%\n",
      "Invite: 9.82143%\n",
      "Invitation: 8.92857%\n",
      "Template: 8.92857%\n",
      "Clipart: 8.03571%\n",
      "Poster: 8.03571%\n",
      "Video: 7.14286%\n",
      "Design: 7.14286%\n",
      "Mug: 7.14286%\n",
      "Bundle: 6.25%\n",
      "Funny: 6.25%\n",
      "Kids: 6.25%\n",
      "Boy: 6.25%\n",
      "Retro: 6.25%\n",
      "File: 6.25%\n",
      "Digital: 6.25%\n",
      "Font: 6.25%\n",
      "Desk: 6.25%\n",
      "Truck: 5.35714%\n",
      "Print: 5.35714%\n",
      "Sticker: 5.35714%\n",
      "Sublimation: 5.35714%\n"
     ]
    }
   ],
   "source": [
    "for i,v in word_frequencies.items():\n",
    "    v = round(v * 100 , 5)\n",
    "    if ' ' not in i and v>5:\n",
    "        print(f\"{i}: {v}%\")"
   ]
  },
  {
   "cell_type": "markdown",
   "metadata": {},
   "source": [
    "- two word with most frequency"
   ]
  },
  {
   "cell_type": "code",
   "execution_count": 29,
   "metadata": {},
   "outputs": [
    {
     "name": "stdout",
     "output_type": "stream",
     "text": [
      "Video Game: 20.53571%\n",
      "Mouse Pad: 14.28571%\n",
      "Instant Download: 11.60714%\n",
      "Gaming Mouse: 10.71429%\n",
      "Game Controller: 8.92857%\n",
      "Birthday Party: 8.92857%\n",
      "Desk Mat: 8.92857%\n",
      "Party Invitation: 7.14286%\n",
      "T Shirt: 5.35714%\n",
      "Neon Glow: 5.35714%\n",
      "Digital Download: 5.35714%\n",
      "F Nite: 5.35714%\n",
      "Editable Arcade: 4.46429%\n",
      "Cut File: 4.46429%\n",
      "Room Decor: 3.57143%\n",
      "Level Unlocked: 3.57143%\n",
      "Wall Art: 3.57143%\n",
      "High Quality: 2.67857%\n",
      "sub badges: 2.67857%\n",
      "Ninja Kidz: 2.67857%\n",
      "Years Old: 1.78571%\n"
     ]
    }
   ],
   "source": [
    "for i,v in word_frequencies.items():\n",
    "    v = round(v * 100 , 5)\n",
    "    if ' ' in i:\n",
    "        print(f\"{i}: {v}%\")"
   ]
  },
  {
   "cell_type": "markdown",
   "metadata": {},
   "source": [
    "#### Trending Listings (Days)"
   ]
  },
  {
   "cell_type": "code",
   "execution_count": 30,
   "metadata": {},
   "outputs": [
    {
     "data": {
      "text/plain": [
       "Listing\n",
       "Dice Tower Can Cup 3d Printed Insulated Drink Holder Tabletop Gaming RPG Gamer Accessories                                          247.0\n",
       "Fort Gaming Svg, F-Nite Font, F-Nite Clipart Svg, Png, F-Nite Game Font Svg SVG PNG digital file for circut Instant Download !!!     63.0\n",
       "Fort Gaming Svg F-Nite Font F-Nite Clipart Svg Png F-Nite Game Font Svg Fort Gaming Alphabet and Clipart Svg Png OTF font            31.0\n",
       "Editable Arcade Birthday Party Invitation, Gaming arcade birthday party neon, 5x7, Canva DSW6                                        20.0\n",
       "Animated Retro Gaming Twitch Overlays for Streaming                                                                                  10.0\n",
       "Name: Est. Revenue, dtype: float64"
      ]
     },
     "execution_count": 30,
     "metadata": {},
     "output_type": "execute_result"
    }
   ],
   "source": [
    "days = 30\n",
    "listing_byage = df[(df[\"Listing Age (Days)\"] < days) & (df[\"Est. Revenue\"] > 0)]\n",
    "result = listing_byage.groupby('Listing')['Est. Revenue'].sum().sort_values(ascending=False).head(10)\n",
    "result"
   ]
  },
  {
   "cell_type": "code",
   "execution_count": 31,
   "metadata": {},
   "outputs": [
    {
     "data": {
      "text/html": [
       "<div>\n",
       "<style scoped>\n",
       "    .dataframe tbody tr th:only-of-type {\n",
       "        vertical-align: middle;\n",
       "    }\n",
       "\n",
       "    .dataframe tbody tr th {\n",
       "        vertical-align: top;\n",
       "    }\n",
       "\n",
       "    .dataframe thead th {\n",
       "        text-align: right;\n",
       "    }\n",
       "</style>\n",
       "<table border=\"1\" class=\"dataframe\">\n",
       "  <thead>\n",
       "    <tr style=\"text-align: right;\">\n",
       "      <th></th>\n",
       "      <th>ShopName</th>\n",
       "      <th>Listing</th>\n",
       "      <th>Listing Age (Days)</th>\n",
       "      <th>Total Views</th>\n",
       "      <th>Daily Views</th>\n",
       "      <th>Est. Sales</th>\n",
       "      <th>Price</th>\n",
       "      <th>Est. Revenue</th>\n",
       "      <th>Hearts</th>\n",
       "    </tr>\n",
       "  </thead>\n",
       "  <tbody>\n",
       "    <tr>\n",
       "      <th>34</th>\n",
       "      <td>Glytch3dLLC</td>\n",
       "      <td>Dice Tower Can Cup 3d Printed Insulated Drink ...</td>\n",
       "      <td>10.0</td>\n",
       "      <td>599.0</td>\n",
       "      <td>59.9</td>\n",
       "      <td>13</td>\n",
       "      <td>18.99</td>\n",
       "      <td>247.0</td>\n",
       "      <td>31</td>\n",
       "    </tr>\n",
       "    <tr>\n",
       "      <th>40</th>\n",
       "      <td>craftakts</td>\n",
       "      <td>Fort Gaming Svg, F-Nite Font, F-Nite Clipart S...</td>\n",
       "      <td>24.0</td>\n",
       "      <td>455.0</td>\n",
       "      <td>19.0</td>\n",
       "      <td>23</td>\n",
       "      <td>2.73</td>\n",
       "      <td>63.0</td>\n",
       "      <td>23</td>\n",
       "    </tr>\n",
       "    <tr>\n",
       "      <th>30</th>\n",
       "      <td>ZelStoreSvg</td>\n",
       "      <td>Fort Gaming Svg F-Nite Font F-Nite Clipart Svg...</td>\n",
       "      <td>20.0</td>\n",
       "      <td>374.0</td>\n",
       "      <td>18.7</td>\n",
       "      <td>19</td>\n",
       "      <td>1.64</td>\n",
       "      <td>31.0</td>\n",
       "      <td>23</td>\n",
       "    </tr>\n",
       "    <tr>\n",
       "      <th>98</th>\n",
       "      <td>DigitalJakov</td>\n",
       "      <td>Editable Arcade Birthday Party Invitation, Gam...</td>\n",
       "      <td>22.0</td>\n",
       "      <td>100.0</td>\n",
       "      <td>4.5</td>\n",
       "      <td>3</td>\n",
       "      <td>6.75</td>\n",
       "      <td>20.0</td>\n",
       "      <td>5</td>\n",
       "    </tr>\n",
       "    <tr>\n",
       "      <th>9</th>\n",
       "      <td>SchmidtyArtShop</td>\n",
       "      <td>Animated Retro Gaming Twitch Overlays for Stre...</td>\n",
       "      <td>26.0</td>\n",
       "      <td>68.0</td>\n",
       "      <td>2.6</td>\n",
       "      <td>1</td>\n",
       "      <td>10.00</td>\n",
       "      <td>10.0</td>\n",
       "      <td>4</td>\n",
       "    </tr>\n",
       "  </tbody>\n",
       "</table>\n",
       "</div>"
      ],
      "text/plain": [
       "           ShopName                                            Listing  \\\n",
       "34      Glytch3dLLC  Dice Tower Can Cup 3d Printed Insulated Drink ...   \n",
       "40        craftakts  Fort Gaming Svg, F-Nite Font, F-Nite Clipart S...   \n",
       "30      ZelStoreSvg  Fort Gaming Svg F-Nite Font F-Nite Clipart Svg...   \n",
       "98     DigitalJakov  Editable Arcade Birthday Party Invitation, Gam...   \n",
       "9   SchmidtyArtShop  Animated Retro Gaming Twitch Overlays for Stre...   \n",
       "\n",
       "    Listing Age (Days)  Total Views  Daily Views  Est. Sales  Price  \\\n",
       "34                10.0        599.0         59.9          13  18.99   \n",
       "40                24.0        455.0         19.0          23   2.73   \n",
       "30                20.0        374.0         18.7          19   1.64   \n",
       "98                22.0        100.0          4.5           3   6.75   \n",
       "9                 26.0         68.0          2.6           1  10.00   \n",
       "\n",
       "    Est. Revenue  Hearts  \n",
       "34         247.0      31  \n",
       "40          63.0      23  \n",
       "30          31.0      23  \n",
       "98          20.0       5  \n",
       "9           10.0       4  "
      ]
     },
     "execution_count": 31,
     "metadata": {},
     "output_type": "execute_result"
    }
   ],
   "source": [
    "df[df['Listing'].isin(result.index.to_list())].sort_values(by='Est. Revenue', ascending=False)"
   ]
  },
  {
   "cell_type": "code",
   "execution_count": 32,
   "metadata": {},
   "outputs": [
    {
     "data": {
      "application/vnd.plotly.v1+json": {
       "config": {
        "plotlyServerURL": "https://plot.ly"
       },
       "data": [
        {
         "alignmentgroup": "True",
         "hovertemplate": "x=%{x}<br>y=%{y}<extra></extra>",
         "legendgroup": "",
         "marker": {
          "color": "#636efa",
          "pattern": {
           "shape": ""
          }
         },
         "name": "",
         "offsetgroup": "",
         "orientation": "v",
         "showlegend": false,
         "textposition": "auto",
         "type": "bar",
         "x": [
          "Dice Tower Can Cup 3d Printed Insulated Drink Holder Tabletop Gaming RPG Gamer Accessories",
          "Fort Gaming Svg, F-Nite Font, F-Nite Clipart Svg, Png, F-Nite Game Font Svg SVG PNG digital file for circut Instant Download !!!",
          "Fort Gaming Svg F-Nite Font F-Nite Clipart Svg Png F-Nite Game Font Svg Fort Gaming Alphabet and Clipart Svg Png OTF font",
          "Editable Arcade Birthday Party Invitation, Gaming arcade birthday party neon, 5x7, Canva DSW6",
          "Animated Retro Gaming Twitch Overlays for Streaming"
         ],
         "xaxis": "x",
         "y": [
          247,
          63,
          31,
          20,
          10
         ],
         "yaxis": "y"
        }
       ],
       "layout": {
        "barmode": "relative",
        "legend": {
         "tracegroupgap": 0
        },
        "template": {
         "data": {
          "bar": [
           {
            "error_x": {
             "color": "#2a3f5f"
            },
            "error_y": {
             "color": "#2a3f5f"
            },
            "marker": {
             "line": {
              "color": "#E5ECF6",
              "width": 0.5
             },
             "pattern": {
              "fillmode": "overlay",
              "size": 10,
              "solidity": 0.2
             }
            },
            "type": "bar"
           }
          ],
          "barpolar": [
           {
            "marker": {
             "line": {
              "color": "#E5ECF6",
              "width": 0.5
             },
             "pattern": {
              "fillmode": "overlay",
              "size": 10,
              "solidity": 0.2
             }
            },
            "type": "barpolar"
           }
          ],
          "carpet": [
           {
            "aaxis": {
             "endlinecolor": "#2a3f5f",
             "gridcolor": "white",
             "linecolor": "white",
             "minorgridcolor": "white",
             "startlinecolor": "#2a3f5f"
            },
            "baxis": {
             "endlinecolor": "#2a3f5f",
             "gridcolor": "white",
             "linecolor": "white",
             "minorgridcolor": "white",
             "startlinecolor": "#2a3f5f"
            },
            "type": "carpet"
           }
          ],
          "choropleth": [
           {
            "colorbar": {
             "outlinewidth": 0,
             "ticks": ""
            },
            "type": "choropleth"
           }
          ],
          "contour": [
           {
            "colorbar": {
             "outlinewidth": 0,
             "ticks": ""
            },
            "colorscale": [
             [
              0,
              "#0d0887"
             ],
             [
              0.1111111111111111,
              "#46039f"
             ],
             [
              0.2222222222222222,
              "#7201a8"
             ],
             [
              0.3333333333333333,
              "#9c179e"
             ],
             [
              0.4444444444444444,
              "#bd3786"
             ],
             [
              0.5555555555555556,
              "#d8576b"
             ],
             [
              0.6666666666666666,
              "#ed7953"
             ],
             [
              0.7777777777777778,
              "#fb9f3a"
             ],
             [
              0.8888888888888888,
              "#fdca26"
             ],
             [
              1,
              "#f0f921"
             ]
            ],
            "type": "contour"
           }
          ],
          "contourcarpet": [
           {
            "colorbar": {
             "outlinewidth": 0,
             "ticks": ""
            },
            "type": "contourcarpet"
           }
          ],
          "heatmap": [
           {
            "colorbar": {
             "outlinewidth": 0,
             "ticks": ""
            },
            "colorscale": [
             [
              0,
              "#0d0887"
             ],
             [
              0.1111111111111111,
              "#46039f"
             ],
             [
              0.2222222222222222,
              "#7201a8"
             ],
             [
              0.3333333333333333,
              "#9c179e"
             ],
             [
              0.4444444444444444,
              "#bd3786"
             ],
             [
              0.5555555555555556,
              "#d8576b"
             ],
             [
              0.6666666666666666,
              "#ed7953"
             ],
             [
              0.7777777777777778,
              "#fb9f3a"
             ],
             [
              0.8888888888888888,
              "#fdca26"
             ],
             [
              1,
              "#f0f921"
             ]
            ],
            "type": "heatmap"
           }
          ],
          "heatmapgl": [
           {
            "colorbar": {
             "outlinewidth": 0,
             "ticks": ""
            },
            "colorscale": [
             [
              0,
              "#0d0887"
             ],
             [
              0.1111111111111111,
              "#46039f"
             ],
             [
              0.2222222222222222,
              "#7201a8"
             ],
             [
              0.3333333333333333,
              "#9c179e"
             ],
             [
              0.4444444444444444,
              "#bd3786"
             ],
             [
              0.5555555555555556,
              "#d8576b"
             ],
             [
              0.6666666666666666,
              "#ed7953"
             ],
             [
              0.7777777777777778,
              "#fb9f3a"
             ],
             [
              0.8888888888888888,
              "#fdca26"
             ],
             [
              1,
              "#f0f921"
             ]
            ],
            "type": "heatmapgl"
           }
          ],
          "histogram": [
           {
            "marker": {
             "pattern": {
              "fillmode": "overlay",
              "size": 10,
              "solidity": 0.2
             }
            },
            "type": "histogram"
           }
          ],
          "histogram2d": [
           {
            "colorbar": {
             "outlinewidth": 0,
             "ticks": ""
            },
            "colorscale": [
             [
              0,
              "#0d0887"
             ],
             [
              0.1111111111111111,
              "#46039f"
             ],
             [
              0.2222222222222222,
              "#7201a8"
             ],
             [
              0.3333333333333333,
              "#9c179e"
             ],
             [
              0.4444444444444444,
              "#bd3786"
             ],
             [
              0.5555555555555556,
              "#d8576b"
             ],
             [
              0.6666666666666666,
              "#ed7953"
             ],
             [
              0.7777777777777778,
              "#fb9f3a"
             ],
             [
              0.8888888888888888,
              "#fdca26"
             ],
             [
              1,
              "#f0f921"
             ]
            ],
            "type": "histogram2d"
           }
          ],
          "histogram2dcontour": [
           {
            "colorbar": {
             "outlinewidth": 0,
             "ticks": ""
            },
            "colorscale": [
             [
              0,
              "#0d0887"
             ],
             [
              0.1111111111111111,
              "#46039f"
             ],
             [
              0.2222222222222222,
              "#7201a8"
             ],
             [
              0.3333333333333333,
              "#9c179e"
             ],
             [
              0.4444444444444444,
              "#bd3786"
             ],
             [
              0.5555555555555556,
              "#d8576b"
             ],
             [
              0.6666666666666666,
              "#ed7953"
             ],
             [
              0.7777777777777778,
              "#fb9f3a"
             ],
             [
              0.8888888888888888,
              "#fdca26"
             ],
             [
              1,
              "#f0f921"
             ]
            ],
            "type": "histogram2dcontour"
           }
          ],
          "mesh3d": [
           {
            "colorbar": {
             "outlinewidth": 0,
             "ticks": ""
            },
            "type": "mesh3d"
           }
          ],
          "parcoords": [
           {
            "line": {
             "colorbar": {
              "outlinewidth": 0,
              "ticks": ""
             }
            },
            "type": "parcoords"
           }
          ],
          "pie": [
           {
            "automargin": true,
            "type": "pie"
           }
          ],
          "scatter": [
           {
            "fillpattern": {
             "fillmode": "overlay",
             "size": 10,
             "solidity": 0.2
            },
            "type": "scatter"
           }
          ],
          "scatter3d": [
           {
            "line": {
             "colorbar": {
              "outlinewidth": 0,
              "ticks": ""
             }
            },
            "marker": {
             "colorbar": {
              "outlinewidth": 0,
              "ticks": ""
             }
            },
            "type": "scatter3d"
           }
          ],
          "scattercarpet": [
           {
            "marker": {
             "colorbar": {
              "outlinewidth": 0,
              "ticks": ""
             }
            },
            "type": "scattercarpet"
           }
          ],
          "scattergeo": [
           {
            "marker": {
             "colorbar": {
              "outlinewidth": 0,
              "ticks": ""
             }
            },
            "type": "scattergeo"
           }
          ],
          "scattergl": [
           {
            "marker": {
             "colorbar": {
              "outlinewidth": 0,
              "ticks": ""
             }
            },
            "type": "scattergl"
           }
          ],
          "scattermapbox": [
           {
            "marker": {
             "colorbar": {
              "outlinewidth": 0,
              "ticks": ""
             }
            },
            "type": "scattermapbox"
           }
          ],
          "scatterpolar": [
           {
            "marker": {
             "colorbar": {
              "outlinewidth": 0,
              "ticks": ""
             }
            },
            "type": "scatterpolar"
           }
          ],
          "scatterpolargl": [
           {
            "marker": {
             "colorbar": {
              "outlinewidth": 0,
              "ticks": ""
             }
            },
            "type": "scatterpolargl"
           }
          ],
          "scatterternary": [
           {
            "marker": {
             "colorbar": {
              "outlinewidth": 0,
              "ticks": ""
             }
            },
            "type": "scatterternary"
           }
          ],
          "surface": [
           {
            "colorbar": {
             "outlinewidth": 0,
             "ticks": ""
            },
            "colorscale": [
             [
              0,
              "#0d0887"
             ],
             [
              0.1111111111111111,
              "#46039f"
             ],
             [
              0.2222222222222222,
              "#7201a8"
             ],
             [
              0.3333333333333333,
              "#9c179e"
             ],
             [
              0.4444444444444444,
              "#bd3786"
             ],
             [
              0.5555555555555556,
              "#d8576b"
             ],
             [
              0.6666666666666666,
              "#ed7953"
             ],
             [
              0.7777777777777778,
              "#fb9f3a"
             ],
             [
              0.8888888888888888,
              "#fdca26"
             ],
             [
              1,
              "#f0f921"
             ]
            ],
            "type": "surface"
           }
          ],
          "table": [
           {
            "cells": {
             "fill": {
              "color": "#EBF0F8"
             },
             "line": {
              "color": "white"
             }
            },
            "header": {
             "fill": {
              "color": "#C8D4E3"
             },
             "line": {
              "color": "white"
             }
            },
            "type": "table"
           }
          ]
         },
         "layout": {
          "annotationdefaults": {
           "arrowcolor": "#2a3f5f",
           "arrowhead": 0,
           "arrowwidth": 1
          },
          "autotypenumbers": "strict",
          "coloraxis": {
           "colorbar": {
            "outlinewidth": 0,
            "ticks": ""
           }
          },
          "colorscale": {
           "diverging": [
            [
             0,
             "#8e0152"
            ],
            [
             0.1,
             "#c51b7d"
            ],
            [
             0.2,
             "#de77ae"
            ],
            [
             0.3,
             "#f1b6da"
            ],
            [
             0.4,
             "#fde0ef"
            ],
            [
             0.5,
             "#f7f7f7"
            ],
            [
             0.6,
             "#e6f5d0"
            ],
            [
             0.7,
             "#b8e186"
            ],
            [
             0.8,
             "#7fbc41"
            ],
            [
             0.9,
             "#4d9221"
            ],
            [
             1,
             "#276419"
            ]
           ],
           "sequential": [
            [
             0,
             "#0d0887"
            ],
            [
             0.1111111111111111,
             "#46039f"
            ],
            [
             0.2222222222222222,
             "#7201a8"
            ],
            [
             0.3333333333333333,
             "#9c179e"
            ],
            [
             0.4444444444444444,
             "#bd3786"
            ],
            [
             0.5555555555555556,
             "#d8576b"
            ],
            [
             0.6666666666666666,
             "#ed7953"
            ],
            [
             0.7777777777777778,
             "#fb9f3a"
            ],
            [
             0.8888888888888888,
             "#fdca26"
            ],
            [
             1,
             "#f0f921"
            ]
           ],
           "sequentialminus": [
            [
             0,
             "#0d0887"
            ],
            [
             0.1111111111111111,
             "#46039f"
            ],
            [
             0.2222222222222222,
             "#7201a8"
            ],
            [
             0.3333333333333333,
             "#9c179e"
            ],
            [
             0.4444444444444444,
             "#bd3786"
            ],
            [
             0.5555555555555556,
             "#d8576b"
            ],
            [
             0.6666666666666666,
             "#ed7953"
            ],
            [
             0.7777777777777778,
             "#fb9f3a"
            ],
            [
             0.8888888888888888,
             "#fdca26"
            ],
            [
             1,
             "#f0f921"
            ]
           ]
          },
          "colorway": [
           "#636efa",
           "#EF553B",
           "#00cc96",
           "#ab63fa",
           "#FFA15A",
           "#19d3f3",
           "#FF6692",
           "#B6E880",
           "#FF97FF",
           "#FECB52"
          ],
          "font": {
           "color": "#2a3f5f"
          },
          "geo": {
           "bgcolor": "white",
           "lakecolor": "white",
           "landcolor": "#E5ECF6",
           "showlakes": true,
           "showland": true,
           "subunitcolor": "white"
          },
          "hoverlabel": {
           "align": "left"
          },
          "hovermode": "closest",
          "mapbox": {
           "style": "light"
          },
          "paper_bgcolor": "white",
          "plot_bgcolor": "#E5ECF6",
          "polar": {
           "angularaxis": {
            "gridcolor": "white",
            "linecolor": "white",
            "ticks": ""
           },
           "bgcolor": "#E5ECF6",
           "radialaxis": {
            "gridcolor": "white",
            "linecolor": "white",
            "ticks": ""
           }
          },
          "scene": {
           "xaxis": {
            "backgroundcolor": "#E5ECF6",
            "gridcolor": "white",
            "gridwidth": 2,
            "linecolor": "white",
            "showbackground": true,
            "ticks": "",
            "zerolinecolor": "white"
           },
           "yaxis": {
            "backgroundcolor": "#E5ECF6",
            "gridcolor": "white",
            "gridwidth": 2,
            "linecolor": "white",
            "showbackground": true,
            "ticks": "",
            "zerolinecolor": "white"
           },
           "zaxis": {
            "backgroundcolor": "#E5ECF6",
            "gridcolor": "white",
            "gridwidth": 2,
            "linecolor": "white",
            "showbackground": true,
            "ticks": "",
            "zerolinecolor": "white"
           }
          },
          "shapedefaults": {
           "line": {
            "color": "#2a3f5f"
           }
          },
          "ternary": {
           "aaxis": {
            "gridcolor": "white",
            "linecolor": "white",
            "ticks": ""
           },
           "baxis": {
            "gridcolor": "white",
            "linecolor": "white",
            "ticks": ""
           },
           "bgcolor": "#E5ECF6",
           "caxis": {
            "gridcolor": "white",
            "linecolor": "white",
            "ticks": ""
           }
          },
          "title": {
           "x": 0.05
          },
          "xaxis": {
           "automargin": true,
           "gridcolor": "white",
           "linecolor": "white",
           "ticks": "",
           "title": {
            "standoff": 15
           },
           "zerolinecolor": "white",
           "zerolinewidth": 2
          },
          "yaxis": {
           "automargin": true,
           "gridcolor": "white",
           "linecolor": "white",
           "ticks": "",
           "title": {
            "standoff": 15
           },
           "zerolinecolor": "white",
           "zerolinewidth": 2
          }
         }
        },
        "title": {
         "text": "Top 10 Listing by Revenue (Under 30 Days)"
        },
        "xaxis": {
         "anchor": "y",
         "domain": [
          0,
          1
         ],
         "title": {
          "text": "x"
         }
        },
        "yaxis": {
         "anchor": "x",
         "domain": [
          0,
          1
         ],
         "title": {
          "text": "y"
         }
        }
       }
      }
     },
     "metadata": {},
     "output_type": "display_data"
    }
   ],
   "source": [
    "fig = px.bar(result.head(10), x=result.head(10).index, y=result.head(10).values,\n",
    "            title='Top 10 Listing by Revenue (Under 30 Days)')\n",
    "fig.show()"
   ]
  },
  {
   "cell_type": "markdown",
   "metadata": {},
   "source": [
    "### Conclusion\n",
    "- All unique Listing\n",
    "- Top One words in Listing with most frequency\n",
    "- Top two words in Listing with most frequency"
   ]
  },
  {
   "cell_type": "markdown",
   "metadata": {},
   "source": [
    "## Listing Age (Days) (Numeric)"
   ]
  },
  {
   "cell_type": "code",
   "execution_count": 33,
   "metadata": {},
   "outputs": [
    {
     "data": {
      "text/plain": [
       "0     243.0\n",
       "1       8.0\n",
       "2     815.0\n",
       "3     182.0\n",
       "4     116.0\n",
       "      ...  \n",
       "95    371.0\n",
       "96    365.0\n",
       "97     19.0\n",
       "98     22.0\n",
       "99    120.0\n",
       "Name: Listing Age (Days), Length: 100, dtype: float64"
      ]
     },
     "execution_count": 33,
     "metadata": {},
     "output_type": "execute_result"
    }
   ],
   "source": [
    "df[\"Listing Age (Days)\"]"
   ]
  },
  {
   "cell_type": "code",
   "execution_count": 34,
   "metadata": {},
   "outputs": [
    {
     "name": "stdout",
     "output_type": "stream",
     "text": [
      "0     243.0\n",
      "1       8.0\n",
      "2     815.0\n",
      "3     182.0\n",
      "4     116.0\n",
      "      ...  \n",
      "95    371.0\n",
      "96    365.0\n",
      "97     19.0\n",
      "98     22.0\n",
      "99    120.0\n",
      "Name: Listing Age (Days), Length: 100, dtype: float64\n"
     ]
    }
   ],
   "source": [
    "Listing_age = df[\"Listing Age (Days)\"]\n",
    "print(Listing_age)"
   ]
  },
  {
   "cell_type": "code",
   "execution_count": 35,
   "metadata": {},
   "outputs": [
    {
     "data": {
      "text/plain": [
       "count     100.000000\n",
       "mean      337.750000\n",
       "std       415.125401\n",
       "min         7.000000\n",
       "25%        75.750000\n",
       "50%       191.500000\n",
       "75%       353.750000\n",
       "max      1755.000000\n",
       "Name: Listing Age (Days), dtype: float64"
      ]
     },
     "execution_count": 35,
     "metadata": {},
     "output_type": "execute_result"
    }
   ],
   "source": [
    "Listing_age.describe()"
   ]
  },
  {
   "cell_type": "code",
   "execution_count": 36,
   "metadata": {},
   "outputs": [
    {
     "data": {
      "image/png": "[encoded data removed]",
      "text/plain": [
       "<Figure size 640x480 with 1 Axes>"
      ]
     },
     "metadata": {},
     "output_type": "display_data"
    }
   ],
   "source": [
    "Listing_age_plot = plt.hist(Listing_age, color='blue', edgecolor='white', alpha=0.7)\n",
    "for i in range(len(Listing_age_plot[0])):\n",
    "    plt.text(Listing_age_plot[1][i] + 5,Listing_age_plot[0][i]+.2,str(Listing_age_plot[0][i]))\n",
    "plt.xlabel(\"Listing Age\")\n",
    "plt.ylabel(\"Shops\")\n",
    "plt.show()"
   ]
  },
  {
   "cell_type": "code",
   "execution_count": 37,
   "metadata": {},
   "outputs": [
    {
     "data": {
      "application/vnd.plotly.v1+json": {
       "config": {
        "plotlyServerURL": "https://plot.ly"
       },
       "data": [
        {
         "alignmentgroup": "True",
         "bingroup": "x",
         "hovertemplate": "Listing Age (Days)=%{x}<br>count=%{y}<extra></extra>",
         "legendgroup": "",
         "marker": {
          "color": "#636efa",
          "pattern": {
           "shape": ""
          }
         },
         "name": "",
         "nbinsx": 20,
         "offsetgroup": "",
         "orientation": "v",
         "showlegend": false,
         "type": "histogram",
         "x": [
          243,
          8,
          815,
          182,
          116,
          1535,
          106,
          105,
          44,
          26,
          7,
          320,
          216,
          425,
          29,
          81,
          230,
          51,
          119,
          252,
          660,
          77,
          87,
          287,
          297,
          8,
          687,
          1408,
          109,
          310,
          20,
          308,
          566,
          64,
          10,
          270,
          216,
          1488,
          67,
          295,
          24,
          175,
          338,
          1252,
          152,
          161,
          248,
          248,
          475,
          63,
          247,
          586,
          10,
          10,
          10,
          1362,
          12,
          17,
          264,
          1414,
          41,
          41,
          54,
          666,
          309,
          208,
          207,
          85,
          913,
          90,
          926,
          99,
          350,
          232,
          108,
          1369,
          120,
          177,
          112,
          201,
          502,
          212,
          151,
          1755,
          139,
          1183,
          1029,
          207,
          72,
          129,
          1106,
          629,
          93,
          85,
          66,
          371,
          365,
          19,
          22,
          120
         ],
         "xaxis": "x",
         "yaxis": "y"
        }
       ],
       "layout": {
        "barmode": "relative",
        "legend": {
         "tracegroupgap": 0
        },
        "margin": {
         "t": 60
        },
        "template": {
         "data": {
          "bar": [
           {
            "error_x": {
             "color": "#2a3f5f"
            },
            "error_y": {
             "color": "#2a3f5f"
            },
            "marker": {
             "line": {
              "color": "#E5ECF6",
              "width": 0.5
             },
             "pattern": {
              "fillmode": "overlay",
              "size": 10,
              "solidity": 0.2
             }
            },
            "type": "bar"
           }
          ],
          "barpolar": [
           {
            "marker": {
             "line": {
              "color": "#E5ECF6",
              "width": 0.5
             },
             "pattern": {
              "fillmode": "overlay",
              "size": 10,
              "solidity": 0.2
             }
            },
            "type": "barpolar"
           }
          ],
          "carpet": [
           {
            "aaxis": {
             "endlinecolor": "#2a3f5f",
             "gridcolor": "white",
             "linecolor": "white",
             "minorgridcolor": "white",
             "startlinecolor": "#2a3f5f"
            },
            "baxis": {
             "endlinecolor": "#2a3f5f",
             "gridcolor": "white",
             "linecolor": "white",
             "minorgridcolor": "white",
             "startlinecolor": "#2a3f5f"
            },
            "type": "carpet"
           }
          ],
          "choropleth": [
           {
            "colorbar": {
             "outlinewidth": 0,
             "ticks": ""
            },
            "type": "choropleth"
           }
          ],
          "contour": [
           {
            "colorbar": {
             "outlinewidth": 0,
             "ticks": ""
            },
            "colorscale": [
             [
              0,
              "#0d0887"
             ],
             [
              0.1111111111111111,
              "#46039f"
             ],
             [
              0.2222222222222222,
              "#7201a8"
             ],
             [
              0.3333333333333333,
              "#9c179e"
             ],
             [
              0.4444444444444444,
              "#bd3786"
             ],
             [
              0.5555555555555556,
              "#d8576b"
             ],
             [
              0.6666666666666666,
              "#ed7953"
             ],
             [
              0.7777777777777778,
              "#fb9f3a"
             ],
             [
              0.8888888888888888,
              "#fdca26"
             ],
             [
              1,
              "#f0f921"
             ]
            ],
            "type": "contour"
           }
          ],
          "contourcarpet": [
           {
            "colorbar": {
             "outlinewidth": 0,
             "ticks": ""
            },
            "type": "contourcarpet"
           }
          ],
          "heatmap": [
           {
            "colorbar": {
             "outlinewidth": 0,
             "ticks": ""
            },
            "colorscale": [
             [
              0,
              "#0d0887"
             ],
             [
              0.1111111111111111,
              "#46039f"
             ],
             [
              0.2222222222222222,
              "#7201a8"
             ],
             [
              0.3333333333333333,
              "#9c179e"
             ],
             [
              0.4444444444444444,
              "#bd3786"
             ],
             [
              0.5555555555555556,
              "#d8576b"
             ],
             [
              0.6666666666666666,
              "#ed7953"
             ],
             [
              0.7777777777777778,
              "#fb9f3a"
             ],
             [
              0.8888888888888888,
              "#fdca26"
             ],
             [
              1,
              "#f0f921"
             ]
            ],
            "type": "heatmap"
           }
          ],
          "heatmapgl": [
           {
            "colorbar": {
             "outlinewidth": 0,
             "ticks": ""
            },
            "colorscale": [
             [
              0,
              "#0d0887"
             ],
             [
              0.1111111111111111,
              "#46039f"
             ],
             [
              0.2222222222222222,
              "#7201a8"
             ],
             [
              0.3333333333333333,
              "#9c179e"
             ],
             [
              0.4444444444444444,
              "#bd3786"
             ],
             [
              0.5555555555555556,
              "#d8576b"
             ],
             [
              0.6666666666666666,
              "#ed7953"
             ],
             [
              0.7777777777777778,
              "#fb9f3a"
             ],
             [
              0.8888888888888888,
              "#fdca26"
             ],
             [
              1,
              "#f0f921"
             ]
            ],
            "type": "heatmapgl"
           }
          ],
          "histogram": [
           {
            "marker": {
             "pattern": {
              "fillmode": "overlay",
              "size": 10,
              "solidity": 0.2
             }
            },
            "type": "histogram"
           }
          ],
          "histogram2d": [
           {
            "colorbar": {
             "outlinewidth": 0,
             "ticks": ""
            },
            "colorscale": [
             [
              0,
              "#0d0887"
             ],
             [
              0.1111111111111111,
              "#46039f"
             ],
             [
              0.2222222222222222,
              "#7201a8"
             ],
             [
              0.3333333333333333,
              "#9c179e"
             ],
             [
              0.4444444444444444,
              "#bd3786"
             ],
             [
              0.5555555555555556,
              "#d8576b"
             ],
             [
              0.6666666666666666,
              "#ed7953"
             ],
             [
              0.7777777777777778,
              "#fb9f3a"
             ],
             [
              0.8888888888888888,
              "#fdca26"
             ],
             [
              1,
              "#f0f921"
             ]
            ],
            "type": "histogram2d"
           }
          ],
          "histogram2dcontour": [
           {
            "colorbar": {
             "outlinewidth": 0,
             "ticks": ""
            },
            "colorscale": [
             [
              0,
              "#0d0887"
             ],
             [
              0.1111111111111111,
              "#46039f"
             ],
             [
              0.2222222222222222,
              "#7201a8"
             ],
             [
              0.3333333333333333,
              "#9c179e"
             ],
             [
              0.4444444444444444,
              "#bd3786"
             ],
             [
              0.5555555555555556,
              "#d8576b"
             ],
             [
              0.6666666666666666,
              "#ed7953"
             ],
             [
              0.7777777777777778,
              "#fb9f3a"
             ],
             [
              0.8888888888888888,
              "#fdca26"
             ],
             [
              1,
              "#f0f921"
             ]
            ],
            "type": "histogram2dcontour"
           }
          ],
          "mesh3d": [
           {
            "colorbar": {
             "outlinewidth": 0,
             "ticks": ""
            },
            "type": "mesh3d"
           }
          ],
          "parcoords": [
           {
            "line": {
             "colorbar": {
              "outlinewidth": 0,
              "ticks": ""
             }
            },
            "type": "parcoords"
           }
          ],
          "pie": [
           {
            "automargin": true,
            "type": "pie"
           }
          ],
          "scatter": [
           {
            "fillpattern": {
             "fillmode": "overlay",
             "size": 10,
             "solidity": 0.2
            },
            "type": "scatter"
           }
          ],
          "scatter3d": [
           {
            "line": {
             "colorbar": {
              "outlinewidth": 0,
              "ticks": ""
             }
            },
            "marker": {
             "colorbar": {
              "outlinewidth": 0,
              "ticks": ""
             }
            },
            "type": "scatter3d"
           }
          ],
          "scattercarpet": [
           {
            "marker": {
             "colorbar": {
              "outlinewidth": 0,
              "ticks": ""
             }
            },
            "type": "scattercarpet"
           }
          ],
          "scattergeo": [
           {
            "marker": {
             "colorbar": {
              "outlinewidth": 0,
              "ticks": ""
             }
            },
            "type": "scattergeo"
           }
          ],
          "scattergl": [
           {
            "marker": {
             "colorbar": {
              "outlinewidth": 0,
              "ticks": ""
             }
            },
            "type": "scattergl"
           }
          ],
          "scattermapbox": [
           {
            "marker": {
             "colorbar": {
              "outlinewidth": 0,
              "ticks": ""
             }
            },
            "type": "scattermapbox"
           }
          ],
          "scatterpolar": [
           {
            "marker": {
             "colorbar": {
              "outlinewidth": 0,
              "ticks": ""
             }
            },
            "type": "scatterpolar"
           }
          ],
          "scatterpolargl": [
           {
            "marker": {
             "colorbar": {
              "outlinewidth": 0,
              "ticks": ""
             }
            },
            "type": "scatterpolargl"
           }
          ],
          "scatterternary": [
           {
            "marker": {
             "colorbar": {
              "outlinewidth": 0,
              "ticks": ""
             }
            },
            "type": "scatterternary"
           }
          ],
          "surface": [
           {
            "colorbar": {
             "outlinewidth": 0,
             "ticks": ""
            },
            "colorscale": [
             [
              0,
              "#0d0887"
             ],
             [
              0.1111111111111111,
              "#46039f"
             ],
             [
              0.2222222222222222,
              "#7201a8"
             ],
             [
              0.3333333333333333,
              "#9c179e"
             ],
             [
              0.4444444444444444,
              "#bd3786"
             ],
             [
              0.5555555555555556,
              "#d8576b"
             ],
             [
              0.6666666666666666,
              "#ed7953"
             ],
             [
              0.7777777777777778,
              "#fb9f3a"
             ],
             [
              0.8888888888888888,
              "#fdca26"
             ],
             [
              1,
              "#f0f921"
             ]
            ],
            "type": "surface"
           }
          ],
          "table": [
           {
            "cells": {
             "fill": {
              "color": "#EBF0F8"
             },
             "line": {
              "color": "white"
             }
            },
            "header": {
             "fill": {
              "color": "#C8D4E3"
             },
             "line": {
              "color": "white"
             }
            },
            "type": "table"
           }
          ]
         },
         "layout": {
          "annotationdefaults": {
           "arrowcolor": "#2a3f5f",
           "arrowhead": 0,
           "arrowwidth": 1
          },
          "autotypenumbers": "strict",
          "coloraxis": {
           "colorbar": {
            "outlinewidth": 0,
            "ticks": ""
           }
          },
          "colorscale": {
           "diverging": [
            [
             0,
             "#8e0152"
            ],
            [
             0.1,
             "#c51b7d"
            ],
            [
             0.2,
             "#de77ae"
            ],
            [
             0.3,
             "#f1b6da"
            ],
            [
             0.4,
             "#fde0ef"
            ],
            [
             0.5,
             "#f7f7f7"
            ],
            [
             0.6,
             "#e6f5d0"
            ],
            [
             0.7,
             "#b8e186"
            ],
            [
             0.8,
             "#7fbc41"
            ],
            [
             0.9,
             "#4d9221"
            ],
            [
             1,
             "#276419"
            ]
           ],
           "sequential": [
            [
             0,
             "#0d0887"
            ],
            [
             0.1111111111111111,
             "#46039f"
            ],
            [
             0.2222222222222222,
             "#7201a8"
            ],
            [
             0.3333333333333333,
             "#9c179e"
            ],
            [
             0.4444444444444444,
             "#bd3786"
            ],
            [
             0.5555555555555556,
             "#d8576b"
            ],
            [
             0.6666666666666666,
             "#ed7953"
            ],
            [
             0.7777777777777778,
             "#fb9f3a"
            ],
            [
             0.8888888888888888,
             "#fdca26"
            ],
            [
             1,
             "#f0f921"
            ]
           ],
           "sequentialminus": [
            [
             0,
             "#0d0887"
            ],
            [
             0.1111111111111111,
             "#46039f"
            ],
            [
             0.2222222222222222,
             "#7201a8"
            ],
            [
             0.3333333333333333,
             "#9c179e"
            ],
            [
             0.4444444444444444,
             "#bd3786"
            ],
            [
             0.5555555555555556,
             "#d8576b"
            ],
            [
             0.6666666666666666,
             "#ed7953"
            ],
            [
             0.7777777777777778,
             "#fb9f3a"
            ],
            [
             0.8888888888888888,
             "#fdca26"
            ],
            [
             1,
             "#f0f921"
            ]
           ]
          },
          "colorway": [
           "#636efa",
           "#EF553B",
           "#00cc96",
           "#ab63fa",
           "#FFA15A",
           "#19d3f3",
           "#FF6692",
           "#B6E880",
           "#FF97FF",
           "#FECB52"
          ],
          "font": {
           "color": "#2a3f5f"
          },
          "geo": {
           "bgcolor": "white",
           "lakecolor": "white",
           "landcolor": "#E5ECF6",
           "showlakes": true,
           "showland": true,
           "subunitcolor": "white"
          },
          "hoverlabel": {
           "align": "left"
          },
          "hovermode": "closest",
          "mapbox": {
           "style": "light"
          },
          "paper_bgcolor": "white",
          "plot_bgcolor": "#E5ECF6",
          "polar": {
           "angularaxis": {
            "gridcolor": "white",
            "linecolor": "white",
            "ticks": ""
           },
           "bgcolor": "#E5ECF6",
           "radialaxis": {
            "gridcolor": "white",
            "linecolor": "white",
            "ticks": ""
           }
          },
          "scene": {
           "xaxis": {
            "backgroundcolor": "#E5ECF6",
            "gridcolor": "white",
            "gridwidth": 2,
            "linecolor": "white",
            "showbackground": true,
            "ticks": "",
            "zerolinecolor": "white"
           },
           "yaxis": {
            "backgroundcolor": "#E5ECF6",
            "gridcolor": "white",
            "gridwidth": 2,
            "linecolor": "white",
            "showbackground": true,
            "ticks": "",
            "zerolinecolor": "white"
           },
           "zaxis": {
            "backgroundcolor": "#E5ECF6",
            "gridcolor": "white",
            "gridwidth": 2,
            "linecolor": "white",
            "showbackground": true,
            "ticks": "",
            "zerolinecolor": "white"
           }
          },
          "shapedefaults": {
           "line": {
            "color": "#2a3f5f"
           }
          },
          "ternary": {
           "aaxis": {
            "gridcolor": "white",
            "linecolor": "white",
            "ticks": ""
           },
           "baxis": {
            "gridcolor": "white",
            "linecolor": "white",
            "ticks": ""
           },
           "bgcolor": "#E5ECF6",
           "caxis": {
            "gridcolor": "white",
            "linecolor": "white",
            "ticks": ""
           }
          },
          "title": {
           "x": 0.05
          },
          "xaxis": {
           "automargin": true,
           "gridcolor": "white",
           "linecolor": "white",
           "ticks": "",
           "title": {
            "standoff": 15
           },
           "zerolinecolor": "white",
           "zerolinewidth": 2
          },
          "yaxis": {
           "automargin": true,
           "gridcolor": "white",
           "linecolor": "white",
           "ticks": "",
           "title": {
            "standoff": 15
           },
           "zerolinecolor": "white",
           "zerolinewidth": 2
          }
         }
        },
        "xaxis": {
         "anchor": "y",
         "domain": [
          0,
          1
         ],
         "title": {
          "text": "Listing Age (Days)"
         }
        },
        "yaxis": {
         "anchor": "x",
         "domain": [
          0,
          1
         ],
         "title": {
          "text": "count"
         }
        }
       }
      }
     },
     "metadata": {},
     "output_type": "display_data"
    }
   ],
   "source": [
    "px.histogram(Listing_age, x='Listing Age (Days)', nbins=20)"
   ]
  },
  {
   "cell_type": "markdown",
   "metadata": {},
   "source": [
    "- Oldest Listings"
   ]
  },
  {
   "cell_type": "code",
   "execution_count": 38,
   "metadata": {},
   "outputs": [
    {
     "name": "stdout",
     "output_type": "stream",
     "text": [
      "[1106. 1183. 1252. 1362. 1369. 1408. 1414. 1488. 1535. 1755.]\n"
     ]
    }
   ],
   "source": [
    "old_listing = Listing_age.sort_values().tail(10).values\n",
    "print(old_listing)"
   ]
  },
  {
   "cell_type": "code",
   "execution_count": 39,
   "metadata": {},
   "outputs": [
    {
     "data": {
      "text/html": [
       "<div>\n",
       "<style scoped>\n",
       "    .dataframe tbody tr th:only-of-type {\n",
       "        vertical-align: middle;\n",
       "    }\n",
       "\n",
       "    .dataframe tbody tr th {\n",
       "        vertical-align: top;\n",
       "    }\n",
       "\n",
       "    .dataframe thead th {\n",
       "        text-align: right;\n",
       "    }\n",
       "</style>\n",
       "<table border=\"1\" class=\"dataframe\">\n",
       "  <thead>\n",
       "    <tr style=\"text-align: right;\">\n",
       "      <th></th>\n",
       "      <th>ShopName</th>\n",
       "      <th>Listing</th>\n",
       "      <th>Listing Age (Days)</th>\n",
       "      <th>Total Views</th>\n",
       "      <th>Daily Views</th>\n",
       "      <th>Est. Sales</th>\n",
       "      <th>Price</th>\n",
       "      <th>Est. Revenue</th>\n",
       "      <th>Hearts</th>\n",
       "    </tr>\n",
       "  </thead>\n",
       "  <tbody>\n",
       "    <tr>\n",
       "      <th>5</th>\n",
       "      <td>HappyDayPaper</td>\n",
       "      <td>Printable Video Game Birthday Party Invitation...</td>\n",
       "      <td>1535.0</td>\n",
       "      <td>772.0</td>\n",
       "      <td>0.5</td>\n",
       "      <td>19</td>\n",
       "      <td>10.00</td>\n",
       "      <td>190.0</td>\n",
       "      <td>36</td>\n",
       "    </tr>\n",
       "    <tr>\n",
       "      <th>27</th>\n",
       "      <td>SteelDecorStore</td>\n",
       "      <td>Customizable Controller Gaming Sign, Personali...</td>\n",
       "      <td>1408.0</td>\n",
       "      <td>2593.0</td>\n",
       "      <td>1.8</td>\n",
       "      <td>53</td>\n",
       "      <td>20.00</td>\n",
       "      <td>1060.0</td>\n",
       "      <td>84</td>\n",
       "    </tr>\n",
       "    <tr>\n",
       "      <th>37</th>\n",
       "      <td>CreaTeeVityCO</td>\n",
       "      <td>32nd Birthday T shirt , Level 32 Unlocked, 32 ...</td>\n",
       "      <td>1488.0</td>\n",
       "      <td>63.0</td>\n",
       "      <td>0.0</td>\n",
       "      <td>1</td>\n",
       "      <td>29.95</td>\n",
       "      <td>30.0</td>\n",
       "      <td>0</td>\n",
       "    </tr>\n",
       "    <tr>\n",
       "      <th>43</th>\n",
       "      <td>FirstFavoriteShirt</td>\n",
       "      <td>Uncle's Future Retro Gaming Buddy Baby Bib</td>\n",
       "      <td>1252.0</td>\n",
       "      <td>26.0</td>\n",
       "      <td>0.0</td>\n",
       "      <td>0</td>\n",
       "      <td>9.99</td>\n",
       "      <td>0.0</td>\n",
       "      <td>2</td>\n",
       "    </tr>\n",
       "    <tr>\n",
       "      <th>55</th>\n",
       "      <td>KixKatDesigns</td>\n",
       "      <td>Mosaic Gaming Dishcloth Set - DIGITAL PATTERN ...</td>\n",
       "      <td>1362.0</td>\n",
       "      <td>77.0</td>\n",
       "      <td>0.1</td>\n",
       "      <td>2</td>\n",
       "      <td>6.00</td>\n",
       "      <td>12.0</td>\n",
       "      <td>6</td>\n",
       "    </tr>\n",
       "    <tr>\n",
       "      <th>59</th>\n",
       "      <td>Meggymoonbeams</td>\n",
       "      <td>Gaming Controller Book Folding Pattern (measur...</td>\n",
       "      <td>1414.0</td>\n",
       "      <td>75.0</td>\n",
       "      <td>0.1</td>\n",
       "      <td>3</td>\n",
       "      <td>3.67</td>\n",
       "      <td>11.0</td>\n",
       "      <td>4</td>\n",
       "    </tr>\n",
       "    <tr>\n",
       "      <th>75</th>\n",
       "      <td>PimpinTs</td>\n",
       "      <td>I'd Rather Be Gaming T-Shirt - Funny Gamer Tee...</td>\n",
       "      <td>1369.0</td>\n",
       "      <td>34.0</td>\n",
       "      <td>0.0</td>\n",
       "      <td>0</td>\n",
       "      <td>12.99</td>\n",
       "      <td>0.0</td>\n",
       "      <td>3</td>\n",
       "    </tr>\n",
       "    <tr>\n",
       "      <th>83</th>\n",
       "      <td>PinkAnchorPrintables</td>\n",
       "      <td>Gaming 10th Birthday Cupcake Toppers and Wrapp...</td>\n",
       "      <td>1755.0</td>\n",
       "      <td>96.0</td>\n",
       "      <td>0.1</td>\n",
       "      <td>4</td>\n",
       "      <td>4.08</td>\n",
       "      <td>16.0</td>\n",
       "      <td>4</td>\n",
       "    </tr>\n",
       "    <tr>\n",
       "      <th>85</th>\n",
       "      <td>MerchBuster</td>\n",
       "      <td>18th Birthday Shirt, 18 Years old, Level 18 co...</td>\n",
       "      <td>1183.0</td>\n",
       "      <td>27.0</td>\n",
       "      <td>0.0</td>\n",
       "      <td>0</td>\n",
       "      <td>23.26</td>\n",
       "      <td>0.0</td>\n",
       "      <td>0</td>\n",
       "    </tr>\n",
       "    <tr>\n",
       "      <th>90</th>\n",
       "      <td>DigiDoerz</td>\n",
       "      <td>Gaming  Steve embroidery design</td>\n",
       "      <td>1106.0</td>\n",
       "      <td>5844.0</td>\n",
       "      <td>5.3</td>\n",
       "      <td>301</td>\n",
       "      <td>1.81</td>\n",
       "      <td>544.0</td>\n",
       "      <td>321</td>\n",
       "    </tr>\n",
       "  </tbody>\n",
       "</table>\n",
       "</div>"
      ],
      "text/plain": [
       "                ShopName                                            Listing  \\\n",
       "5          HappyDayPaper  Printable Video Game Birthday Party Invitation...   \n",
       "27       SteelDecorStore  Customizable Controller Gaming Sign, Personali...   \n",
       "37         CreaTeeVityCO  32nd Birthday T shirt , Level 32 Unlocked, 32 ...   \n",
       "43    FirstFavoriteShirt         Uncle's Future Retro Gaming Buddy Baby Bib   \n",
       "55         KixKatDesigns  Mosaic Gaming Dishcloth Set - DIGITAL PATTERN ...   \n",
       "59        Meggymoonbeams  Gaming Controller Book Folding Pattern (measur...   \n",
       "75              PimpinTs  I'd Rather Be Gaming T-Shirt - Funny Gamer Tee...   \n",
       "83  PinkAnchorPrintables  Gaming 10th Birthday Cupcake Toppers and Wrapp...   \n",
       "85           MerchBuster  18th Birthday Shirt, 18 Years old, Level 18 co...   \n",
       "90             DigiDoerz                    Gaming  Steve embroidery design   \n",
       "\n",
       "    Listing Age (Days)  Total Views  Daily Views  Est. Sales  Price  \\\n",
       "5               1535.0        772.0          0.5          19  10.00   \n",
       "27              1408.0       2593.0          1.8          53  20.00   \n",
       "37              1488.0         63.0          0.0           1  29.95   \n",
       "43              1252.0         26.0          0.0           0   9.99   \n",
       "55              1362.0         77.0          0.1           2   6.00   \n",
       "59              1414.0         75.0          0.1           3   3.67   \n",
       "75              1369.0         34.0          0.0           0  12.99   \n",
       "83              1755.0         96.0          0.1           4   4.08   \n",
       "85              1183.0         27.0          0.0           0  23.26   \n",
       "90              1106.0       5844.0          5.3         301   1.81   \n",
       "\n",
       "    Est. Revenue  Hearts  \n",
       "5          190.0      36  \n",
       "27        1060.0      84  \n",
       "37          30.0       0  \n",
       "43           0.0       2  \n",
       "55          12.0       6  \n",
       "59          11.0       4  \n",
       "75           0.0       3  \n",
       "83          16.0       4  \n",
       "85           0.0       0  \n",
       "90         544.0     321  "
      ]
     },
     "execution_count": 39,
     "metadata": {},
     "output_type": "execute_result"
    }
   ],
   "source": [
    "df[df[\"Listing Age (Days)\"].isin(old_listing)]"
   ]
  },
  {
   "cell_type": "markdown",
   "metadata": {},
   "source": [
    "- Latest Listings"
   ]
  },
  {
   "cell_type": "code",
   "execution_count": 40,
   "metadata": {},
   "outputs": [
    {
     "data": {
      "text/html": [
       "<div>\n",
       "<style scoped>\n",
       "    .dataframe tbody tr th:only-of-type {\n",
       "        vertical-align: middle;\n",
       "    }\n",
       "\n",
       "    .dataframe tbody tr th {\n",
       "        vertical-align: top;\n",
       "    }\n",
       "\n",
       "    .dataframe thead th {\n",
       "        text-align: right;\n",
       "    }\n",
       "</style>\n",
       "<table border=\"1\" class=\"dataframe\">\n",
       "  <thead>\n",
       "    <tr style=\"text-align: right;\">\n",
       "      <th></th>\n",
       "      <th>ShopName</th>\n",
       "      <th>Listing</th>\n",
       "      <th>Listing Age (Days)</th>\n",
       "      <th>Total Views</th>\n",
       "      <th>Daily Views</th>\n",
       "      <th>Est. Sales</th>\n",
       "      <th>Price</th>\n",
       "      <th>Est. Revenue</th>\n",
       "      <th>Hearts</th>\n",
       "    </tr>\n",
       "  </thead>\n",
       "  <tbody>\n",
       "    <tr>\n",
       "      <th>1</th>\n",
       "      <td>MYWORLD4STYLE</td>\n",
       "      <td>Green Gamer t-shirt. Your Ultimate Statement o...</td>\n",
       "      <td>8.0</td>\n",
       "      <td>6.0</td>\n",
       "      <td>0.8</td>\n",
       "      <td>0</td>\n",
       "      <td>12.97</td>\n",
       "      <td>0.0</td>\n",
       "      <td>0</td>\n",
       "    </tr>\n",
       "    <tr>\n",
       "      <th>10</th>\n",
       "      <td>TheBourgeoisBuddha</td>\n",
       "      <td>Pisces Fish Gaming Mouse Pad</td>\n",
       "      <td>7.0</td>\n",
       "      <td>6.0</td>\n",
       "      <td>0.9</td>\n",
       "      <td>0</td>\n",
       "      <td>9.95</td>\n",
       "      <td>0.0</td>\n",
       "      <td>0</td>\n",
       "    </tr>\n",
       "    <tr>\n",
       "      <th>25</th>\n",
       "      <td>GallivanterMinis</td>\n",
       "      <td>Alyvia, the Barbarian Chieftain | RN Estudio: ...</td>\n",
       "      <td>8.0</td>\n",
       "      <td>25.0</td>\n",
       "      <td>3.1</td>\n",
       "      <td>0</td>\n",
       "      <td>8.95</td>\n",
       "      <td>0.0</td>\n",
       "      <td>7</td>\n",
       "    </tr>\n",
       "    <tr>\n",
       "      <th>34</th>\n",
       "      <td>Glytch3dLLC</td>\n",
       "      <td>Dice Tower Can Cup 3d Printed Insulated Drink ...</td>\n",
       "      <td>10.0</td>\n",
       "      <td>599.0</td>\n",
       "      <td>59.9</td>\n",
       "      <td>13</td>\n",
       "      <td>18.99</td>\n",
       "      <td>247.0</td>\n",
       "      <td>31</td>\n",
       "    </tr>\n",
       "    <tr>\n",
       "      <th>52</th>\n",
       "      <td>SsmugMugsCo</td>\n",
       "      <td>Cute Keyboard, Desk Mat Pads, Large Gaming Mat...</td>\n",
       "      <td>10.0</td>\n",
       "      <td>5.0</td>\n",
       "      <td>0.5</td>\n",
       "      <td>0</td>\n",
       "      <td>27.99</td>\n",
       "      <td>0.0</td>\n",
       "      <td>0</td>\n",
       "    </tr>\n",
       "    <tr>\n",
       "      <th>53</th>\n",
       "      <td>ItsOnlyDamo</td>\n",
       "      <td>Anime Demon Slayer Zenitsu Thunder Breathing G...</td>\n",
       "      <td>10.0</td>\n",
       "      <td>9.0</td>\n",
       "      <td>0.9</td>\n",
       "      <td>0</td>\n",
       "      <td>21.39</td>\n",
       "      <td>0.0</td>\n",
       "      <td>0</td>\n",
       "    </tr>\n",
       "    <tr>\n",
       "      <th>54</th>\n",
       "      <td>CoolOldStuffForSale</td>\n",
       "      <td>Gambler Gift Gaming Dice, 1993 'Dice Collectio...</td>\n",
       "      <td>10.0</td>\n",
       "      <td>9.0</td>\n",
       "      <td>0.9</td>\n",
       "      <td>0</td>\n",
       "      <td>24.00</td>\n",
       "      <td>0.0</td>\n",
       "      <td>0</td>\n",
       "    </tr>\n",
       "    <tr>\n",
       "      <th>56</th>\n",
       "      <td>JMcustomdesignprints</td>\n",
       "      <td>Gaming Mouse Pad - High Mountains Gaming Desk ...</td>\n",
       "      <td>12.0</td>\n",
       "      <td>4.0</td>\n",
       "      <td>0.3</td>\n",
       "      <td>0</td>\n",
       "      <td>38.00</td>\n",
       "      <td>0.0</td>\n",
       "      <td>1</td>\n",
       "    </tr>\n",
       "    <tr>\n",
       "      <th>57</th>\n",
       "      <td>WickedVinylCreation</td>\n",
       "      <td>Gaming Princess Accent Coffee Mug, 11oz</td>\n",
       "      <td>17.0</td>\n",
       "      <td>6.0</td>\n",
       "      <td>0.4</td>\n",
       "      <td>0</td>\n",
       "      <td>12.00</td>\n",
       "      <td>0.0</td>\n",
       "      <td>0</td>\n",
       "    </tr>\n",
       "    <tr>\n",
       "      <th>97</th>\n",
       "      <td>TheParlorPoster</td>\n",
       "      <td>Days Gone Poster, Video Game Wall Art, High Qu...</td>\n",
       "      <td>19.0</td>\n",
       "      <td>40.0</td>\n",
       "      <td>2.1</td>\n",
       "      <td>0</td>\n",
       "      <td>28.50</td>\n",
       "      <td>0.0</td>\n",
       "      <td>3</td>\n",
       "    </tr>\n",
       "  </tbody>\n",
       "</table>\n",
       "</div>"
      ],
      "text/plain": [
       "                ShopName                                            Listing  \\\n",
       "1          MYWORLD4STYLE  Green Gamer t-shirt. Your Ultimate Statement o...   \n",
       "10    TheBourgeoisBuddha                       Pisces Fish Gaming Mouse Pad   \n",
       "25      GallivanterMinis  Alyvia, the Barbarian Chieftain | RN Estudio: ...   \n",
       "34           Glytch3dLLC  Dice Tower Can Cup 3d Printed Insulated Drink ...   \n",
       "52           SsmugMugsCo  Cute Keyboard, Desk Mat Pads, Large Gaming Mat...   \n",
       "53           ItsOnlyDamo  Anime Demon Slayer Zenitsu Thunder Breathing G...   \n",
       "54   CoolOldStuffForSale  Gambler Gift Gaming Dice, 1993 'Dice Collectio...   \n",
       "56  JMcustomdesignprints  Gaming Mouse Pad - High Mountains Gaming Desk ...   \n",
       "57   WickedVinylCreation            Gaming Princess Accent Coffee Mug, 11oz   \n",
       "97       TheParlorPoster  Days Gone Poster, Video Game Wall Art, High Qu...   \n",
       "\n",
       "    Listing Age (Days)  Total Views  Daily Views  Est. Sales  Price  \\\n",
       "1                  8.0          6.0          0.8           0  12.97   \n",
       "10                 7.0          6.0          0.9           0   9.95   \n",
       "25                 8.0         25.0          3.1           0   8.95   \n",
       "34                10.0        599.0         59.9          13  18.99   \n",
       "52                10.0          5.0          0.5           0  27.99   \n",
       "53                10.0          9.0          0.9           0  21.39   \n",
       "54                10.0          9.0          0.9           0  24.00   \n",
       "56                12.0          4.0          0.3           0  38.00   \n",
       "57                17.0          6.0          0.4           0  12.00   \n",
       "97                19.0         40.0          2.1           0  28.50   \n",
       "\n",
       "    Est. Revenue  Hearts  \n",
       "1            0.0       0  \n",
       "10           0.0       0  \n",
       "25           0.0       7  \n",
       "34         247.0      31  \n",
       "52           0.0       0  \n",
       "53           0.0       0  \n",
       "54           0.0       0  \n",
       "56           0.0       1  \n",
       "57           0.0       0  \n",
       "97           0.0       3  "
      ]
     },
     "execution_count": 40,
     "metadata": {},
     "output_type": "execute_result"
    }
   ],
   "source": [
    "new_listing = Listing_age.sort_values().head(10).values\n",
    "df[df[\"Listing Age (Days)\"].isin(new_listing)]"
   ]
  },
  {
   "cell_type": "markdown",
   "metadata": {},
   "source": [
    "### Insights From Listing (Age):\n",
    "1. MidjourneyPrompt - Midjourney Prompt for Watercolor Animals -- Having Revenue of 2003$ (210 Days Old)\n",
    "2. GOTJEY -\tBlack Women Midjourney Prompts for Black Women -- Having Revenue of 4$ (6 Days Old)\n",
    "- Indicating a Evergreen Product and Trendy Product\n",
    "3. Most of the Listing are Relatively New can be seen on Graph"
   ]
  },
  {
   "cell_type": "markdown",
   "metadata": {},
   "source": []
  },
  {
   "cell_type": "markdown",
   "metadata": {},
   "source": [
    "## Total Views (Numeric):"
   ]
  },
  {
   "cell_type": "code",
   "execution_count": 41,
   "metadata": {},
   "outputs": [
    {
     "name": "stdout",
     "output_type": "stream",
     "text": [
      "0      2783.0\n",
      "1         6.0\n",
      "2     23888.0\n",
      "3         4.0\n",
      "4      1382.0\n",
      "       ...   \n",
      "95     3825.0\n",
      "96     5558.0\n",
      "97       40.0\n",
      "98      100.0\n",
      "99       10.0\n",
      "Name: Total Views, Length: 100, dtype: float64\n"
     ]
    }
   ],
   "source": [
    "total_views = df['Total Views']\n",
    "print(total_views)"
   ]
  },
  {
   "cell_type": "code",
   "execution_count": 42,
   "metadata": {},
   "outputs": [
    {
     "data": {
      "text/plain": [
       "count      100.000000\n",
       "mean       932.260000\n",
       "std       2718.170863\n",
       "min          2.000000\n",
       "25%         11.500000\n",
       "50%         76.000000\n",
       "75%        601.750000\n",
       "max      23888.000000\n",
       "Name: Total Views, dtype: float64"
      ]
     },
     "execution_count": 42,
     "metadata": {},
     "output_type": "execute_result"
    }
   ],
   "source": [
    "total_views.describe()"
   ]
  },
  {
   "cell_type": "code",
   "execution_count": 43,
   "metadata": {},
   "outputs": [
    {
     "data": {
      "text/plain": [
       "<Axes: ylabel='Frequency'>"
      ]
     },
     "execution_count": 43,
     "metadata": {},
     "output_type": "execute_result"
    },
    {
     "data": {
      "image/png": "[encoded data removed]",
      "text/plain": [
       "<Figure size 640x480 with 1 Axes>"
      ]
     },
     "metadata": {},
     "output_type": "display_data"
    }
   ],
   "source": [
    "df['Total Views'].plot(kind='hist')"
   ]
  },
  {
   "cell_type": "code",
   "execution_count": 44,
   "metadata": {},
   "outputs": [],
   "source": [
    "most_views = total_views.sort_values().tail(5).values\n",
    "least_views = total_views.sort_values().head(5).values"
   ]
  },
  {
   "cell_type": "markdown",
   "metadata": {},
   "source": [
    "*Most Views*"
   ]
  },
  {
   "cell_type": "code",
   "execution_count": 45,
   "metadata": {},
   "outputs": [
    {
     "data": {
      "text/html": [
       "<div>\n",
       "<style scoped>\n",
       "    .dataframe tbody tr th:only-of-type {\n",
       "        vertical-align: middle;\n",
       "    }\n",
       "\n",
       "    .dataframe tbody tr th {\n",
       "        vertical-align: top;\n",
       "    }\n",
       "\n",
       "    .dataframe thead th {\n",
       "        text-align: right;\n",
       "    }\n",
       "</style>\n",
       "<table border=\"1\" class=\"dataframe\">\n",
       "  <thead>\n",
       "    <tr style=\"text-align: right;\">\n",
       "      <th></th>\n",
       "      <th>ShopName</th>\n",
       "      <th>Listing</th>\n",
       "      <th>Listing Age (Days)</th>\n",
       "      <th>Total Views</th>\n",
       "      <th>Daily Views</th>\n",
       "      <th>Est. Sales</th>\n",
       "      <th>Price</th>\n",
       "      <th>Est. Revenue</th>\n",
       "      <th>Hearts</th>\n",
       "    </tr>\n",
       "  </thead>\n",
       "  <tbody>\n",
       "    <tr>\n",
       "      <th>2</th>\n",
       "      <td>Technolition101</td>\n",
       "      <td>Custom Gaming PC built to your budget!</td>\n",
       "      <td>815.0</td>\n",
       "      <td>23888.0</td>\n",
       "      <td>29.3</td>\n",
       "      <td>119</td>\n",
       "      <td>1520.00</td>\n",
       "      <td>180880.0</td>\n",
       "      <td>280</td>\n",
       "    </tr>\n",
       "    <tr>\n",
       "      <th>19</th>\n",
       "      <td>WildPrintPress</td>\n",
       "      <td>Video Gaming Truck Birthday Party Invitation B...</td>\n",
       "      <td>252.0</td>\n",
       "      <td>5007.0</td>\n",
       "      <td>19.9</td>\n",
       "      <td>165</td>\n",
       "      <td>6.99</td>\n",
       "      <td>1153.0</td>\n",
       "      <td>249</td>\n",
       "    </tr>\n",
       "    <tr>\n",
       "      <th>26</th>\n",
       "      <td>F8fulDesigns</td>\n",
       "      <td>Gaming Font Pack - 40 Different Fonts with 80+...</td>\n",
       "      <td>687.0</td>\n",
       "      <td>7979.0</td>\n",
       "      <td>11.6</td>\n",
       "      <td>411</td>\n",
       "      <td>2.50</td>\n",
       "      <td>1028.0</td>\n",
       "      <td>316</td>\n",
       "    </tr>\n",
       "    <tr>\n",
       "      <th>90</th>\n",
       "      <td>DigiDoerz</td>\n",
       "      <td>Gaming  Steve embroidery design</td>\n",
       "      <td>1106.0</td>\n",
       "      <td>5844.0</td>\n",
       "      <td>5.3</td>\n",
       "      <td>301</td>\n",
       "      <td>1.81</td>\n",
       "      <td>544.0</td>\n",
       "      <td>321</td>\n",
       "    </tr>\n",
       "    <tr>\n",
       "      <th>96</th>\n",
       "      <td>PixelPerfectionParty</td>\n",
       "      <td>Editable Arcade Party Birthday Invitation Boy ...</td>\n",
       "      <td>365.0</td>\n",
       "      <td>5558.0</td>\n",
       "      <td>15.2</td>\n",
       "      <td>183</td>\n",
       "      <td>9.17</td>\n",
       "      <td>1678.0</td>\n",
       "      <td>273</td>\n",
       "    </tr>\n",
       "  </tbody>\n",
       "</table>\n",
       "</div>"
      ],
      "text/plain": [
       "                ShopName                                            Listing  \\\n",
       "2        Technolition101             Custom Gaming PC built to your budget!   \n",
       "19        WildPrintPress  Video Gaming Truck Birthday Party Invitation B...   \n",
       "26          F8fulDesigns  Gaming Font Pack - 40 Different Fonts with 80+...   \n",
       "90             DigiDoerz                    Gaming  Steve embroidery design   \n",
       "96  PixelPerfectionParty  Editable Arcade Party Birthday Invitation Boy ...   \n",
       "\n",
       "    Listing Age (Days)  Total Views  Daily Views  Est. Sales    Price  \\\n",
       "2                815.0      23888.0         29.3         119  1520.00   \n",
       "19               252.0       5007.0         19.9         165     6.99   \n",
       "26               687.0       7979.0         11.6         411     2.50   \n",
       "90              1106.0       5844.0          5.3         301     1.81   \n",
       "96               365.0       5558.0         15.2         183     9.17   \n",
       "\n",
       "    Est. Revenue  Hearts  \n",
       "2       180880.0     280  \n",
       "19        1153.0     249  \n",
       "26        1028.0     316  \n",
       "90         544.0     321  \n",
       "96        1678.0     273  "
      ]
     },
     "execution_count": 45,
     "metadata": {},
     "output_type": "execute_result"
    }
   ],
   "source": [
    "df[df[\"Total Views\"].isin(most_views)]"
   ]
  },
  {
   "cell_type": "markdown",
   "metadata": {},
   "source": [
    "*Least Views*"
   ]
  },
  {
   "cell_type": "code",
   "execution_count": 46,
   "metadata": {},
   "outputs": [
    {
     "data": {
      "text/html": [
       "<div>\n",
       "<style scoped>\n",
       "    .dataframe tbody tr th:only-of-type {\n",
       "        vertical-align: middle;\n",
       "    }\n",
       "\n",
       "    .dataframe tbody tr th {\n",
       "        vertical-align: top;\n",
       "    }\n",
       "\n",
       "    .dataframe thead th {\n",
       "        text-align: right;\n",
       "    }\n",
       "</style>\n",
       "<table border=\"1\" class=\"dataframe\">\n",
       "  <thead>\n",
       "    <tr style=\"text-align: right;\">\n",
       "      <th></th>\n",
       "      <th>ShopName</th>\n",
       "      <th>Listing</th>\n",
       "      <th>Listing Age (Days)</th>\n",
       "      <th>Total Views</th>\n",
       "      <th>Daily Views</th>\n",
       "      <th>Est. Sales</th>\n",
       "      <th>Price</th>\n",
       "      <th>Est. Revenue</th>\n",
       "      <th>Hearts</th>\n",
       "    </tr>\n",
       "  </thead>\n",
       "  <tbody>\n",
       "    <tr>\n",
       "      <th>3</th>\n",
       "      <td>WhitePinesVale</td>\n",
       "      <td>Enchanted Forest Night Elf Mouse Pad Gift for ...</td>\n",
       "      <td>182.0</td>\n",
       "      <td>4.0</td>\n",
       "      <td>0.0</td>\n",
       "      <td>0</td>\n",
       "      <td>15.99</td>\n",
       "      <td>0.0</td>\n",
       "      <td>0</td>\n",
       "    </tr>\n",
       "    <tr>\n",
       "      <th>15</th>\n",
       "      <td>SVGBistro</td>\n",
       "      <td>Gaming Is In My DNA svg | Funny Gamer SVG | Ga...</td>\n",
       "      <td>81.0</td>\n",
       "      <td>4.0</td>\n",
       "      <td>0.0</td>\n",
       "      <td>0</td>\n",
       "      <td>3.70</td>\n",
       "      <td>0.0</td>\n",
       "      <td>0</td>\n",
       "    </tr>\n",
       "    <tr>\n",
       "      <th>46</th>\n",
       "      <td>PinTeeStore</td>\n",
       "      <td>Gamer Heart shirt, Gaming is My Valentine Shir...</td>\n",
       "      <td>248.0</td>\n",
       "      <td>4.0</td>\n",
       "      <td>0.0</td>\n",
       "      <td>0</td>\n",
       "      <td>24.00</td>\n",
       "      <td>0.0</td>\n",
       "      <td>1</td>\n",
       "    </tr>\n",
       "    <tr>\n",
       "      <th>56</th>\n",
       "      <td>JMcustomdesignprints</td>\n",
       "      <td>Gaming Mouse Pad - High Mountains Gaming Desk ...</td>\n",
       "      <td>12.0</td>\n",
       "      <td>4.0</td>\n",
       "      <td>0.3</td>\n",
       "      <td>0</td>\n",
       "      <td>38.00</td>\n",
       "      <td>0.0</td>\n",
       "      <td>1</td>\n",
       "    </tr>\n",
       "    <tr>\n",
       "      <th>60</th>\n",
       "      <td>StickyPandasArt</td>\n",
       "      <td>Gaming Desk Mat Galactic Explorer - Polyester,...</td>\n",
       "      <td>41.0</td>\n",
       "      <td>3.0</td>\n",
       "      <td>0.1</td>\n",
       "      <td>0</td>\n",
       "      <td>41.98</td>\n",
       "      <td>0.0</td>\n",
       "      <td>0</td>\n",
       "    </tr>\n",
       "    <tr>\n",
       "      <th>61</th>\n",
       "      <td>designedbyMythuss</td>\n",
       "      <td>Gaming Canvas IDKFA IDDQD</td>\n",
       "      <td>41.0</td>\n",
       "      <td>4.0</td>\n",
       "      <td>0.1</td>\n",
       "      <td>0</td>\n",
       "      <td>17.27</td>\n",
       "      <td>0.0</td>\n",
       "      <td>0</td>\n",
       "    </tr>\n",
       "    <tr>\n",
       "      <th>67</th>\n",
       "      <td>WhisperWethCreations</td>\n",
       "      <td>Powered by Caffeine Gaming Hoodie</td>\n",
       "      <td>85.0</td>\n",
       "      <td>4.0</td>\n",
       "      <td>0.0</td>\n",
       "      <td>0</td>\n",
       "      <td>34.99</td>\n",
       "      <td>0.0</td>\n",
       "      <td>0</td>\n",
       "    </tr>\n",
       "    <tr>\n",
       "      <th>71</th>\n",
       "      <td>DaniHoneycuttSticker</td>\n",
       "      <td>Gaming Waterproof Sticker, Neon Splatter Headp...</td>\n",
       "      <td>99.0</td>\n",
       "      <td>2.0</td>\n",
       "      <td>0.0</td>\n",
       "      <td>0</td>\n",
       "      <td>4.99</td>\n",
       "      <td>0.0</td>\n",
       "      <td>0</td>\n",
       "    </tr>\n",
       "  </tbody>\n",
       "</table>\n",
       "</div>"
      ],
      "text/plain": [
       "                ShopName                                            Listing  \\\n",
       "3         WhitePinesVale  Enchanted Forest Night Elf Mouse Pad Gift for ...   \n",
       "15             SVGBistro  Gaming Is In My DNA svg | Funny Gamer SVG | Ga...   \n",
       "46           PinTeeStore  Gamer Heart shirt, Gaming is My Valentine Shir...   \n",
       "56  JMcustomdesignprints  Gaming Mouse Pad - High Mountains Gaming Desk ...   \n",
       "60       StickyPandasArt  Gaming Desk Mat Galactic Explorer - Polyester,...   \n",
       "61     designedbyMythuss                          Gaming Canvas IDKFA IDDQD   \n",
       "67  WhisperWethCreations                  Powered by Caffeine Gaming Hoodie   \n",
       "71  DaniHoneycuttSticker  Gaming Waterproof Sticker, Neon Splatter Headp...   \n",
       "\n",
       "    Listing Age (Days)  Total Views  Daily Views  Est. Sales  Price  \\\n",
       "3                182.0          4.0          0.0           0  15.99   \n",
       "15                81.0          4.0          0.0           0   3.70   \n",
       "46               248.0          4.0          0.0           0  24.00   \n",
       "56                12.0          4.0          0.3           0  38.00   \n",
       "60                41.0          3.0          0.1           0  41.98   \n",
       "61                41.0          4.0          0.1           0  17.27   \n",
       "67                85.0          4.0          0.0           0  34.99   \n",
       "71                99.0          2.0          0.0           0   4.99   \n",
       "\n",
       "    Est. Revenue  Hearts  \n",
       "3            0.0       0  \n",
       "15           0.0       0  \n",
       "46           0.0       1  \n",
       "56           0.0       1  \n",
       "60           0.0       0  \n",
       "61           0.0       0  \n",
       "67           0.0       0  \n",
       "71           0.0       0  "
      ]
     },
     "execution_count": 46,
     "metadata": {},
     "output_type": "execute_result"
    }
   ],
   "source": [
    "df[df[\"Total Views\"].isin(least_views)]"
   ]
  },
  {
   "cell_type": "code",
   "execution_count": 47,
   "metadata": {},
   "outputs": [],
   "source": [
    "filtered_df = df.iloc[:,-7:]"
   ]
  },
  {
   "cell_type": "code",
   "execution_count": 48,
   "metadata": {},
   "outputs": [
    {
     "data": {
      "text/html": [
       "<div>\n",
       "<style scoped>\n",
       "    .dataframe tbody tr th:only-of-type {\n",
       "        vertical-align: middle;\n",
       "    }\n",
       "\n",
       "    .dataframe tbody tr th {\n",
       "        vertical-align: top;\n",
       "    }\n",
       "\n",
       "    .dataframe thead th {\n",
       "        text-align: right;\n",
       "    }\n",
       "</style>\n",
       "<table border=\"1\" class=\"dataframe\">\n",
       "  <thead>\n",
       "    <tr style=\"text-align: right;\">\n",
       "      <th></th>\n",
       "      <th>Listing Age (Days)</th>\n",
       "      <th>Total Views</th>\n",
       "      <th>Daily Views</th>\n",
       "      <th>Est. Sales</th>\n",
       "      <th>Price</th>\n",
       "      <th>Est. Revenue</th>\n",
       "      <th>Hearts</th>\n",
       "    </tr>\n",
       "  </thead>\n",
       "  <tbody>\n",
       "    <tr>\n",
       "      <th>0</th>\n",
       "      <td>243.0</td>\n",
       "      <td>2783.0</td>\n",
       "      <td>11.5</td>\n",
       "      <td>143</td>\n",
       "      <td>3.66</td>\n",
       "      <td>524.0</td>\n",
       "      <td>209</td>\n",
       "    </tr>\n",
       "    <tr>\n",
       "      <th>1</th>\n",
       "      <td>8.0</td>\n",
       "      <td>6.0</td>\n",
       "      <td>0.8</td>\n",
       "      <td>0</td>\n",
       "      <td>12.97</td>\n",
       "      <td>0.0</td>\n",
       "      <td>0</td>\n",
       "    </tr>\n",
       "    <tr>\n",
       "      <th>2</th>\n",
       "      <td>815.0</td>\n",
       "      <td>23888.0</td>\n",
       "      <td>29.3</td>\n",
       "      <td>119</td>\n",
       "      <td>1520.00</td>\n",
       "      <td>180880.0</td>\n",
       "      <td>280</td>\n",
       "    </tr>\n",
       "    <tr>\n",
       "      <th>3</th>\n",
       "      <td>182.0</td>\n",
       "      <td>4.0</td>\n",
       "      <td>0.0</td>\n",
       "      <td>0</td>\n",
       "      <td>15.99</td>\n",
       "      <td>0.0</td>\n",
       "      <td>0</td>\n",
       "    </tr>\n",
       "    <tr>\n",
       "      <th>4</th>\n",
       "      <td>116.0</td>\n",
       "      <td>1382.0</td>\n",
       "      <td>11.9</td>\n",
       "      <td>45</td>\n",
       "      <td>8.00</td>\n",
       "      <td>360.0</td>\n",
       "      <td>61</td>\n",
       "    </tr>\n",
       "    <tr>\n",
       "      <th>...</th>\n",
       "      <td>...</td>\n",
       "      <td>...</td>\n",
       "      <td>...</td>\n",
       "      <td>...</td>\n",
       "      <td>...</td>\n",
       "      <td>...</td>\n",
       "      <td>...</td>\n",
       "    </tr>\n",
       "    <tr>\n",
       "      <th>95</th>\n",
       "      <td>371.0</td>\n",
       "      <td>3825.0</td>\n",
       "      <td>10.3</td>\n",
       "      <td>197</td>\n",
       "      <td>1.82</td>\n",
       "      <td>359.0</td>\n",
       "      <td>119</td>\n",
       "    </tr>\n",
       "    <tr>\n",
       "      <th>96</th>\n",
       "      <td>365.0</td>\n",
       "      <td>5558.0</td>\n",
       "      <td>15.2</td>\n",
       "      <td>183</td>\n",
       "      <td>9.17</td>\n",
       "      <td>1678.0</td>\n",
       "      <td>273</td>\n",
       "    </tr>\n",
       "    <tr>\n",
       "      <th>97</th>\n",
       "      <td>19.0</td>\n",
       "      <td>40.0</td>\n",
       "      <td>2.1</td>\n",
       "      <td>0</td>\n",
       "      <td>28.50</td>\n",
       "      <td>0.0</td>\n",
       "      <td>3</td>\n",
       "    </tr>\n",
       "    <tr>\n",
       "      <th>98</th>\n",
       "      <td>22.0</td>\n",
       "      <td>100.0</td>\n",
       "      <td>4.5</td>\n",
       "      <td>3</td>\n",
       "      <td>6.75</td>\n",
       "      <td>20.0</td>\n",
       "      <td>5</td>\n",
       "    </tr>\n",
       "    <tr>\n",
       "      <th>99</th>\n",
       "      <td>120.0</td>\n",
       "      <td>10.0</td>\n",
       "      <td>0.1</td>\n",
       "      <td>0</td>\n",
       "      <td>12.64</td>\n",
       "      <td>0.0</td>\n",
       "      <td>0</td>\n",
       "    </tr>\n",
       "  </tbody>\n",
       "</table>\n",
       "<p>100 rows × 7 columns</p>\n",
       "</div>"
      ],
      "text/plain": [
       "    Listing Age (Days)  Total Views  Daily Views  Est. Sales    Price  \\\n",
       "0                243.0       2783.0         11.5         143     3.66   \n",
       "1                  8.0          6.0          0.8           0    12.97   \n",
       "2                815.0      23888.0         29.3         119  1520.00   \n",
       "3                182.0          4.0          0.0           0    15.99   \n",
       "4                116.0       1382.0         11.9          45     8.00   \n",
       "..                 ...          ...          ...         ...      ...   \n",
       "95               371.0       3825.0         10.3         197     1.82   \n",
       "96               365.0       5558.0         15.2         183     9.17   \n",
       "97                19.0         40.0          2.1           0    28.50   \n",
       "98                22.0        100.0          4.5           3     6.75   \n",
       "99               120.0         10.0          0.1           0    12.64   \n",
       "\n",
       "    Est. Revenue  Hearts  \n",
       "0          524.0     209  \n",
       "1            0.0       0  \n",
       "2       180880.0     280  \n",
       "3            0.0       0  \n",
       "4          360.0      61  \n",
       "..           ...     ...  \n",
       "95         359.0     119  \n",
       "96        1678.0     273  \n",
       "97           0.0       3  \n",
       "98          20.0       5  \n",
       "99           0.0       0  \n",
       "\n",
       "[100 rows x 7 columns]"
      ]
     },
     "execution_count": 48,
     "metadata": {},
     "output_type": "execute_result"
    }
   ],
   "source": [
    "filtered_df"
   ]
  },
  {
   "cell_type": "code",
   "execution_count": 49,
   "metadata": {},
   "outputs": [
    {
     "data": {
      "text/plain": [
       "Listing Age (Days)    0.155943\n",
       "Total Views           1.000000\n",
       "Daily Views           0.398980\n",
       "Est. Sales            0.616517\n",
       "Price                 0.840730\n",
       "Est. Revenue          0.860238\n",
       "Hearts                0.744668\n",
       "Name: Total Views, dtype: float64"
      ]
     },
     "execution_count": 49,
     "metadata": {},
     "output_type": "execute_result"
    }
   ],
   "source": [
    "filtered_df.corr()[\"Total Views\"]"
   ]
  },
  {
   "cell_type": "markdown",
   "metadata": {},
   "source": [
    "# Trending Listings (Days)"
   ]
  },
  {
   "cell_type": "code",
   "execution_count": 50,
   "metadata": {},
   "outputs": [
    {
     "data": {
      "text/plain": [
       "Listing\n",
       "Dice Tower Can Cup 3d Printed Insulated Drink Holder Tabletop Gaming RPG Gamer Accessories                                          247.0\n",
       "Fort Gaming Svg, F-Nite Font, F-Nite Clipart Svg, Png, F-Nite Game Font Svg SVG PNG digital file for circut Instant Download !!!     63.0\n",
       "Fort Gaming Svg F-Nite Font F-Nite Clipart Svg Png F-Nite Game Font Svg Fort Gaming Alphabet and Clipart Svg Png OTF font            31.0\n",
       "Editable Arcade Birthday Party Invitation, Gaming arcade birthday party neon, 5x7, Canva DSW6                                        20.0\n",
       "Animated Retro Gaming Twitch Overlays for Streaming                                                                                  10.0\n",
       "Name: Est. Revenue, dtype: float64"
      ]
     },
     "execution_count": 50,
     "metadata": {},
     "output_type": "execute_result"
    }
   ],
   "source": [
    "days = 30\n",
    "listing_byage = df[(df[\"Listing Age (Days)\"] < days) & (df[\"Est. Revenue\"] > 0)]\n",
    "result = listing_byage.groupby('Listing')['Est. Revenue'].sum().sort_values(ascending=False).head(10)\n",
    "result"
   ]
  },
  {
   "cell_type": "code",
   "execution_count": 51,
   "metadata": {},
   "outputs": [
    {
     "data": {
      "text/html": [
       "<div>\n",
       "<style scoped>\n",
       "    .dataframe tbody tr th:only-of-type {\n",
       "        vertical-align: middle;\n",
       "    }\n",
       "\n",
       "    .dataframe tbody tr th {\n",
       "        vertical-align: top;\n",
       "    }\n",
       "\n",
       "    .dataframe thead th {\n",
       "        text-align: right;\n",
       "    }\n",
       "</style>\n",
       "<table border=\"1\" class=\"dataframe\">\n",
       "  <thead>\n",
       "    <tr style=\"text-align: right;\">\n",
       "      <th></th>\n",
       "      <th>ShopName</th>\n",
       "      <th>Listing</th>\n",
       "      <th>Listing Age (Days)</th>\n",
       "      <th>Total Views</th>\n",
       "      <th>Daily Views</th>\n",
       "      <th>Est. Sales</th>\n",
       "      <th>Price</th>\n",
       "      <th>Est. Revenue</th>\n",
       "      <th>Hearts</th>\n",
       "    </tr>\n",
       "  </thead>\n",
       "  <tbody>\n",
       "    <tr>\n",
       "      <th>34</th>\n",
       "      <td>Glytch3dLLC</td>\n",
       "      <td>Dice Tower Can Cup 3d Printed Insulated Drink ...</td>\n",
       "      <td>10.0</td>\n",
       "      <td>599.0</td>\n",
       "      <td>59.9</td>\n",
       "      <td>13</td>\n",
       "      <td>18.99</td>\n",
       "      <td>247.0</td>\n",
       "      <td>31</td>\n",
       "    </tr>\n",
       "    <tr>\n",
       "      <th>40</th>\n",
       "      <td>craftakts</td>\n",
       "      <td>Fort Gaming Svg, F-Nite Font, F-Nite Clipart S...</td>\n",
       "      <td>24.0</td>\n",
       "      <td>455.0</td>\n",
       "      <td>19.0</td>\n",
       "      <td>23</td>\n",
       "      <td>2.73</td>\n",
       "      <td>63.0</td>\n",
       "      <td>23</td>\n",
       "    </tr>\n",
       "    <tr>\n",
       "      <th>30</th>\n",
       "      <td>ZelStoreSvg</td>\n",
       "      <td>Fort Gaming Svg F-Nite Font F-Nite Clipart Svg...</td>\n",
       "      <td>20.0</td>\n",
       "      <td>374.0</td>\n",
       "      <td>18.7</td>\n",
       "      <td>19</td>\n",
       "      <td>1.64</td>\n",
       "      <td>31.0</td>\n",
       "      <td>23</td>\n",
       "    </tr>\n",
       "    <tr>\n",
       "      <th>98</th>\n",
       "      <td>DigitalJakov</td>\n",
       "      <td>Editable Arcade Birthday Party Invitation, Gam...</td>\n",
       "      <td>22.0</td>\n",
       "      <td>100.0</td>\n",
       "      <td>4.5</td>\n",
       "      <td>3</td>\n",
       "      <td>6.75</td>\n",
       "      <td>20.0</td>\n",
       "      <td>5</td>\n",
       "    </tr>\n",
       "    <tr>\n",
       "      <th>9</th>\n",
       "      <td>SchmidtyArtShop</td>\n",
       "      <td>Animated Retro Gaming Twitch Overlays for Stre...</td>\n",
       "      <td>26.0</td>\n",
       "      <td>68.0</td>\n",
       "      <td>2.6</td>\n",
       "      <td>1</td>\n",
       "      <td>10.00</td>\n",
       "      <td>10.0</td>\n",
       "      <td>4</td>\n",
       "    </tr>\n",
       "  </tbody>\n",
       "</table>\n",
       "</div>"
      ],
      "text/plain": [
       "           ShopName                                            Listing  \\\n",
       "34      Glytch3dLLC  Dice Tower Can Cup 3d Printed Insulated Drink ...   \n",
       "40        craftakts  Fort Gaming Svg, F-Nite Font, F-Nite Clipart S...   \n",
       "30      ZelStoreSvg  Fort Gaming Svg F-Nite Font F-Nite Clipart Svg...   \n",
       "98     DigitalJakov  Editable Arcade Birthday Party Invitation, Gam...   \n",
       "9   SchmidtyArtShop  Animated Retro Gaming Twitch Overlays for Stre...   \n",
       "\n",
       "    Listing Age (Days)  Total Views  Daily Views  Est. Sales  Price  \\\n",
       "34                10.0        599.0         59.9          13  18.99   \n",
       "40                24.0        455.0         19.0          23   2.73   \n",
       "30                20.0        374.0         18.7          19   1.64   \n",
       "98                22.0        100.0          4.5           3   6.75   \n",
       "9                 26.0         68.0          2.6           1  10.00   \n",
       "\n",
       "    Est. Revenue  Hearts  \n",
       "34         247.0      31  \n",
       "40          63.0      23  \n",
       "30          31.0      23  \n",
       "98          20.0       5  \n",
       "9           10.0       4  "
      ]
     },
     "execution_count": 51,
     "metadata": {},
     "output_type": "execute_result"
    }
   ],
   "source": [
    "df[df['Listing'].isin(result.index.to_list())].sort_values(by='Est. Revenue', ascending=False)"
   ]
  },
  {
   "cell_type": "code",
   "execution_count": 52,
   "metadata": {},
   "outputs": [
    {
     "data": {
      "application/vnd.plotly.v1+json": {
       "config": {
        "plotlyServerURL": "https://plot.ly"
       },
       "data": [
        {
         "alignmentgroup": "True",
         "hovertemplate": "x=%{x}<br>y=%{y}<extra></extra>",
         "legendgroup": "",
         "marker": {
          "color": "#636efa",
          "pattern": {
           "shape": ""
          }
         },
         "name": "",
         "offsetgroup": "",
         "orientation": "v",
         "showlegend": false,
         "textposition": "auto",
         "type": "bar",
         "x": [
          "Dice Tower Can Cup 3d Printed Insulated Drink Holder Tabletop Gaming RPG Gamer Accessories",
          "Fort Gaming Svg, F-Nite Font, F-Nite Clipart Svg, Png, F-Nite Game Font Svg SVG PNG digital file for circut Instant Download !!!",
          "Fort Gaming Svg F-Nite Font F-Nite Clipart Svg Png F-Nite Game Font Svg Fort Gaming Alphabet and Clipart Svg Png OTF font",
          "Editable Arcade Birthday Party Invitation, Gaming arcade birthday party neon, 5x7, Canva DSW6",
          "Animated Retro Gaming Twitch Overlays for Streaming"
         ],
         "xaxis": "x",
         "y": [
          247,
          63,
          31,
          20,
          10
         ],
         "yaxis": "y"
        }
       ],
       "layout": {
        "barmode": "relative",
        "legend": {
         "tracegroupgap": 0
        },
        "template": {
         "data": {
          "bar": [
           {
            "error_x": {
             "color": "#2a3f5f"
            },
            "error_y": {
             "color": "#2a3f5f"
            },
            "marker": {
             "line": {
              "color": "#E5ECF6",
              "width": 0.5
             },
             "pattern": {
              "fillmode": "overlay",
              "size": 10,
              "solidity": 0.2
             }
            },
            "type": "bar"
           }
          ],
          "barpolar": [
           {
            "marker": {
             "line": {
              "color": "#E5ECF6",
              "width": 0.5
             },
             "pattern": {
              "fillmode": "overlay",
              "size": 10,
              "solidity": 0.2
             }
            },
            "type": "barpolar"
           }
          ],
          "carpet": [
           {
            "aaxis": {
             "endlinecolor": "#2a3f5f",
             "gridcolor": "white",
             "linecolor": "white",
             "minorgridcolor": "white",
             "startlinecolor": "#2a3f5f"
            },
            "baxis": {
             "endlinecolor": "#2a3f5f",
             "gridcolor": "white",
             "linecolor": "white",
             "minorgridcolor": "white",
             "startlinecolor": "#2a3f5f"
            },
            "type": "carpet"
           }
          ],
          "choropleth": [
           {
            "colorbar": {
             "outlinewidth": 0,
             "ticks": ""
            },
            "type": "choropleth"
           }
          ],
          "contour": [
           {
            "colorbar": {
             "outlinewidth": 0,
             "ticks": ""
            },
            "colorscale": [
             [
              0,
              "#0d0887"
             ],
             [
              0.1111111111111111,
              "#46039f"
             ],
             [
              0.2222222222222222,
              "#7201a8"
             ],
             [
              0.3333333333333333,
              "#9c179e"
             ],
             [
              0.4444444444444444,
              "#bd3786"
             ],
             [
              0.5555555555555556,
              "#d8576b"
             ],
             [
              0.6666666666666666,
              "#ed7953"
             ],
             [
              0.7777777777777778,
              "#fb9f3a"
             ],
             [
              0.8888888888888888,
              "#fdca26"
             ],
             [
              1,
              "#f0f921"
             ]
            ],
            "type": "contour"
           }
          ],
          "contourcarpet": [
           {
            "colorbar": {
             "outlinewidth": 0,
             "ticks": ""
            },
            "type": "contourcarpet"
           }
          ],
          "heatmap": [
           {
            "colorbar": {
             "outlinewidth": 0,
             "ticks": ""
            },
            "colorscale": [
             [
              0,
              "#0d0887"
             ],
             [
              0.1111111111111111,
              "#46039f"
             ],
             [
              0.2222222222222222,
              "#7201a8"
             ],
             [
              0.3333333333333333,
              "#9c179e"
             ],
             [
              0.4444444444444444,
              "#bd3786"
             ],
             [
              0.5555555555555556,
              "#d8576b"
             ],
             [
              0.6666666666666666,
              "#ed7953"
             ],
             [
              0.7777777777777778,
              "#fb9f3a"
             ],
             [
              0.8888888888888888,
              "#fdca26"
             ],
             [
              1,
              "#f0f921"
             ]
            ],
            "type": "heatmap"
           }
          ],
          "heatmapgl": [
           {
            "colorbar": {
             "outlinewidth": 0,
             "ticks": ""
            },
            "colorscale": [
             [
              0,
              "#0d0887"
             ],
             [
              0.1111111111111111,
              "#46039f"
             ],
             [
              0.2222222222222222,
              "#7201a8"
             ],
             [
              0.3333333333333333,
              "#9c179e"
             ],
             [
              0.4444444444444444,
              "#bd3786"
             ],
             [
              0.5555555555555556,
              "#d8576b"
             ],
             [
              0.6666666666666666,
              "#ed7953"
             ],
             [
              0.7777777777777778,
              "#fb9f3a"
             ],
             [
              0.8888888888888888,
              "#fdca26"
             ],
             [
              1,
              "#f0f921"
             ]
            ],
            "type": "heatmapgl"
           }
          ],
          "histogram": [
           {
            "marker": {
             "pattern": {
              "fillmode": "overlay",
              "size": 10,
              "solidity": 0.2
             }
            },
            "type": "histogram"
           }
          ],
          "histogram2d": [
           {
            "colorbar": {
             "outlinewidth": 0,
             "ticks": ""
            },
            "colorscale": [
             [
              0,
              "#0d0887"
             ],
             [
              0.1111111111111111,
              "#46039f"
             ],
             [
              0.2222222222222222,
              "#7201a8"
             ],
             [
              0.3333333333333333,
              "#9c179e"
             ],
             [
              0.4444444444444444,
              "#bd3786"
             ],
             [
              0.5555555555555556,
              "#d8576b"
             ],
             [
              0.6666666666666666,
              "#ed7953"
             ],
             [
              0.7777777777777778,
              "#fb9f3a"
             ],
             [
              0.8888888888888888,
              "#fdca26"
             ],
             [
              1,
              "#f0f921"
             ]
            ],
            "type": "histogram2d"
           }
          ],
          "histogram2dcontour": [
           {
            "colorbar": {
             "outlinewidth": 0,
             "ticks": ""
            },
            "colorscale": [
             [
              0,
              "#0d0887"
             ],
             [
              0.1111111111111111,
              "#46039f"
             ],
             [
              0.2222222222222222,
              "#7201a8"
             ],
             [
              0.3333333333333333,
              "#9c179e"
             ],
             [
              0.4444444444444444,
              "#bd3786"
             ],
             [
              0.5555555555555556,
              "#d8576b"
             ],
             [
              0.6666666666666666,
              "#ed7953"
             ],
             [
              0.7777777777777778,
              "#fb9f3a"
             ],
             [
              0.8888888888888888,
              "#fdca26"
             ],
             [
              1,
              "#f0f921"
             ]
            ],
            "type": "histogram2dcontour"
           }
          ],
          "mesh3d": [
           {
            "colorbar": {
             "outlinewidth": 0,
             "ticks": ""
            },
            "type": "mesh3d"
           }
          ],
          "parcoords": [
           {
            "line": {
             "colorbar": {
              "outlinewidth": 0,
              "ticks": ""
             }
            },
            "type": "parcoords"
           }
          ],
          "pie": [
           {
            "automargin": true,
            "type": "pie"
           }
          ],
          "scatter": [
           {
            "fillpattern": {
             "fillmode": "overlay",
             "size": 10,
             "solidity": 0.2
            },
            "type": "scatter"
           }
          ],
          "scatter3d": [
           {
            "line": {
             "colorbar": {
              "outlinewidth": 0,
              "ticks": ""
             }
            },
            "marker": {
             "colorbar": {
              "outlinewidth": 0,
              "ticks": ""
             }
            },
            "type": "scatter3d"
           }
          ],
          "scattercarpet": [
           {
            "marker": {
             "colorbar": {
              "outlinewidth": 0,
              "ticks": ""
             }
            },
            "type": "scattercarpet"
           }
          ],
          "scattergeo": [
           {
            "marker": {
             "colorbar": {
              "outlinewidth": 0,
              "ticks": ""
             }
            },
            "type": "scattergeo"
           }
          ],
          "scattergl": [
           {
            "marker": {
             "colorbar": {
              "outlinewidth": 0,
              "ticks": ""
             }
            },
            "type": "scattergl"
           }
          ],
          "scattermapbox": [
           {
            "marker": {
             "colorbar": {
              "outlinewidth": 0,
              "ticks": ""
             }
            },
            "type": "scattermapbox"
           }
          ],
          "scatterpolar": [
           {
            "marker": {
             "colorbar": {
              "outlinewidth": 0,
              "ticks": ""
             }
            },
            "type": "scatterpolar"
           }
          ],
          "scatterpolargl": [
           {
            "marker": {
             "colorbar": {
              "outlinewidth": 0,
              "ticks": ""
             }
            },
            "type": "scatterpolargl"
           }
          ],
          "scatterternary": [
           {
            "marker": {
             "colorbar": {
              "outlinewidth": 0,
              "ticks": ""
             }
            },
            "type": "scatterternary"
           }
          ],
          "surface": [
           {
            "colorbar": {
             "outlinewidth": 0,
             "ticks": ""
            },
            "colorscale": [
             [
              0,
              "#0d0887"
             ],
             [
              0.1111111111111111,
              "#46039f"
             ],
             [
              0.2222222222222222,
              "#7201a8"
             ],
             [
              0.3333333333333333,
              "#9c179e"
             ],
             [
              0.4444444444444444,
              "#bd3786"
             ],
             [
              0.5555555555555556,
              "#d8576b"
             ],
             [
              0.6666666666666666,
              "#ed7953"
             ],
             [
              0.7777777777777778,
              "#fb9f3a"
             ],
             [
              0.8888888888888888,
              "#fdca26"
             ],
             [
              1,
              "#f0f921"
             ]
            ],
            "type": "surface"
           }
          ],
          "table": [
           {
            "cells": {
             "fill": {
              "color": "#EBF0F8"
             },
             "line": {
              "color": "white"
             }
            },
            "header": {
             "fill": {
              "color": "#C8D4E3"
             },
             "line": {
              "color": "white"
             }
            },
            "type": "table"
           }
          ]
         },
         "layout": {
          "annotationdefaults": {
           "arrowcolor": "#2a3f5f",
           "arrowhead": 0,
           "arrowwidth": 1
          },
          "autotypenumbers": "strict",
          "coloraxis": {
           "colorbar": {
            "outlinewidth": 0,
            "ticks": ""
           }
          },
          "colorscale": {
           "diverging": [
            [
             0,
             "#8e0152"
            ],
            [
             0.1,
             "#c51b7d"
            ],
            [
             0.2,
             "#de77ae"
            ],
            [
             0.3,
             "#f1b6da"
            ],
            [
             0.4,
             "#fde0ef"
            ],
            [
             0.5,
             "#f7f7f7"
            ],
            [
             0.6,
             "#e6f5d0"
            ],
            [
             0.7,
             "#b8e186"
            ],
            [
             0.8,
             "#7fbc41"
            ],
            [
             0.9,
             "#4d9221"
            ],
            [
             1,
             "#276419"
            ]
           ],
           "sequential": [
            [
             0,
             "#0d0887"
            ],
            [
             0.1111111111111111,
             "#46039f"
            ],
            [
             0.2222222222222222,
             "#7201a8"
            ],
            [
             0.3333333333333333,
             "#9c179e"
            ],
            [
             0.4444444444444444,
             "#bd3786"
            ],
            [
             0.5555555555555556,
             "#d8576b"
            ],
            [
             0.6666666666666666,
             "#ed7953"
            ],
            [
             0.7777777777777778,
             "#fb9f3a"
            ],
            [
             0.8888888888888888,
             "#fdca26"
            ],
            [
             1,
             "#f0f921"
            ]
           ],
           "sequentialminus": [
            [
             0,
             "#0d0887"
            ],
            [
             0.1111111111111111,
             "#46039f"
            ],
            [
             0.2222222222222222,
             "#7201a8"
            ],
            [
             0.3333333333333333,
             "#9c179e"
            ],
            [
             0.4444444444444444,
             "#bd3786"
            ],
            [
             0.5555555555555556,
             "#d8576b"
            ],
            [
             0.6666666666666666,
             "#ed7953"
            ],
            [
             0.7777777777777778,
             "#fb9f3a"
            ],
            [
             0.8888888888888888,
             "#fdca26"
            ],
            [
             1,
             "#f0f921"
            ]
           ]
          },
          "colorway": [
           "#636efa",
           "#EF553B",
           "#00cc96",
           "#ab63fa",
           "#FFA15A",
           "#19d3f3",
           "#FF6692",
           "#B6E880",
           "#FF97FF",
           "#FECB52"
          ],
          "font": {
           "color": "#2a3f5f"
          },
          "geo": {
           "bgcolor": "white",
           "lakecolor": "white",
           "landcolor": "#E5ECF6",
           "showlakes": true,
           "showland": true,
           "subunitcolor": "white"
          },
          "hoverlabel": {
           "align": "left"
          },
          "hovermode": "closest",
          "mapbox": {
           "style": "light"
          },
          "paper_bgcolor": "white",
          "plot_bgcolor": "#E5ECF6",
          "polar": {
           "angularaxis": {
            "gridcolor": "white",
            "linecolor": "white",
            "ticks": ""
           },
           "bgcolor": "#E5ECF6",
           "radialaxis": {
            "gridcolor": "white",
            "linecolor": "white",
            "ticks": ""
           }
          },
          "scene": {
           "xaxis": {
            "backgroundcolor": "#E5ECF6",
            "gridcolor": "white",
            "gridwidth": 2,
            "linecolor": "white",
            "showbackground": true,
            "ticks": "",
            "zerolinecolor": "white"
           },
           "yaxis": {
            "backgroundcolor": "#E5ECF6",
            "gridcolor": "white",
            "gridwidth": 2,
            "linecolor": "white",
            "showbackground": true,
            "ticks": "",
            "zerolinecolor": "white"
           },
           "zaxis": {
            "backgroundcolor": "#E5ECF6",
            "gridcolor": "white",
            "gridwidth": 2,
            "linecolor": "white",
            "showbackground": true,
            "ticks": "",
            "zerolinecolor": "white"
           }
          },
          "shapedefaults": {
           "line": {
            "color": "#2a3f5f"
           }
          },
          "ternary": {
           "aaxis": {
            "gridcolor": "white",
            "linecolor": "white",
            "ticks": ""
           },
           "baxis": {
            "gridcolor": "white",
            "linecolor": "white",
            "ticks": ""
           },
           "bgcolor": "#E5ECF6",
           "caxis": {
            "gridcolor": "white",
            "linecolor": "white",
            "ticks": ""
           }
          },
          "title": {
           "x": 0.05
          },
          "xaxis": {
           "automargin": true,
           "gridcolor": "white",
           "linecolor": "white",
           "ticks": "",
           "title": {
            "standoff": 15
           },
           "zerolinecolor": "white",
           "zerolinewidth": 2
          },
          "yaxis": {
           "automargin": true,
           "gridcolor": "white",
           "linecolor": "white",
           "ticks": "",
           "title": {
            "standoff": 15
           },
           "zerolinecolor": "white",
           "zerolinewidth": 2
          }
         }
        },
        "title": {
         "text": "Top 10 Listing by Revenue (Under 30 Days)"
        },
        "xaxis": {
         "anchor": "y",
         "domain": [
          0,
          1
         ],
         "title": {
          "text": "x"
         }
        },
        "yaxis": {
         "anchor": "x",
         "domain": [
          0,
          1
         ],
         "title": {
          "text": "y"
         }
        }
       }
      }
     },
     "metadata": {},
     "output_type": "display_data"
    }
   ],
   "source": [
    "fig = px.bar(result.head(10), x=result.head(10).index, y=result.head(10).values,\n",
    "            title='Top 10 Listing by Revenue (Under 30 Days)')\n",
    "fig.show()"
   ]
  },
  {
   "cell_type": "markdown",
   "metadata": {},
   "source": [
    "- correlation with other variables"
   ]
  },
  {
   "cell_type": "code",
   "execution_count": 53,
   "metadata": {},
   "outputs": [
    {
     "data": {
      "text/plain": [
       "<Axes: >"
      ]
     },
     "execution_count": 53,
     "metadata": {},
     "output_type": "execute_result"
    },
    {
     "data": {
      "image/png": "[encoded data removed]",
      "text/plain": [
       "<Figure size 640x480 with 1 Axes>"
      ]
     },
     "metadata": {},
     "output_type": "display_data"
    }
   ],
   "source": [
    "filtered_df.corr()[\"Total Views\"].sort_values(ascending=False).plot(kind='bar')"
   ]
  },
  {
   "cell_type": "code",
   "execution_count": 54,
   "metadata": {},
   "outputs": [
    {
     "data": {
      "image/png": "[encoded data removed]",
      "text/plain": [
       "<Figure size 800x800 with 4 Axes>"
      ]
     },
     "metadata": {},
     "output_type": "display_data"
    }
   ],
   "source": [
    "fig, ((ax1, ax2), (ax3, ax4)) = plt.subplots(nrows=2, ncols=2, figsize=(8, 8))\n",
    "\n",
    "ax1.scatter(df[\"Total Views\"], df[\"Est. Sales\"])\n",
    "ax1.set_xlabel(\"Total Views\")\n",
    "ax1.set_ylabel(\"Est. Sales\")\n",
    "ax1.set_title(\"Total Views vs. Est. Sales\")\n",
    "\n",
    "ax2.scatter(df[\"Total Views\"], df[\"Daily Views\"])\n",
    "ax2.set_xlabel(\"Total Views\")\n",
    "ax2.set_ylabel(\"Daily Views\")\n",
    "ax2.set_title(\"Total Views vs. Daily Views\")\n",
    "\n",
    "ax3.scatter(df[\"Total Views\"], df[\"Est. Revenue\"])\n",
    "ax3.set_xlabel(\"Total Views\")\n",
    "ax3.set_ylabel(\"Est. Revenue\")\n",
    "ax3.set_title(\"Total Views vs. Est. Revenue\")\n",
    "\n",
    "ax4.scatter(df[\"Total Views\"], df[\"Hearts\"])\n",
    "ax4.set_xlabel(\"Total Views\")\n",
    "ax4.set_ylabel(\"Hearts\")\n",
    "ax4.set_title(\"Total Views vs. Hearts\")\n",
    "\n",
    "# Adjust layout to prevent overlap\n",
    "plt.tight_layout()\n",
    "\n",
    "# Show the plots\n",
    "plt.show()\n"
   ]
  },
  {
   "cell_type": "markdown",
   "metadata": {},
   "source": [
    "## Daily Views (Numeric):"
   ]
  },
  {
   "cell_type": "code",
   "execution_count": 55,
   "metadata": {},
   "outputs": [],
   "source": [
    "daily_views = df[\"Daily Views\"]"
   ]
  },
  {
   "cell_type": "code",
   "execution_count": 56,
   "metadata": {},
   "outputs": [
    {
     "data": {
      "text/plain": [
       "100"
      ]
     },
     "execution_count": 56,
     "metadata": {},
     "output_type": "execute_result"
    }
   ],
   "source": [
    "len(daily_views)"
   ]
  },
  {
   "cell_type": "code",
   "execution_count": 57,
   "metadata": {},
   "outputs": [
    {
     "data": {
      "image/png": "[encoded data removed]",
      "text/plain": [
       "<Figure size 640x480 with 1 Axes>"
      ]
     },
     "metadata": {},
     "output_type": "display_data"
    }
   ],
   "source": [
    "daily_views.plot(kind='hist',edgecolor='black', color='green', alpha=.5, hatch='//')\n",
    "plt.xlabel(\"Daily Views\")\n",
    "plt.show()"
   ]
  },
  {
   "cell_type": "markdown",
   "metadata": {},
   "source": [
    "Inference: Most of the Shop Have daily views less than 10."
   ]
  },
  {
   "cell_type": "code",
   "execution_count": 58,
   "metadata": {},
   "outputs": [
    {
     "data": {
      "text/plain": [
       "<Axes: >"
      ]
     },
     "execution_count": 58,
     "metadata": {},
     "output_type": "execute_result"
    },
    {
     "data": {
      "image/png": "[encoded data removed]",
      "text/plain": [
       "<Figure size 640x480 with 1 Axes>"
      ]
     },
     "metadata": {},
     "output_type": "display_data"
    }
   ],
   "source": [
    "filtered_df.corr()[\"Daily Views\"].sort_values(ascending=False).plot(kind='bar')"
   ]
  },
  {
   "cell_type": "markdown",
   "metadata": {},
   "source": [
    "- Daily Views is highly correlated to Est. Revenue, Total Views, Est. Sales and Hearts. \n",
    "- As more daily views leads to more daily sales which therefore relates to more revenue."
   ]
  },
  {
   "cell_type": "markdown",
   "metadata": {},
   "source": [
    "## Est. Sales (Numeric)"
   ]
  },
  {
   "cell_type": "code",
   "execution_count": 59,
   "metadata": {},
   "outputs": [],
   "source": [
    "sales = df[\"Est. Sales\"]"
   ]
  },
  {
   "cell_type": "code",
   "execution_count": 60,
   "metadata": {},
   "outputs": [
    {
     "data": {
      "text/html": [
       "<div>\n",
       "<style scoped>\n",
       "    .dataframe tbody tr th:only-of-type {\n",
       "        vertical-align: middle;\n",
       "    }\n",
       "\n",
       "    .dataframe tbody tr th {\n",
       "        vertical-align: top;\n",
       "    }\n",
       "\n",
       "    .dataframe thead th {\n",
       "        text-align: right;\n",
       "    }\n",
       "</style>\n",
       "<table border=\"1\" class=\"dataframe\">\n",
       "  <thead>\n",
       "    <tr style=\"text-align: right;\">\n",
       "      <th></th>\n",
       "      <th>Est. Sales</th>\n",
       "      <th>count</th>\n",
       "    </tr>\n",
       "  </thead>\n",
       "  <tbody>\n",
       "    <tr>\n",
       "      <th>0</th>\n",
       "      <td>0</td>\n",
       "      <td>41</td>\n",
       "    </tr>\n",
       "    <tr>\n",
       "      <th>1</th>\n",
       "      <td>1</td>\n",
       "      <td>7</td>\n",
       "    </tr>\n",
       "    <tr>\n",
       "      <th>11</th>\n",
       "      <td>2</td>\n",
       "      <td>2</td>\n",
       "    </tr>\n",
       "    <tr>\n",
       "      <th>2</th>\n",
       "      <td>3</td>\n",
       "      <td>5</td>\n",
       "    </tr>\n",
       "    <tr>\n",
       "      <th>23</th>\n",
       "      <td>4</td>\n",
       "      <td>1</td>\n",
       "    </tr>\n",
       "    <tr>\n",
       "      <th>21</th>\n",
       "      <td>5</td>\n",
       "      <td>1</td>\n",
       "    </tr>\n",
       "    <tr>\n",
       "      <th>4</th>\n",
       "      <td>6</td>\n",
       "      <td>2</td>\n",
       "    </tr>\n",
       "    <tr>\n",
       "      <th>26</th>\n",
       "      <td>7</td>\n",
       "      <td>1</td>\n",
       "    </tr>\n",
       "    <tr>\n",
       "      <th>12</th>\n",
       "      <td>10</td>\n",
       "      <td>2</td>\n",
       "    </tr>\n",
       "    <tr>\n",
       "      <th>6</th>\n",
       "      <td>13</td>\n",
       "      <td>2</td>\n",
       "    </tr>\n",
       "    <tr>\n",
       "      <th>16</th>\n",
       "      <td>14</td>\n",
       "      <td>1</td>\n",
       "    </tr>\n",
       "    <tr>\n",
       "      <th>10</th>\n",
       "      <td>15</td>\n",
       "      <td>2</td>\n",
       "    </tr>\n",
       "    <tr>\n",
       "      <th>8</th>\n",
       "      <td>16</td>\n",
       "      <td>2</td>\n",
       "    </tr>\n",
       "    <tr>\n",
       "      <th>5</th>\n",
       "      <td>18</td>\n",
       "      <td>2</td>\n",
       "    </tr>\n",
       "    <tr>\n",
       "      <th>7</th>\n",
       "      <td>19</td>\n",
       "      <td>2</td>\n",
       "    </tr>\n",
       "    <tr>\n",
       "      <th>24</th>\n",
       "      <td>22</td>\n",
       "      <td>1</td>\n",
       "    </tr>\n",
       "    <tr>\n",
       "      <th>25</th>\n",
       "      <td>23</td>\n",
       "      <td>1</td>\n",
       "    </tr>\n",
       "    <tr>\n",
       "      <th>27</th>\n",
       "      <td>24</td>\n",
       "      <td>1</td>\n",
       "    </tr>\n",
       "    <tr>\n",
       "      <th>15</th>\n",
       "      <td>28</td>\n",
       "      <td>1</td>\n",
       "    </tr>\n",
       "    <tr>\n",
       "      <th>3</th>\n",
       "      <td>31</td>\n",
       "      <td>2</td>\n",
       "    </tr>\n",
       "    <tr>\n",
       "      <th>9</th>\n",
       "      <td>37</td>\n",
       "      <td>2</td>\n",
       "    </tr>\n",
       "    <tr>\n",
       "      <th>31</th>\n",
       "      <td>38</td>\n",
       "      <td>1</td>\n",
       "    </tr>\n",
       "    <tr>\n",
       "      <th>37</th>\n",
       "      <td>45</td>\n",
       "      <td>1</td>\n",
       "    </tr>\n",
       "    <tr>\n",
       "      <th>30</th>\n",
       "      <td>50</td>\n",
       "      <td>1</td>\n",
       "    </tr>\n",
       "    <tr>\n",
       "      <th>13</th>\n",
       "      <td>51</td>\n",
       "      <td>1</td>\n",
       "    </tr>\n",
       "    <tr>\n",
       "      <th>17</th>\n",
       "      <td>52</td>\n",
       "      <td>1</td>\n",
       "    </tr>\n",
       "    <tr>\n",
       "      <th>28</th>\n",
       "      <td>53</td>\n",
       "      <td>1</td>\n",
       "    </tr>\n",
       "    <tr>\n",
       "      <th>20</th>\n",
       "      <td>72</td>\n",
       "      <td>1</td>\n",
       "    </tr>\n",
       "    <tr>\n",
       "      <th>36</th>\n",
       "      <td>93</td>\n",
       "      <td>1</td>\n",
       "    </tr>\n",
       "    <tr>\n",
       "      <th>33</th>\n",
       "      <td>99</td>\n",
       "      <td>1</td>\n",
       "    </tr>\n",
       "    <tr>\n",
       "      <th>38</th>\n",
       "      <td>119</td>\n",
       "      <td>1</td>\n",
       "    </tr>\n",
       "    <tr>\n",
       "      <th>19</th>\n",
       "      <td>123</td>\n",
       "      <td>1</td>\n",
       "    </tr>\n",
       "    <tr>\n",
       "      <th>34</th>\n",
       "      <td>132</td>\n",
       "      <td>1</td>\n",
       "    </tr>\n",
       "    <tr>\n",
       "      <th>14</th>\n",
       "      <td>143</td>\n",
       "      <td>1</td>\n",
       "    </tr>\n",
       "    <tr>\n",
       "      <th>32</th>\n",
       "      <td>165</td>\n",
       "      <td>1</td>\n",
       "    </tr>\n",
       "    <tr>\n",
       "      <th>39</th>\n",
       "      <td>183</td>\n",
       "      <td>1</td>\n",
       "    </tr>\n",
       "    <tr>\n",
       "      <th>22</th>\n",
       "      <td>197</td>\n",
       "      <td>1</td>\n",
       "    </tr>\n",
       "    <tr>\n",
       "      <th>35</th>\n",
       "      <td>198</td>\n",
       "      <td>1</td>\n",
       "    </tr>\n",
       "    <tr>\n",
       "      <th>18</th>\n",
       "      <td>301</td>\n",
       "      <td>1</td>\n",
       "    </tr>\n",
       "    <tr>\n",
       "      <th>29</th>\n",
       "      <td>411</td>\n",
       "      <td>1</td>\n",
       "    </tr>\n",
       "  </tbody>\n",
       "</table>\n",
       "</div>"
      ],
      "text/plain": [
       "    Est. Sales  count\n",
       "0            0     41\n",
       "1            1      7\n",
       "11           2      2\n",
       "2            3      5\n",
       "23           4      1\n",
       "21           5      1\n",
       "4            6      2\n",
       "26           7      1\n",
       "12          10      2\n",
       "6           13      2\n",
       "16          14      1\n",
       "10          15      2\n",
       "8           16      2\n",
       "5           18      2\n",
       "7           19      2\n",
       "24          22      1\n",
       "25          23      1\n",
       "27          24      1\n",
       "15          28      1\n",
       "3           31      2\n",
       "9           37      2\n",
       "31          38      1\n",
       "37          45      1\n",
       "30          50      1\n",
       "13          51      1\n",
       "17          52      1\n",
       "28          53      1\n",
       "20          72      1\n",
       "36          93      1\n",
       "33          99      1\n",
       "38         119      1\n",
       "19         123      1\n",
       "34         132      1\n",
       "14         143      1\n",
       "32         165      1\n",
       "39         183      1\n",
       "22         197      1\n",
       "35         198      1\n",
       "18         301      1\n",
       "29         411      1"
      ]
     },
     "execution_count": 60,
     "metadata": {},
     "output_type": "execute_result"
    }
   ],
   "source": [
    "sales.value_counts().reset_index().sort_values(by='Est. Sales')"
   ]
  },
  {
   "cell_type": "code",
   "execution_count": 61,
   "metadata": {},
   "outputs": [
    {
     "data": {
      "text/plain": [
       "100"
      ]
     },
     "execution_count": 61,
     "metadata": {},
     "output_type": "execute_result"
    }
   ],
   "source": [
    "len(sales)"
   ]
  },
  {
   "cell_type": "code",
   "execution_count": 62,
   "metadata": {},
   "outputs": [
    {
     "data": {
      "image/png": "[encoded data removed]",
      "text/plain": [
       "<Figure size 640x480 with 1 Axes>"
      ]
     },
     "metadata": {},
     "output_type": "display_data"
    }
   ],
   "source": [
    "sales_plot = plt.hist(sales, edgecolor='black', color='green', alpha=.5,hatch='//' )\n",
    "plt.xticks(range(0, max(sales), max(sales) // 10))\n",
    "for i in range(len(sales_plot[0])):\n",
    "    if sales_plot[0][i] != 0:\n",
    "        plt.text(sales_plot[1][i]+6,sales_plot[0][i]+1,str(sales_plot[0][i]))\n",
    "plt.xlabel(\"Est. Sales\")\n",
    "plt.ylabel(\"Shops\")\n",
    "plt.show()"
   ]
  },
  {
   "cell_type": "markdown",
   "metadata": {},
   "source": [
    "- 93 shops have sales ranging from 0-35\n",
    "- 1 Shop has sale more than 315 Sales"
   ]
  },
  {
   "cell_type": "code",
   "execution_count": 63,
   "metadata": {},
   "outputs": [
    {
     "data": {
      "text/html": [
       "<div>\n",
       "<style scoped>\n",
       "    .dataframe tbody tr th:only-of-type {\n",
       "        vertical-align: middle;\n",
       "    }\n",
       "\n",
       "    .dataframe tbody tr th {\n",
       "        vertical-align: top;\n",
       "    }\n",
       "\n",
       "    .dataframe thead th {\n",
       "        text-align: right;\n",
       "    }\n",
       "</style>\n",
       "<table border=\"1\" class=\"dataframe\">\n",
       "  <thead>\n",
       "    <tr style=\"text-align: right;\">\n",
       "      <th></th>\n",
       "      <th>ShopName</th>\n",
       "      <th>Est. Sales</th>\n",
       "    </tr>\n",
       "  </thead>\n",
       "  <tbody>\n",
       "    <tr>\n",
       "      <th>0</th>\n",
       "      <td>F8fulDesigns</td>\n",
       "      <td>411</td>\n",
       "    </tr>\n",
       "    <tr>\n",
       "      <th>1</th>\n",
       "      <td>DigiDoerz</td>\n",
       "      <td>301</td>\n",
       "    </tr>\n",
       "    <tr>\n",
       "      <th>2</th>\n",
       "      <td>WildPrintPress</td>\n",
       "      <td>202</td>\n",
       "    </tr>\n",
       "    <tr>\n",
       "      <th>3</th>\n",
       "      <td>PixelPerfectionParty</td>\n",
       "      <td>201</td>\n",
       "    </tr>\n",
       "    <tr>\n",
       "      <th>4</th>\n",
       "      <td>EpikDesignAU</td>\n",
       "      <td>198</td>\n",
       "    </tr>\n",
       "  </tbody>\n",
       "</table>\n",
       "</div>"
      ],
      "text/plain": [
       "               ShopName  Est. Sales\n",
       "0          F8fulDesigns         411\n",
       "1             DigiDoerz         301\n",
       "2        WildPrintPress         202\n",
       "3  PixelPerfectionParty         201\n",
       "4          EpikDesignAU         198"
      ]
     },
     "execution_count": 63,
     "metadata": {},
     "output_type": "execute_result"
    }
   ],
   "source": [
    "# 5 Shops with Most Sales\n",
    "df.groupby('ShopName')[\"Est. Sales\"].sum().sort_values(ascending=False).reset_index().head(5)"
   ]
  },
  {
   "cell_type": "markdown",
   "metadata": {},
   "source": [
    "- Midjourney Prompt is the Shop with 352 sales"
   ]
  },
  {
   "cell_type": "code",
   "execution_count": 64,
   "metadata": {},
   "outputs": [
    {
     "data": {
      "text/plain": [
       "<Axes: >"
      ]
     },
     "execution_count": 64,
     "metadata": {},
     "output_type": "execute_result"
    },
    {
     "data": {
      "image/png": "[encoded data removed]",
      "text/plain": [
       "<Figure size 640x480 with 1 Axes>"
      ]
     },
     "metadata": {},
     "output_type": "display_data"
    }
   ],
   "source": [
    "filtered_df.corr()[\"Est. Sales\"].sort_values(ascending=False).plot(kind='bar')"
   ]
  },
  {
   "cell_type": "markdown",
   "metadata": {},
   "source": [
    "- Est. Sales Highly correlated with total views, revenue, daily views, Hearts\n",
    "- and Inversely Related to Price"
   ]
  },
  {
   "cell_type": "markdown",
   "metadata": {},
   "source": [
    "## Price (Numeric)"
   ]
  },
  {
   "cell_type": "code",
   "execution_count": 65,
   "metadata": {},
   "outputs": [],
   "source": [
    "price = df[\"Price\"]"
   ]
  },
  {
   "cell_type": "code",
   "execution_count": 66,
   "metadata": {},
   "outputs": [
    {
     "data": {
      "text/html": [
       "<div>\n",
       "<style scoped>\n",
       "    .dataframe tbody tr th:only-of-type {\n",
       "        vertical-align: middle;\n",
       "    }\n",
       "\n",
       "    .dataframe tbody tr th {\n",
       "        vertical-align: top;\n",
       "    }\n",
       "\n",
       "    .dataframe thead th {\n",
       "        text-align: right;\n",
       "    }\n",
       "</style>\n",
       "<table border=\"1\" class=\"dataframe\">\n",
       "  <thead>\n",
       "    <tr style=\"text-align: right;\">\n",
       "      <th></th>\n",
       "      <th>Price</th>\n",
       "      <th>count</th>\n",
       "    </tr>\n",
       "  </thead>\n",
       "  <tbody>\n",
       "    <tr>\n",
       "      <th>0</th>\n",
       "      <td>9.99</td>\n",
       "      <td>4</td>\n",
       "    </tr>\n",
       "    <tr>\n",
       "      <th>1</th>\n",
       "      <td>2.50</td>\n",
       "      <td>3</td>\n",
       "    </tr>\n",
       "    <tr>\n",
       "      <th>2</th>\n",
       "      <td>34.99</td>\n",
       "      <td>3</td>\n",
       "    </tr>\n",
       "    <tr>\n",
       "      <th>3</th>\n",
       "      <td>6.00</td>\n",
       "      <td>3</td>\n",
       "    </tr>\n",
       "    <tr>\n",
       "      <th>4</th>\n",
       "      <td>3.70</td>\n",
       "      <td>2</td>\n",
       "    </tr>\n",
       "    <tr>\n",
       "      <th>...</th>\n",
       "      <td>...</td>\n",
       "      <td>...</td>\n",
       "    </tr>\n",
       "    <tr>\n",
       "      <th>74</th>\n",
       "      <td>12.97</td>\n",
       "      <td>1</td>\n",
       "    </tr>\n",
       "    <tr>\n",
       "      <th>75</th>\n",
       "      <td>20.55</td>\n",
       "      <td>1</td>\n",
       "    </tr>\n",
       "    <tr>\n",
       "      <th>76</th>\n",
       "      <td>16.95</td>\n",
       "      <td>1</td>\n",
       "    </tr>\n",
       "    <tr>\n",
       "      <th>77</th>\n",
       "      <td>27.99</td>\n",
       "      <td>1</td>\n",
       "    </tr>\n",
       "    <tr>\n",
       "      <th>78</th>\n",
       "      <td>12.64</td>\n",
       "      <td>1</td>\n",
       "    </tr>\n",
       "  </tbody>\n",
       "</table>\n",
       "<p>79 rows × 2 columns</p>\n",
       "</div>"
      ],
      "text/plain": [
       "    Price  count\n",
       "0    9.99      4\n",
       "1    2.50      3\n",
       "2   34.99      3\n",
       "3    6.00      3\n",
       "4    3.70      2\n",
       "..    ...    ...\n",
       "74  12.97      1\n",
       "75  20.55      1\n",
       "76  16.95      1\n",
       "77  27.99      1\n",
       "78  12.64      1\n",
       "\n",
       "[79 rows x 2 columns]"
      ]
     },
     "execution_count": 66,
     "metadata": {},
     "output_type": "execute_result"
    }
   ],
   "source": [
    "price.value_counts().reset_index()"
   ]
  },
  {
   "cell_type": "code",
   "execution_count": 67,
   "metadata": {},
   "outputs": [
    {
     "data": {
      "text/plain": [
       "Text(0, 0.5, 'Shop Count')"
      ]
     },
     "execution_count": 67,
     "metadata": {},
     "output_type": "execute_result"
    },
    {
     "data": {
      "image/png": "[encoded data removed]",
      "text/plain": [
       "<Figure size 640x480 with 1 Axes>"
      ]
     },
     "metadata": {},
     "output_type": "display_data"
    }
   ],
   "source": [
    "price_plot = plt.hist(price, color='green', edgecolor='black', alpha=0.5)\n",
    "plt.xticks(range(0, int(max(price+1)), int(max(price+1)) // 10))\n",
    "for i in range(0, len(price_plot[0])):\n",
    "    plt.text(price_plot[1][i]+1,price_plot[0][i]+.5,str(int(price_plot[0][i])))\n",
    "plt.xlabel(\"Price\")\n",
    "plt.ylabel(\"Shop Count\")"
   ]
  },
  {
   "cell_type": "markdown",
   "metadata": {},
   "source": [
    "- 35 Shops Have 2 dollar priced products\n",
    "- 35 Shops Have 5 dollar priced Products\n",
    "- 2 Shops Have 29 dollar priced products"
   ]
  },
  {
   "cell_type": "code",
   "execution_count": 68,
   "metadata": {},
   "outputs": [
    {
     "data": {
      "text/html": [
       "<div>\n",
       "<style scoped>\n",
       "    .dataframe tbody tr th:only-of-type {\n",
       "        vertical-align: middle;\n",
       "    }\n",
       "\n",
       "    .dataframe tbody tr th {\n",
       "        vertical-align: top;\n",
       "    }\n",
       "\n",
       "    .dataframe thead th {\n",
       "        text-align: right;\n",
       "    }\n",
       "</style>\n",
       "<table border=\"1\" class=\"dataframe\">\n",
       "  <thead>\n",
       "    <tr style=\"text-align: right;\">\n",
       "      <th></th>\n",
       "      <th>Listing</th>\n",
       "      <th>Price</th>\n",
       "      <th>Est. Sales</th>\n",
       "      <th>Listing Age (Days)</th>\n",
       "    </tr>\n",
       "  </thead>\n",
       "  <tbody>\n",
       "    <tr>\n",
       "      <th>0</th>\n",
       "      <td>Custom Gaming PC built to your budget!</td>\n",
       "      <td>1520.00</td>\n",
       "      <td>119.0</td>\n",
       "      <td>815.0</td>\n",
       "    </tr>\n",
       "    <tr>\n",
       "      <th>1</th>\n",
       "      <td>Black McLaren 570s High Quality LED Gaming Mou...</td>\n",
       "      <td>49.85</td>\n",
       "      <td>0.0</td>\n",
       "      <td>175.0</td>\n",
       "    </tr>\n",
       "    <tr>\n",
       "      <th>2</th>\n",
       "      <td>Gaming Desk Mat Galactic Explorer - Polyester,...</td>\n",
       "      <td>41.98</td>\n",
       "      <td>0.0</td>\n",
       "      <td>41.0</td>\n",
       "    </tr>\n",
       "    <tr>\n",
       "      <th>3</th>\n",
       "      <td>Gentlemen Penguin Desk Mat | XXL Gaming Mouse ...</td>\n",
       "      <td>38.58</td>\n",
       "      <td>1.0</td>\n",
       "      <td>270.0</td>\n",
       "    </tr>\n",
       "    <tr>\n",
       "      <th>4</th>\n",
       "      <td>Gaming Mouse Pad - High Mountains Gaming Desk ...</td>\n",
       "      <td>38.00</td>\n",
       "      <td>0.0</td>\n",
       "      <td>12.0</td>\n",
       "    </tr>\n",
       "  </tbody>\n",
       "</table>\n",
       "</div>"
      ],
      "text/plain": [
       "                                             Listing    Price  Est. Sales  \\\n",
       "0             Custom Gaming PC built to your budget!  1520.00       119.0   \n",
       "1  Black McLaren 570s High Quality LED Gaming Mou...    49.85         0.0   \n",
       "2  Gaming Desk Mat Galactic Explorer - Polyester,...    41.98         0.0   \n",
       "3  Gentlemen Penguin Desk Mat | XXL Gaming Mouse ...    38.58         1.0   \n",
       "4  Gaming Mouse Pad - High Mountains Gaming Desk ...    38.00         0.0   \n",
       "\n",
       "   Listing Age (Days)  \n",
       "0               815.0  \n",
       "1               175.0  \n",
       "2                41.0  \n",
       "3               270.0  \n",
       "4                12.0  "
      ]
     },
     "execution_count": 68,
     "metadata": {},
     "output_type": "execute_result"
    }
   ],
   "source": [
    "df.groupby(\"Listing\")[[\"Price\",\"Est. Sales\",\"Listing Age (Days)\"]].mean().sort_values(by='Price',ascending=False).reset_index().head(5)"
   ]
  },
  {
   "cell_type": "markdown",
   "metadata": {},
   "source": [
    "- Since Price and Sales were inversely related, High priced products do not sell much.\n",
    "- Top Price Product has 4 sales over 135 days and most high price product have less than 5 sales over more than 35 days"
   ]
  },
  {
   "cell_type": "markdown",
   "metadata": {},
   "source": [
    "## Revenue"
   ]
  },
  {
   "cell_type": "markdown",
   "metadata": {},
   "source": [
    "##### Top 5 Shops with most revenue (Overall)"
   ]
  },
  {
   "cell_type": "code",
   "execution_count": 69,
   "metadata": {},
   "outputs": [],
   "source": [
    "revenue = df.groupby('ShopName')['Est. Revenue'].sum().sort_values(ascending=False).head(10)"
   ]
  },
  {
   "cell_type": "code",
   "execution_count": 70,
   "metadata": {},
   "outputs": [
    {
     "data": {
      "text/plain": [
       "Text(0.5, 1.0, 'Top 5 Shops by Total Revenue')"
      ]
     },
     "execution_count": 70,
     "metadata": {},
     "output_type": "execute_result"
    },
    {
     "data": {
      "image/png": "[encoded data removed]",
      "text/plain": [
       "<Figure size 640x480 with 1 Axes>"
      ]
     },
     "metadata": {},
     "output_type": "display_data"
    }
   ],
   "source": [
    "revenue.plot(kind='bar',color='green', edgecolor='black', alpha=0.5)\n",
    "plt.xlabel('ShopName')\n",
    "plt.ylabel('Total Revenue')\n",
    "plt.title('Top 5 Shops by Total Revenue')"
   ]
  },
  {
   "cell_type": "code",
   "execution_count": 71,
   "metadata": {},
   "outputs": [
    {
     "data": {
      "application/vnd.plotly.v1+json": {
       "config": {
        "plotlyServerURL": "https://plot.ly"
       },
       "data": [
        {
         "alignmentgroup": "True",
         "hovertemplate": "ShopName=%{x}<br>Total Revenue=%{y}<extra></extra>",
         "legendgroup": "",
         "marker": {
          "color": "#636efa",
          "pattern": {
           "shape": ""
          }
         },
         "name": "",
         "offsetgroup": "",
         "orientation": "v",
         "showlegend": false,
         "textposition": "auto",
         "type": "bar",
         "x": [
          "Dice Tower Can Cup 3d Printed Insulated Drink Holder Tabletop Gaming RPG Gamer Accessories",
          "Fort Gaming Svg, F-Nite Font, F-Nite Clipart Svg, Png, F-Nite Game Font Svg SVG PNG digital file for circut Instant Download !!!",
          "Fort Gaming Svg F-Nite Font F-Nite Clipart Svg Png F-Nite Game Font Svg Fort Gaming Alphabet and Clipart Svg Png OTF font",
          "Editable Arcade Birthday Party Invitation, Gaming arcade birthday party neon, 5x7, Canva DSW6",
          "Animated Retro Gaming Twitch Overlays for Streaming"
         ],
         "xaxis": "x",
         "y": [
          247,
          63,
          31,
          20,
          10
         ],
         "yaxis": "y"
        }
       ],
       "layout": {
        "barmode": "relative",
        "legend": {
         "tracegroupgap": 0
        },
        "template": {
         "data": {
          "bar": [
           {
            "error_x": {
             "color": "#2a3f5f"
            },
            "error_y": {
             "color": "#2a3f5f"
            },
            "marker": {
             "line": {
              "color": "#E5ECF6",
              "width": 0.5
             },
             "pattern": {
              "fillmode": "overlay",
              "size": 10,
              "solidity": 0.2
             }
            },
            "type": "bar"
           }
          ],
          "barpolar": [
           {
            "marker": {
             "line": {
              "color": "#E5ECF6",
              "width": 0.5
             },
             "pattern": {
              "fillmode": "overlay",
              "size": 10,
              "solidity": 0.2
             }
            },
            "type": "barpolar"
           }
          ],
          "carpet": [
           {
            "aaxis": {
             "endlinecolor": "#2a3f5f",
             "gridcolor": "white",
             "linecolor": "white",
             "minorgridcolor": "white",
             "startlinecolor": "#2a3f5f"
            },
            "baxis": {
             "endlinecolor": "#2a3f5f",
             "gridcolor": "white",
             "linecolor": "white",
             "minorgridcolor": "white",
             "startlinecolor": "#2a3f5f"
            },
            "type": "carpet"
           }
          ],
          "choropleth": [
           {
            "colorbar": {
             "outlinewidth": 0,
             "ticks": ""
            },
            "type": "choropleth"
           }
          ],
          "contour": [
           {
            "colorbar": {
             "outlinewidth": 0,
             "ticks": ""
            },
            "colorscale": [
             [
              0,
              "#0d0887"
             ],
             [
              0.1111111111111111,
              "#46039f"
             ],
             [
              0.2222222222222222,
              "#7201a8"
             ],
             [
              0.3333333333333333,
              "#9c179e"
             ],
             [
              0.4444444444444444,
              "#bd3786"
             ],
             [
              0.5555555555555556,
              "#d8576b"
             ],
             [
              0.6666666666666666,
              "#ed7953"
             ],
             [
              0.7777777777777778,
              "#fb9f3a"
             ],
             [
              0.8888888888888888,
              "#fdca26"
             ],
             [
              1,
              "#f0f921"
             ]
            ],
            "type": "contour"
           }
          ],
          "contourcarpet": [
           {
            "colorbar": {
             "outlinewidth": 0,
             "ticks": ""
            },
            "type": "contourcarpet"
           }
          ],
          "heatmap": [
           {
            "colorbar": {
             "outlinewidth": 0,
             "ticks": ""
            },
            "colorscale": [
             [
              0,
              "#0d0887"
             ],
             [
              0.1111111111111111,
              "#46039f"
             ],
             [
              0.2222222222222222,
              "#7201a8"
             ],
             [
              0.3333333333333333,
              "#9c179e"
             ],
             [
              0.4444444444444444,
              "#bd3786"
             ],
             [
              0.5555555555555556,
              "#d8576b"
             ],
             [
              0.6666666666666666,
              "#ed7953"
             ],
             [
              0.7777777777777778,
              "#fb9f3a"
             ],
             [
              0.8888888888888888,
              "#fdca26"
             ],
             [
              1,
              "#f0f921"
             ]
            ],
            "type": "heatmap"
           }
          ],
          "heatmapgl": [
           {
            "colorbar": {
             "outlinewidth": 0,
             "ticks": ""
            },
            "colorscale": [
             [
              0,
              "#0d0887"
             ],
             [
              0.1111111111111111,
              "#46039f"
             ],
             [
              0.2222222222222222,
              "#7201a8"
             ],
             [
              0.3333333333333333,
              "#9c179e"
             ],
             [
              0.4444444444444444,
              "#bd3786"
             ],
             [
              0.5555555555555556,
              "#d8576b"
             ],
             [
              0.6666666666666666,
              "#ed7953"
             ],
             [
              0.7777777777777778,
              "#fb9f3a"
             ],
             [
              0.8888888888888888,
              "#fdca26"
             ],
             [
              1,
              "#f0f921"
             ]
            ],
            "type": "heatmapgl"
           }
          ],
          "histogram": [
           {
            "marker": {
             "pattern": {
              "fillmode": "overlay",
              "size": 10,
              "solidity": 0.2
             }
            },
            "type": "histogram"
           }
          ],
          "histogram2d": [
           {
            "colorbar": {
             "outlinewidth": 0,
             "ticks": ""
            },
            "colorscale": [
             [
              0,
              "#0d0887"
             ],
             [
              0.1111111111111111,
              "#46039f"
             ],
             [
              0.2222222222222222,
              "#7201a8"
             ],
             [
              0.3333333333333333,
              "#9c179e"
             ],
             [
              0.4444444444444444,
              "#bd3786"
             ],
             [
              0.5555555555555556,
              "#d8576b"
             ],
             [
              0.6666666666666666,
              "#ed7953"
             ],
             [
              0.7777777777777778,
              "#fb9f3a"
             ],
             [
              0.8888888888888888,
              "#fdca26"
             ],
             [
              1,
              "#f0f921"
             ]
            ],
            "type": "histogram2d"
           }
          ],
          "histogram2dcontour": [
           {
            "colorbar": {
             "outlinewidth": 0,
             "ticks": ""
            },
            "colorscale": [
             [
              0,
              "#0d0887"
             ],
             [
              0.1111111111111111,
              "#46039f"
             ],
             [
              0.2222222222222222,
              "#7201a8"
             ],
             [
              0.3333333333333333,
              "#9c179e"
             ],
             [
              0.4444444444444444,
              "#bd3786"
             ],
             [
              0.5555555555555556,
              "#d8576b"
             ],
             [
              0.6666666666666666,
              "#ed7953"
             ],
             [
              0.7777777777777778,
              "#fb9f3a"
             ],
             [
              0.8888888888888888,
              "#fdca26"
             ],
             [
              1,
              "#f0f921"
             ]
            ],
            "type": "histogram2dcontour"
           }
          ],
          "mesh3d": [
           {
            "colorbar": {
             "outlinewidth": 0,
             "ticks": ""
            },
            "type": "mesh3d"
           }
          ],
          "parcoords": [
           {
            "line": {
             "colorbar": {
              "outlinewidth": 0,
              "ticks": ""
             }
            },
            "type": "parcoords"
           }
          ],
          "pie": [
           {
            "automargin": true,
            "type": "pie"
           }
          ],
          "scatter": [
           {
            "fillpattern": {
             "fillmode": "overlay",
             "size": 10,
             "solidity": 0.2
            },
            "type": "scatter"
           }
          ],
          "scatter3d": [
           {
            "line": {
             "colorbar": {
              "outlinewidth": 0,
              "ticks": ""
             }
            },
            "marker": {
             "colorbar": {
              "outlinewidth": 0,
              "ticks": ""
             }
            },
            "type": "scatter3d"
           }
          ],
          "scattercarpet": [
           {
            "marker": {
             "colorbar": {
              "outlinewidth": 0,
              "ticks": ""
             }
            },
            "type": "scattercarpet"
           }
          ],
          "scattergeo": [
           {
            "marker": {
             "colorbar": {
              "outlinewidth": 0,
              "ticks": ""
             }
            },
            "type": "scattergeo"
           }
          ],
          "scattergl": [
           {
            "marker": {
             "colorbar": {
              "outlinewidth": 0,
              "ticks": ""
             }
            },
            "type": "scattergl"
           }
          ],
          "scattermapbox": [
           {
            "marker": {
             "colorbar": {
              "outlinewidth": 0,
              "ticks": ""
             }
            },
            "type": "scattermapbox"
           }
          ],
          "scatterpolar": [
           {
            "marker": {
             "colorbar": {
              "outlinewidth": 0,
              "ticks": ""
             }
            },
            "type": "scatterpolar"
           }
          ],
          "scatterpolargl": [
           {
            "marker": {
             "colorbar": {
              "outlinewidth": 0,
              "ticks": ""
             }
            },
            "type": "scatterpolargl"
           }
          ],
          "scatterternary": [
           {
            "marker": {
             "colorbar": {
              "outlinewidth": 0,
              "ticks": ""
             }
            },
            "type": "scatterternary"
           }
          ],
          "surface": [
           {
            "colorbar": {
             "outlinewidth": 0,
             "ticks": ""
            },
            "colorscale": [
             [
              0,
              "#0d0887"
             ],
             [
              0.1111111111111111,
              "#46039f"
             ],
             [
              0.2222222222222222,
              "#7201a8"
             ],
             [
              0.3333333333333333,
              "#9c179e"
             ],
             [
              0.4444444444444444,
              "#bd3786"
             ],
             [
              0.5555555555555556,
              "#d8576b"
             ],
             [
              0.6666666666666666,
              "#ed7953"
             ],
             [
              0.7777777777777778,
              "#fb9f3a"
             ],
             [
              0.8888888888888888,
              "#fdca26"
             ],
             [
              1,
              "#f0f921"
             ]
            ],
            "type": "surface"
           }
          ],
          "table": [
           {
            "cells": {
             "fill": {
              "color": "#EBF0F8"
             },
             "line": {
              "color": "white"
             }
            },
            "header": {
             "fill": {
              "color": "#C8D4E3"
             },
             "line": {
              "color": "white"
             }
            },
            "type": "table"
           }
          ]
         },
         "layout": {
          "annotationdefaults": {
           "arrowcolor": "#2a3f5f",
           "arrowhead": 0,
           "arrowwidth": 1
          },
          "autotypenumbers": "strict",
          "coloraxis": {
           "colorbar": {
            "outlinewidth": 0,
            "ticks": ""
           }
          },
          "colorscale": {
           "diverging": [
            [
             0,
             "#8e0152"
            ],
            [
             0.1,
             "#c51b7d"
            ],
            [
             0.2,
             "#de77ae"
            ],
            [
             0.3,
             "#f1b6da"
            ],
            [
             0.4,
             "#fde0ef"
            ],
            [
             0.5,
             "#f7f7f7"
            ],
            [
             0.6,
             "#e6f5d0"
            ],
            [
             0.7,
             "#b8e186"
            ],
            [
             0.8,
             "#7fbc41"
            ],
            [
             0.9,
             "#4d9221"
            ],
            [
             1,
             "#276419"
            ]
           ],
           "sequential": [
            [
             0,
             "#0d0887"
            ],
            [
             0.1111111111111111,
             "#46039f"
            ],
            [
             0.2222222222222222,
             "#7201a8"
            ],
            [
             0.3333333333333333,
             "#9c179e"
            ],
            [
             0.4444444444444444,
             "#bd3786"
            ],
            [
             0.5555555555555556,
             "#d8576b"
            ],
            [
             0.6666666666666666,
             "#ed7953"
            ],
            [
             0.7777777777777778,
             "#fb9f3a"
            ],
            [
             0.8888888888888888,
             "#fdca26"
            ],
            [
             1,
             "#f0f921"
            ]
           ],
           "sequentialminus": [
            [
             0,
             "#0d0887"
            ],
            [
             0.1111111111111111,
             "#46039f"
            ],
            [
             0.2222222222222222,
             "#7201a8"
            ],
            [
             0.3333333333333333,
             "#9c179e"
            ],
            [
             0.4444444444444444,
             "#bd3786"
            ],
            [
             0.5555555555555556,
             "#d8576b"
            ],
            [
             0.6666666666666666,
             "#ed7953"
            ],
            [
             0.7777777777777778,
             "#fb9f3a"
            ],
            [
             0.8888888888888888,
             "#fdca26"
            ],
            [
             1,
             "#f0f921"
            ]
           ]
          },
          "colorway": [
           "#636efa",
           "#EF553B",
           "#00cc96",
           "#ab63fa",
           "#FFA15A",
           "#19d3f3",
           "#FF6692",
           "#B6E880",
           "#FF97FF",
           "#FECB52"
          ],
          "font": {
           "color": "#2a3f5f"
          },
          "geo": {
           "bgcolor": "white",
           "lakecolor": "white",
           "landcolor": "#E5ECF6",
           "showlakes": true,
           "showland": true,
           "subunitcolor": "white"
          },
          "hoverlabel": {
           "align": "left"
          },
          "hovermode": "closest",
          "mapbox": {
           "style": "light"
          },
          "paper_bgcolor": "white",
          "plot_bgcolor": "#E5ECF6",
          "polar": {
           "angularaxis": {
            "gridcolor": "white",
            "linecolor": "white",
            "ticks": ""
           },
           "bgcolor": "#E5ECF6",
           "radialaxis": {
            "gridcolor": "white",
            "linecolor": "white",
            "ticks": ""
           }
          },
          "scene": {
           "xaxis": {
            "backgroundcolor": "#E5ECF6",
            "gridcolor": "white",
            "gridwidth": 2,
            "linecolor": "white",
            "showbackground": true,
            "ticks": "",
            "zerolinecolor": "white"
           },
           "yaxis": {
            "backgroundcolor": "#E5ECF6",
            "gridcolor": "white",
            "gridwidth": 2,
            "linecolor": "white",
            "showbackground": true,
            "ticks": "",
            "zerolinecolor": "white"
           },
           "zaxis": {
            "backgroundcolor": "#E5ECF6",
            "gridcolor": "white",
            "gridwidth": 2,
            "linecolor": "white",
            "showbackground": true,
            "ticks": "",
            "zerolinecolor": "white"
           }
          },
          "shapedefaults": {
           "line": {
            "color": "#2a3f5f"
           }
          },
          "ternary": {
           "aaxis": {
            "gridcolor": "white",
            "linecolor": "white",
            "ticks": ""
           },
           "baxis": {
            "gridcolor": "white",
            "linecolor": "white",
            "ticks": ""
           },
           "bgcolor": "#E5ECF6",
           "caxis": {
            "gridcolor": "white",
            "linecolor": "white",
            "ticks": ""
           }
          },
          "title": {
           "x": 0.05
          },
          "xaxis": {
           "automargin": true,
           "gridcolor": "white",
           "linecolor": "white",
           "ticks": "",
           "title": {
            "standoff": 15
           },
           "zerolinecolor": "white",
           "zerolinewidth": 2
          },
          "yaxis": {
           "automargin": true,
           "gridcolor": "white",
           "linecolor": "white",
           "ticks": "",
           "title": {
            "standoff": 15
           },
           "zerolinecolor": "white",
           "zerolinewidth": 2
          }
         }
        },
        "title": {
         "text": "Top 10 Shops by Total Revenue"
        },
        "xaxis": {
         "anchor": "y",
         "domain": [
          0,
          1
         ],
         "title": {
          "text": "ShopName"
         }
        },
        "yaxis": {
         "anchor": "x",
         "domain": [
          0,
          1
         ],
         "title": {
          "text": "Total Revenue"
         }
        }
       }
      }
     },
     "metadata": {},
     "output_type": "display_data"
    }
   ],
   "source": [
    "#Plotly\n",
    "plot_df = pd.DataFrame({'ShopName': result.index, 'Total Revenue': result.values})\n",
    "fig = px.bar(plot_df, x='ShopName', y='Total Revenue', title='Top 10 Shops by Total Revenue')\n",
    "fig.show()"
   ]
  },
  {
   "cell_type": "code",
   "execution_count": 72,
   "metadata": {},
   "outputs": [
    {
     "data": {
      "text/html": [
       "<div>\n",
       "<style scoped>\n",
       "    .dataframe tbody tr th:only-of-type {\n",
       "        vertical-align: middle;\n",
       "    }\n",
       "\n",
       "    .dataframe tbody tr th {\n",
       "        vertical-align: top;\n",
       "    }\n",
       "\n",
       "    .dataframe thead th {\n",
       "        text-align: right;\n",
       "    }\n",
       "</style>\n",
       "<table border=\"1\" class=\"dataframe\">\n",
       "  <thead>\n",
       "    <tr style=\"text-align: right;\">\n",
       "      <th></th>\n",
       "      <th>ShopName</th>\n",
       "      <th>Listing</th>\n",
       "      <th>Listing Age (Days)</th>\n",
       "      <th>Total Views</th>\n",
       "      <th>Daily Views</th>\n",
       "      <th>Est. Sales</th>\n",
       "      <th>Price</th>\n",
       "      <th>Est. Revenue</th>\n",
       "      <th>Hearts</th>\n",
       "    </tr>\n",
       "  </thead>\n",
       "  <tbody>\n",
       "    <tr>\n",
       "      <th>0</th>\n",
       "      <td>EnVisual</td>\n",
       "      <td>Gamer SVG Bundle, Game Controller Svg, Funny G...</td>\n",
       "      <td>243.0</td>\n",
       "      <td>2783.0</td>\n",
       "      <td>11.5</td>\n",
       "      <td>143</td>\n",
       "      <td>3.66</td>\n",
       "      <td>524.0</td>\n",
       "      <td>209</td>\n",
       "    </tr>\n",
       "    <tr>\n",
       "      <th>1</th>\n",
       "      <td>MYWORLD4STYLE</td>\n",
       "      <td>Green Gamer t-shirt. Your Ultimate Statement o...</td>\n",
       "      <td>8.0</td>\n",
       "      <td>6.0</td>\n",
       "      <td>0.8</td>\n",
       "      <td>0</td>\n",
       "      <td>12.97</td>\n",
       "      <td>0.0</td>\n",
       "      <td>0</td>\n",
       "    </tr>\n",
       "    <tr>\n",
       "      <th>2</th>\n",
       "      <td>Technolition101</td>\n",
       "      <td>Custom Gaming PC built to your budget!</td>\n",
       "      <td>815.0</td>\n",
       "      <td>23888.0</td>\n",
       "      <td>29.3</td>\n",
       "      <td>119</td>\n",
       "      <td>1520.00</td>\n",
       "      <td>180880.0</td>\n",
       "      <td>280</td>\n",
       "    </tr>\n",
       "    <tr>\n",
       "      <th>3</th>\n",
       "      <td>WhitePinesVale</td>\n",
       "      <td>Enchanted Forest Night Elf Mouse Pad Gift for ...</td>\n",
       "      <td>182.0</td>\n",
       "      <td>4.0</td>\n",
       "      <td>0.0</td>\n",
       "      <td>0</td>\n",
       "      <td>15.99</td>\n",
       "      <td>0.0</td>\n",
       "      <td>0</td>\n",
       "    </tr>\n",
       "    <tr>\n",
       "      <th>4</th>\n",
       "      <td>WiseParty</td>\n",
       "      <td>Editable Gaming Birthday Invitation, Gamer Inv...</td>\n",
       "      <td>116.0</td>\n",
       "      <td>1382.0</td>\n",
       "      <td>11.9</td>\n",
       "      <td>45</td>\n",
       "      <td>8.00</td>\n",
       "      <td>360.0</td>\n",
       "      <td>61</td>\n",
       "    </tr>\n",
       "  </tbody>\n",
       "</table>\n",
       "</div>"
      ],
      "text/plain": [
       "          ShopName                                            Listing  \\\n",
       "0         EnVisual  Gamer SVG Bundle, Game Controller Svg, Funny G...   \n",
       "1    MYWORLD4STYLE  Green Gamer t-shirt. Your Ultimate Statement o...   \n",
       "2  Technolition101             Custom Gaming PC built to your budget!   \n",
       "3   WhitePinesVale  Enchanted Forest Night Elf Mouse Pad Gift for ...   \n",
       "4        WiseParty  Editable Gaming Birthday Invitation, Gamer Inv...   \n",
       "\n",
       "   Listing Age (Days)  Total Views  Daily Views  Est. Sales    Price  \\\n",
       "0               243.0       2783.0         11.5         143     3.66   \n",
       "1                 8.0          6.0          0.8           0    12.97   \n",
       "2               815.0      23888.0         29.3         119  1520.00   \n",
       "3               182.0          4.0          0.0           0    15.99   \n",
       "4               116.0       1382.0         11.9          45     8.00   \n",
       "\n",
       "   Est. Revenue  Hearts  \n",
       "0         524.0     209  \n",
       "1           0.0       0  \n",
       "2      180880.0     280  \n",
       "3           0.0       0  \n",
       "4         360.0      61  "
      ]
     },
     "execution_count": 72,
     "metadata": {},
     "output_type": "execute_result"
    }
   ],
   "source": [
    "df.head()"
   ]
  },
  {
   "cell_type": "code",
   "execution_count": 73,
   "metadata": {},
   "outputs": [],
   "source": [
    "# result is a pandas series extracting all shopName\n",
    "Top5Shops = result.index.tolist()"
   ]
  },
  {
   "cell_type": "code",
   "execution_count": 74,
   "metadata": {},
   "outputs": [
    {
     "data": {
      "text/html": [
       "<div>\n",
       "<style scoped>\n",
       "    .dataframe tbody tr th:only-of-type {\n",
       "        vertical-align: middle;\n",
       "    }\n",
       "\n",
       "    .dataframe tbody tr th {\n",
       "        vertical-align: top;\n",
       "    }\n",
       "\n",
       "    .dataframe thead th {\n",
       "        text-align: right;\n",
       "    }\n",
       "</style>\n",
       "<table border=\"1\" class=\"dataframe\">\n",
       "  <thead>\n",
       "    <tr style=\"text-align: right;\">\n",
       "      <th></th>\n",
       "      <th>ShopName</th>\n",
       "      <th>Listing</th>\n",
       "      <th>Listing Age (Days)</th>\n",
       "      <th>Total Views</th>\n",
       "      <th>Daily Views</th>\n",
       "      <th>Est. Sales</th>\n",
       "      <th>Price</th>\n",
       "      <th>Est. Revenue</th>\n",
       "      <th>Hearts</th>\n",
       "    </tr>\n",
       "  </thead>\n",
       "  <tbody>\n",
       "  </tbody>\n",
       "</table>\n",
       "</div>"
      ],
      "text/plain": [
       "Empty DataFrame\n",
       "Columns: [ShopName, Listing, Listing Age (Days), Total Views, Daily Views, Est. Sales, Price, Est. Revenue, Hearts]\n",
       "Index: []"
      ]
     },
     "execution_count": 74,
     "metadata": {},
     "output_type": "execute_result"
    }
   ],
   "source": [
    "df[(df[\"ShopName\"].isin(Top5Shops)) & (df[\"Listing Age (Days)\"] < 50)].sort_values(by='Est. Revenue', ascending=False)"
   ]
  },
  {
   "cell_type": "markdown",
   "metadata": {},
   "source": [
    "# Heart (Numeric)"
   ]
  },
  {
   "cell_type": "code",
   "execution_count": 75,
   "metadata": {},
   "outputs": [],
   "source": [
    "hearts = df[\"Hearts\"]"
   ]
  },
  {
   "cell_type": "code",
   "execution_count": 76,
   "metadata": {},
   "outputs": [
    {
     "data": {
      "text/plain": [
       "count    100.000000\n",
       "mean      38.070000\n",
       "std       71.689461\n",
       "min        0.000000\n",
       "25%        0.000000\n",
       "50%        4.000000\n",
       "75%       36.000000\n",
       "max      321.000000\n",
       "Name: Hearts, dtype: float64"
      ]
     },
     "execution_count": 76,
     "metadata": {},
     "output_type": "execute_result"
    }
   ],
   "source": [
    "hearts.describe()"
   ]
  },
  {
   "cell_type": "code",
   "execution_count": 77,
   "metadata": {},
   "outputs": [
    {
     "data": {
      "text/plain": [
       "Text(0, 0.5, 'Shop Count')"
      ]
     },
     "execution_count": 77,
     "metadata": {},
     "output_type": "execute_result"
    },
    {
     "data": {
      "image/png": "[encoded data removed]",
      "text/plain": [
       "<Figure size 640x480 with 1 Axes>"
      ]
     },
     "metadata": {},
     "output_type": "display_data"
    }
   ],
   "source": [
    "hearts_plot = plt.hist(hearts, color='green', edgecolor='black', alpha=0.5)\n",
    "plt.xticks(range(0, int(max(hearts+1)), int(max(hearts+1)) // 10))\n",
    "for i in range(0, len(price_plot[0])):\n",
    "    if hearts_plot[0][i] != 0:\n",
    "        plt.text(hearts_plot[1][i]+40,hearts_plot[0][i]+1,str(int(hearts_plot[0][i])))\n",
    "plt.xlabel(\"Price\")\n",
    "plt.ylabel(\"Shop Count\")"
   ]
  },
  {
   "cell_type": "code",
   "execution_count": 78,
   "metadata": {},
   "outputs": [
    {
     "data": {
      "text/html": [
       "<div>\n",
       "<style scoped>\n",
       "    .dataframe tbody tr th:only-of-type {\n",
       "        vertical-align: middle;\n",
       "    }\n",
       "\n",
       "    .dataframe tbody tr th {\n",
       "        vertical-align: top;\n",
       "    }\n",
       "\n",
       "    .dataframe thead th {\n",
       "        text-align: right;\n",
       "    }\n",
       "</style>\n",
       "<table border=\"1\" class=\"dataframe\">\n",
       "  <thead>\n",
       "    <tr style=\"text-align: right;\">\n",
       "      <th></th>\n",
       "      <th>Listing</th>\n",
       "      <th>Hearts</th>\n",
       "    </tr>\n",
       "  </thead>\n",
       "  <tbody>\n",
       "    <tr>\n",
       "      <th>0</th>\n",
       "      <td>Gaming  Steve embroidery design</td>\n",
       "      <td>321</td>\n",
       "    </tr>\n",
       "    <tr>\n",
       "      <th>1</th>\n",
       "      <td>Gaming Font Pack - 40 Different Fonts with 80+...</td>\n",
       "      <td>316</td>\n",
       "    </tr>\n",
       "    <tr>\n",
       "      <th>2</th>\n",
       "      <td>Video Gaming Truck Birthday Party Invitation B...</td>\n",
       "      <td>296</td>\n",
       "    </tr>\n",
       "    <tr>\n",
       "      <th>3</th>\n",
       "      <td>Custom Gaming PC built to your budget!</td>\n",
       "      <td>280</td>\n",
       "    </tr>\n",
       "    <tr>\n",
       "      <th>4</th>\n",
       "      <td>Editable Arcade Party Birthday Invitation Boy ...</td>\n",
       "      <td>273</td>\n",
       "    </tr>\n",
       "    <tr>\n",
       "      <th>...</th>\n",
       "      <td>...</td>\n",
       "      <td>...</td>\n",
       "    </tr>\n",
       "    <tr>\n",
       "      <th>94</th>\n",
       "      <td>Leveled Up To Dad of 2, Dad of Two, Pregnancy ...</td>\n",
       "      <td>0</td>\n",
       "    </tr>\n",
       "    <tr>\n",
       "      <th>95</th>\n",
       "      <td>Gaming Canvas IDKFA IDDQD</td>\n",
       "      <td>0</td>\n",
       "    </tr>\n",
       "    <tr>\n",
       "      <th>96</th>\n",
       "      <td>Minecraft Video Game Poster, Gaming, Gamer, Ki...</td>\n",
       "      <td>0</td>\n",
       "    </tr>\n",
       "    <tr>\n",
       "      <th>97</th>\n",
       "      <td>Gambler Gift Gaming Dice, 1993 'Dice Collectio...</td>\n",
       "      <td>0</td>\n",
       "    </tr>\n",
       "    <tr>\n",
       "      <th>98</th>\n",
       "      <td>18th Birthday Shirt, 18 Years old, Level 18 co...</td>\n",
       "      <td>0</td>\n",
       "    </tr>\n",
       "  </tbody>\n",
       "</table>\n",
       "<p>99 rows × 2 columns</p>\n",
       "</div>"
      ],
      "text/plain": [
       "                                              Listing  Hearts\n",
       "0                     Gaming  Steve embroidery design     321\n",
       "1   Gaming Font Pack - 40 Different Fonts with 80+...     316\n",
       "2   Video Gaming Truck Birthday Party Invitation B...     296\n",
       "3              Custom Gaming PC built to your budget!     280\n",
       "4   Editable Arcade Party Birthday Invitation Boy ...     273\n",
       "..                                                ...     ...\n",
       "94  Leveled Up To Dad of 2, Dad of Two, Pregnancy ...       0\n",
       "95                          Gaming Canvas IDKFA IDDQD       0\n",
       "96  Minecraft Video Game Poster, Gaming, Gamer, Ki...       0\n",
       "97  Gambler Gift Gaming Dice, 1993 'Dice Collectio...       0\n",
       "98  18th Birthday Shirt, 18 Years old, Level 18 co...       0\n",
       "\n",
       "[99 rows x 2 columns]"
      ]
     },
     "execution_count": 78,
     "metadata": {},
     "output_type": "execute_result"
    }
   ],
   "source": [
    "df.groupby(\"Listing\")[\"Hearts\"].sum().sort_values(ascending=False).reset_index()"
   ]
  },
  {
   "cell_type": "code",
   "execution_count": 79,
   "metadata": {},
   "outputs": [],
   "source": [
    "old_listing = df[[\"Listing\",\"Listing Age (Days)\"]].sort_values(by=\"Listing Age (Days)\", ascending=False)"
   ]
  },
  {
   "cell_type": "markdown",
   "metadata": {},
   "source": [
    "### Custom Test"
   ]
  },
  {
   "cell_type": "code",
   "execution_count": 80,
   "metadata": {},
   "outputs": [
    {
     "data": {
      "text/plain": [
       "100"
      ]
     },
     "execution_count": 80,
     "metadata": {},
     "output_type": "execute_result"
    }
   ],
   "source": [
    "len(df)"
   ]
  },
  {
   "cell_type": "code",
   "execution_count": 81,
   "metadata": {},
   "outputs": [
    {
     "name": "stdout",
     "output_type": "stream",
     "text": [
      "<class 'pandas.core.frame.DataFrame'>\n",
      "RangeIndex: 100 entries, 0 to 99\n",
      "Data columns (total 9 columns):\n",
      " #   Column              Non-Null Count  Dtype  \n",
      "---  ------              --------------  -----  \n",
      " 0   ShopName            100 non-null    object \n",
      " 1   Listing             100 non-null    object \n",
      " 2   Listing Age (Days)  100 non-null    float64\n",
      " 3   Total Views         100 non-null    float64\n",
      " 4   Daily Views         100 non-null    float64\n",
      " 5   Est. Sales          100 non-null    int64  \n",
      " 6   Price               100 non-null    float64\n",
      " 7   Est. Revenue        100 non-null    float64\n",
      " 8   Hearts              100 non-null    int64  \n",
      "dtypes: float64(5), int64(2), object(2)\n",
      "memory usage: 7.2+ KB\n"
     ]
    }
   ],
   "source": [
    "df.info()"
   ]
  },
  {
   "cell_type": "code",
   "execution_count": 82,
   "metadata": {},
   "outputs": [
    {
     "data": {
      "text/plain": [
       "['ShopName',\n",
       " 'Listing',\n",
       " 'Listing Age (Days)',\n",
       " 'Total Views',\n",
       " 'Daily Views',\n",
       " 'Est. Sales',\n",
       " 'Price',\n",
       " 'Est. Revenue',\n",
       " 'Hearts']"
      ]
     },
     "execution_count": 82,
     "metadata": {},
     "output_type": "execute_result"
    }
   ],
   "source": [
    "new = df.columns.tolist()\n",
    "new"
   ]
  },
  {
   "cell_type": "code",
   "execution_count": null,
   "metadata": {},
   "outputs": [],
   "source": [
    "metric_col = [\n",
    " 'Listing Age (Days)',\n",
    " 'Total Views',\n",
    " 'Daily Views',\n",
    " 'Est. Sales',\n",
    " 'Price',\n",
    " 'Est. Revenue',\n",
    " 'Hearts']"
   ]
  },
  {
   "cell_type": "code",
   "execution_count": null,
   "metadata": {},
   "outputs": [
    {
     "data": {
      "text/plain": [
       "['Listing Age (Days)',\n",
       " 'Total Views',\n",
       " 'Daily Views',\n",
       " 'Est. Sales',\n",
       " 'Price',\n",
       " 'Est. Revenue',\n",
       " 'Hearts']"
      ]
     },
     "execution_count": 100,
     "metadata": {},
     "output_type": "execute_result"
    }
   ],
   "source": [
    "metric_col"
   ]
  },
  {
   "cell_type": "code",
   "execution_count": null,
   "metadata": {},
   "outputs": [
    {
     "data": {
      "text/html": [
       "<div>\n",
       "<style scoped>\n",
       "    .dataframe tbody tr th:only-of-type {\n",
       "        vertical-align: middle;\n",
       "    }\n",
       "\n",
       "    .dataframe tbody tr th {\n",
       "        vertical-align: top;\n",
       "    }\n",
       "\n",
       "    .dataframe thead th {\n",
       "        text-align: right;\n",
       "    }\n",
       "</style>\n",
       "<table border=\"1\" class=\"dataframe\">\n",
       "  <thead>\n",
       "    <tr style=\"text-align: right;\">\n",
       "      <th></th>\n",
       "      <th>ShopName</th>\n",
       "      <th>Price</th>\n",
       "    </tr>\n",
       "    <tr>\n",
       "      <th>Listing</th>\n",
       "      <th></th>\n",
       "      <th></th>\n",
       "    </tr>\n",
       "  </thead>\n",
       "  <tbody>\n",
       "    <tr>\n",
       "      <th>Custom Gaming PC built to your budget!</th>\n",
       "      <td>Technolition101</td>\n",
       "      <td>1520.00</td>\n",
       "    </tr>\n",
       "    <tr>\n",
       "      <th>Black McLaren 570s High Quality LED Gaming Mouse Pad</th>\n",
       "      <td>SavyCoDesigns</td>\n",
       "      <td>49.85</td>\n",
       "    </tr>\n",
       "    <tr>\n",
       "      <th>Gaming Desk Mat Galactic Explorer - Polyester, Natural Rubber Mousepad- By StickyPandasArt</th>\n",
       "      <td>StickyPandasArt</td>\n",
       "      <td>41.98</td>\n",
       "    </tr>\n",
       "    <tr>\n",
       "      <th>Gentlemen Penguin Desk Mat | XXL Gaming Mouse Pad | Cute Animal Mousepad</th>\n",
       "      <td>ArcadeSix</td>\n",
       "      <td>38.58</td>\n",
       "    </tr>\n",
       "    <tr>\n",
       "      <th>Gaming Mouse Pad - High Mountains Gaming Desk Mat - Large Desk Pad - Extend Gaming Mouse Pad - Aesthetic Desk Mat -Gift for Gamers</th>\n",
       "      <td>JMcustomdesignprints</td>\n",
       "      <td>38.00</td>\n",
       "    </tr>\n",
       "  </tbody>\n",
       "</table>\n",
       "</div>"
      ],
      "text/plain": [
       "                                                                ShopName  \\\n",
       "Listing                                                                    \n",
       "Custom Gaming PC built to your budget!                   Technolition101   \n",
       "Black McLaren 570s High Quality LED Gaming Mous...         SavyCoDesigns   \n",
       "Gaming Desk Mat Galactic Explorer - Polyester, ...       StickyPandasArt   \n",
       "Gentlemen Penguin Desk Mat | XXL Gaming Mouse P...             ArcadeSix   \n",
       "Gaming Mouse Pad - High Mountains Gaming Desk M...  JMcustomdesignprints   \n",
       "\n",
       "                                                      Price  \n",
       "Listing                                                      \n",
       "Custom Gaming PC built to your budget!              1520.00  \n",
       "Black McLaren 570s High Quality LED Gaming Mous...    49.85  \n",
       "Gaming Desk Mat Galactic Explorer - Polyester, ...    41.98  \n",
       "Gentlemen Penguin Desk Mat | XXL Gaming Mouse P...    38.58  \n",
       "Gaming Mouse Pad - High Mountains Gaming Desk M...    38.00  "
      ]
     },
     "execution_count": 107,
     "metadata": {},
     "output_type": "execute_result"
    }
   ],
   "source": [
    "df.groupby(\"Listing\")[[\"ShopName\",\"Price\"]].sum().sort_values(by=\"Price\", ascending=False).head(5)"
   ]
  },
  {
   "cell_type": "code",
   "execution_count": null,
   "metadata": {},
   "outputs": [],
   "source": [
    "top_shops = df.groupby(\"ShopName\")[[\"Price\"]].sum().sort_values(by=\"Price\", ascending=False).head(5).reset_index()"
   ]
  },
  {
   "cell_type": "code",
   "execution_count": null,
   "metadata": {},
   "outputs": [
    {
     "data": {
      "application/vnd.plotly.v1+json": {
       "config": {
        "plotlyServerURL": "https://plot.ly"
       },
       "data": [
        {
         "alignmentgroup": "True",
         "hovertemplate": "ShopName=%{x}<br>Metric=%{y}<extra></extra>",
         "legendgroup": "",
         "marker": {
          "color": "#636efa",
          "pattern": {
           "shape": ""
          }
         },
         "name": "",
         "offsetgroup": "",
         "orientation": "v",
         "showlegend": false,
         "textposition": "auto",
         "type": "bar",
         "x": [
          "Technolition101",
          "DesktopKing",
          "SavyCoDesigns",
          "StickyPandasArt",
          "ArcadeSix"
         ],
         "xaxis": "x",
         "y": [
          1520,
          69.98,
          49.85,
          41.98,
          38.58
         ],
         "yaxis": "y"
        }
       ],
       "layout": {
        "barmode": "relative",
        "legend": {
         "tracegroupgap": 0
        },
        "template": {
         "data": {
          "bar": [
           {
            "error_x": {
             "color": "#2a3f5f"
            },
            "error_y": {
             "color": "#2a3f5f"
            },
            "marker": {
             "line": {
              "color": "#E5ECF6",
              "width": 0.5
             },
             "pattern": {
              "fillmode": "overlay",
              "size": 10,
              "solidity": 0.2
             }
            },
            "type": "bar"
           }
          ],
          "barpolar": [
           {
            "marker": {
             "line": {
              "color": "#E5ECF6",
              "width": 0.5
             },
             "pattern": {
              "fillmode": "overlay",
              "size": 10,
              "solidity": 0.2
             }
            },
            "type": "barpolar"
           }
          ],
          "carpet": [
           {
            "aaxis": {
             "endlinecolor": "#2a3f5f",
             "gridcolor": "white",
             "linecolor": "white",
             "minorgridcolor": "white",
             "startlinecolor": "#2a3f5f"
            },
            "baxis": {
             "endlinecolor": "#2a3f5f",
             "gridcolor": "white",
             "linecolor": "white",
             "minorgridcolor": "white",
             "startlinecolor": "#2a3f5f"
            },
            "type": "carpet"
           }
          ],
          "choropleth": [
           {
            "colorbar": {
             "outlinewidth": 0,
             "ticks": ""
            },
            "type": "choropleth"
           }
          ],
          "contour": [
           {
            "colorbar": {
             "outlinewidth": 0,
             "ticks": ""
            },
            "colorscale": [
             [
              0,
              "#0d0887"
             ],
             [
              0.1111111111111111,
              "#46039f"
             ],
             [
              0.2222222222222222,
              "#7201a8"
             ],
             [
              0.3333333333333333,
              "#9c179e"
             ],
             [
              0.4444444444444444,
              "#bd3786"
             ],
             [
              0.5555555555555556,
              "#d8576b"
             ],
             [
              0.6666666666666666,
              "#ed7953"
             ],
             [
              0.7777777777777778,
              "#fb9f3a"
             ],
             [
              0.8888888888888888,
              "#fdca26"
             ],
             [
              1,
              "#f0f921"
             ]
            ],
            "type": "contour"
           }
          ],
          "contourcarpet": [
           {
            "colorbar": {
             "outlinewidth": 0,
             "ticks": ""
            },
            "type": "contourcarpet"
           }
          ],
          "heatmap": [
           {
            "colorbar": {
             "outlinewidth": 0,
             "ticks": ""
            },
            "colorscale": [
             [
              0,
              "#0d0887"
             ],
             [
              0.1111111111111111,
              "#46039f"
             ],
             [
              0.2222222222222222,
              "#7201a8"
             ],
             [
              0.3333333333333333,
              "#9c179e"
             ],
             [
              0.4444444444444444,
              "#bd3786"
             ],
             [
              0.5555555555555556,
              "#d8576b"
             ],
             [
              0.6666666666666666,
              "#ed7953"
             ],
             [
              0.7777777777777778,
              "#fb9f3a"
             ],
             [
              0.8888888888888888,
              "#fdca26"
             ],
             [
              1,
              "#f0f921"
             ]
            ],
            "type": "heatmap"
           }
          ],
          "heatmapgl": [
           {
            "colorbar": {
             "outlinewidth": 0,
             "ticks": ""
            },
            "colorscale": [
             [
              0,
              "#0d0887"
             ],
             [
              0.1111111111111111,
              "#46039f"
             ],
             [
              0.2222222222222222,
              "#7201a8"
             ],
             [
              0.3333333333333333,
              "#9c179e"
             ],
             [
              0.4444444444444444,
              "#bd3786"
             ],
             [
              0.5555555555555556,
              "#d8576b"
             ],
             [
              0.6666666666666666,
              "#ed7953"
             ],
             [
              0.7777777777777778,
              "#fb9f3a"
             ],
             [
              0.8888888888888888,
              "#fdca26"
             ],
             [
              1,
              "#f0f921"
             ]
            ],
            "type": "heatmapgl"
           }
          ],
          "histogram": [
           {
            "marker": {
             "pattern": {
              "fillmode": "overlay",
              "size": 10,
              "solidity": 0.2
             }
            },
            "type": "histogram"
           }
          ],
          "histogram2d": [
           {
            "colorbar": {
             "outlinewidth": 0,
             "ticks": ""
            },
            "colorscale": [
             [
              0,
              "#0d0887"
             ],
             [
              0.1111111111111111,
              "#46039f"
             ],
             [
              0.2222222222222222,
              "#7201a8"
             ],
             [
              0.3333333333333333,
              "#9c179e"
             ],
             [
              0.4444444444444444,
              "#bd3786"
             ],
             [
              0.5555555555555556,
              "#d8576b"
             ],
             [
              0.6666666666666666,
              "#ed7953"
             ],
             [
              0.7777777777777778,
              "#fb9f3a"
             ],
             [
              0.8888888888888888,
              "#fdca26"
             ],
             [
              1,
              "#f0f921"
             ]
            ],
            "type": "histogram2d"
           }
          ],
          "histogram2dcontour": [
           {
            "colorbar": {
             "outlinewidth": 0,
             "ticks": ""
            },
            "colorscale": [
             [
              0,
              "#0d0887"
             ],
             [
              0.1111111111111111,
              "#46039f"
             ],
             [
              0.2222222222222222,
              "#7201a8"
             ],
             [
              0.3333333333333333,
              "#9c179e"
             ],
             [
              0.4444444444444444,
              "#bd3786"
             ],
             [
              0.5555555555555556,
              "#d8576b"
             ],
             [
              0.6666666666666666,
              "#ed7953"
             ],
             [
              0.7777777777777778,
              "#fb9f3a"
             ],
             [
              0.8888888888888888,
              "#fdca26"
             ],
             [
              1,
              "#f0f921"
             ]
            ],
            "type": "histogram2dcontour"
           }
          ],
          "mesh3d": [
           {
            "colorbar": {
             "outlinewidth": 0,
             "ticks": ""
            },
            "type": "mesh3d"
           }
          ],
          "parcoords": [
           {
            "line": {
             "colorbar": {
              "outlinewidth": 0,
              "ticks": ""
             }
            },
            "type": "parcoords"
           }
          ],
          "pie": [
           {
            "automargin": true,
            "type": "pie"
           }
          ],
          "scatter": [
           {
            "fillpattern": {
             "fillmode": "overlay",
             "size": 10,
             "solidity": 0.2
            },
            "type": "scatter"
           }
          ],
          "scatter3d": [
           {
            "line": {
             "colorbar": {
              "outlinewidth": 0,
              "ticks": ""
             }
            },
            "marker": {
             "colorbar": {
              "outlinewidth": 0,
              "ticks": ""
             }
            },
            "type": "scatter3d"
           }
          ],
          "scattercarpet": [
           {
            "marker": {
             "colorbar": {
              "outlinewidth": 0,
              "ticks": ""
             }
            },
            "type": "scattercarpet"
           }
          ],
          "scattergeo": [
           {
            "marker": {
             "colorbar": {
              "outlinewidth": 0,
              "ticks": ""
             }
            },
            "type": "scattergeo"
           }
          ],
          "scattergl": [
           {
            "marker": {
             "colorbar": {
              "outlinewidth": 0,
              "ticks": ""
             }
            },
            "type": "scattergl"
           }
          ],
          "scattermapbox": [
           {
            "marker": {
             "colorbar": {
              "outlinewidth": 0,
              "ticks": ""
             }
            },
            "type": "scattermapbox"
           }
          ],
          "scatterpolar": [
           {
            "marker": {
             "colorbar": {
              "outlinewidth": 0,
              "ticks": ""
             }
            },
            "type": "scatterpolar"
           }
          ],
          "scatterpolargl": [
           {
            "marker": {
             "colorbar": {
              "outlinewidth": 0,
              "ticks": ""
             }
            },
            "type": "scatterpolargl"
           }
          ],
          "scatterternary": [
           {
            "marker": {
             "colorbar": {
              "outlinewidth": 0,
              "ticks": ""
             }
            },
            "type": "scatterternary"
           }
          ],
          "surface": [
           {
            "colorbar": {
             "outlinewidth": 0,
             "ticks": ""
            },
            "colorscale": [
             [
              0,
              "#0d0887"
             ],
             [
              0.1111111111111111,
              "#46039f"
             ],
             [
              0.2222222222222222,
              "#7201a8"
             ],
             [
              0.3333333333333333,
              "#9c179e"
             ],
             [
              0.4444444444444444,
              "#bd3786"
             ],
             [
              0.5555555555555556,
              "#d8576b"
             ],
             [
              0.6666666666666666,
              "#ed7953"
             ],
             [
              0.7777777777777778,
              "#fb9f3a"
             ],
             [
              0.8888888888888888,
              "#fdca26"
             ],
             [
              1,
              "#f0f921"
             ]
            ],
            "type": "surface"
           }
          ],
          "table": [
           {
            "cells": {
             "fill": {
              "color": "#EBF0F8"
             },
             "line": {
              "color": "white"
             }
            },
            "header": {
             "fill": {
              "color": "#C8D4E3"
             },
             "line": {
              "color": "white"
             }
            },
            "type": "table"
           }
          ]
         },
         "layout": {
          "annotationdefaults": {
           "arrowcolor": "#2a3f5f",
           "arrowhead": 0,
           "arrowwidth": 1
          },
          "autotypenumbers": "strict",
          "coloraxis": {
           "colorbar": {
            "outlinewidth": 0,
            "ticks": ""
           }
          },
          "colorscale": {
           "diverging": [
            [
             0,
             "#8e0152"
            ],
            [
             0.1,
             "#c51b7d"
            ],
            [
             0.2,
             "#de77ae"
            ],
            [
             0.3,
             "#f1b6da"
            ],
            [
             0.4,
             "#fde0ef"
            ],
            [
             0.5,
             "#f7f7f7"
            ],
            [
             0.6,
             "#e6f5d0"
            ],
            [
             0.7,
             "#b8e186"
            ],
            [
             0.8,
             "#7fbc41"
            ],
            [
             0.9,
             "#4d9221"
            ],
            [
             1,
             "#276419"
            ]
           ],
           "sequential": [
            [
             0,
             "#0d0887"
            ],
            [
             0.1111111111111111,
             "#46039f"
            ],
            [
             0.2222222222222222,
             "#7201a8"
            ],
            [
             0.3333333333333333,
             "#9c179e"
            ],
            [
             0.4444444444444444,
             "#bd3786"
            ],
            [
             0.5555555555555556,
             "#d8576b"
            ],
            [
             0.6666666666666666,
             "#ed7953"
            ],
            [
             0.7777777777777778,
             "#fb9f3a"
            ],
            [
             0.8888888888888888,
             "#fdca26"
            ],
            [
             1,
             "#f0f921"
            ]
           ],
           "sequentialminus": [
            [
             0,
             "#0d0887"
            ],
            [
             0.1111111111111111,
             "#46039f"
            ],
            [
             0.2222222222222222,
             "#7201a8"
            ],
            [
             0.3333333333333333,
             "#9c179e"
            ],
            [
             0.4444444444444444,
             "#bd3786"
            ],
            [
             0.5555555555555556,
             "#d8576b"
            ],
            [
             0.6666666666666666,
             "#ed7953"
            ],
            [
             0.7777777777777778,
             "#fb9f3a"
            ],
            [
             0.8888888888888888,
             "#fdca26"
            ],
            [
             1,
             "#f0f921"
            ]
           ]
          },
          "colorway": [
           "#636efa",
           "#EF553B",
           "#00cc96",
           "#ab63fa",
           "#FFA15A",
           "#19d3f3",
           "#FF6692",
           "#B6E880",
           "#FF97FF",
           "#FECB52"
          ],
          "font": {
           "color": "#2a3f5f"
          },
          "geo": {
           "bgcolor": "white",
           "lakecolor": "white",
           "landcolor": "#E5ECF6",
           "showlakes": true,
           "showland": true,
           "subunitcolor": "white"
          },
          "hoverlabel": {
           "align": "left"
          },
          "hovermode": "closest",
          "mapbox": {
           "style": "light"
          },
          "paper_bgcolor": "white",
          "plot_bgcolor": "#E5ECF6",
          "polar": {
           "angularaxis": {
            "gridcolor": "white",
            "linecolor": "white",
            "ticks": ""
           },
           "bgcolor": "#E5ECF6",
           "radialaxis": {
            "gridcolor": "white",
            "linecolor": "white",
            "ticks": ""
           }
          },
          "scene": {
           "xaxis": {
            "backgroundcolor": "#E5ECF6",
            "gridcolor": "white",
            "gridwidth": 2,
            "linecolor": "white",
            "showbackground": true,
            "ticks": "",
            "zerolinecolor": "white"
           },
           "yaxis": {
            "backgroundcolor": "#E5ECF6",
            "gridcolor": "white",
            "gridwidth": 2,
            "linecolor": "white",
            "showbackground": true,
            "ticks": "",
            "zerolinecolor": "white"
           },
           "zaxis": {
            "backgroundcolor": "#E5ECF6",
            "gridcolor": "white",
            "gridwidth": 2,
            "linecolor": "white",
            "showbackground": true,
            "ticks": "",
            "zerolinecolor": "white"
           }
          },
          "shapedefaults": {
           "line": {
            "color": "#2a3f5f"
           }
          },
          "ternary": {
           "aaxis": {
            "gridcolor": "white",
            "linecolor": "white",
            "ticks": ""
           },
           "baxis": {
            "gridcolor": "white",
            "linecolor": "white",
            "ticks": ""
           },
           "bgcolor": "#E5ECF6",
           "caxis": {
            "gridcolor": "white",
            "linecolor": "white",
            "ticks": ""
           }
          },
          "title": {
           "x": 0.05
          },
          "xaxis": {
           "automargin": true,
           "gridcolor": "white",
           "linecolor": "white",
           "ticks": "",
           "title": {
            "standoff": 15
           },
           "zerolinecolor": "white",
           "zerolinewidth": 2
          },
          "yaxis": {
           "automargin": true,
           "gridcolor": "white",
           "linecolor": "white",
           "ticks": "",
           "title": {
            "standoff": 15
           },
           "zerolinecolor": "white",
           "zerolinewidth": 2
          }
         }
        },
        "title": {
         "text": "Top 5 Shops According to Metric"
        },
        "xaxis": {
         "anchor": "y",
         "domain": [
          0,
          1
         ],
         "title": {
          "text": "ShopName"
         }
        },
        "yaxis": {
         "anchor": "x",
         "domain": [
          0,
          1
         ],
         "title": {
          "text": "Metric"
         }
        }
       }
      }
     },
     "metadata": {},
     "output_type": "display_data"
    }
   ],
   "source": [
    "px.bar(x=top_shops['ShopName'],y=top_shops['Price'],labels={'x':'ShopName','y':'Metric'},title='Top 5 Shops According to Metric')"
   ]
  },
  {
   "cell_type": "code",
   "execution_count": 94,
   "metadata": {},
   "outputs": [],
   "source": [
    "top_shops = df[df[\"Listing Age (Days)\"] < 30].groupby(\"ShopName\")[\"Est. Revenue\"].sum().sort_values(ascending=False).head(10).reset_index()"
   ]
  },
  {
   "cell_type": "code",
   "execution_count": 96,
   "metadata": {},
   "outputs": [
    {
     "data": {
      "text/html": [
       "<div>\n",
       "<style scoped>\n",
       "    .dataframe tbody tr th:only-of-type {\n",
       "        vertical-align: middle;\n",
       "    }\n",
       "\n",
       "    .dataframe tbody tr th {\n",
       "        vertical-align: top;\n",
       "    }\n",
       "\n",
       "    .dataframe thead th {\n",
       "        text-align: right;\n",
       "    }\n",
       "</style>\n",
       "<table border=\"1\" class=\"dataframe\">\n",
       "  <thead>\n",
       "    <tr style=\"text-align: right;\">\n",
       "      <th></th>\n",
       "      <th>ShopName</th>\n",
       "      <th>Est. Revenue</th>\n",
       "    </tr>\n",
       "  </thead>\n",
       "  <tbody>\n",
       "    <tr>\n",
       "      <th>0</th>\n",
       "      <td>Glytch3dLLC</td>\n",
       "      <td>247.0</td>\n",
       "    </tr>\n",
       "    <tr>\n",
       "      <th>1</th>\n",
       "      <td>craftakts</td>\n",
       "      <td>63.0</td>\n",
       "    </tr>\n",
       "    <tr>\n",
       "      <th>2</th>\n",
       "      <td>ZelStoreSvg</td>\n",
       "      <td>31.0</td>\n",
       "    </tr>\n",
       "    <tr>\n",
       "      <th>3</th>\n",
       "      <td>DigitalJakov</td>\n",
       "      <td>20.0</td>\n",
       "    </tr>\n",
       "    <tr>\n",
       "      <th>4</th>\n",
       "      <td>SchmidtyArtShop</td>\n",
       "      <td>10.0</td>\n",
       "    </tr>\n",
       "    <tr>\n",
       "      <th>5</th>\n",
       "      <td>CoolOldStuffForSale</td>\n",
       "      <td>0.0</td>\n",
       "    </tr>\n",
       "    <tr>\n",
       "      <th>6</th>\n",
       "      <td>GallivanterMinis</td>\n",
       "      <td>0.0</td>\n",
       "    </tr>\n",
       "    <tr>\n",
       "      <th>7</th>\n",
       "      <td>ItsOnlyDamo</td>\n",
       "      <td>0.0</td>\n",
       "    </tr>\n",
       "    <tr>\n",
       "      <th>8</th>\n",
       "      <td>JMcustomdesignprints</td>\n",
       "      <td>0.0</td>\n",
       "    </tr>\n",
       "    <tr>\n",
       "      <th>9</th>\n",
       "      <td>MYWORLD4STYLE</td>\n",
       "      <td>0.0</td>\n",
       "    </tr>\n",
       "  </tbody>\n",
       "</table>\n",
       "</div>"
      ],
      "text/plain": [
       "               ShopName  Est. Revenue\n",
       "0           Glytch3dLLC         247.0\n",
       "1             craftakts          63.0\n",
       "2           ZelStoreSvg          31.0\n",
       "3          DigitalJakov          20.0\n",
       "4       SchmidtyArtShop          10.0\n",
       "5   CoolOldStuffForSale           0.0\n",
       "6      GallivanterMinis           0.0\n",
       "7           ItsOnlyDamo           0.0\n",
       "8  JMcustomdesignprints           0.0\n",
       "9         MYWORLD4STYLE           0.0"
      ]
     },
     "execution_count": 96,
     "metadata": {},
     "output_type": "execute_result"
    }
   ],
   "source": [
    "top_shops"
   ]
  },
  {
   "cell_type": "code",
   "execution_count": null,
   "metadata": {},
   "outputs": [],
   "source": []
  }
 ],
 "metadata": {
  "kernelspec": {
   "display_name": "Python 3",
   "language": "python",
   "name": "python3"
  },
  "language_info": {
   "codemirror_mode": {
    "name": "ipython",
    "version": 3
   },
   "file_extension": ".py",
   "mimetype": "text/x-python",
   "name": "python",
   "nbconvert_exporter": "python",
   "pygments_lexer": "ipython3",
   "version": "3.10.13"
  },
  "orig_nbformat": 4
 },
 "nbformat": 4,
 "nbformat_minor": 2
}
